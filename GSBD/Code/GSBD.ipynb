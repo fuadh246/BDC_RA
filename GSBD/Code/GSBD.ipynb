{
 "cells": [
  {
   "cell_type": "code",
   "execution_count": null,
   "metadata": {},
   "outputs": [],
   "source": [
    "import pandas as pd\n",
    "import numpy as np\n",
    "import requests\n",
    "import html5lib\n",
    "from bs4 import BeautifulSoup\n",
    "from datetime import datetime\n",
    "from openpyxl import workbook\n",
    "import re\n",
    "import os\n",
    "import webbrowser\n",
    "import helper\n",
    "import unicodedata\n",
    "import icecream as ic"
   ]
  },
  {
   "cell_type": "code",
   "execution_count": null,
   "metadata": {},
   "outputs": [],
   "source": [
    "headers = {\n",
    "    'User-Agent': 'Goldman Sachs BDC, Inc. GSBD on NYSE'\n",
    "}\n",
    "filing_links = helper.get_filingLinks('../GSBC_sec_filing_links.xlsx')\n",
    "print(\"Filing link recived\")"
   ]
  },
  {
   "cell_type": "code",
   "execution_count": null,
   "metadata": {},
   "outputs": [],
   "source": [
    "filing_links.head(2)"
   ]
  },
  {
   "cell_type": "code",
   "execution_count": null,
   "metadata": {},
   "outputs": [],
   "source": [
    "date_columns = ['Filing date', 'Reporting date']\n",
    "for col in date_columns:\n",
    "    filing_links[col] = pd.to_datetime(\n",
    "        filing_links[col]).dt.strftime(\"%B %d, %Y\")\n",
    "filing_links.head(1)\n",
    "\n",
    "print(\"Date was converted to '%B %d, %Y' format \")"
   ]
  },
  {
   "cell_type": "markdown",
   "metadata": {},
   "source": [
    "testing 1 response"
   ]
  },
  {
   "cell_type": "code",
   "execution_count": null,
   "metadata": {},
   "outputs": [],
   "source": [
    "# consolidated_schedule_regex = re.compile(\n",
    "#     r'(?i)^\\s*.*\\s*SCHEDULE(S|)\\s+OF\\s+INVESTMENTS\\s*.*\\s*$')\n",
    "# for tag in content.find_all(text=consolidated_schedule_regex):\n",
    "#     print(\"Tag:\", tag)\n",
    "#     print(\"Find_next:\", tag.find_next())\n",
    "#     date_regex_pattern1 = r'([A-Za-z]+\\s+\\d{1,2},\\s+\\d{4})'\n",
    "#     print(\"Next_date:\", re.search(date_regex_pattern1, tag.find_next().text))\n",
    "#     print(\"next:\", tag.next)\n",
    "#     print(\"Next next: \", tag.find_next().next.next.next.text)\n",
    "#     print(\"next sib: \", tag.find_next_sibling())\n",
    "#     print(\"\\n\")"
   ]
  },
  {
   "cell_type": "code",
   "execution_count": null,
   "metadata": {},
   "outputs": [],
   "source": [
    "# consolidated_schedule_regex = re.compile(\n",
    "#     r'(?i)^\\s*.*\\s*SCHEDULE(S|)\\s+OF\\s+INVESTMENTS\\s*.*\\s*$')\n",
    "# date_regex_pattern1 = r'([A-Za-z]+\\s+\\d{1,2},\\s+\\d{4})'\n",
    "\n",
    "# for index, (url, reporting_date) in enumerate(zip(filing_links['url'], filing_links['Reporting date'])):\n",
    "#     response = helper.get_response(url=url, headers=headers)\n",
    "#     content = helper.get_content(response)\n",
    "#     for tag in content.find_all(text=consolidated_schedule_regex):\n",
    "\n",
    "#         print(reporting_date, \"Tag:\", tag)\n",
    "#         # print(\"Find_next:\", tag.find_next())\n",
    "#         print(reporting_date, \"Next_date:\", re.search(\n",
    "#             date_regex_pattern1, tag.text))\n",
    "#         # print(\"next:\", tag.next)\n",
    "#         # print(\"Next next: \", tag.find_next().next.next.next.text)\n",
    "#         # print(\"next sib: \", tag.find_next_sibling())\n",
    "#         # print(\"\\n\")"
   ]
  },
  {
   "cell_type": "code",
   "execution_count": null,
   "metadata": {},
   "outputs": [],
   "source": [
    "# filing_links = filing_links.drop(\n",
    "#     filing_links[filing_links['Reporting date'] == 'December 31, 2017'].index)"
   ]
  },
  {
   "cell_type": "code",
   "execution_count": null,
   "metadata": {},
   "outputs": [],
   "source": [
    "def clean_cell_value(x):\n",
    "    \"\"\"\n",
    "    Clean the cell value by normalizing Unicode, stripping leading/trailing spaces, and replacing specific characters.\n",
    "    \"\"\"\n",
    "    if isinstance(x, str):\n",
    "        replacement_dict = {'—': '0', '%': ' ', '  ': '', '': ''}\n",
    "        for old_char, new_char in replacement_dict.items():\n",
    "            x = x.replace(old_char, new_char)\n",
    "        x = unicodedata.normalize('NFKD', x.strip().strip('\\u200b'))\n",
    "    return x\n",
    "\n",
    "\n",
    "def extract_tables(content, qtr_date) -> pd.DataFrame:\n",
    "    master_table = None\n",
    "    # print(\"Now doing : \", qtr_date)\n",
    "    print(\"Currect file \" + qtr_date)\n",
    "\n",
    "    consolidated_schedule_regex = re.compile(\n",
    "        r'(?i)^\\s*.*\\s*SCHEDULE(S|)\\s+OF\\s+INVESTMENTS\\s*.*\\s*$')\n",
    "    date_regex_pattern = r'([A-Za-z]+\\s+\\d{1,2},\\s+\\d{4})'\n",
    "    for tag in content.find_all(text=re.compile(consolidated_schedule_regex)):\n",
    "        try:\n",
    "            date_str = re.search(date_regex_pattern, tag.text)\n",
    "        except Exception as e:\n",
    "            print(f'Could not find date on extract_tables() : {e}')\n",
    "        if date_str is not None:\n",
    "            date_str = str(date_str.group(1))\n",
    "            date_str = unicodedata.normalize('NFKD', date_str)\n",
    "            qtr_date = unicodedata.normalize('NFKD', qtr_date)\n",
    "            # print(f'{qtr_date} : {date_str} : {qtr_date==date_str}')\n",
    "\n",
    "            if qtr_date == date_str:\n",
    "                html_table = tag.find_next('table')\n",
    "                new_table = pd.read_html(\n",
    "                    html_table.prettify(), keep_default_na=False, skiprows=0, flavor='bs4')[0]\n",
    "                # new_table = new_table.applymap(lambda x: unicodedata.normalize(\n",
    "                #     'NFKD', x.strip().strip(u'\\u200b').replace('—', '0').replace('%', '').replace('(', '').replace(')', '')) if type(x) == str else x)\n",
    "\n",
    "                new_table = new_table.applymap(clean_cell_value)\n",
    "\n",
    "                new_table = new_table.replace(\n",
    "                    r'^\\s*$', np.nan, regex=True).replace(r'^\\s*\\$\\s*$', np.nan, regex=True)\n",
    "                new_table = new_table.dropna(how='all', axis=0)\n",
    "\n",
    "                if master_table is None:\n",
    "                    master_table = new_table\n",
    "                else:\n",
    "                    master_table = pd.concat(\n",
    "                        [master_table, new_table], ignore_index=True)\n",
    "    try:\n",
    "        master_table = master_table.applymap(\n",
    "            lambda x: x.strip().strip(u'\\u200b') if type(x) == str else x)\n",
    "        master_table = master_table.replace(r'^\\s*$', np.nan, regex=True).replace(\n",
    "            r'^\\s*\\$\\s*$', np.nan, regex=True).replace(r'^\\s*\\)\\s*$', np.nan, regex=True)\n",
    "    except Exception as e:\n",
    "        print(f'{e}')\n",
    "    return master_table"
   ]
  },
  {
   "cell_type": "code",
   "execution_count": null,
   "metadata": {},
   "outputs": [],
   "source": [
    "path = '/Users/fuadhassan/Desktop/BDC_RA/GSBD/Master_tables_GSBD_Investment.xlsx'\n",
    "writer = pd.ExcelWriter(path, engine='openpyxl')\n",
    "for index, (url, reporting_date) in enumerate(zip(filing_links['url'], filing_links['Reporting date'])):\n",
    "    try:\n",
    "        content = helper.get_content(\n",
    "            helper.get_response(url=url, headers=headers))\n",
    "    except Exception as e:\n",
    "        print(f'failed to get the content: {e}')\n",
    "\n",
    "    master_table = extract_tables(content, reporting_date)\n",
    "    master_table.to_csv(\n",
    "        '../MT_csv_files/'+reporting_date.replace(',', '')+'.csv')\n",
    "    master_table.to_excel(\n",
    "        writer, sheet_name=reporting_date.replace(',', ''), index=False)\n",
    "    writer.book .save(path)\n",
    "writer.close()"
   ]
  },
  {
   "cell_type": "code",
   "execution_count": null,
   "metadata": {},
   "outputs": [],
   "source": [
    "# December 31, 2017"
   ]
  },
  {
   "cell_type": "code",
   "execution_count": 151,
   "metadata": {},
   "outputs": [],
   "source": [
    "url = helper.get_file_url('December 31, 2020', filing_links)\n",
    "content = helper.get_content(helper.get_response(url=url, headers=headers))"
   ]
  },
  {
   "cell_type": "code",
   "execution_count": 160,
   "metadata": {},
   "outputs": [
    {
     "name": "stdout",
     "output_type": "stream",
     "text": [
      "Tag: Consolidated Schedules of Investments as of December 31, 2020 and 2019\n",
      "Next_date: <re.Match object; span=(44, 61), match='December\\xa031, 2020'>\n",
      "Next next:  \n",
      "next sib:  None\n",
      "Tag: We have audited the accompanying consolidated statements of assets and liabilities, including the consolidated schedules of investments of Goldman Sachs BDC, Inc. and its subsidiaries (the “Company”) as of December 31, 2020 and 2019, and the related consolidated statements of operations, of changes in net assets and of cash flows for each of the three years in the period ended December 31, 2020, including the related notes (collectively referred to as the “consolidated financial statements”). We also have audited the Company's internal control over financial reporting as of December 31, 2020, based on criteria established in \n",
      "Next_date: <re.Match object; span=(206, 223), match='December 31, 2020'>\n",
      "Next next:  Internal Control - Integrated Framework\n",
      "next sib:  <font>Internal Control - Integrated Framework</font>\n",
      "Tag: We have also previously audited, in accordance with the standards of the Public Company Accounting Oversight Board (United States), the consolidated statements of assets and liabilities, including the consolidated schedules of investments, of the Company as of December 31, 2018, 2017, 2016, 2015 and 2014, and the related consolidated statements of operations, of changes in net assets and of cash flows for the years ended December 31, 2017, 2016, 2015 and 2014 (none of which are presented herein), and we expressed unqualified opinions on those consolidated financial statements. In our opinion, the information set forth in the Senior Securities table of the Company as of December 31, 2020, 2019, 2018, 2017, 2016, 2015 and 2014, appearing on page 55, is fairly stated, in all material respects, in relation to the consolidated financial statements from which it has been derived.\n",
      "Next_date: <re.Match object; span=(261, 278), match='December 31, 2018'>\n",
      "Next next:  Basis for Opinions\n",
      "next sib:  None\n",
      "Tag: Consolidated Schedule of Investments as of December 31, 2020 \n",
      "Next_date: <re.Match object; span=(43, 60), match='December 31, 2020'>\n",
      "Next next:  (in thousands, except share and per share amounts) \n",
      "next sib:  None\n",
      "Tag: Consolidated Schedule of Investments as of \n",
      "Next_date: None\n",
      "Next next:  December 31\n",
      "next sib:  <font>December 31</font>\n",
      "Tag: Consolidated Schedule of Investments as of \n",
      "Next_date: None\n",
      "Next next:  December 31\n",
      "next sib:  <font>December 31</font>\n",
      "Tag: Consolidated Schedule of Investments as of \n",
      "Next_date: None\n",
      "Next next:  December 31\n",
      "next sib:  <font>December 31</font>\n",
      "Tag: Consolidated Schedule of Investments as of \n",
      "Next_date: None\n",
      "Next next:  December 31\n",
      "next sib:  <font>December 31</font>\n",
      "Tag: Consolidated Schedule of Investments as of \n",
      "Next_date: None\n",
      "Next next:  December 31\n",
      "next sib:  <font>December 31</font>\n",
      "Tag: Consolidated Schedule of Investments as of \n",
      "Next_date: None\n",
      "Next next:  December 31\n",
      "next sib:  <font>December 31</font>\n",
      "Tag: Consolidated Schedule of Investments as of \n",
      "Next_date: None\n",
      "Next next:  December 31\n",
      "next sib:  <font>December 31</font>\n",
      "Tag: Consolidated Schedule of Investments as of December 31, 2019 \n",
      "Next_date: <re.Match object; span=(43, 60), match='December\\xa031, 2019'>\n",
      "Next next:  (in thousands, except share and per share amounts) \n",
      "next sib:  None\n",
      "Tag: Consolidated Schedule of Investments as of December 31, 2019 (continued) \n",
      "Next_date: <re.Match object; span=(43, 60), match='December 31, 2019'>\n",
      "Next next:  (in thousands, except share and per share amounts) \n",
      "next sib:  None\n",
      "Tag: Consolidated Schedule of Investments as of December 31, 2019 (continued) \n",
      "Next_date: <re.Match object; span=(43, 60), match='December 31, 2019'>\n",
      "Next next:  (in thousands, except share and per share amounts) \n",
      "next sib:  None\n",
      "Tag: Consolidated Schedule of Investments as of December 31, 2019 (continued) \n",
      "Next_date: <re.Match object; span=(43, 60), match='December 31, 2019'>\n",
      "Next next:  (in thousands, except share and per share amounts) \n",
      "next sib:  None\n",
      "Tag: Consolidated Schedule of Investments as of December 31, 2019 (continued) \n",
      "Next_date: <re.Match object; span=(43, 60), match='December 31, 2019'>\n",
      "Next next:  (in thousands, except share and per share amounts) \n",
      "next sib:  None\n",
      "Tag: Consolidated Schedule of Investments as of December 31, 2019 (continued) \n",
      "Next_date: <re.Match object; span=(43, 60), match='December 31, 2019'>\n",
      "Next next:  (in thousands, except share and per share amounts) \n",
      "next sib:  None\n",
      "Tag: Consolidated Schedule of Investments as of December 31, 2019 (continued) \n",
      "Next_date: <re.Match object; span=(43, 60), match='December 31, 2019'>\n",
      "Next next:  (in thousands, except share and per share amounts) \n",
      "next sib:  None\n",
      "Tag: The Company may enter into foreign currency forward contracts to reduce the Company’s exposure to foreign currency exchange rate fluctuations in the value of foreign currencies. In a foreign currency forward contract, the Company agrees to receive or deliver a fixed quantity of one currency for another, at a pre-determined price at a future date. Forward foreign currency contracts are marked-to-market at the applicable forward rate. Unrealized appreciation (depreciation) on foreign currency forward contracts are recorded on the Consolidated Statements of Assets and Liabilities by counterparty on a net basis, not taking into account collateral posted which is recorded separately, if applicable. Notional amounts of foreign currency forward contract assets and liabilities are presented separately on the Consolidated Schedules of Investments. Purchases and settlements of foreign currency forward contracts having the same settlement date and counterparty are generally settled net and any realized gains or losses are recognized on the settlement date. \n",
      "Next_date: None\n",
      "Next next:  The Company does not utilize hedge accounting and as such, the Company recognizes its derivatives at fair value with changes in the net unrealized appreciation (depreciation) on foreign currency forward contracts recorded on the Consolidated Statements of Operations. \n",
      "next sib:  None\n"
     ]
    },
    {
     "name": "stderr",
     "output_type": "stream",
     "text": [
      "/var/folders/mf/yrkcqqr56t955_zz9p9f4swc0000gn/T/ipykernel_4547/2348674701.py:4: DeprecationWarning: The 'text' argument to find()-type methods is deprecated. Use 'string' instead.\n",
      "  for tag in content.find_all(text=consolidated_schedule_regex):\n"
     ]
    }
   ],
   "source": [
    "consolidated_schedule_regex = re.compile(\n",
    "    r'(?i)^\\s*.*\\s*SCHEDULE(S|)\\s+OF\\s+INVESTMENTS\\s*.*\\s*$')\n",
    "date_regex_pattern = r'([A-Za-z]+\\s+\\d{1,2},\\s+\\d{4})'\n",
    "for tag in content.find_all(text=consolidated_schedule_regex):\n",
    "    print(\"Tag:\", tag.text)\n",
    "    # print(\"Find_next:\", tag.find_next())\n",
    "    print(\"Next_date:\", re.search(date_regex_pattern, tag.text))\n",
    "    # print(\"next:\", tag.next)\n",
    "    print(\"Next next: \", tag.find_next().text)\n",
    "    print(\"next sib: \", tag.find_next_sibling())\n",
    "    # print(\"\\n\")"
   ]
  },
  {
   "cell_type": "markdown",
   "metadata": {},
   "source": [
    "test"
   ]
  },
  {
   "cell_type": "markdown",
   "metadata": {},
   "source": []
  }
 ],
 "metadata": {
  "kernelspec": {
   "display_name": "base",
   "language": "python",
   "name": "python3"
  },
  "language_info": {
   "codemirror_mode": {
    "name": "ipython",
    "version": 3
   },
   "file_extension": ".py",
   "mimetype": "text/x-python",
   "name": "python",
   "nbconvert_exporter": "python",
   "pygments_lexer": "ipython3",
   "version": "3.10.13"
  }
 },
 "nbformat": 4,
 "nbformat_minor": 2
}
