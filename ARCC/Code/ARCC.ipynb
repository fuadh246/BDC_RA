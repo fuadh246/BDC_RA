{
 "cells": [
  {
   "cell_type": "code",
   "execution_count": 41,
   "metadata": {},
   "outputs": [],
   "source": [
    "from bs4 import BeautifulSoup\n",
    "import re\n",
    "import unicodedata\n",
    "import pandas as pd\n",
    "import numpy as np\n",
    "import html5lib\n",
    "import requests\n",
    "from openpyxl import Workbook\n",
    "from datetime import datetime"
   ]
  },
  {
   "cell_type": "markdown",
   "metadata": {},
   "source": [
    "## parses and trims HTML content by removing all attributes from HTML tags and removing line break tags (<br>) from the content"
   ]
  },
  {
   "cell_type": "code",
   "execution_count": 42,
   "metadata": {},
   "outputs": [],
   "source": [
    "def parse_and_trim(content, content_type):\n",
    "    if content_type == 'HTML':\n",
    "        soup = BeautifulSoup(content, 'html.parser')\n",
    "    else:\n",
    "        soup = BeautifulSoup(content, 'html.parser')\n",
    "    for tag in soup.recursiveChildGenerator():\n",
    "        try:\n",
    "            tag.attrs = None\n",
    "        except AttributeError:\n",
    "            pass\n",
    "    for linebreak in soup.find_all('br'):\n",
    "        linebreak.extract()\n",
    "    return soup"
   ]
  },
  {
   "cell_type": "markdown",
   "metadata": {},
   "source": [
    "## remove_multiple_spaces to replace multiple spaces with a single space in a string, and find_qrt_date to extract and format a quarterly date from text content."
   ]
  },
  {
   "cell_type": "code",
   "execution_count": 43,
   "metadata": {},
   "outputs": [],
   "source": [
    "def remove_multiple_spaces(string):\n",
    "    pattern = r'\\s+'\n",
    "    replaced_string = re.sub(pattern, ' ', string)\n",
    "    return replaced_string\n",
    "\n",
    "\n",
    "def find_qrt_date(content):\n",
    "    qtr_date = content.find_all(text=re.compile(\n",
    "        r'for\\s+(the\\s+)?(fiscal\\s+)?year\\s+ended\\s+|for\\s+the\\s+quarter\\s+ended\\s+|for\\s+the\\s+quarterly\\s+period\\s+ended\\s+', re.IGNORECASE))\n",
    "    qtr_match = re.search(\n",
    "        r'([A-Za-z]+)\\s+(\\d{1,2}),\\s+(\\d{4})', qtr_date[0].replace('\\n', ''))\n",
    "    if qtr_match is None:\n",
    "        qtr_match = qtr_match = re.search(\n",
    "            r'([A-Za-z]+) (\\d{1,2}), (\\d{4})', qtr_date[1])\n",
    "    return remove_multiple_spaces(str(qtr_match.group()))"
   ]
  },
  {
   "cell_type": "code",
   "execution_count": 45,
   "metadata": {},
   "outputs": [
    {
     "data": {
      "text/html": [
       "<div>\n",
       "<style scoped>\n",
       "    .dataframe tbody tr th:only-of-type {\n",
       "        vertical-align: middle;\n",
       "    }\n",
       "\n",
       "    .dataframe tbody tr th {\n",
       "        vertical-align: top;\n",
       "    }\n",
       "\n",
       "    .dataframe thead th {\n",
       "        text-align: right;\n",
       "    }\n",
       "</style>\n",
       "<table border=\"1\" class=\"dataframe\">\n",
       "  <thead>\n",
       "    <tr style=\"text-align: right;\">\n",
       "      <th></th>\n",
       "      <th>Form type</th>\n",
       "      <th>Form description</th>\n",
       "      <th>Filing date</th>\n",
       "      <th>Reporting date</th>\n",
       "      <th>Filings URL</th>\n",
       "    </tr>\n",
       "  </thead>\n",
       "  <tbody>\n",
       "    <tr>\n",
       "      <th>0</th>\n",
       "      <td>10-Q</td>\n",
       "      <td>Quarterly report [Sections 13 or 15(d)]</td>\n",
       "      <td>2010-11-04</td>\n",
       "      <td>2010-09-30</td>\n",
       "      <td>https://www.sec.gov/Archives/edgar/data/128775...</td>\n",
       "    </tr>\n",
       "    <tr>\n",
       "      <th>1</th>\n",
       "      <td>10-K</td>\n",
       "      <td>Annual report [Section 13 and 15(d), not S-K I...</td>\n",
       "      <td>2011-03-01</td>\n",
       "      <td>2010-12-31</td>\n",
       "      <td>https://www.sec.gov/Archives/edgar/data/128775...</td>\n",
       "    </tr>\n",
       "    <tr>\n",
       "      <th>2</th>\n",
       "      <td>10-Q</td>\n",
       "      <td>Quarterly report [Sections 13 or 15(d)]</td>\n",
       "      <td>2011-05-03</td>\n",
       "      <td>2011-03-31</td>\n",
       "      <td>https://www.sec.gov/Archives/edgar/data/128775...</td>\n",
       "    </tr>\n",
       "    <tr>\n",
       "      <th>3</th>\n",
       "      <td>10-Q</td>\n",
       "      <td>Quarterly report [Sections 13 or 15(d)]</td>\n",
       "      <td>2011-08-04</td>\n",
       "      <td>2011-06-30</td>\n",
       "      <td>https://www.sec.gov/Archives/edgar/data/128775...</td>\n",
       "    </tr>\n",
       "    <tr>\n",
       "      <th>4</th>\n",
       "      <td>10-Q</td>\n",
       "      <td>Quarterly report [Sections 13 or 15(d)]</td>\n",
       "      <td>2011-11-08</td>\n",
       "      <td>2011-09-30</td>\n",
       "      <td>https://www.sec.gov/Archives/edgar/data/128775...</td>\n",
       "    </tr>\n",
       "  </tbody>\n",
       "</table>\n",
       "</div>"
      ],
      "text/plain": [
       "  Form type                                   Form description Filing date  \\\n",
       "0      10-Q            Quarterly report [Sections 13 or 15(d)]  2010-11-04   \n",
       "1      10-K  Annual report [Section 13 and 15(d), not S-K I...  2011-03-01   \n",
       "2      10-Q            Quarterly report [Sections 13 or 15(d)]  2011-05-03   \n",
       "3      10-Q            Quarterly report [Sections 13 or 15(d)]  2011-08-04   \n",
       "4      10-Q            Quarterly report [Sections 13 or 15(d)]  2011-11-08   \n",
       "\n",
       "  Reporting date                                        Filings URL  \n",
       "0     2010-09-30  https://www.sec.gov/Archives/edgar/data/128775...  \n",
       "1     2010-12-31  https://www.sec.gov/Archives/edgar/data/128775...  \n",
       "2     2011-03-31  https://www.sec.gov/Archives/edgar/data/128775...  \n",
       "3     2011-06-30  https://www.sec.gov/Archives/edgar/data/128775...  \n",
       "4     2011-09-30  https://www.sec.gov/Archives/edgar/data/128775...  "
      ]
     },
     "execution_count": 45,
     "metadata": {},
     "output_type": "execute_result"
    }
   ],
   "source": [
    "headers = {\n",
    "    'User-Agent': 'ARES CAPITAL CORP'\n",
    "}\n",
    "filing_links = pd.read_excel(\n",
    "    \"../ARCC__sec_filing_links.xlsx\")\n",
    "filing_links.head()"
   ]
  },
  {
   "cell_type": "code",
   "execution_count": 32,
   "metadata": {},
   "outputs": [
    {
     "data": {
      "text/html": [
       "<div>\n",
       "<style scoped>\n",
       "    .dataframe tbody tr th:only-of-type {\n",
       "        vertical-align: middle;\n",
       "    }\n",
       "\n",
       "    .dataframe tbody tr th {\n",
       "        vertical-align: top;\n",
       "    }\n",
       "\n",
       "    .dataframe thead th {\n",
       "        text-align: right;\n",
       "    }\n",
       "</style>\n",
       "<table border=\"1\" class=\"dataframe\">\n",
       "  <thead>\n",
       "    <tr style=\"text-align: right;\">\n",
       "      <th></th>\n",
       "      <th>Form type</th>\n",
       "      <th>Form description</th>\n",
       "      <th>Filing date</th>\n",
       "      <th>Reporting date</th>\n",
       "      <th>Filings URL</th>\n",
       "    </tr>\n",
       "  </thead>\n",
       "  <tbody>\n",
       "    <tr>\n",
       "      <th>10</th>\n",
       "      <td>10-Q</td>\n",
       "      <td>Quarterly report [Sections 13 or 15(d)]</td>\n",
       "      <td>2013-05-07</td>\n",
       "      <td>2013-03-31</td>\n",
       "      <td>https://www.sec.gov/Archives/edgar/data/128775...</td>\n",
       "    </tr>\n",
       "    <tr>\n",
       "      <th>11</th>\n",
       "      <td>10-Q</td>\n",
       "      <td>Quarterly report [Sections 13 or 15(d)]</td>\n",
       "      <td>2013-08-06</td>\n",
       "      <td>2013-06-30</td>\n",
       "      <td>https://www.sec.gov/Archives/edgar/data/128775...</td>\n",
       "    </tr>\n",
       "    <tr>\n",
       "      <th>12</th>\n",
       "      <td>10-Q</td>\n",
       "      <td>Quarterly report [Sections 13 or 15(d)]</td>\n",
       "      <td>2013-11-05</td>\n",
       "      <td>2013-09-30</td>\n",
       "      <td>https://www.sec.gov/Archives/edgar/data/128775...</td>\n",
       "    </tr>\n",
       "    <tr>\n",
       "      <th>13</th>\n",
       "      <td>10-K</td>\n",
       "      <td>Annual report [Section 13 and 15(d), not S-K I...</td>\n",
       "      <td>2014-02-26</td>\n",
       "      <td>2013-12-31</td>\n",
       "      <td>https://www.sec.gov/Archives/edgar/data/128775...</td>\n",
       "    </tr>\n",
       "    <tr>\n",
       "      <th>14</th>\n",
       "      <td>10-Q</td>\n",
       "      <td>Quarterly report [Sections 13 or 15(d)]</td>\n",
       "      <td>2014-05-06</td>\n",
       "      <td>2014-03-31</td>\n",
       "      <td>https://www.sec.gov/Archives/edgar/data/128775...</td>\n",
       "    </tr>\n",
       "  </tbody>\n",
       "</table>\n",
       "</div>"
      ],
      "text/plain": [
       "   Form type                                   Form description Filing date  \\\n",
       "10      10-Q            Quarterly report [Sections 13 or 15(d)]  2013-05-07   \n",
       "11      10-Q            Quarterly report [Sections 13 or 15(d)]  2013-08-06   \n",
       "12      10-Q            Quarterly report [Sections 13 or 15(d)]  2013-11-05   \n",
       "13      10-K  Annual report [Section 13 and 15(d), not S-K I...  2014-02-26   \n",
       "14      10-Q            Quarterly report [Sections 13 or 15(d)]  2014-05-06   \n",
       "\n",
       "   Reporting date                                        Filings URL  \n",
       "10     2013-03-31  https://www.sec.gov/Archives/edgar/data/128775...  \n",
       "11     2013-06-30  https://www.sec.gov/Archives/edgar/data/128775...  \n",
       "12     2013-09-30  https://www.sec.gov/Archives/edgar/data/128775...  \n",
       "13     2013-12-31  https://www.sec.gov/Archives/edgar/data/128775...  \n",
       "14     2014-03-31  https://www.sec.gov/Archives/edgar/data/128775...  "
      ]
     },
     "execution_count": 32,
     "metadata": {},
     "output_type": "execute_result"
    }
   ],
   "source": [
    "# drops all the amendment filing\n",
    "filing_links = filing_links.drop(filing_links[filing_links['Form description'].str.contains(\n",
    "    'amendment', case=False)].index).reset_index(drop=True)\n",
    "filing_links['Reporting date'] = pd.to_datetime(filing_links['Reporting date'])\n",
    "filing_links = filing_links[filing_links['Reporting date'] >= '2013-03-31']\n",
    "filing_links.head()"
   ]
  },
  {
   "cell_type": "code",
   "execution_count": 33,
   "metadata": {},
   "outputs": [
    {
     "data": {
      "text/html": [
       "<div>\n",
       "<style scoped>\n",
       "    .dataframe tbody tr th:only-of-type {\n",
       "        vertical-align: middle;\n",
       "    }\n",
       "\n",
       "    .dataframe tbody tr th {\n",
       "        vertical-align: top;\n",
       "    }\n",
       "\n",
       "    .dataframe thead th {\n",
       "        text-align: right;\n",
       "    }\n",
       "</style>\n",
       "<table border=\"1\" class=\"dataframe\">\n",
       "  <thead>\n",
       "    <tr style=\"text-align: right;\">\n",
       "      <th></th>\n",
       "      <th>Form type</th>\n",
       "      <th>Form description</th>\n",
       "      <th>Filing date</th>\n",
       "      <th>Reporting date</th>\n",
       "      <th>Filings URL</th>\n",
       "    </tr>\n",
       "  </thead>\n",
       "  <tbody>\n",
       "    <tr>\n",
       "      <th>10</th>\n",
       "      <td>10-Q</td>\n",
       "      <td>Quarterly report [Sections 13 or 15(d)]</td>\n",
       "      <td>May 07, 2013</td>\n",
       "      <td>March 31, 2013</td>\n",
       "      <td>https://www.sec.gov/Archives/edgar/data/128775...</td>\n",
       "    </tr>\n",
       "    <tr>\n",
       "      <th>11</th>\n",
       "      <td>10-Q</td>\n",
       "      <td>Quarterly report [Sections 13 or 15(d)]</td>\n",
       "      <td>August 06, 2013</td>\n",
       "      <td>June 30, 2013</td>\n",
       "      <td>https://www.sec.gov/Archives/edgar/data/128775...</td>\n",
       "    </tr>\n",
       "    <tr>\n",
       "      <th>12</th>\n",
       "      <td>10-Q</td>\n",
       "      <td>Quarterly report [Sections 13 or 15(d)]</td>\n",
       "      <td>November 05, 2013</td>\n",
       "      <td>September 30, 2013</td>\n",
       "      <td>https://www.sec.gov/Archives/edgar/data/128775...</td>\n",
       "    </tr>\n",
       "    <tr>\n",
       "      <th>13</th>\n",
       "      <td>10-K</td>\n",
       "      <td>Annual report [Section 13 and 15(d), not S-K I...</td>\n",
       "      <td>February 26, 2014</td>\n",
       "      <td>December 31, 2013</td>\n",
       "      <td>https://www.sec.gov/Archives/edgar/data/128775...</td>\n",
       "    </tr>\n",
       "    <tr>\n",
       "      <th>14</th>\n",
       "      <td>10-Q</td>\n",
       "      <td>Quarterly report [Sections 13 or 15(d)]</td>\n",
       "      <td>May 06, 2014</td>\n",
       "      <td>March 31, 2014</td>\n",
       "      <td>https://www.sec.gov/Archives/edgar/data/128775...</td>\n",
       "    </tr>\n",
       "  </tbody>\n",
       "</table>\n",
       "</div>"
      ],
      "text/plain": [
       "   Form type                                   Form description  \\\n",
       "10      10-Q            Quarterly report [Sections 13 or 15(d)]   \n",
       "11      10-Q            Quarterly report [Sections 13 or 15(d)]   \n",
       "12      10-Q            Quarterly report [Sections 13 or 15(d)]   \n",
       "13      10-K  Annual report [Section 13 and 15(d), not S-K I...   \n",
       "14      10-Q            Quarterly report [Sections 13 or 15(d)]   \n",
       "\n",
       "          Filing date      Reporting date  \\\n",
       "10       May 07, 2013      March 31, 2013   \n",
       "11    August 06, 2013       June 30, 2013   \n",
       "12  November 05, 2013  September 30, 2013   \n",
       "13  February 26, 2014   December 31, 2013   \n",
       "14       May 06, 2014      March 31, 2014   \n",
       "\n",
       "                                          Filings URL  \n",
       "10  https://www.sec.gov/Archives/edgar/data/128775...  \n",
       "11  https://www.sec.gov/Archives/edgar/data/128775...  \n",
       "12  https://www.sec.gov/Archives/edgar/data/128775...  \n",
       "13  https://www.sec.gov/Archives/edgar/data/128775...  \n",
       "14  https://www.sec.gov/Archives/edgar/data/128775...  "
      ]
     },
     "execution_count": 33,
     "metadata": {},
     "output_type": "execute_result"
    }
   ],
   "source": [
    "date_columns = ['Filing date', 'Reporting date']\n",
    "for col in date_columns:\n",
    "    filing_links[col] = pd.to_datetime(filing_links[col], format='%Y-%m-%d')\n",
    "for col in date_columns:\n",
    "    filing_links[col] = filing_links[col].dt.strftime(\"%B %d, %Y\")\n",
    "filing_links.head()"
   ]
  },
  {
   "cell_type": "code",
   "execution_count": 34,
   "metadata": {},
   "outputs": [
    {
     "name": "stdout",
     "output_type": "stream",
     "text": [
      "<class 'pandas.core.frame.DataFrame'>\n",
      "Int64Index: 42 entries, 10 to 51\n",
      "Data columns (total 5 columns):\n",
      " #   Column            Non-Null Count  Dtype \n",
      "---  ------            --------------  ----- \n",
      " 0   Form type         42 non-null     object\n",
      " 1   Form description  42 non-null     object\n",
      " 2   Filing date       42 non-null     object\n",
      " 3   Reporting date    42 non-null     object\n",
      " 4   Filings URL       42 non-null     object\n",
      "dtypes: object(5)\n",
      "memory usage: 2.0+ KB\n"
     ]
    }
   ],
   "source": [
    "filing_links.info()"
   ]
  },
  {
   "cell_type": "code",
   "execution_count": 35,
   "metadata": {},
   "outputs": [],
   "source": [
    "def extract_tables_manual(soup_content, qtr_date):\n",
    "    date_regex_pattern1 = r'([A-Za-z]+\\s+\\d{1,2},\\s+\\d{4})'\n",
    "    date_regex_pattern2 = r'\\bAs\\s+of\\s+([A-Za-z]+\\s+\\d{1,2},\\s+\\d{4})\\b'\n",
    "    master_table = None\n",
    "    for tag in soup_content.find_all(text=re.compile(date_regex_pattern2)):\n",
    "        date_str = re.search(date_regex_pattern1, tag.text)\n",
    "        find_next = tag.find_next().text\n",
    "        next_line = tag.next.text\n",
    "        if re.search('dollar amounts', find_next) or re.search('dollar amounts', next_line):\n",
    "            # print(date_str.group(1))\n",
    "            if date_str is not None:\n",
    "                date_str = str(date_str.group(1))\n",
    "                date_str = unicodedata.normalize('NFKD', date_str)\n",
    "            if qtr_date.replace(',', '').strip().lower() in date_str.replace(',', '').strip().lower():\n",
    "                html_table = tag.find_next('table')\n",
    "                while html_table:\n",
    "                    new_table = pd.read_html(\n",
    "                        html_table.prettify(), skiprows=0, flavor='bs4')[0]\n",
    "                    new_table = new_table.applymap(lambda x: unicodedata.normalize(\n",
    "                        'NFKD', x.strip().strip(u'\\u200b').replace('—', '-')) if type(x) == str else x)\n",
    "                    new_table = new_table.replace(\n",
    "                        r'^\\s*$', np.nan, regex=True).replace(r'^\\s*\\$\\s*$', np.nan, regex=True)\n",
    "                    new_table = new_table.dropna(how='all', axis=0)\n",
    "\n",
    "                    if master_table is None:\n",
    "                        master_table = new_table\n",
    "                    else:\n",
    "                        master_table = pd.concat(\n",
    "                            [master_table, new_table], ignore_index=True)\n",
    "\n",
    "                    if date_str.replace(',', '').strip().lower() in 'December 31, 2013'.replace(',', '').strip().lower() or date_str.replace(',', '').strip().lower() in 'December 31, 2014'.replace(',', '').strip().lower():\n",
    "                        if html_table.find(text=re.compile(r'Food and Beverage', re.IGNORECASE)):\n",
    "                            break\n",
    "                    if date_str.replace(',', '').strip().lower() in 'December 31, 2015'.replace(',', '').strip().lower() or date_str.replace(',', '').strip().lower() in 'December 31, 2016'.replace(',', '').strip().lower():\n",
    "                        if html_table.find(text=re.compile(r'Computers and Electronics', re.IGNORECASE)):\n",
    "                            break\n",
    "                    html_table = html_table.find_next('table')\n",
    "\n",
    "    master_table = master_table.applymap(\n",
    "        lambda x: x.strip().strip(u'\\u200b') if type(x) == str else x)\n",
    "    master_table = master_table.replace(r'^\\s*$', np.nan, regex=True).replace(\n",
    "        r'^\\s*\\$\\s*$', np.nan, regex=True).replace(r'^\\s*\\)\\s*$', np.nan, regex=True)\n",
    "    print(master_table.shape)\n",
    "    return master_table"
   ]
  },
  {
   "cell_type": "code",
   "execution_count": 36,
   "metadata": {},
   "outputs": [],
   "source": [
    "def process_table(soi_table_df, append_str):\n",
    "    soi_table_df = soi_table_df.replace(r'^\\s*\\$\\s*$', np.nan, regex=True)\n",
    "    soi_table_df = soi_table_df.dropna(how='all', axis=1)\n",
    "    soi_table_df = soi_table_df.dropna(\n",
    "        how='all', axis=0).reset_index(drop=True)\n",
    "    # print('1: ' + str(soi_table_df.shape))\n",
    "\n",
    "    # Separate header and data\n",
    "    soi_table_header = soi_table_df.iloc[0].dropna(how='any')\n",
    "    soi_table_data_df = soi_table_df.rename(\n",
    "        columns=soi_table_df.iloc[0]).drop(soi_table_df.index[0])\n",
    "    # print('2: ' + str(soi_table_data_df.shape))\n",
    "\n",
    "    # drops all the rows that contains header\n",
    "    soi_table_data_df = soi_table_data_df[soi_table_data_df[soi_table_data_df.columns[0]]\n",
    "                                          != soi_table_data_df.columns[0]]\n",
    "\n",
    "    # print('3: ' + str(soi_table_data_df.shape))\n",
    "\n",
    "# keeps the Industry row\n",
    "    soi_table_data_df['get_Industry'] = None\n",
    "\n",
    "    for index, row in soi_table_data_df.iterrows():\n",
    "        if row.count() == 1:\n",
    "            soi_table_data_df.loc[index+1, 'get_Industry'] = row.iloc[0]\n",
    "            soi_table_data_df = soi_table_data_df.drop(index)\n",
    "\n",
    "    soi_table_data_df.insert(0, 'Industry', soi_table_data_df['get_Industry'])\n",
    "    # Drop rows with only two non-null values becuase all the subtotal contain 2 value only\n",
    "    soi_table_data_df = soi_table_data_df.dropna(thresh=3)\n",
    "    soi_table_data_df['Industry'].fillna(method='ffill', inplace=True)\n",
    "\n",
    "    # replace all the - in the data table with 0\n",
    "    soi_table_data_df = soi_table_data_df.replace('-', 0, regex=False)\n",
    "\n",
    "    # fix the all the nan value column , Amortized Cost, Fair Value\n",
    "    columns_to_fill = ['Amortized Cost', 'Fair Value']\n",
    "    for col in columns_to_fill:\n",
    "        col_index = soi_table_data_df.columns.str.replace(\n",
    "            ' ', '').get_loc(col.replace(' ', ''))\n",
    "        next_col_index = col_index + 1\n",
    "        for i in range(len(soi_table_data_df)):\n",
    "            current_value = soi_table_data_df.iat[i, col_index]\n",
    "            if pd.isna(current_value) and next_col_index < len(soi_table_data_df.columns):\n",
    "                next_valid_index = next((j for j, v in enumerate(\n",
    "                    soi_table_data_df.iloc[i, next_col_index:], start=next_col_index) if pd.notna(v)), None)\n",
    "\n",
    "                if next_valid_index is not None:\n",
    "                    next_value = soi_table_data_df.iat[i, next_valid_index]\n",
    "                    soi_table_data_df.iat[i, col_index] = next_value\n",
    "                    soi_table_data_df.iat[i, next_valid_index] = pd.NA\n",
    "\n",
    "    # drops everything after FairValue\n",
    "    if 'FairValue' in soi_table_data_df.columns.str.replace(' ', ''):\n",
    "        start_index = soi_table_data_df.columns.str.replace(\n",
    "            ' ', '').get_loc('FairValue')\n",
    "        soi_table_data_df = soi_table_data_df.iloc[:, :start_index+1]\n",
    "\n",
    "    # Drop rows with only two non-null values this one recheacks\n",
    "\n",
    "    # Forward fill the first two columns\n",
    "    col_indices = [0, 1, 2]\n",
    "    soi_table_data_df.iloc[:, col_indices] = soi_table_data_df.iloc[:, col_indices].fillna(\n",
    "        method='ffill')\n",
    "    # print('7: ' + str(soi_table_data_df.shape))\n",
    "\n",
    "    # Drop rows with all missing values\n",
    "    soi_table_df = soi_table_df.dropna(how='all', axis=1)\n",
    "    # print('5: ' + str(soi_table_data_df.shape))\n",
    "\n",
    "    # Drop columns with all missing values\n",
    "    soi_table_data_df = soi_table_data_df.dropna(how='all', axis=1)\n",
    "    # print('6: ' + str(soi_table_data_df.shape))\n",
    "\n",
    "    cols_to_convert = ['Shares/Units', 'Principal',\n",
    "                       'Amortized Cost', 'Fair Value']\n",
    "    for col in cols_to_convert:\n",
    "        if col.replace(' ', '') in soi_table_data_df.columns.str.replace(' ', ''):\n",
    "            col_index = soi_table_data_df.columns.str.replace(\n",
    "                ' ', '').get_loc(col.replace(' ', ''))\n",
    "            converted_data = pd.to_numeric(\n",
    "                soi_table_data_df.iloc[:, col_index], errors='coerce').fillna(0)\n",
    "            soi_table_data_df[soi_table_data_df.columns[col_index]\n",
    "                              ] = converted_data\n",
    "\n",
    "    soi_table_data_df = soi_table_data_df.reset_index(drop=True)\n",
    "\n",
    "    # print('Final: ' + str(soi_table_data_df.shape))\n",
    "\n",
    "    return soi_table_data_df"
   ]
  },
  {
   "cell_type": "code",
   "execution_count": 37,
   "metadata": {},
   "outputs": [
    {
     "name": "stdout",
     "output_type": "stream",
     "text": [
      "March 31, 2013\n",
      "Starting file #  0\n",
      "Getting content done for #  0\n",
      "(506, 18)\n",
      "Done creating master_table #  0\n",
      "Done processed_table #  0\n"
     ]
    },
    {
     "name": "stderr",
     "output_type": "stream",
     "text": [
      "/var/folders/mf/yrkcqqr56t955_zz9p9f4swc0000gn/T/ipykernel_90236/2397393642.py:31: SettingWithCopyWarning: \n",
      "A value is trying to be set on a copy of a slice from a DataFrame\n",
      "\n",
      "See the caveats in the documentation: https://pandas.pydata.org/pandas-docs/stable/user_guide/indexing.html#returning-a-view-versus-a-copy\n",
      "  soi_table_data_df['Industry'].fillna(method='ffill', inplace=True)\n"
     ]
    },
    {
     "name": "stdout",
     "output_type": "stream",
     "text": [
      "June 30, 2013\n",
      "Starting file #  1\n",
      "Getting content done for #  1\n",
      "(536, 18)\n",
      "Done creating master_table #  1\n",
      "Done processed_table #  1\n"
     ]
    },
    {
     "name": "stderr",
     "output_type": "stream",
     "text": [
      "/var/folders/mf/yrkcqqr56t955_zz9p9f4swc0000gn/T/ipykernel_90236/2397393642.py:31: SettingWithCopyWarning: \n",
      "A value is trying to be set on a copy of a slice from a DataFrame\n",
      "\n",
      "See the caveats in the documentation: https://pandas.pydata.org/pandas-docs/stable/user_guide/indexing.html#returning-a-view-versus-a-copy\n",
      "  soi_table_data_df['Industry'].fillna(method='ffill', inplace=True)\n"
     ]
    },
    {
     "name": "stdout",
     "output_type": "stream",
     "text": [
      "September 30, 2013\n",
      "Starting file #  2\n",
      "Getting content done for #  2\n",
      "(536, 18)\n",
      "Done creating master_table #  2\n",
      "Done processed_table #  2\n"
     ]
    },
    {
     "name": "stderr",
     "output_type": "stream",
     "text": [
      "/var/folders/mf/yrkcqqr56t955_zz9p9f4swc0000gn/T/ipykernel_90236/2397393642.py:31: SettingWithCopyWarning: \n",
      "A value is trying to be set on a copy of a slice from a DataFrame\n",
      "\n",
      "See the caveats in the documentation: https://pandas.pydata.org/pandas-docs/stable/user_guide/indexing.html#returning-a-view-versus-a-copy\n",
      "  soi_table_data_df['Industry'].fillna(method='ffill', inplace=True)\n"
     ]
    },
    {
     "name": "stdout",
     "output_type": "stream",
     "text": [
      "December 31, 2013\n",
      "Starting file #  3\n",
      "Getting content done for #  3\n",
      "(571, 20)\n",
      "Done creating master_table #  3\n"
     ]
    },
    {
     "name": "stderr",
     "output_type": "stream",
     "text": [
      "/var/folders/mf/yrkcqqr56t955_zz9p9f4swc0000gn/T/ipykernel_90236/2397393642.py:31: SettingWithCopyWarning: \n",
      "A value is trying to be set on a copy of a slice from a DataFrame\n",
      "\n",
      "See the caveats in the documentation: https://pandas.pydata.org/pandas-docs/stable/user_guide/indexing.html#returning-a-view-versus-a-copy\n",
      "  soi_table_data_df['Industry'].fillna(method='ffill', inplace=True)\n"
     ]
    },
    {
     "name": "stdout",
     "output_type": "stream",
     "text": [
      "Done processed_table #  3\n",
      "March 31, 2014\n",
      "Starting file #  4\n",
      "Getting content done for #  4\n",
      "(596, 18)\n",
      "Done creating master_table #  4\n",
      "Done processed_table #  4\n"
     ]
    },
    {
     "name": "stderr",
     "output_type": "stream",
     "text": [
      "/var/folders/mf/yrkcqqr56t955_zz9p9f4swc0000gn/T/ipykernel_90236/2397393642.py:31: SettingWithCopyWarning: \n",
      "A value is trying to be set on a copy of a slice from a DataFrame\n",
      "\n",
      "See the caveats in the documentation: https://pandas.pydata.org/pandas-docs/stable/user_guide/indexing.html#returning-a-view-versus-a-copy\n",
      "  soi_table_data_df['Industry'].fillna(method='ffill', inplace=True)\n"
     ]
    },
    {
     "name": "stdout",
     "output_type": "stream",
     "text": [
      "June 30, 2014\n",
      "Starting file #  5\n",
      "Getting content done for #  5\n",
      "(589, 18)\n",
      "Done creating master_table #  5\n"
     ]
    },
    {
     "name": "stderr",
     "output_type": "stream",
     "text": [
      "/var/folders/mf/yrkcqqr56t955_zz9p9f4swc0000gn/T/ipykernel_90236/2397393642.py:31: SettingWithCopyWarning: \n",
      "A value is trying to be set on a copy of a slice from a DataFrame\n",
      "\n",
      "See the caveats in the documentation: https://pandas.pydata.org/pandas-docs/stable/user_guide/indexing.html#returning-a-view-versus-a-copy\n",
      "  soi_table_data_df['Industry'].fillna(method='ffill', inplace=True)\n"
     ]
    },
    {
     "name": "stdout",
     "output_type": "stream",
     "text": [
      "Done processed_table #  5\n",
      "September 30, 2014\n",
      "Starting file #  6\n",
      "Getting content done for #  6\n",
      "(595, 18)\n",
      "Done creating master_table #  6\n"
     ]
    },
    {
     "name": "stderr",
     "output_type": "stream",
     "text": [
      "/var/folders/mf/yrkcqqr56t955_zz9p9f4swc0000gn/T/ipykernel_90236/2397393642.py:31: SettingWithCopyWarning: \n",
      "A value is trying to be set on a copy of a slice from a DataFrame\n",
      "\n",
      "See the caveats in the documentation: https://pandas.pydata.org/pandas-docs/stable/user_guide/indexing.html#returning-a-view-versus-a-copy\n",
      "  soi_table_data_df['Industry'].fillna(method='ffill', inplace=True)\n"
     ]
    },
    {
     "name": "stdout",
     "output_type": "stream",
     "text": [
      "Done processed_table #  6\n",
      "December 31, 2014\n",
      "Starting file #  7\n",
      "Getting content done for #  7\n",
      "(614, 20)\n",
      "Done creating master_table #  7\n"
     ]
    },
    {
     "name": "stderr",
     "output_type": "stream",
     "text": [
      "/var/folders/mf/yrkcqqr56t955_zz9p9f4swc0000gn/T/ipykernel_90236/2397393642.py:31: SettingWithCopyWarning: \n",
      "A value is trying to be set on a copy of a slice from a DataFrame\n",
      "\n",
      "See the caveats in the documentation: https://pandas.pydata.org/pandas-docs/stable/user_guide/indexing.html#returning-a-view-versus-a-copy\n",
      "  soi_table_data_df['Industry'].fillna(method='ffill', inplace=True)\n"
     ]
    },
    {
     "name": "stdout",
     "output_type": "stream",
     "text": [
      "Done processed_table #  7\n",
      "March 31, 2015\n",
      "Starting file #  8\n",
      "Getting content done for #  8\n",
      "(586, 18)\n",
      "Done creating master_table #  8\n"
     ]
    },
    {
     "name": "stderr",
     "output_type": "stream",
     "text": [
      "/var/folders/mf/yrkcqqr56t955_zz9p9f4swc0000gn/T/ipykernel_90236/2397393642.py:31: SettingWithCopyWarning: \n",
      "A value is trying to be set on a copy of a slice from a DataFrame\n",
      "\n",
      "See the caveats in the documentation: https://pandas.pydata.org/pandas-docs/stable/user_guide/indexing.html#returning-a-view-versus-a-copy\n",
      "  soi_table_data_df['Industry'].fillna(method='ffill', inplace=True)\n"
     ]
    },
    {
     "name": "stdout",
     "output_type": "stream",
     "text": [
      "Done processed_table #  8\n",
      "June 30, 2015\n",
      "Starting file #  9\n",
      "Getting content done for #  9\n",
      "(598, 18)\n",
      "Done creating master_table #  9\n"
     ]
    },
    {
     "name": "stderr",
     "output_type": "stream",
     "text": [
      "/var/folders/mf/yrkcqqr56t955_zz9p9f4swc0000gn/T/ipykernel_90236/2397393642.py:31: SettingWithCopyWarning: \n",
      "A value is trying to be set on a copy of a slice from a DataFrame\n",
      "\n",
      "See the caveats in the documentation: https://pandas.pydata.org/pandas-docs/stable/user_guide/indexing.html#returning-a-view-versus-a-copy\n",
      "  soi_table_data_df['Industry'].fillna(method='ffill', inplace=True)\n"
     ]
    },
    {
     "name": "stdout",
     "output_type": "stream",
     "text": [
      "Done processed_table #  9\n",
      "September 30, 2015\n",
      "Starting file #  10\n",
      "Getting content done for #  10\n",
      "(617, 18)\n",
      "Done creating master_table #  10\n"
     ]
    },
    {
     "name": "stderr",
     "output_type": "stream",
     "text": [
      "/var/folders/mf/yrkcqqr56t955_zz9p9f4swc0000gn/T/ipykernel_90236/2397393642.py:31: SettingWithCopyWarning: \n",
      "A value is trying to be set on a copy of a slice from a DataFrame\n",
      "\n",
      "See the caveats in the documentation: https://pandas.pydata.org/pandas-docs/stable/user_guide/indexing.html#returning-a-view-versus-a-copy\n",
      "  soi_table_data_df['Industry'].fillna(method='ffill', inplace=True)\n"
     ]
    },
    {
     "name": "stdout",
     "output_type": "stream",
     "text": [
      "Done processed_table #  10\n",
      "December 31, 2015\n",
      "Starting file #  11\n",
      "Getting content done for #  11\n",
      "(647, 20)\n",
      "Done creating master_table #  11\n"
     ]
    },
    {
     "name": "stderr",
     "output_type": "stream",
     "text": [
      "/var/folders/mf/yrkcqqr56t955_zz9p9f4swc0000gn/T/ipykernel_90236/2397393642.py:31: SettingWithCopyWarning: \n",
      "A value is trying to be set on a copy of a slice from a DataFrame\n",
      "\n",
      "See the caveats in the documentation: https://pandas.pydata.org/pandas-docs/stable/user_guide/indexing.html#returning-a-view-versus-a-copy\n",
      "  soi_table_data_df['Industry'].fillna(method='ffill', inplace=True)\n"
     ]
    },
    {
     "name": "stdout",
     "output_type": "stream",
     "text": [
      "Done processed_table #  11\n",
      "March 31, 2016\n",
      "Starting file #  12\n",
      "Getting content done for #  12\n",
      "(670, 18)\n",
      "Done creating master_table #  12\n"
     ]
    },
    {
     "name": "stderr",
     "output_type": "stream",
     "text": [
      "/var/folders/mf/yrkcqqr56t955_zz9p9f4swc0000gn/T/ipykernel_90236/2397393642.py:31: SettingWithCopyWarning: \n",
      "A value is trying to be set on a copy of a slice from a DataFrame\n",
      "\n",
      "See the caveats in the documentation: https://pandas.pydata.org/pandas-docs/stable/user_guide/indexing.html#returning-a-view-versus-a-copy\n",
      "  soi_table_data_df['Industry'].fillna(method='ffill', inplace=True)\n"
     ]
    },
    {
     "name": "stdout",
     "output_type": "stream",
     "text": [
      "Done processed_table #  12\n",
      "June 30, 2016\n",
      "Starting file #  13\n",
      "Getting content done for #  13\n",
      "(674, 18)\n",
      "Done creating master_table #  13\n",
      "Done processed_table #  13\n"
     ]
    },
    {
     "name": "stderr",
     "output_type": "stream",
     "text": [
      "/var/folders/mf/yrkcqqr56t955_zz9p9f4swc0000gn/T/ipykernel_90236/2397393642.py:31: SettingWithCopyWarning: \n",
      "A value is trying to be set on a copy of a slice from a DataFrame\n",
      "\n",
      "See the caveats in the documentation: https://pandas.pydata.org/pandas-docs/stable/user_guide/indexing.html#returning-a-view-versus-a-copy\n",
      "  soi_table_data_df['Industry'].fillna(method='ffill', inplace=True)\n"
     ]
    },
    {
     "name": "stdout",
     "output_type": "stream",
     "text": [
      "September 30, 2016\n",
      "Starting file #  14\n",
      "Getting content done for #  14\n",
      "(671, 18)\n",
      "Done creating master_table #  14\n",
      "Done processed_table #  14\n"
     ]
    },
    {
     "name": "stderr",
     "output_type": "stream",
     "text": [
      "/var/folders/mf/yrkcqqr56t955_zz9p9f4swc0000gn/T/ipykernel_90236/2397393642.py:31: SettingWithCopyWarning: \n",
      "A value is trying to be set on a copy of a slice from a DataFrame\n",
      "\n",
      "See the caveats in the documentation: https://pandas.pydata.org/pandas-docs/stable/user_guide/indexing.html#returning-a-view-versus-a-copy\n",
      "  soi_table_data_df['Industry'].fillna(method='ffill', inplace=True)\n"
     ]
    },
    {
     "name": "stdout",
     "output_type": "stream",
     "text": [
      "December 31, 2016\n",
      "Starting file #  15\n",
      "Getting content done for #  15\n",
      "(653, 20)\n",
      "Done creating master_table #  15\n"
     ]
    },
    {
     "name": "stderr",
     "output_type": "stream",
     "text": [
      "/var/folders/mf/yrkcqqr56t955_zz9p9f4swc0000gn/T/ipykernel_90236/2397393642.py:31: SettingWithCopyWarning: \n",
      "A value is trying to be set on a copy of a slice from a DataFrame\n",
      "\n",
      "See the caveats in the documentation: https://pandas.pydata.org/pandas-docs/stable/user_guide/indexing.html#returning-a-view-versus-a-copy\n",
      "  soi_table_data_df['Industry'].fillna(method='ffill', inplace=True)\n"
     ]
    },
    {
     "name": "stdout",
     "output_type": "stream",
     "text": [
      "Done processed_table #  15\n",
      "March 31, 2017\n",
      "Starting file #  16\n",
      "Getting content done for #  16\n",
      "(905, 20)\n",
      "Done creating master_table #  16\n"
     ]
    },
    {
     "name": "stderr",
     "output_type": "stream",
     "text": [
      "/var/folders/mf/yrkcqqr56t955_zz9p9f4swc0000gn/T/ipykernel_90236/2397393642.py:31: SettingWithCopyWarning: \n",
      "A value is trying to be set on a copy of a slice from a DataFrame\n",
      "\n",
      "See the caveats in the documentation: https://pandas.pydata.org/pandas-docs/stable/user_guide/indexing.html#returning-a-view-versus-a-copy\n",
      "  soi_table_data_df['Industry'].fillna(method='ffill', inplace=True)\n"
     ]
    },
    {
     "name": "stdout",
     "output_type": "stream",
     "text": [
      "Done processed_table #  16\n",
      "June 30, 2017\n",
      "Starting file #  17\n",
      "Getting content done for #  17\n",
      "(912, 20)\n",
      "Done creating master_table #  17\n"
     ]
    },
    {
     "name": "stderr",
     "output_type": "stream",
     "text": [
      "/var/folders/mf/yrkcqqr56t955_zz9p9f4swc0000gn/T/ipykernel_90236/2397393642.py:31: SettingWithCopyWarning: \n",
      "A value is trying to be set on a copy of a slice from a DataFrame\n",
      "\n",
      "See the caveats in the documentation: https://pandas.pydata.org/pandas-docs/stable/user_guide/indexing.html#returning-a-view-versus-a-copy\n",
      "  soi_table_data_df['Industry'].fillna(method='ffill', inplace=True)\n"
     ]
    },
    {
     "name": "stdout",
     "output_type": "stream",
     "text": [
      "Done processed_table #  17\n",
      "September 30, 2017\n",
      "Starting file #  18\n",
      "Getting content done for #  18\n",
      "(1007, 21)\n",
      "Done creating master_table #  18\n"
     ]
    },
    {
     "name": "stderr",
     "output_type": "stream",
     "text": [
      "/var/folders/mf/yrkcqqr56t955_zz9p9f4swc0000gn/T/ipykernel_90236/2397393642.py:31: SettingWithCopyWarning: \n",
      "A value is trying to be set on a copy of a slice from a DataFrame\n",
      "\n",
      "See the caveats in the documentation: https://pandas.pydata.org/pandas-docs/stable/user_guide/indexing.html#returning-a-view-versus-a-copy\n",
      "  soi_table_data_df['Industry'].fillna(method='ffill', inplace=True)\n"
     ]
    },
    {
     "name": "stdout",
     "output_type": "stream",
     "text": [
      "Done processed_table #  18\n",
      "December 31, 2017\n",
      "Starting file #  19\n",
      "Getting content done for #  19\n",
      "(1028, 20)\n",
      "Done creating master_table #  19\n"
     ]
    },
    {
     "name": "stderr",
     "output_type": "stream",
     "text": [
      "/var/folders/mf/yrkcqqr56t955_zz9p9f4swc0000gn/T/ipykernel_90236/2397393642.py:31: SettingWithCopyWarning: \n",
      "A value is trying to be set on a copy of a slice from a DataFrame\n",
      "\n",
      "See the caveats in the documentation: https://pandas.pydata.org/pandas-docs/stable/user_guide/indexing.html#returning-a-view-versus-a-copy\n",
      "  soi_table_data_df['Industry'].fillna(method='ffill', inplace=True)\n"
     ]
    },
    {
     "name": "stdout",
     "output_type": "stream",
     "text": [
      "Done processed_table #  19\n",
      "March 31, 2018\n",
      "Starting file #  20\n",
      "Getting content done for #  20\n",
      "(1059, 20)\n",
      "Done creating master_table #  20\n"
     ]
    },
    {
     "name": "stderr",
     "output_type": "stream",
     "text": [
      "/var/folders/mf/yrkcqqr56t955_zz9p9f4swc0000gn/T/ipykernel_90236/2397393642.py:31: SettingWithCopyWarning: \n",
      "A value is trying to be set on a copy of a slice from a DataFrame\n",
      "\n",
      "See the caveats in the documentation: https://pandas.pydata.org/pandas-docs/stable/user_guide/indexing.html#returning-a-view-versus-a-copy\n",
      "  soi_table_data_df['Industry'].fillna(method='ffill', inplace=True)\n"
     ]
    },
    {
     "name": "stdout",
     "output_type": "stream",
     "text": [
      "Done processed_table #  20\n",
      "June 30, 2018\n",
      "Starting file #  21\n",
      "Getting content done for #  21\n",
      "(1029, 20)\n",
      "Done creating master_table #  21\n"
     ]
    },
    {
     "name": "stderr",
     "output_type": "stream",
     "text": [
      "/var/folders/mf/yrkcqqr56t955_zz9p9f4swc0000gn/T/ipykernel_90236/2397393642.py:31: SettingWithCopyWarning: \n",
      "A value is trying to be set on a copy of a slice from a DataFrame\n",
      "\n",
      "See the caveats in the documentation: https://pandas.pydata.org/pandas-docs/stable/user_guide/indexing.html#returning-a-view-versus-a-copy\n",
      "  soi_table_data_df['Industry'].fillna(method='ffill', inplace=True)\n"
     ]
    },
    {
     "name": "stdout",
     "output_type": "stream",
     "text": [
      "Done processed_table #  21\n",
      "September 30, 2018\n",
      "Starting file #  22\n",
      "Getting content done for #  22\n",
      "(1033, 20)\n",
      "Done creating master_table #  22\n"
     ]
    },
    {
     "name": "stderr",
     "output_type": "stream",
     "text": [
      "/var/folders/mf/yrkcqqr56t955_zz9p9f4swc0000gn/T/ipykernel_90236/2397393642.py:31: SettingWithCopyWarning: \n",
      "A value is trying to be set on a copy of a slice from a DataFrame\n",
      "\n",
      "See the caveats in the documentation: https://pandas.pydata.org/pandas-docs/stable/user_guide/indexing.html#returning-a-view-versus-a-copy\n",
      "  soi_table_data_df['Industry'].fillna(method='ffill', inplace=True)\n"
     ]
    },
    {
     "name": "stdout",
     "output_type": "stream",
     "text": [
      "Done processed_table #  22\n",
      "December 31, 2018\n",
      "Starting file #  23\n",
      "Getting content done for #  23\n",
      "(1062, 20)\n",
      "Done creating master_table #  23\n"
     ]
    },
    {
     "name": "stderr",
     "output_type": "stream",
     "text": [
      "/var/folders/mf/yrkcqqr56t955_zz9p9f4swc0000gn/T/ipykernel_90236/2397393642.py:31: SettingWithCopyWarning: \n",
      "A value is trying to be set on a copy of a slice from a DataFrame\n",
      "\n",
      "See the caveats in the documentation: https://pandas.pydata.org/pandas-docs/stable/user_guide/indexing.html#returning-a-view-versus-a-copy\n",
      "  soi_table_data_df['Industry'].fillna(method='ffill', inplace=True)\n"
     ]
    },
    {
     "name": "stdout",
     "output_type": "stream",
     "text": [
      "Done processed_table #  23\n",
      "March 31, 2019\n",
      "Starting file #  24\n",
      "Getting content done for #  24\n",
      "(1125, 22)\n",
      "Done creating master_table #  24\n"
     ]
    },
    {
     "name": "stderr",
     "output_type": "stream",
     "text": [
      "/var/folders/mf/yrkcqqr56t955_zz9p9f4swc0000gn/T/ipykernel_90236/2397393642.py:31: SettingWithCopyWarning: \n",
      "A value is trying to be set on a copy of a slice from a DataFrame\n",
      "\n",
      "See the caveats in the documentation: https://pandas.pydata.org/pandas-docs/stable/user_guide/indexing.html#returning-a-view-versus-a-copy\n",
      "  soi_table_data_df['Industry'].fillna(method='ffill', inplace=True)\n"
     ]
    },
    {
     "name": "stdout",
     "output_type": "stream",
     "text": [
      "Done processed_table #  24\n",
      "June 30, 2019\n",
      "Starting file #  25\n",
      "Getting content done for #  25\n",
      "(1103, 22)\n",
      "Done creating master_table #  25\n"
     ]
    },
    {
     "name": "stderr",
     "output_type": "stream",
     "text": [
      "/var/folders/mf/yrkcqqr56t955_zz9p9f4swc0000gn/T/ipykernel_90236/2397393642.py:31: SettingWithCopyWarning: \n",
      "A value is trying to be set on a copy of a slice from a DataFrame\n",
      "\n",
      "See the caveats in the documentation: https://pandas.pydata.org/pandas-docs/stable/user_guide/indexing.html#returning-a-view-versus-a-copy\n",
      "  soi_table_data_df['Industry'].fillna(method='ffill', inplace=True)\n"
     ]
    },
    {
     "name": "stdout",
     "output_type": "stream",
     "text": [
      "Done processed_table #  25\n",
      "September 30, 2019\n",
      "Starting file #  26\n",
      "Getting content done for #  26\n",
      "(1180, 20)\n",
      "Done creating master_table #  26\n"
     ]
    },
    {
     "name": "stderr",
     "output_type": "stream",
     "text": [
      "/var/folders/mf/yrkcqqr56t955_zz9p9f4swc0000gn/T/ipykernel_90236/2397393642.py:31: SettingWithCopyWarning: \n",
      "A value is trying to be set on a copy of a slice from a DataFrame\n",
      "\n",
      "See the caveats in the documentation: https://pandas.pydata.org/pandas-docs/stable/user_guide/indexing.html#returning-a-view-versus-a-copy\n",
      "  soi_table_data_df['Industry'].fillna(method='ffill', inplace=True)\n"
     ]
    },
    {
     "name": "stdout",
     "output_type": "stream",
     "text": [
      "Done processed_table #  26\n",
      "December 31, 2019\n",
      "Starting file #  27\n",
      "Getting content done for #  27\n",
      "(1009, 48)\n",
      "Done creating master_table #  27\n"
     ]
    },
    {
     "name": "stderr",
     "output_type": "stream",
     "text": [
      "/var/folders/mf/yrkcqqr56t955_zz9p9f4swc0000gn/T/ipykernel_90236/2397393642.py:31: SettingWithCopyWarning: \n",
      "A value is trying to be set on a copy of a slice from a DataFrame\n",
      "\n",
      "See the caveats in the documentation: https://pandas.pydata.org/pandas-docs/stable/user_guide/indexing.html#returning-a-view-versus-a-copy\n",
      "  soi_table_data_df['Industry'].fillna(method='ffill', inplace=True)\n"
     ]
    },
    {
     "name": "stdout",
     "output_type": "stream",
     "text": [
      "Done processed_table #  27\n",
      "March 31, 2020\n",
      "Starting file #  28\n",
      "Getting content done for #  28\n",
      "(1112, 20)\n",
      "Done creating master_table #  28\n"
     ]
    },
    {
     "name": "stderr",
     "output_type": "stream",
     "text": [
      "/var/folders/mf/yrkcqqr56t955_zz9p9f4swc0000gn/T/ipykernel_90236/2397393642.py:31: SettingWithCopyWarning: \n",
      "A value is trying to be set on a copy of a slice from a DataFrame\n",
      "\n",
      "See the caveats in the documentation: https://pandas.pydata.org/pandas-docs/stable/user_guide/indexing.html#returning-a-view-versus-a-copy\n",
      "  soi_table_data_df['Industry'].fillna(method='ffill', inplace=True)\n"
     ]
    },
    {
     "name": "stdout",
     "output_type": "stream",
     "text": [
      "Done processed_table #  28\n",
      "June 30, 2020\n",
      "Starting file #  29\n",
      "Getting content done for #  29\n",
      "(1037, 20)\n",
      "Done creating master_table #  29\n"
     ]
    },
    {
     "name": "stderr",
     "output_type": "stream",
     "text": [
      "/var/folders/mf/yrkcqqr56t955_zz9p9f4swc0000gn/T/ipykernel_90236/2397393642.py:31: SettingWithCopyWarning: \n",
      "A value is trying to be set on a copy of a slice from a DataFrame\n",
      "\n",
      "See the caveats in the documentation: https://pandas.pydata.org/pandas-docs/stable/user_guide/indexing.html#returning-a-view-versus-a-copy\n",
      "  soi_table_data_df['Industry'].fillna(method='ffill', inplace=True)\n"
     ]
    },
    {
     "name": "stdout",
     "output_type": "stream",
     "text": [
      "Done processed_table #  29\n",
      "September 30, 2020\n",
      "Starting file #  30\n",
      "Getting content done for #  30\n",
      "(1029, 21)\n",
      "Done creating master_table #  30\n"
     ]
    },
    {
     "name": "stderr",
     "output_type": "stream",
     "text": [
      "/var/folders/mf/yrkcqqr56t955_zz9p9f4swc0000gn/T/ipykernel_90236/2397393642.py:31: SettingWithCopyWarning: \n",
      "A value is trying to be set on a copy of a slice from a DataFrame\n",
      "\n",
      "See the caveats in the documentation: https://pandas.pydata.org/pandas-docs/stable/user_guide/indexing.html#returning-a-view-versus-a-copy\n",
      "  soi_table_data_df['Industry'].fillna(method='ffill', inplace=True)\n"
     ]
    },
    {
     "name": "stdout",
     "output_type": "stream",
     "text": [
      "Done processed_table #  30\n",
      "December 31, 2020\n",
      "Starting file #  31\n",
      "Getting content done for #  31\n",
      "(1075, 45)\n",
      "Done creating master_table #  31\n"
     ]
    },
    {
     "name": "stderr",
     "output_type": "stream",
     "text": [
      "/var/folders/mf/yrkcqqr56t955_zz9p9f4swc0000gn/T/ipykernel_90236/2397393642.py:31: SettingWithCopyWarning: \n",
      "A value is trying to be set on a copy of a slice from a DataFrame\n",
      "\n",
      "See the caveats in the documentation: https://pandas.pydata.org/pandas-docs/stable/user_guide/indexing.html#returning-a-view-versus-a-copy\n",
      "  soi_table_data_df['Industry'].fillna(method='ffill', inplace=True)\n"
     ]
    },
    {
     "name": "stdout",
     "output_type": "stream",
     "text": [
      "Done processed_table #  31\n",
      "March 31, 2021\n",
      "Starting file #  32\n",
      "Getting content done for #  32\n",
      "(1078, 48)\n",
      "Done creating master_table #  32\n"
     ]
    },
    {
     "name": "stderr",
     "output_type": "stream",
     "text": [
      "/var/folders/mf/yrkcqqr56t955_zz9p9f4swc0000gn/T/ipykernel_90236/2397393642.py:31: SettingWithCopyWarning: \n",
      "A value is trying to be set on a copy of a slice from a DataFrame\n",
      "\n",
      "See the caveats in the documentation: https://pandas.pydata.org/pandas-docs/stable/user_guide/indexing.html#returning-a-view-versus-a-copy\n",
      "  soi_table_data_df['Industry'].fillna(method='ffill', inplace=True)\n"
     ]
    },
    {
     "name": "stdout",
     "output_type": "stream",
     "text": [
      "Done processed_table #  32\n",
      "June 30, 2021\n",
      "Starting file #  33\n",
      "Getting content done for #  33\n",
      "(1072, 48)\n",
      "Done creating master_table #  33\n"
     ]
    },
    {
     "name": "stderr",
     "output_type": "stream",
     "text": [
      "/var/folders/mf/yrkcqqr56t955_zz9p9f4swc0000gn/T/ipykernel_90236/2397393642.py:31: SettingWithCopyWarning: \n",
      "A value is trying to be set on a copy of a slice from a DataFrame\n",
      "\n",
      "See the caveats in the documentation: https://pandas.pydata.org/pandas-docs/stable/user_guide/indexing.html#returning-a-view-versus-a-copy\n",
      "  soi_table_data_df['Industry'].fillna(method='ffill', inplace=True)\n"
     ]
    },
    {
     "name": "stdout",
     "output_type": "stream",
     "text": [
      "Done processed_table #  33\n",
      "September 30, 2021\n",
      "Starting file #  34\n",
      "Getting content done for #  34\n",
      "(1089, 48)\n",
      "Done creating master_table #  34\n"
     ]
    },
    {
     "name": "stderr",
     "output_type": "stream",
     "text": [
      "/var/folders/mf/yrkcqqr56t955_zz9p9f4swc0000gn/T/ipykernel_90236/2397393642.py:31: SettingWithCopyWarning: \n",
      "A value is trying to be set on a copy of a slice from a DataFrame\n",
      "\n",
      "See the caveats in the documentation: https://pandas.pydata.org/pandas-docs/stable/user_guide/indexing.html#returning-a-view-versus-a-copy\n",
      "  soi_table_data_df['Industry'].fillna(method='ffill', inplace=True)\n"
     ]
    },
    {
     "name": "stdout",
     "output_type": "stream",
     "text": [
      "Done processed_table #  34\n",
      "December 31, 2021\n",
      "Starting file #  35\n",
      "Getting content done for #  35\n",
      "(1164, 45)\n",
      "Done creating master_table #  35\n"
     ]
    },
    {
     "name": "stderr",
     "output_type": "stream",
     "text": [
      "/var/folders/mf/yrkcqqr56t955_zz9p9f4swc0000gn/T/ipykernel_90236/2397393642.py:31: SettingWithCopyWarning: \n",
      "A value is trying to be set on a copy of a slice from a DataFrame\n",
      "\n",
      "See the caveats in the documentation: https://pandas.pydata.org/pandas-docs/stable/user_guide/indexing.html#returning-a-view-versus-a-copy\n",
      "  soi_table_data_df['Industry'].fillna(method='ffill', inplace=True)\n"
     ]
    },
    {
     "name": "stdout",
     "output_type": "stream",
     "text": [
      "Done processed_table #  35\n",
      "March 31, 2022\n",
      "Starting file #  36\n",
      "Getting content done for #  36\n",
      "(1219, 45)\n",
      "Done creating master_table #  36\n"
     ]
    },
    {
     "name": "stderr",
     "output_type": "stream",
     "text": [
      "/var/folders/mf/yrkcqqr56t955_zz9p9f4swc0000gn/T/ipykernel_90236/2397393642.py:31: SettingWithCopyWarning: \n",
      "A value is trying to be set on a copy of a slice from a DataFrame\n",
      "\n",
      "See the caveats in the documentation: https://pandas.pydata.org/pandas-docs/stable/user_guide/indexing.html#returning-a-view-versus-a-copy\n",
      "  soi_table_data_df['Industry'].fillna(method='ffill', inplace=True)\n"
     ]
    },
    {
     "name": "stdout",
     "output_type": "stream",
     "text": [
      "Done processed_table #  36\n",
      "June 30, 2022\n",
      "Starting file #  37\n",
      "Getting content done for #  37\n",
      "(1326, 45)\n",
      "Done creating master_table #  37\n",
      "Done processed_table #  37\n"
     ]
    },
    {
     "name": "stderr",
     "output_type": "stream",
     "text": [
      "/var/folders/mf/yrkcqqr56t955_zz9p9f4swc0000gn/T/ipykernel_90236/2397393642.py:31: SettingWithCopyWarning: \n",
      "A value is trying to be set on a copy of a slice from a DataFrame\n",
      "\n",
      "See the caveats in the documentation: https://pandas.pydata.org/pandas-docs/stable/user_guide/indexing.html#returning-a-view-versus-a-copy\n",
      "  soi_table_data_df['Industry'].fillna(method='ffill', inplace=True)\n"
     ]
    },
    {
     "name": "stdout",
     "output_type": "stream",
     "text": [
      "September 30, 2022\n",
      "Starting file #  38\n",
      "Getting content done for #  38\n",
      "(1353, 66)\n",
      "Done creating master_table #  38\n"
     ]
    },
    {
     "name": "stderr",
     "output_type": "stream",
     "text": [
      "/var/folders/mf/yrkcqqr56t955_zz9p9f4swc0000gn/T/ipykernel_90236/2397393642.py:31: SettingWithCopyWarning: \n",
      "A value is trying to be set on a copy of a slice from a DataFrame\n",
      "\n",
      "See the caveats in the documentation: https://pandas.pydata.org/pandas-docs/stable/user_guide/indexing.html#returning-a-view-versus-a-copy\n",
      "  soi_table_data_df['Industry'].fillna(method='ffill', inplace=True)\n"
     ]
    },
    {
     "name": "stdout",
     "output_type": "stream",
     "text": [
      "Done processed_table #  38\n",
      "December 31, 2022\n",
      "Starting file #  39\n",
      "Getting content done for #  39\n",
      "(1389, 66)\n",
      "Done creating master_table #  39\n"
     ]
    },
    {
     "name": "stderr",
     "output_type": "stream",
     "text": [
      "/var/folders/mf/yrkcqqr56t955_zz9p9f4swc0000gn/T/ipykernel_90236/2397393642.py:31: SettingWithCopyWarning: \n",
      "A value is trying to be set on a copy of a slice from a DataFrame\n",
      "\n",
      "See the caveats in the documentation: https://pandas.pydata.org/pandas-docs/stable/user_guide/indexing.html#returning-a-view-versus-a-copy\n",
      "  soi_table_data_df['Industry'].fillna(method='ffill', inplace=True)\n"
     ]
    },
    {
     "name": "stdout",
     "output_type": "stream",
     "text": [
      "Done processed_table #  39\n",
      "March 31, 2023\n",
      "Starting file #  40\n",
      "Getting content done for #  40\n",
      "(1405, 66)\n",
      "Done creating master_table #  40\n"
     ]
    },
    {
     "name": "stderr",
     "output_type": "stream",
     "text": [
      "/var/folders/mf/yrkcqqr56t955_zz9p9f4swc0000gn/T/ipykernel_90236/2397393642.py:31: SettingWithCopyWarning: \n",
      "A value is trying to be set on a copy of a slice from a DataFrame\n",
      "\n",
      "See the caveats in the documentation: https://pandas.pydata.org/pandas-docs/stable/user_guide/indexing.html#returning-a-view-versus-a-copy\n",
      "  soi_table_data_df['Industry'].fillna(method='ffill', inplace=True)\n"
     ]
    },
    {
     "name": "stdout",
     "output_type": "stream",
     "text": [
      "Done processed_table #  40\n",
      "June 30, 2023\n",
      "Starting file #  41\n",
      "Getting content done for #  41\n",
      "(1561, 66)\n",
      "Done creating master_table #  41\n"
     ]
    },
    {
     "name": "stderr",
     "output_type": "stream",
     "text": [
      "/var/folders/mf/yrkcqqr56t955_zz9p9f4swc0000gn/T/ipykernel_90236/2397393642.py:31: SettingWithCopyWarning: \n",
      "A value is trying to be set on a copy of a slice from a DataFrame\n",
      "\n",
      "See the caveats in the documentation: https://pandas.pydata.org/pandas-docs/stable/user_guide/indexing.html#returning-a-view-versus-a-copy\n",
      "  soi_table_data_df['Industry'].fillna(method='ffill', inplace=True)\n"
     ]
    },
    {
     "name": "stdout",
     "output_type": "stream",
     "text": [
      "Done processed_table #  41\n"
     ]
    }
   ],
   "source": [
    "count = 0\n",
    "manual = ['December 31, 2013', 'December 31, 2014',\n",
    "          'December 31, 2015', 'December 31, 2016']\n",
    "path = '../ARCC_Investment.xlsx'\n",
    "writer = pd.ExcelWriter(path, engine='openpyxl')\n",
    "for qtr_date, html_link in zip(filing_links['Reporting date'], filing_links['Filings URL']):\n",
    "    print(qtr_date)\n",
    "    print('Starting file # ', count)\n",
    "    response = requests.get(html_link, headers=headers)\n",
    "    content = parse_and_trim(response.content, 'HTML')\n",
    "    print('Getting content done for # ', count)\n",
    "    if qtr_date in manual:\n",
    "        master_table = extract_tables_manual(content, qtr_date)\n",
    "    else:\n",
    "        master_table = extract_tables(content, qtr_date)\n",
    "    print(\"Done creating master_table # \", count)\n",
    "    processed_table_ = process_table(\n",
    "        master_table, qtr_date.replace(',', ''))\n",
    "    processed_table_.to_excel(\n",
    "        writer, sheet_name=qtr_date.replace(',', ''), index=False)\n",
    "    processed_table_.to_csv(\n",
    "        '../csv_file/'+qtr_date.replace(',', '')+'.csv')\n",
    "    print(\"Done processed_table # \", count)\n",
    "    count += 1\n",
    "    writer.save()\n",
    "writer.close()"
   ]
  },
  {
   "cell_type": "markdown",
   "metadata": {},
   "source": [
    "# NOW RUN THE `ARCC/Code/analyze_excel_file.ipynb`"
   ]
  },
  {
   "cell_type": "markdown",
   "metadata": {},
   "source": [
    "# Testing\n",
    "### to test one file at a time\n",
    "#### you can use the index of the link to run"
   ]
  },
  {
   "cell_type": "code",
   "execution_count": 38,
   "metadata": {},
   "outputs": [
    {
     "name": "stdout",
     "output_type": "stream",
     "text": [
      "(1561, 66)\n"
     ]
    },
    {
     "name": "stderr",
     "output_type": "stream",
     "text": [
      "/var/folders/mf/yrkcqqr56t955_zz9p9f4swc0000gn/T/ipykernel_90236/2397393642.py:31: SettingWithCopyWarning: \n",
      "A value is trying to be set on a copy of a slice from a DataFrame\n",
      "\n",
      "See the caveats in the documentation: https://pandas.pydata.org/pandas-docs/stable/user_guide/indexing.html#returning-a-view-versus-a-copy\n",
      "  soi_table_data_df['Industry'].fillna(method='ffill', inplace=True)\n"
     ]
    },
    {
     "data": {
      "text/html": [
       "<div>\n",
       "<style scoped>\n",
       "    .dataframe tbody tr th:only-of-type {\n",
       "        vertical-align: middle;\n",
       "    }\n",
       "\n",
       "    .dataframe tbody tr th {\n",
       "        vertical-align: top;\n",
       "    }\n",
       "\n",
       "    .dataframe thead th {\n",
       "        text-align: right;\n",
       "    }\n",
       "</style>\n",
       "<table border=\"1\" class=\"dataframe\">\n",
       "  <thead>\n",
       "    <tr style=\"text-align: right;\">\n",
       "      <th></th>\n",
       "      <th>Industry</th>\n",
       "      <th>Company (1)</th>\n",
       "      <th>Business Description</th>\n",
       "      <th>Investment</th>\n",
       "      <th>Coupon (3)</th>\n",
       "      <th>Reference (7)</th>\n",
       "      <th>Spread (3)</th>\n",
       "      <th>Acquisition Date</th>\n",
       "      <th>Maturity Date</th>\n",
       "      <th>Shares/Units</th>\n",
       "      <th>Principal</th>\n",
       "      <th>NaN</th>\n",
       "      <th>Amortized Cost</th>\n",
       "      <th>Fair Value</th>\n",
       "    </tr>\n",
       "  </thead>\n",
       "  <tbody>\n",
       "    <tr>\n",
       "      <th>0</th>\n",
       "      <td>Software and Services</td>\n",
       "      <td>2U, Inc.</td>\n",
       "      <td>Provider of course design and learning managem...</td>\n",
       "      <td>First lien senior secured loan</td>\n",
       "      <td>11.32  %</td>\n",
       "      <td>SOFR (M)</td>\n",
       "      <td>6.50  %</td>\n",
       "      <td>01/2023</td>\n",
       "      <td>12/2026</td>\n",
       "      <td>0.0</td>\n",
       "      <td>0.0</td>\n",
       "      <td>4.7</td>\n",
       "      <td>4.4</td>\n",
       "      <td>4.5</td>\n",
       "    </tr>\n",
       "    <tr>\n",
       "      <th>1</th>\n",
       "      <td>Software and Services</td>\n",
       "      <td>AffiniPay Midco, LLC and AffiniPay Intermediat...</td>\n",
       "      <td>Payment processing solution provider</td>\n",
       "      <td>First lien senior secured loan</td>\n",
       "      <td>10.20  %</td>\n",
       "      <td>SOFR (A)</td>\n",
       "      <td>5.50  %</td>\n",
       "      <td>02/2020</td>\n",
       "      <td>06/2028</td>\n",
       "      <td>0.0</td>\n",
       "      <td>63.0</td>\n",
       "      <td>NaN</td>\n",
       "      <td>63.0</td>\n",
       "      <td>61.8</td>\n",
       "    </tr>\n",
       "    <tr>\n",
       "      <th>2</th>\n",
       "      <td>Software and Services</td>\n",
       "      <td>AffiniPay Midco, LLC and AffiniPay Intermediat...</td>\n",
       "      <td>Payment processing solution provider</td>\n",
       "      <td>First lien senior secured loan</td>\n",
       "      <td>10.39  %</td>\n",
       "      <td>SOFR (A)</td>\n",
       "      <td>5.50  %</td>\n",
       "      <td>06/2022</td>\n",
       "      <td>06/2028</td>\n",
       "      <td>0.0</td>\n",
       "      <td>120.0</td>\n",
       "      <td>NaN</td>\n",
       "      <td>118.0</td>\n",
       "      <td>117.6</td>\n",
       "    </tr>\n",
       "    <tr>\n",
       "      <th>3</th>\n",
       "      <td>Software and Services</td>\n",
       "      <td>AffiniPay Midco, LLC and AffiniPay Intermediat...</td>\n",
       "      <td>Payment processing solution provider</td>\n",
       "      <td>Senior subordinated loan</td>\n",
       "      <td>15.06  % PIK</td>\n",
       "      <td>SOFR (Q)</td>\n",
       "      <td>10.00  %</td>\n",
       "      <td>02/2020</td>\n",
       "      <td>06/2030</td>\n",
       "      <td>0.0</td>\n",
       "      <td>61.0</td>\n",
       "      <td>NaN</td>\n",
       "      <td>61.0</td>\n",
       "      <td>59.8</td>\n",
       "    </tr>\n",
       "    <tr>\n",
       "      <th>4</th>\n",
       "      <td>Software and Services</td>\n",
       "      <td>Anaplan, Inc. (15)</td>\n",
       "      <td>Provider of cloud-based connected planning pla...</td>\n",
       "      <td>First lien senior secured loan</td>\n",
       "      <td>11.60  %</td>\n",
       "      <td>SOFR (M)</td>\n",
       "      <td>6.50  %</td>\n",
       "      <td>06/2022</td>\n",
       "      <td>06/2029</td>\n",
       "      <td>0.0</td>\n",
       "      <td>1.8</td>\n",
       "      <td>NaN</td>\n",
       "      <td>1.8</td>\n",
       "      <td>1.8</td>\n",
       "    </tr>\n",
       "    <tr>\n",
       "      <th>...</th>\n",
       "      <td>...</td>\n",
       "      <td>...</td>\n",
       "      <td>...</td>\n",
       "      <td>...</td>\n",
       "      <td>...</td>\n",
       "      <td>...</td>\n",
       "      <td>...</td>\n",
       "      <td>...</td>\n",
       "      <td>...</td>\n",
       "      <td>...</td>\n",
       "      <td>...</td>\n",
       "      <td>...</td>\n",
       "      <td>...</td>\n",
       "      <td>...</td>\n",
       "    </tr>\n",
       "    <tr>\n",
       "      <th>1180</th>\n",
       "      <td>Education</td>\n",
       "      <td>Flinn Scientific, Inc. and WCI-Quantum Holding...</td>\n",
       "      <td>Distributor of instructional products, service...</td>\n",
       "      <td>First lien senior secured loan</td>\n",
       "      <td>11.00  %</td>\n",
       "      <td>SOFR (Q)</td>\n",
       "      <td>5.50  %</td>\n",
       "      <td>07/2017</td>\n",
       "      <td>08/2024</td>\n",
       "      <td>0.0</td>\n",
       "      <td>29.4</td>\n",
       "      <td>NaN</td>\n",
       "      <td>29.4</td>\n",
       "      <td>29.4</td>\n",
       "    </tr>\n",
       "    <tr>\n",
       "      <th>1181</th>\n",
       "      <td>Education</td>\n",
       "      <td>Flinn Scientific, Inc. and WCI-Quantum Holding...</td>\n",
       "      <td>Distributor of instructional products, service...</td>\n",
       "      <td>First lien senior secured loan</td>\n",
       "      <td>11.00  %</td>\n",
       "      <td>SOFR (Q)</td>\n",
       "      <td>5.50  %</td>\n",
       "      <td>08/2018</td>\n",
       "      <td>08/2024</td>\n",
       "      <td>0.0</td>\n",
       "      <td>1.1</td>\n",
       "      <td>NaN</td>\n",
       "      <td>1.1</td>\n",
       "      <td>1.1</td>\n",
       "    </tr>\n",
       "    <tr>\n",
       "      <th>1182</th>\n",
       "      <td>Education</td>\n",
       "      <td>Flinn Scientific, Inc. and WCI-Quantum Holding...</td>\n",
       "      <td>Distributor of instructional products, service...</td>\n",
       "      <td>Series A preferred stock</td>\n",
       "      <td>NaN</td>\n",
       "      <td>NaN</td>\n",
       "      <td>NaN</td>\n",
       "      <td>10/2014</td>\n",
       "      <td>NaN</td>\n",
       "      <td>1272.0</td>\n",
       "      <td>0.0</td>\n",
       "      <td>NaN</td>\n",
       "      <td>0.7</td>\n",
       "      <td>1.4</td>\n",
       "    </tr>\n",
       "    <tr>\n",
       "      <th>1183</th>\n",
       "      <td>Education</td>\n",
       "      <td>Flinn Scientific, Inc. and WCI-Quantum Holding...</td>\n",
       "      <td>Distributor of instructional products, service...</td>\n",
       "      <td>NaN</td>\n",
       "      <td>NaN</td>\n",
       "      <td>NaN</td>\n",
       "      <td>NaN</td>\n",
       "      <td>NaN</td>\n",
       "      <td>NaN</td>\n",
       "      <td>0.0</td>\n",
       "      <td>0.0</td>\n",
       "      <td>NaN</td>\n",
       "      <td>50.7</td>\n",
       "      <td>51.4</td>\n",
       "    </tr>\n",
       "    <tr>\n",
       "      <th>1184</th>\n",
       "      <td>Education</td>\n",
       "      <td>Total Investments</td>\n",
       "      <td>Distributor of instructional products, service...</td>\n",
       "      <td>NaN</td>\n",
       "      <td>NaN</td>\n",
       "      <td>NaN</td>\n",
       "      <td>NaN</td>\n",
       "      <td>NaN</td>\n",
       "      <td>NaN</td>\n",
       "      <td>0.0</td>\n",
       "      <td>0.0</td>\n",
       "      <td>NaN</td>\n",
       "      <td>21685.6</td>\n",
       "      <td>21496.5</td>\n",
       "    </tr>\n",
       "  </tbody>\n",
       "</table>\n",
       "<p>1185 rows × 14 columns</p>\n",
       "</div>"
      ],
      "text/plain": [
       "                   Industry  \\\n",
       "0     Software and Services   \n",
       "1     Software and Services   \n",
       "2     Software and Services   \n",
       "3     Software and Services   \n",
       "4     Software and Services   \n",
       "...                     ...   \n",
       "1180              Education   \n",
       "1181              Education   \n",
       "1182              Education   \n",
       "1183              Education   \n",
       "1184              Education   \n",
       "\n",
       "                                            Company (1)  \\\n",
       "0                                              2U, Inc.   \n",
       "1     AffiniPay Midco, LLC and AffiniPay Intermediat...   \n",
       "2     AffiniPay Midco, LLC and AffiniPay Intermediat...   \n",
       "3     AffiniPay Midco, LLC and AffiniPay Intermediat...   \n",
       "4                                    Anaplan, Inc. (15)   \n",
       "...                                                 ...   \n",
       "1180  Flinn Scientific, Inc. and WCI-Quantum Holding...   \n",
       "1181  Flinn Scientific, Inc. and WCI-Quantum Holding...   \n",
       "1182  Flinn Scientific, Inc. and WCI-Quantum Holding...   \n",
       "1183  Flinn Scientific, Inc. and WCI-Quantum Holding...   \n",
       "1184                                  Total Investments   \n",
       "\n",
       "                                   Business Description  \\\n",
       "0     Provider of course design and learning managem...   \n",
       "1                  Payment processing solution provider   \n",
       "2                  Payment processing solution provider   \n",
       "3                  Payment processing solution provider   \n",
       "4     Provider of cloud-based connected planning pla...   \n",
       "...                                                 ...   \n",
       "1180  Distributor of instructional products, service...   \n",
       "1181  Distributor of instructional products, service...   \n",
       "1182  Distributor of instructional products, service...   \n",
       "1183  Distributor of instructional products, service...   \n",
       "1184  Distributor of instructional products, service...   \n",
       "\n",
       "                          Investment    Coupon (3) Reference (7) Spread (3)  \\\n",
       "0     First lien senior secured loan      11.32  %      SOFR (M)    6.50  %   \n",
       "1     First lien senior secured loan      10.20  %      SOFR (A)    5.50  %   \n",
       "2     First lien senior secured loan      10.39  %      SOFR (A)    5.50  %   \n",
       "3           Senior subordinated loan  15.06  % PIK      SOFR (Q)   10.00  %   \n",
       "4     First lien senior secured loan      11.60  %      SOFR (M)    6.50  %   \n",
       "...                              ...           ...           ...        ...   \n",
       "1180  First lien senior secured loan      11.00  %      SOFR (Q)    5.50  %   \n",
       "1181  First lien senior secured loan      11.00  %      SOFR (Q)    5.50  %   \n",
       "1182        Series A preferred stock           NaN           NaN        NaN   \n",
       "1183                             NaN           NaN           NaN        NaN   \n",
       "1184                             NaN           NaN           NaN        NaN   \n",
       "\n",
       "     Acquisition Date Maturity Date  Shares/Units  Principal  NaN  \\\n",
       "0             01/2023       12/2026           0.0        0.0  4.7   \n",
       "1             02/2020       06/2028           0.0       63.0  NaN   \n",
       "2             06/2022       06/2028           0.0      120.0  NaN   \n",
       "3             02/2020       06/2030           0.0       61.0  NaN   \n",
       "4             06/2022       06/2029           0.0        1.8  NaN   \n",
       "...               ...           ...           ...        ...  ...   \n",
       "1180          07/2017       08/2024           0.0       29.4  NaN   \n",
       "1181          08/2018       08/2024           0.0        1.1  NaN   \n",
       "1182          10/2014           NaN        1272.0        0.0  NaN   \n",
       "1183              NaN           NaN           0.0        0.0  NaN   \n",
       "1184              NaN           NaN           0.0        0.0  NaN   \n",
       "\n",
       "      Amortized Cost  Fair Value  \n",
       "0                4.4         4.5  \n",
       "1               63.0        61.8  \n",
       "2              118.0       117.6  \n",
       "3               61.0        59.8  \n",
       "4                1.8         1.8  \n",
       "...              ...         ...  \n",
       "1180            29.4        29.4  \n",
       "1181             1.1         1.1  \n",
       "1182             0.7         1.4  \n",
       "1183            50.7        51.4  \n",
       "1184         21685.6     21496.5  \n",
       "\n",
       "[1185 rows x 14 columns]"
      ]
     },
     "execution_count": 38,
     "metadata": {},
     "output_type": "execute_result"
    }
   ],
   "source": [
    "\n",
    "url = filing_links.iloc[-1]['Filings URL']\n",
    "date = filing_links.iloc[-1]['Reporting date']\n",
    "url, date\n",
    "response = requests.get(url, headers=headers)\n",
    "content = parse_and_trim(response.content, 'HTML')\n",
    "master_table = extract_tables(content, date)\n",
    "process_table_ = process_table(master_table, \"\")\n",
    "#process_table_.to_excel(\"example.xlsx\")\n",
    "#process_table_.to_csv('example.csv')\n",
    "process_table_"
   ]
  }
 ],
 "metadata": {
  "kernelspec": {
   "display_name": "base",
   "language": "python",
   "name": "python3"
  },
  "language_info": {
   "codemirror_mode": {
    "name": "ipython",
    "version": 3
   },
   "file_extension": ".py",
   "mimetype": "text/x-python",
   "name": "python",
   "nbconvert_exporter": "python",
   "pygments_lexer": "ipython3",
   "version": "3.10.0"
  },
  "orig_nbformat": 4
 },
 "nbformat": 4,
 "nbformat_minor": 2
}
