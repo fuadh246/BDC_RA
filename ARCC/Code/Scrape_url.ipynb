{
 "cells": [
  {
   "cell_type": "code",
   "execution_count": 19,
   "metadata": {},
   "outputs": [],
   "source": [
    "import os\n",
    "import logging\n",
    "import time\n",
    "import pandas as pd\n",
    "import argparse\n",
    "from bs4 import BeautifulSoup\n",
    "from selenium import webdriver\n",
    "from selenium.webdriver.support.ui import WebDriverWait\n",
    "from selenium.webdriver.common.by import By\n",
    "from selenium.webdriver.support import expected_conditions as EC\n",
    "# from selenium.webdriver.firefox.options import Options\n",
    "from selenium.webdriver.chrome.options import Options"
   ]
  },
  {
   "cell_type": "code",
   "execution_count": 20,
   "metadata": {},
   "outputs": [
    {
     "name": "stdout",
     "output_type": "stream",
     "text": [
      "ChromeDriver executable not found at ../../chromedriver-mac-x64/chromedriver\n"
     ]
    }
   ],
   "source": [
    "import os\n",
    "chrome_driver_path = '../../chromedriver-mac-x64/chromedriver'\n",
    "\n",
    "if not os.path.exists(chrome_driver_path):\n",
    "    print(f\"ChromeDriver executable not found at {chrome_driver_path}\")"
   ]
  },
  {
   "cell_type": "code",
   "execution_count": 21,
   "metadata": {},
   "outputs": [],
   "source": [
    "driver = webdriver.Chrome(ChromeDriverManager().install())\n",
    "url = 'https://www.sec.gov/edgar/browse/?CIK=1287750'\n",
    "driver.get(url)\n",
    "html_content = driver.page_source\n",
    "if not os.path.exists('htmls'):\n",
    "    os.mkdir('htmls')\n",
    "with open(os.path.join('htmls', url.split(\"=\")[-1]+\".html\"), \"w\", encoding='utf-8') as file:\n",
    "    file.write(html_content)\n",
    "dfs = pd.read_html(html_content)\n",
    "\n",
    "if not os.path.exists('csv'):\n",
    "    os.mkdir('csv')\n",
    "for i, df in enumerate(dfs):\n",
    "    df.to_csv(os.path.join('csv', url.split(\"=\")[-1]+f\"_link_table_{i}.csv\"))\n",
    "h5_tags = driver.find_elements_by_tag_name(\"h5\")\n",
    "\n",
    "for h5_tag in h5_tags:\n",
    "    if h5_tag.text == \"[+] 10-K (annual reports) and 10-Q (quarterly reports)\":\n",
    "        # Click on the h5 tag.\n",
    "        h5_tag.click()\n",
    "        break\n",
    "\n",
    "\n",
    "xpath = '//button[text()=\"View all 10-Ks and 10-Qs\"]'\n",
    "element = WebDriverWait(driver, 3).until(\n",
    "    EC.element_to_be_clickable((By.XPATH, xpath)))\n",
    "driver.execute_script(\"arguments[0].click();\", element)\n",
    "\n",
    "conditions = '@data-original-title=\"Open document\" and contains(@href, \"Archive\") and not(contains(@href, \"index\")) and not(contains(@href, \"xml\"))'\n",
    "table = driver.find_elements_by_css_selector('div.dataTables_scroll')\n",
    "links = table[0].find_elements_by_xpath(f'//td//a[{conditions}]')\n",
    "logging.debug(\n",
    "    f\"LINKS - {len([link.get_attribute('innerHTML') for link in links])}\")\n",
    "df = pd.read_html(table[0].get_attribute('innerHTML'))[-1]\n",
    "filing_date = df['Reporting date']\n",
    "\n",
    "logging.debug(f\"DATES - {len(filing_date)}\")\n",
    "\n",
    "with open(os.path.join('urls', url.split(\"=\")[-1]+\".txt\"), 'w') as url_out:\n",
    "    for a, date in zip(links, filing_date):\n",
    "        url_out.write('\\n%s %s' %\n",
    "                      (date.split(\"View\")[0], a.get_attribute('href')))\n",
    "        logging.debug('\\n%s %s' %\n",
    "                      (date.split(\"View\")[0], a.get_attribute('href')))\n",
    "\n",
    "driver.close()"
   ]
  },
  {
   "cell_type": "code",
   "execution_count": null,
   "metadata": {},
   "outputs": [],
   "source": []
  }
 ],
 "metadata": {
  "kernelspec": {
   "display_name": "base",
   "language": "python",
   "name": "python3"
  },
  "language_info": {
   "codemirror_mode": {
    "name": "ipython",
    "version": 3
   },
   "file_extension": ".py",
   "mimetype": "text/x-python",
   "name": "python",
   "nbconvert_exporter": "python",
   "pygments_lexer": "ipython3",
   "version": "3.10.13"
  }
 },
 "nbformat": 4,
 "nbformat_minor": 2
}
