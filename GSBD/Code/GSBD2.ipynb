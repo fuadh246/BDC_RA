{
 "cells": [
  {
   "cell_type": "code",
   "execution_count": 35,
   "metadata": {
    "notebookRunGroups": {
     "groupValue": "12"
    }
   },
   "outputs": [],
   "source": [
    "import pandas as pd\n",
    "import numpy as np\n",
    "import requests\n",
    "import html5lib\n",
    "from bs4 import BeautifulSoup\n",
    "from datetime import datetime\n",
    "from openpyxl import workbook\n",
    "import re\n",
    "import os\n",
    "import webbrowser\n",
    "import unicodedata\n",
    "from Helper_package import Helper\n",
    "from html import unescape\n",
    "import warnings\n",
    "warnings.filterwarnings('ignore')"
   ]
  },
  {
   "cell_type": "code",
   "execution_count": null,
   "metadata": {
    "notebookRunGroups": {
     "groupValue": ""
    }
   },
   "outputs": [],
   "source": [
    "headers = {\n",
    "    'User-Agent': 'Goldman Sachs BDC, Inc. GSBD on NYSE'\n",
    "}\n",
    "CIK = '0001572694'\n",
    "\n",
    "filing_data = Helper.fetch_filing_data(cik=CIK, headers=headers)\n",
    "if filing_data is not None:\n",
    "    # Write DataFrame to Excel file with auto-adjusting column widths\n",
    "    file_name = \"../GSBC_sec_filing_links.xlsx\"\n",
    "    with pd.ExcelWriter(file_name, engine='xlsxwriter') as writer:\n",
    "        filing_data.to_excel(writer, index=False)\n",
    "        worksheet = writer.sheets['Sheet1']\n",
    "        for i, col in enumerate(filing_data.columns):\n",
    "            column_len = max(filing_data[col].astype(\n",
    "                str).str.len().max(), len(col)) + 2\n",
    "            worksheet.set_column(i, i, column_len)\n",
    "\n",
    "    print(f\"Data written to {file_name}\")\n",
    "\n",
    "filing_links = Helper.get_filing_links('../GSBC_sec_filing_links.xlsx')\n",
    "print(\"Filing link recived\")"
   ]
  },
  {
   "cell_type": "code",
   "execution_count": 36,
   "metadata": {
    "notebookRunGroups": {
     "groupValue": "12"
    }
   },
   "outputs": [
    {
     "name": "stdout",
     "output_type": "stream",
     "text": [
      "Filing link recived\n"
     ]
    }
   ],
   "source": [
    "headers = {\n",
    "    'User-Agent': 'Goldman Sachs BDC, Inc. GSBD on NYSE'\n",
    "}\n",
    "filing_links = Helper.get_filing_links('../GSBC_sec_filing_links.xlsx')\n",
    "print(\"Filing link recived\")"
   ]
  },
  {
   "cell_type": "code",
   "execution_count": 37,
   "metadata": {
    "notebookRunGroups": {
     "groupValue": "12"
    }
   },
   "outputs": [
    {
     "name": "stdout",
     "output_type": "stream",
     "text": [
      "Date was converted to '%B %d, %Y' format and back to\n",
      "<class 'pandas.core.series.Series'>\n",
      "RangeIndex: 36 entries, 0 to 35\n",
      "Series name: reportDate\n",
      "Non-Null Count  Dtype \n",
      "--------------  ----- \n",
      "36 non-null     object\n",
      "dtypes: object(1)\n",
      "memory usage: 416.0+ bytes\n"
     ]
    }
   ],
   "source": [
    "filing_links['reportDate'] = pd.to_datetime(\n",
    "    filing_links['reportDate']).dt.strftime(\"%B %d, %Y\")\n",
    "print(\"Date was converted to '%B %d, %Y' format and back to\")\n",
    "filing_links['reportDate'].info()"
   ]
  },
  {
   "cell_type": "code",
   "execution_count": null,
   "metadata": {},
   "outputs": [],
   "source": [
    "filing_links.info()"
   ]
  },
  {
   "cell_type": "code",
   "execution_count": null,
   "metadata": {},
   "outputs": [],
   "source": [
    "def check_links_validity(filing_links):\n",
    "    '''\n",
    "        Checks the validity of each file link in the DataFrame.\n",
    "    '''\n",
    "    valid_links = []\n",
    "    invalid_links = []\n",
    "    for index, row in filing_links.iterrows():\n",
    "        link = row['fileLink']\n",
    "        try:\n",
    "            response = requests.head(link, headers=headers)\n",
    "            response.raise_for_status()\n",
    "            valid_links.append(link)\n",
    "        except Exception as e:\n",
    "            invalid_links.append((link, str(e)))\n",
    "    if invalid_links:\n",
    "        print(\"\\nInvalid Links:\")\n",
    "        for link, error_message in invalid_links:\n",
    "            print(f\"{link}: {error_message}\")\n",
    "\n",
    "    if len(valid_links) == filing_links.shape[0]:\n",
    "        print(\"All Valid Links\")\n",
    "\n",
    "\n",
    "check_links_validity(filing_links)"
   ]
  },
  {
   "cell_type": "code",
   "execution_count": null,
   "metadata": {},
   "outputs": [],
   "source": [
    "consolidated_schedule_regex = re.compile(\n",
    "    r'(?i)^\\s*.*\\s*SCHEDULE(S|)\\s+OF\\s+INVESTMENTS\\s*.*\\s*$')\n",
    "date_regex_pattern = r'([A-Za-z]+\\s+\\d{1,2},\\s+\\d{4})'\n",
    "\n",
    "\n",
    "def extract_tables(content, report_Date) -> pd.DataFrame:\n",
    "    master_table = pd.DataFrame()\n",
    "    print(f\"Extractiong File: {report_Date}\")\n",
    "    for tag in content.findAll(string=consolidated_schedule_regex):\n",
    "        try:\n",
    "            date_matches = re.findall(date_regex_pattern, tag.text)\n",
    "        except Exception as e:\n",
    "            print(f'Could not find date on extract_tables() : {e}')\n",
    "\n",
    "        if date_matches and len(date_matches) == 1:\n",
    "            table_date = date_matches[0]\n",
    "            if table_date is not None and unicodedata.normalize('NFKD', table_date) == unicodedata.normalize('NFKD', report_Date):\n",
    "                html_table = tag.find_next('table')\n",
    "                new_table = pd.read_html(\n",
    "                    html_table.prettify(), na_values=\"No value\")[0]\n",
    "                # new_table = new_table.applymap(lambda x: unicodedata.normalize(\n",
    "                #     'NFKD', x.strip().strip(u'\\u200b').replace('—', '0').replace('%', '').replace('(', '').replace(')', '')) if type(x) == str else x)\n",
    "                new_table.replace('(', '-').replace(')', None)\n",
    "                new_table = new_table.dropna(how='all', axis=0)\n",
    "\n",
    "                if master_table is None:\n",
    "                    master_table = new_table\n",
    "                else:\n",
    "                    master_table = pd.concat(\n",
    "                        [master_table, new_table], ignore_index=True)\n",
    "\n",
    "    return master_table"
   ]
  },
  {
   "cell_type": "code",
   "execution_count": null,
   "metadata": {},
   "outputs": [],
   "source": [
    "path = '/Users/fuadhassan/Desktop/BDC_RA/GSBD/New_Master_tables_GSBD_Investment.xlsx'\n",
    "writer = pd.ExcelWriter(path, engine='openpyxl')\n",
    "for index, (url, reporting_date) in enumerate(zip(filing_links['fileLink'], filing_links['reportDate'])):\n",
    "    try:\n",
    "        content = Helper.get_content(\n",
    "            Helper.get_response(url=url, headers=headers))\n",
    "    except Exception as e:\n",
    "        print(f'failed to get the content: {e}')\n",
    "\n",
    "    master_table = extract_tables(content, reporting_date)\n",
    "    master_table.to_csv(\n",
    "        '../MT_csv_files_2/'+reporting_date.replace(',', '')+'.csv')\n",
    "    master_table.to_excel(\n",
    "        writer, sheet_name=reporting_date.replace(',', ''), index=False)\n",
    "    writer.book .save(path)\n",
    "writer.close()"
   ]
  },
  {
   "cell_type": "code",
   "execution_count": null,
   "metadata": {
    "notebookRunGroups": {
     "groupValue": "1"
    }
   },
   "outputs": [],
   "source": [
    "test_file = filing_links.iloc[1]\n",
    "print(test_file)\n",
    "content = Helper.get_response(\n",
    "    url=test_file['fileLink'], headers=headers)"
   ]
  },
  {
   "cell_type": "code",
   "execution_count": null,
   "metadata": {},
   "outputs": [],
   "source": [
    "test_file['fileLink']"
   ]
  },
  {
   "cell_type": "code",
   "execution_count": null,
   "metadata": {
    "notebookRunGroups": {
     "groupValue": "1"
    }
   },
   "outputs": [],
   "source": [
    "str(Helper.parse_and_trim(content.content).find_all('table'))"
   ]
  },
  {
   "cell_type": "code",
   "execution_count": 57,
   "metadata": {
    "notebookRunGroups": {
     "groupValue": "1"
    }
   },
   "outputs": [
    {
     "name": "stdout",
     "output_type": "stream",
     "text": [
      "Output written to output.txt\n"
     ]
    }
   ],
   "source": [
    "parsed_content = Helper.parse_and_trim(content.content)\n",
    "\n",
    "# Find all tables\n",
    "tables = parsed_content.find_all('table')\n",
    "\n",
    "# Convert tables to string representation\n",
    "tables_str = str(tables[8])\n",
    "\n",
    "# Specify the file path where you want to write the output\n",
    "file_path = \"output.txt\"\n",
    "# Write the string representation of tables to the file\n",
    "with open(file_path, \"w\") as file:\n",
    "    file.write(tables_str)\n",
    "\n",
    "print(\"Output written to\", file_path)"
   ]
  },
  {
   "cell_type": "code",
   "execution_count": 50,
   "metadata": {
    "notebookRunGroups": {
     "groupValue": "1"
    }
   },
   "outputs": [],
   "source": [
    "tables = Helper.parse_and_trim(content.content).find_all('table')\n",
    "table = tables[5]"
   ]
  },
  {
   "cell_type": "code",
   "execution_count": null,
   "metadata": {},
   "outputs": [],
   "source": []
  },
  {
   "cell_type": "code",
   "execution_count": 51,
   "metadata": {
    "notebookRunGroups": {
     "groupValue": "1"
    }
   },
   "outputs": [
    {
     "data": {
      "text/plain": [
       "'<table>\\n <tr>\\n  <td>\\n   <p>\\n    <span>\\n    </span>\\n   </p>\\n  </td>\\n  <td>\\n   <p>\\n    <span>\\n    </span>\\n   </p>\\n  </td>\\n  <td>\\n   <p>\\n    <span>\\n     For the Three Months Ended\\n    </span>\\n   </p>\\n  </td>\\n  <td>\\n   <p>\\n    <span>\\n    </span>\\n   </p>\\n  </td>\\n  <td>\\n   <p>\\n    <span>\\n    </span>\\n   </p>\\n  </td>\\n  <td>\\n   <p>\\n    <span>\\n     For the Nine Months Ended\\n    </span>\\n   </p>\\n  </td>\\n  <td>\\n   <p>\\n    <span>\\n    </span>\\n   </p>\\n  </td>\\n </tr>\\n <tr>\\n  <td>\\n   <p>\\n    <span>\\n    </span>\\n   </p>\\n  </td>\\n  <td>\\n   <p>\\n    <span>\\n    </span>\\n   </p>\\n  </td>\\n  <td>\\n   <p>\\n    <span>\\n     September 30,\\n     2023\\n    </span>\\n   </p>\\n  </td>\\n  <td>\\n   <p>\\n    <span>\\n    </span>\\n   </p>\\n  </td>\\n  <td>\\n   <p>\\n    <span>\\n    </span>\\n   </p>\\n  </td>\\n  <td>\\n   <p>\\n    <span>\\n     September 30,\\n     2022\\n    </span>\\n   </p>\\n  </td>\\n  <td>\\n   <p>\\n    <span>\\n    </span>\\n   </p>\\n  </td>\\n  <td>\\n   <p>\\n    <span>\\n    </span>\\n   </p>\\n  </td>\\n  <td>\\n   <p>\\n    <span>\\n     September 30,\\n     2023\\n    </span>\\n   </p>\\n  </td>\\n  <td>\\n   <p>\\n    <span>\\n    </span>\\n   </p>\\n  </td>\\n  <td>\\n   <p>\\n    <span>\\n    </span>\\n   </p>\\n  </td>\\n  <td>\\n   <p>\\n    <span>\\n     September 30,\\n     2022\\n    </span>\\n   </p>\\n  </td>\\n  <td>\\n   <p>\\n    <span>\\n    </span>\\n   </p>\\n  </td>\\n </tr>\\n <tr>\\n  <td>\\n   <p>\\n    <span>\\n     Investment income:\\n    </span>\\n   </p>\\n  </td>\\n  <td>\\n   <p>\\n    <span>\\n    </span>\\n   </p>\\n  </td>\\n  <td>\\n   <p>\\n    <span>\\n    </span>\\n   </p>\\n  </td>\\n  <td>\\n   <p>\\n    <span>\\n    </span>\\n   </p>\\n  </td>\\n  <td>\\n   <p>\\n    <span>\\n    </span>\\n   </p>\\n  </td>\\n  <td>\\n   <p>\\n    <span>\\n    </span>\\n   </p>\\n  </td>\\n  <td>\\n   <p>\\n    <span>\\n    </span>\\n   </p>\\n  </td>\\n  <td>\\n   <p>\\n    <span>\\n    </span>\\n   </p>\\n  </td>\\n  <td>\\n   <p>\\n    <span>\\n    </span>\\n   </p>\\n  </td>\\n  <td>\\n   <p>\\n    <span>\\n    </span>\\n   </p>\\n  </td>\\n  <td>\\n   <p>\\n    <span>\\n    </span>\\n   </p>\\n  </td>\\n  <td>\\n   <p>\\n    <span>\\n    </span>\\n   </p>\\n  </td>\\n  <td>\\n   <p>\\n    <span>\\n    </span>\\n   </p>\\n  </td>\\n </tr>\\n <tr>\\n  <td>\\n   <p>\\n    <span>\\n     From non-controlled/non-affiliated investments:\\n    </span>\\n   </p>\\n  </td>\\n  <td>\\n   <p>\\n    <span>\\n    </span>\\n   </p>\\n  </td>\\n  <td>\\n   <p>\\n    <span>\\n    </span>\\n   </p>\\n  </td>\\n  <td>\\n   <p>\\n    <span>\\n    </span>\\n   </p>\\n  </td>\\n  <td>\\n   <p>\\n    <span>\\n    </span>\\n   </p>\\n  </td>\\n  <td>\\n   <p>\\n    <span>\\n    </span>\\n   </p>\\n  </td>\\n  <td>\\n   <p>\\n    <span>\\n    </span>\\n   </p>\\n  </td>\\n  <td>\\n   <p>\\n    <span>\\n    </span>\\n   </p>\\n  </td>\\n  <td>\\n   <p>\\n    <span>\\n    </span>\\n   </p>\\n  </td>\\n  <td>\\n   <p>\\n    <span>\\n    </span>\\n   </p>\\n  </td>\\n  <td>\\n   <p>\\n    <span>\\n    </span>\\n   </p>\\n  </td>\\n  <td>\\n   <p>\\n    <span>\\n    </span>\\n   </p>\\n  </td>\\n  <td>\\n   <p>\\n    <span>\\n    </span>\\n   </p>\\n  </td>\\n </tr>\\n <tr>\\n  <td>\\n   <p>\\n    <span>\\n     Interest income\\n    </span>\\n   </p>\\n  </td>\\n  <td>\\n   <p>\\n    <span>\\n    </span>\\n   </p>\\n  </td>\\n  <td>\\n   <p>\\n    <span>\\n     $\\n    </span>\\n   </p>\\n  </td>\\n  <td>\\n   <p>\\n    <span>\\n     <ix:nonfraction>\\n      109,117\\n     </ix:nonfraction>\\n    </span>\\n   </p>\\n  </td>\\n  <td>\\n   <p>\\n    <span>\\n    </span>\\n   </p>\\n  </td>\\n  <td>\\n   <p>\\n    <span>\\n    </span>\\n   </p>\\n  </td>\\n  <td>\\n   <p>\\n    <span>\\n     $\\n    </span>\\n   </p>\\n  </td>\\n  <td>\\n   <p>\\n    <span>\\n     <ix:nonfraction>\\n      88,326\\n     </ix:nonfraction>\\n    </span>\\n   </p>\\n  </td>\\n  <td>\\n   <p>\\n    <span>\\n    </span>\\n   </p>\\n  </td>\\n  <td>\\n   <p>\\n    <span>\\n    </span>\\n   </p>\\n  </td>\\n  <td>\\n   <p>\\n    <span>\\n     $\\n    </span>\\n   </p>\\n  </td>\\n  <td>\\n   <p>\\n    <span>\\n     <ix:nonfraction>\\n      309,199\\n     </ix:nonfraction>\\n    </span>\\n   </p>\\n  </td>\\n  <td>\\n   <p>\\n    <span>\\n    </span>\\n   </p>\\n  </td>\\n  <td>\\n   <p>\\n    <span>\\n    </span>\\n   </p>\\n  </td>\\n  <td>\\n   <p>\\n    <span>\\n     $\\n    </span>\\n   </p>\\n  </td>\\n  <td>\\n   <p>\\n    <span>\\n     <ix:nonfraction>\\n      231,605\\n     </ix:nonfraction>\\n    </span>\\n   </p>\\n  </td>\\n  <td>\\n   <p>\\n    <span>\\n    </span>\\n   </p>\\n  </td>\\n </tr>\\n <tr>\\n  <td>\\n   <p>\\n    <span>\\n     Payment-in-kind income\\n    </span>\\n   </p>\\n  </td>\\n  <td>\\n   <p>\\n    <span>\\n    </span>\\n   </p>\\n  </td>\\n  <td>\\n   <p>\\n    <span>\\n    </span>\\n   </p>\\n  </td>\\n  <td>\\n   <p>\\n    <span>\\n     <ix:nonfraction>\\n      9,221\\n     </ix:nonfraction>\\n    </span>\\n   </p>\\n  </td>\\n  <td>\\n   <p>\\n    <span>\\n    </span>\\n   </p>\\n  </td>\\n  <td>\\n   <p>\\n    <span>\\n    </span>\\n   </p>\\n  </td>\\n  <td>\\n   <p>\\n    <span>\\n    </span>\\n   </p>\\n  </td>\\n  <td>\\n   <p>\\n    <span>\\n     <ix:nonfraction>\\n      5,154\\n     </ix:nonfraction>\\n    </span>\\n   </p>\\n  </td>\\n  <td>\\n   <p>\\n    <span>\\n    </span>\\n   </p>\\n  </td>\\n  <td>\\n   <p>\\n    <span>\\n    </span>\\n   </p>\\n  </td>\\n  <td>\\n   <p>\\n    <span>\\n    </span>\\n   </p>\\n  </td>\\n  <td>\\n   <p>\\n    <span>\\n     <ix:nonfraction>\\n      25,673\\n     </ix:nonfraction>\\n    </span>\\n   </p>\\n  </td>\\n  <td>\\n   <p>\\n    <span>\\n    </span>\\n   </p>\\n  </td>\\n  <td>\\n   <p>\\n    <span>\\n    </span>\\n   </p>\\n  </td>\\n  <td>\\n   <p>\\n    <span>\\n    </span>\\n   </p>\\n  </td>\\n  <td>\\n   <p>\\n    <span>\\n     <ix:nonfraction>\\n      14,266\\n     </ix:nonfraction>\\n    </span>\\n   </p>\\n  </td>\\n  <td>\\n   <p>\\n    <span>\\n    </span>\\n   </p>\\n  </td>\\n </tr>\\n <tr>\\n  <td>\\n   <p>\\n    <span>\\n     Other income\\n    </span>\\n   </p>\\n  </td>\\n  <td>\\n   <p>\\n    <span>\\n    </span>\\n   </p>\\n  </td>\\n  <td>\\n   <p>\\n    <span>\\n    </span>\\n   </p>\\n  </td>\\n  <td>\\n   <p>\\n    <span>\\n     <ix:nonfraction>\\n      809\\n     </ix:nonfraction>\\n    </span>\\n   </p>\\n  </td>\\n  <td>\\n   <p>\\n    <span>\\n    </span>\\n   </p>\\n  </td>\\n  <td>\\n   <p>\\n    <span>\\n    </span>\\n   </p>\\n  </td>\\n  <td>\\n   <p>\\n    <span>\\n    </span>\\n   </p>\\n  </td>\\n  <td>\\n   <p>\\n    <span>\\n     <ix:nonfraction>\\n      1,384\\n     </ix:nonfraction>\\n    </span>\\n   </p>\\n  </td>\\n  <td>\\n   <p>\\n    <span>\\n    </span>\\n   </p>\\n  </td>\\n  <td>\\n   <p>\\n    <span>\\n    </span>\\n   </p>\\n  </td>\\n  <td>\\n   <p>\\n    <span>\\n    </span>\\n   </p>\\n  </td>\\n  <td>\\n   <p>\\n    <span>\\n     <ix:nonfraction>\\n      2,355\\n     </ix:nonfraction>\\n    </span>\\n   </p>\\n  </td>\\n  <td>\\n   <p>\\n    <span>\\n    </span>\\n   </p>\\n  </td>\\n  <td>\\n   <p>\\n    <span>\\n    </span>\\n   </p>\\n  </td>\\n  <td>\\n   <p>\\n    <span>\\n    </span>\\n   </p>\\n  </td>\\n  <td>\\n   <p>\\n    <span>\\n     <ix:nonfraction>\\n      3,550\\n     </ix:nonfraction>\\n    </span>\\n   </p>\\n  </td>\\n  <td>\\n   <p>\\n    <span>\\n    </span>\\n   </p>\\n  </td>\\n </tr>\\n <tr>\\n  <td>\\n   <p>\\n    <span>\\n     From non-controlled affiliated investments:\\n    </span>\\n   </p>\\n  </td>\\n  <td>\\n   <p>\\n    <span>\\n    </span>\\n   </p>\\n  </td>\\n  <td>\\n   <p>\\n    <span>\\n    </span>\\n   </p>\\n  </td>\\n  <td>\\n   <p>\\n    <span>\\n    </span>\\n   </p>\\n  </td>\\n  <td>\\n   <p>\\n    <span>\\n    </span>\\n   </p>\\n  </td>\\n  <td>\\n   <p>\\n    <span>\\n    </span>\\n   </p>\\n  </td>\\n  <td>\\n   <p>\\n    <span>\\n    </span>\\n   </p>\\n  </td>\\n  <td>\\n   <p>\\n    <span>\\n    </span>\\n   </p>\\n  </td>\\n  <td>\\n   <p>\\n    <span>\\n    </span>\\n   </p>\\n  </td>\\n  <td>\\n   <p>\\n    <span>\\n    </span>\\n   </p>\\n  </td>\\n  <td>\\n   <p>\\n    <span>\\n    </span>\\n   </p>\\n  </td>\\n  <td>\\n   <p>\\n    <span>\\n    </span>\\n   </p>\\n  </td>\\n  <td>\\n   <p>\\n    <span>\\n    </span>\\n   </p>\\n  </td>\\n </tr>\\n <tr>\\n  <td>\\n   <p>\\n    <span>\\n     Dividend income\\n    </span>\\n   </p>\\n  </td>\\n  <td>\\n   <p>\\n    <span>\\n    </span>\\n   </p>\\n  </td>\\n  <td>\\n   <p>\\n    <span>\\n    </span>\\n   </p>\\n  </td>\\n  <td>\\n   <p>\\n    <span>\\n     <ix:nonfraction>\\n      256\\n     </ix:nonfraction>\\n    </span>\\n   </p>\\n  </td>\\n  <td>\\n   <p>\\n    <span>\\n    </span>\\n   </p>\\n  </td>\\n  <td>\\n   <p>\\n    <span>\\n    </span>\\n   </p>\\n  </td>\\n  <td>\\n   <p>\\n    <span>\\n    </span>\\n   </p>\\n  </td>\\n  <td>\\n   <p>\\n    <span>\\n     <ix:nonfraction>\\n      133\\n     </ix:nonfraction>\\n    </span>\\n   </p>\\n  </td>\\n  <td>\\n   <p>\\n    <span>\\n    </span>\\n   </p>\\n  </td>\\n  <td>\\n   <p>\\n    <span>\\n    </span>\\n   </p>\\n  </td>\\n  <td>\\n   <p>\\n    <span>\\n    </span>\\n   </p>\\n  </td>\\n  <td>\\n   <p>\\n    <span>\\n     <ix:nonfraction>\\n      501\\n     </ix:nonfraction>\\n    </span>\\n   </p>\\n  </td>\\n  <td>\\n   <p>\\n    <span>\\n    </span>\\n   </p>\\n  </td>\\n  <td>\\n   <p>\\n    <span>\\n    </span>\\n   </p>\\n  </td>\\n  <td>\\n   <p>\\n    <span>\\n    </span>\\n   </p>\\n  </td>\\n  <td>\\n   <p>\\n    <span>\\n     <ix:nonfraction>\\n      258\\n     </ix:nonfraction>\\n    </span>\\n   </p>\\n  </td>\\n  <td>\\n   <p>\\n    <span>\\n    </span>\\n   </p>\\n  </td>\\n </tr>\\n <tr>\\n  <td>\\n   <p>\\n    <span>\\n     Interest income\\n    </span>\\n   </p>\\n  </td>\\n  <td>\\n   <p>\\n    <span>\\n    </span>\\n   </p>\\n  </td>\\n  <td>\\n   <p>\\n    <span>\\n    </span>\\n   </p>\\n  </td>\\n  <td>\\n   <p>\\n    <span>\\n     <ix:nonfraction>\\n      590\\n     </ix:nonfraction>\\n    </span>\\n   </p>\\n  </td>\\n  <td>\\n   <p>\\n    <span>\\n    </span>\\n   </p>\\n  </td>\\n  <td>\\n   <p>\\n    <span>\\n    </span>\\n   </p>\\n  </td>\\n  <td>\\n   <p>\\n    <span>\\n    </span>\\n   </p>\\n  </td>\\n  <td>\\n   <p>\\n    <span>\\n     <ix:nonfraction>\\n      120\\n     </ix:nonfraction>\\n    </span>\\n   </p>\\n  </td>\\n  <td>\\n   <p>\\n    <span>\\n    </span>\\n   </p>\\n  </td>\\n  <td>\\n   <p>\\n    <span>\\n    </span>\\n   </p>\\n  </td>\\n  <td>\\n   <p>\\n    <span>\\n    </span>\\n   </p>\\n  </td>\\n  <td>\\n   <p>\\n    <span>\\n     <ix:nonfraction>\\n      1,629\\n     </ix:nonfraction>\\n    </span>\\n   </p>\\n  </td>\\n  <td>\\n   <p>\\n    <span>\\n    </span>\\n   </p>\\n  </td>\\n  <td>\\n   <p>\\n    <span>\\n    </span>\\n   </p>\\n  </td>\\n  <td>\\n   <p>\\n    <span>\\n    </span>\\n   </p>\\n  </td>\\n  <td>\\n   <p>\\n    <span>\\n     <ix:nonfraction>\\n      469\\n     </ix:nonfraction>\\n    </span>\\n   </p>\\n  </td>\\n  <td>\\n   <p>\\n    <span>\\n    </span>\\n   </p>\\n  </td>\\n </tr>\\n <tr>\\n  <td>\\n   <p>\\n    <span>\\n     Payment-in-kind income\\n    </span>\\n   </p>\\n  </td>\\n  <td>\\n   <p>\\n    <span>\\n    </span>\\n   </p>\\n  </td>\\n  <td>\\n   <p>\\n    <span>\\n    </span>\\n   </p>\\n  </td>\\n  <td>\\n   <p>\\n    <span>\\n     <ix:nonfraction>\\n      53\\n     </ix:nonfraction>\\n    </span>\\n   </p>\\n  </td>\\n  <td>\\n   <p>\\n    <span>\\n    </span>\\n   </p>\\n  </td>\\n  <td>\\n   <p>\\n    <span>\\n    </span>\\n   </p>\\n  </td>\\n  <td>\\n   <p>\\n    <span>\\n    </span>\\n   </p>\\n  </td>\\n  <td>\\n   <p>\\n    <span>\\n     <ix:nonfraction>\\n      101\\n     </ix:nonfraction>\\n    </span>\\n   </p>\\n  </td>\\n  <td>\\n   <p>\\n    <span>\\n    </span>\\n   </p>\\n  </td>\\n  <td>\\n   <p>\\n    <span>\\n    </span>\\n   </p>\\n  </td>\\n  <td>\\n   <p>\\n    <span>\\n    </span>\\n   </p>\\n  </td>\\n  <td>\\n   <p>\\n    <span>\\n     <ix:nonfraction>\\n      153\\n     </ix:nonfraction>\\n    </span>\\n   </p>\\n  </td>\\n  <td>\\n   <p>\\n    <span>\\n    </span>\\n   </p>\\n  </td>\\n  <td>\\n   <p>\\n    <span>\\n    </span>\\n   </p>\\n  </td>\\n  <td>\\n   <p>\\n    <span>\\n    </span>\\n   </p>\\n  </td>\\n  <td>\\n   <p>\\n    <span>\\n     <ix:nonfraction>\\n      553\\n     </ix:nonfraction>\\n    </span>\\n   </p>\\n  </td>\\n  <td>\\n   <p>\\n    <span>\\n    </span>\\n   </p>\\n  </td>\\n </tr>\\n <tr>\\n  <td>\\n   <p>\\n    <span>\\n     Other income\\n    </span>\\n   </p>\\n  </td>\\n  <td>\\n   <p>\\n    <span>\\n    </span>\\n   </p>\\n  </td>\\n  <td>\\n   <p>\\n    <span>\\n    </span>\\n   </p>\\n  </td>\\n  <td>\\n   <p>\\n    <span>\\n     <ix:nonfraction>\\n      10\\n     </ix:nonfraction>\\n    </span>\\n   </p>\\n  </td>\\n  <td>\\n   <p>\\n    <span>\\n    </span>\\n   </p>\\n  </td>\\n  <td>\\n   <p>\\n    <span>\\n    </span>\\n   </p>\\n  </td>\\n  <td>\\n   <p>\\n    <span>\\n    </span>\\n   </p>\\n  </td>\\n  <td>\\n   <p>\\n    <span>\\n     —\\n    </span>\\n   </p>\\n  </td>\\n  <td>\\n   <p>\\n    <span>\\n    </span>\\n   </p>\\n  </td>\\n  <td>\\n   <p>\\n    <span>\\n    </span>\\n   </p>\\n  </td>\\n  <td>\\n   <p>\\n    <span>\\n    </span>\\n   </p>\\n  </td>\\n  <td>\\n   <p>\\n    <span>\\n     <ix:nonfraction>\\n      33\\n     </ix:nonfraction>\\n    </span>\\n   </p>\\n  </td>\\n  <td>\\n   <p>\\n    <span>\\n    </span>\\n   </p>\\n  </td>\\n  <td>\\n   <p>\\n    <span>\\n    </span>\\n   </p>\\n  </td>\\n  <td>\\n   <p>\\n    <span>\\n    </span>\\n   </p>\\n  </td>\\n  <td>\\n   <p>\\n    <span>\\n     —\\n    </span>\\n   </p>\\n  </td>\\n  <td>\\n   <p>\\n    <span>\\n    </span>\\n   </p>\\n  </td>\\n </tr>\\n <tr>\\n  <td>\\n   <p>\\n    <span>\\n     From controlled affiliated investments:\\n    </span>\\n   </p>\\n  </td>\\n  <td>\\n   <p>\\n    <span>\\n    </span>\\n   </p>\\n  </td>\\n  <td>\\n   <p>\\n    <span>\\n    </span>\\n   </p>\\n  </td>\\n  <td>\\n   <p>\\n    <span>\\n    </span>\\n   </p>\\n  </td>\\n  <td>\\n   <p>\\n    <span>\\n    </span>\\n   </p>\\n  </td>\\n  <td>\\n   <p>\\n    <span>\\n    </span>\\n   </p>\\n  </td>\\n  <td>\\n   <p>\\n    <span>\\n    </span>\\n   </p>\\n  </td>\\n  <td>\\n   <p>\\n    <span>\\n    </span>\\n   </p>\\n  </td>\\n  <td>\\n   <p>\\n    <span>\\n    </span>\\n   </p>\\n  </td>\\n  <td>\\n   <p>\\n    <span>\\n    </span>\\n   </p>\\n  </td>\\n  <td>\\n   <p>\\n    <span>\\n    </span>\\n   </p>\\n  </td>\\n  <td>\\n   <p>\\n    <span>\\n    </span>\\n   </p>\\n  </td>\\n  <td>\\n   <p>\\n    <span>\\n    </span>\\n   </p>\\n  </td>\\n </tr>\\n <tr>\\n  <td>\\n   <p>\\n    <span>\\n     Payment-in-kind income\\n    </span>\\n   </p>\\n  </td>\\n  <td>\\n   <p>\\n    <span>\\n    </span>\\n   </p>\\n  </td>\\n  <td>\\n   <p>\\n    <span>\\n    </span>\\n   </p>\\n  </td>\\n  <td>\\n   <p>\\n    <span>\\n     —\\n    </span>\\n   </p>\\n  </td>\\n  <td>\\n   <p>\\n    <span>\\n    </span>\\n   </p>\\n  </td>\\n  <td>\\n   <p>\\n    <span>\\n    </span>\\n   </p>\\n  </td>\\n  <td>\\n   <p>\\n    <span>\\n    </span>\\n   </p>\\n  </td>\\n  <td>\\n   <p>\\n    <span>\\n     —\\n    </span>\\n   </p>\\n  </td>\\n  <td>\\n   <p>\\n    <span>\\n    </span>\\n   </p>\\n  </td>\\n  <td>\\n   <p>\\n    <span>\\n    </span>\\n   </p>\\n  </td>\\n  <td>\\n   <p>\\n    <span>\\n    </span>\\n   </p>\\n  </td>\\n  <td>\\n   <p>\\n    <span>\\n     —\\n    </span>\\n   </p>\\n  </td>\\n  <td>\\n   <p>\\n    <span>\\n    </span>\\n   </p>\\n  </td>\\n  <td>\\n   <p>\\n    <span>\\n    </span>\\n   </p>\\n  </td>\\n  <td>\\n   <p>\\n    <span>\\n    </span>\\n   </p>\\n  </td>\\n  <td>\\n   <p>\\n    <span>\\n     <ix:nonfraction>\\n      259\\n     </ix:nonfraction>\\n    </span>\\n   </p>\\n  </td>\\n  <td>\\n   <p>\\n    <span>\\n    </span>\\n   </p>\\n  </td>\\n </tr>\\n <tr>\\n  <td>\\n   <p>\\n    <span>\\n     Interest income\\n    </span>\\n   </p>\\n  </td>\\n  <td>\\n   <p>\\n    <span>\\n    </span>\\n   </p>\\n  </td>\\n  <td>\\n   <p>\\n    <span>\\n    </span>\\n   </p>\\n  </td>\\n  <td>\\n   <p>\\n    <span>\\n     —\\n    </span>\\n   </p>\\n  </td>\\n  <td>\\n   <p>\\n    <span>\\n    </span>\\n   </p>\\n  </td>\\n  <td>\\n   <p>\\n    <span>\\n    </span>\\n   </p>\\n  </td>\\n  <td>\\n   <p>\\n    <span>\\n    </span>\\n   </p>\\n  </td>\\n  <td>\\n   <p>\\n    <span>\\n     —\\n    </span>\\n   </p>\\n  </td>\\n  <td>\\n   <p>\\n    <span>\\n    </span>\\n   </p>\\n  </td>\\n  <td>\\n   <p>\\n    <span>\\n    </span>\\n   </p>\\n  </td>\\n  <td>\\n   <p>\\n    <span>\\n    </span>\\n   </p>\\n  </td>\\n  <td>\\n   <p>\\n    <span>\\n     —\\n    </span>\\n   </p>\\n  </td>\\n  <td>\\n   <p>\\n    <span>\\n    </span>\\n   </p>\\n  </td>\\n  <td>\\n   <p>\\n    <span>\\n    </span>\\n   </p>\\n  </td>\\n  <td>\\n   <p>\\n    <span>\\n    </span>\\n   </p>\\n  </td>\\n  <td>\\n   <p>\\n    <span>\\n     <ix:nonfraction>\\n      16\\n     </ix:nonfraction>\\n    </span>\\n   </p>\\n  </td>\\n  <td>\\n   <p>\\n    <span>\\n    </span>\\n   </p>\\n  </td>\\n </tr>\\n <tr>\\n  <td>\\n   <p>\\n    <span>\\n     Total investment income\\n    </span>\\n   </p>\\n  </td>\\n  <td>\\n   <p>\\n    <span>\\n    </span>\\n   </p>\\n  </td>\\n  <td>\\n   <p>\\n    <span>\\n     $\\n    </span>\\n   </p>\\n  </td>\\n  <td>\\n   <p>\\n    <span>\\n     <ix:nonfraction>\\n      120,056\\n     </ix:nonfraction>\\n    </span>\\n   </p>\\n  </td>\\n  <td>\\n   <p>\\n    <span>\\n    </span>\\n   </p>\\n  </td>\\n  <td>\\n   <p>\\n    <span>\\n    </span>\\n   </p>\\n  </td>\\n  <td>\\n   <p>\\n    <span>\\n     $\\n    </span>\\n   </p>\\n  </td>\\n  <td>\\n   <p>\\n    <span>\\n     <ix:nonfraction>\\n      95,218\\n     </ix:nonfraction>\\n    </span>\\n   </p>\\n  </td>\\n  <td>\\n   <p>\\n    <span>\\n    </span>\\n   </p>\\n  </td>\\n  <td>\\n   <p>\\n    <span>\\n    </span>\\n   </p>\\n  </td>\\n  <td>\\n   <p>\\n    <span>\\n     $\\n    </span>\\n   </p>\\n  </td>\\n  <td>\\n   <p>\\n    <span>\\n     <ix:nonfraction>\\n      339,543\\n     </ix:nonfraction>\\n    </span>\\n   </p>\\n  </td>\\n  <td>\\n   <p>\\n    <span>\\n    </span>\\n   </p>\\n  </td>\\n  <td>\\n   <p>\\n    <span>\\n    </span>\\n   </p>\\n  </td>\\n  <td>\\n   <p>\\n    <span>\\n     $\\n    </span>\\n   </p>\\n  </td>\\n  <td>\\n   <p>\\n    <span>\\n     <ix:nonfraction>\\n      250,976\\n     </ix:nonfraction>\\n    </span>\\n   </p>\\n  </td>\\n  <td>\\n   <p>\\n    <span>\\n    </span>\\n   </p>\\n  </td>\\n </tr>\\n <tr>\\n  <td>\\n   <p>\\n    <span>\\n     Expenses:\\n    </span>\\n   </p>\\n  </td>\\n  <td>\\n   <p>\\n    <span>\\n    </span>\\n   </p>\\n  </td>\\n  <td>\\n   <p>\\n    <span>\\n    </span>\\n   </p>\\n  </td>\\n  <td>\\n   <p>\\n    <span>\\n    </span>\\n   </p>\\n  </td>\\n  <td>\\n   <p>\\n    <span>\\n    </span>\\n   </p>\\n  </td>\\n  <td>\\n   <p>\\n    <span>\\n    </span>\\n   </p>\\n  </td>\\n  <td>\\n   <p>\\n    <span>\\n    </span>\\n   </p>\\n  </td>\\n  <td>\\n   <p>\\n    <span>\\n    </span>\\n   </p>\\n  </td>\\n  <td>\\n   <p>\\n    <span>\\n    </span>\\n   </p>\\n  </td>\\n  <td>\\n   <p>\\n    <span>\\n    </span>\\n   </p>\\n  </td>\\n  <td>\\n   <p>\\n    <span>\\n    </span>\\n   </p>\\n  </td>\\n  <td>\\n   <p>\\n    <span>\\n    </span>\\n   </p>\\n  </td>\\n  <td>\\n   <p>\\n    <span>\\n    </span>\\n   </p>\\n  </td>\\n </tr>\\n <tr>\\n  <td>\\n   <p>\\n    <span>\\n     Interest and other debt expenses\\n    </span>\\n   </p>\\n  </td>\\n  <td>\\n   <p>\\n    <span>\\n    </span>\\n   </p>\\n  </td>\\n  <td>\\n   <p>\\n    <span>\\n     $\\n    </span>\\n   </p>\\n  </td>\\n  <td>\\n   <p>\\n    <span>\\n     <ix:nonfraction>\\n      28,174\\n     </ix:nonfraction>\\n    </span>\\n   </p>\\n  </td>\\n  <td>\\n   <p>\\n    <span>\\n    </span>\\n   </p>\\n  </td>\\n  <td>\\n   <p>\\n    <span>\\n    </span>\\n   </p>\\n  </td>\\n  <td>\\n   <p>\\n    <span>\\n     $\\n    </span>\\n   </p>\\n  </td>\\n  <td>\\n   <p>\\n    <span>\\n     <ix:nonfraction>\\n      21,979\\n     </ix:nonfraction>\\n    </span>\\n   </p>\\n  </td>\\n  <td>\\n   <p>\\n    <span>\\n    </span>\\n   </p>\\n  </td>\\n  <td>\\n   <p>\\n    <span>\\n    </span>\\n   </p>\\n  </td>\\n  <td>\\n   <p>\\n    <span>\\n     $\\n    </span>\\n   </p>\\n  </td>\\n  <td>\\n   <p>\\n    <span>\\n     <ix:nonfraction>\\n      83,213\\n     </ix:nonfraction>\\n    </span>\\n   </p>\\n  </td>\\n  <td>\\n   <p>\\n    <span>\\n    </span>\\n   </p>\\n  </td>\\n  <td>\\n   <p>\\n    <span>\\n    </span>\\n   </p>\\n  </td>\\n  <td>\\n   <p>\\n    <span>\\n     $\\n    </span>\\n   </p>\\n  </td>\\n  <td>\\n   <p>\\n    <span>\\n     <ix:nonfraction>\\n      53,823\\n     </ix:nonfraction>\\n    </span>\\n   </p>\\n  </td>\\n  <td>\\n   <p>\\n    <span>\\n    </span>\\n   </p>\\n  </td>\\n </tr>\\n <tr>\\n  <td>\\n   <p>\\n    <span>\\n     Incentive fees\\n    </span>\\n   </p>\\n  </td>\\n  <td>\\n   <p>\\n    <span>\\n    </span>\\n   </p>\\n  </td>\\n  <td>\\n   <p>\\n    <span>\\n    </span>\\n   </p>\\n  </td>\\n  <td>\\n   <p>\\n    <span>\\n     <ix:nonfraction>\\n      6,237\\n     </ix:nonfraction>\\n    </span>\\n   </p>\\n  </td>\\n  <td>\\n   <p>\\n    <span>\\n    </span>\\n   </p>\\n  </td>\\n  <td>\\n   <p>\\n    <span>\\n    </span>\\n   </p>\\n  </td>\\n  <td>\\n   <p>\\n    <span>\\n    </span>\\n   </p>\\n  </td>\\n  <td>\\n   <p>\\n    <span>\\n     —\\n    </span>\\n   </p>\\n  </td>\\n  <td>\\n   <p>\\n    <span>\\n    </span>\\n   </p>\\n  </td>\\n  <td>\\n   <p>\\n    <span>\\n    </span>\\n   </p>\\n  </td>\\n  <td>\\n   <p>\\n    <span>\\n    </span>\\n   </p>\\n  </td>\\n  <td>\\n   <p>\\n    <span>\\n     <ix:nonfraction>\\n      36,376\\n     </ix:nonfraction>\\n    </span>\\n   </p>\\n  </td>\\n  <td>\\n   <p>\\n    <span>\\n    </span>\\n   </p>\\n  </td>\\n  <td>\\n   <p>\\n    <span>\\n    </span>\\n   </p>\\n  </td>\\n  <td>\\n   <p>\\n    <span>\\n    </span>\\n   </p>\\n  </td>\\n  <td>\\n   <p>\\n    <span>\\n     <ix:nonfraction>\\n      12,023\\n     </ix:nonfraction>\\n    </span>\\n   </p>\\n  </td>\\n  <td>\\n   <p>\\n    <span>\\n    </span>\\n   </p>\\n  </td>\\n </tr>\\n <tr>\\n  <td>\\n   <p>\\n    <span>\\n     Management fees\\n    </span>\\n   </p>\\n  </td>\\n  <td>\\n   <p>\\n    <span>\\n    </span>\\n   </p>\\n  </td>\\n  <td>\\n   <p>\\n    <span>\\n    </span>\\n   </p>\\n  </td>\\n  <td>\\n   <p>\\n    <span>\\n     <ix:nonfraction>\\n      8,870\\n     </ix:nonfraction>\\n    </span>\\n   </p>\\n  </td>\\n  <td>\\n   <p>\\n    <span>\\n    </span>\\n   </p>\\n  </td>\\n  <td>\\n   <p>\\n    <span>\\n    </span>\\n   </p>\\n  </td>\\n  <td>\\n   <p>\\n    <span>\\n    </span>\\n   </p>\\n  </td>\\n  <td>\\n   <p>\\n    <span>\\n     <ix:nonfraction>\\n      9,157\\n     </ix:nonfraction>\\n    </span>\\n   </p>\\n  </td>\\n  <td>\\n   <p>\\n    <span>\\n    </span>\\n   </p>\\n  </td>\\n  <td>\\n   <p>\\n    <span>\\n    </span>\\n   </p>\\n  </td>\\n  <td>\\n   <p>\\n    <span>\\n    </span>\\n   </p>\\n  </td>\\n  <td>\\n   <p>\\n    <span>\\n     <ix:nonfraction>\\n      26,761\\n     </ix:nonfraction>\\n    </span>\\n   </p>\\n  </td>\\n  <td>\\n   <p>\\n    <span>\\n    </span>\\n   </p>\\n  </td>\\n  <td>\\n   <p>\\n    <span>\\n    </span>\\n   </p>\\n  </td>\\n  <td>\\n   <p>\\n    <span>\\n    </span>\\n   </p>\\n  </td>\\n  <td>\\n   <p>\\n    <span>\\n     <ix:nonfraction>\\n      26,933\\n     </ix:nonfraction>\\n    </span>\\n   </p>\\n  </td>\\n  <td>\\n   <p>\\n    <span>\\n    </span>\\n   </p>\\n  </td>\\n </tr>\\n <tr>\\n  <td>\\n   <p>\\n    <span>\\n     Professional fees\\n    </span>\\n   </p>\\n  </td>\\n  <td>\\n   <p>\\n    <span>\\n    </span>\\n   </p>\\n  </td>\\n  <td>\\n   <p>\\n    <span>\\n    </span>\\n   </p>\\n  </td>\\n  <td>\\n   <p>\\n    <span>\\n     <ix:nonfraction>\\n      982\\n     </ix:nonfraction>\\n    </span>\\n   </p>\\n  </td>\\n  <td>\\n   <p>\\n    <span>\\n    </span>\\n   </p>\\n  </td>\\n  <td>\\n   <p>\\n    <span>\\n    </span>\\n   </p>\\n  </td>\\n  <td>\\n   <p>\\n    <span>\\n    </span>\\n   </p>\\n  </td>\\n  <td>\\n   <p>\\n    <span>\\n     <ix:nonfraction>\\n      814\\n     </ix:nonfraction>\\n    </span>\\n   </p>\\n  </td>\\n  <td>\\n   <p>\\n    <span>\\n    </span>\\n   </p>\\n  </td>\\n  <td>\\n   <p>\\n    <span>\\n    </span>\\n   </p>\\n  </td>\\n  <td>\\n   <p>\\n    <span>\\n    </span>\\n   </p>\\n  </td>\\n  <td>\\n   <p>\\n    <span>\\n     <ix:nonfraction>\\n      2,748\\n     </ix:nonfraction>\\n    </span>\\n   </p>\\n  </td>\\n  <td>\\n   <p>\\n    <span>\\n    </span>\\n   </p>\\n  </td>\\n  <td>\\n   <p>\\n    <span>\\n    </span>\\n   </p>\\n  </td>\\n  <td>\\n   <p>\\n    <span>\\n    </span>\\n   </p>\\n  </td>\\n  <td>\\n   <p>\\n    <span>\\n     <ix:nonfraction>\\n      2,559\\n     </ix:nonfraction>\\n    </span>\\n   </p>\\n  </td>\\n  <td>\\n   <p>\\n    <span>\\n    </span>\\n   </p>\\n  </td>\\n </tr>\\n <tr>\\n  <td>\\n   <p>\\n    <span>\\n     Directors’ fees\\n    </span>\\n   </p>\\n  </td>\\n  <td>\\n   <p>\\n    <span>\\n    </span>\\n   </p>\\n  </td>\\n  <td>\\n   <p>\\n    <span>\\n    </span>\\n   </p>\\n  </td>\\n  <td>\\n   <p>\\n    <span>\\n     <ix:nonfraction>\\n      204\\n     </ix:nonfraction>\\n    </span>\\n   </p>\\n  </td>\\n  <td>\\n   <p>\\n    <span>\\n    </span>\\n   </p>\\n  </td>\\n  <td>\\n   <p>\\n    <span>\\n    </span>\\n   </p>\\n  </td>\\n  <td>\\n   <p>\\n    <span>\\n    </span>\\n   </p>\\n  </td>\\n  <td>\\n   <p>\\n    <span>\\n     <ix:nonfraction>\\n      209\\n     </ix:nonfraction>\\n    </span>\\n   </p>\\n  </td>\\n  <td>\\n   <p>\\n    <span>\\n    </span>\\n   </p>\\n  </td>\\n  <td>\\n   <p>\\n    <span>\\n    </span>\\n   </p>\\n  </td>\\n  <td>\\n   <p>\\n    <span>\\n    </span>\\n   </p>\\n  </td>\\n  <td>\\n   <p>\\n    <span>\\n     <ix:nonfraction>\\n      619\\n     </ix:nonfraction>\\n    </span>\\n   </p>\\n  </td>\\n  <td>\\n   <p>\\n    <span>\\n    </span>\\n   </p>\\n  </td>\\n  <td>\\n   <p>\\n    <span>\\n    </span>\\n   </p>\\n  </td>\\n  <td>\\n   <p>\\n    <span>\\n    </span>\\n   </p>\\n  </td>\\n  <td>\\n   <p>\\n    <span>\\n     <ix:nonfraction>\\n      616\\n     </ix:nonfraction>\\n    </span>\\n   </p>\\n  </td>\\n  <td>\\n   <p>\\n    <span>\\n    </span>\\n   </p>\\n  </td>\\n </tr>\\n <tr>\\n  <td>\\n   <p>\\n    <span>\\n     Other general and administrative expenses\\n    </span>\\n   </p>\\n  </td>\\n  <td>\\n   <p>\\n    <span>\\n    </span>\\n   </p>\\n  </td>\\n  <td>\\n   <p>\\n    <span>\\n    </span>\\n   </p>\\n  </td>\\n  <td>\\n   <p>\\n    <span>\\n     <ix:nonfraction>\\n      1,137\\n     </ix:nonfraction>\\n    </span>\\n   </p>\\n  </td>\\n  <td>\\n   <p>\\n    <span>\\n    </span>\\n   </p>\\n  </td>\\n  <td>\\n   <p>\\n    <span>\\n    </span>\\n   </p>\\n  </td>\\n  <td>\\n   <p>\\n    <span>\\n    </span>\\n   </p>\\n  </td>\\n  <td>\\n   <p>\\n    <span>\\n     <ix:nonfraction>\\n      1,041\\n     </ix:nonfraction>\\n    </span>\\n   </p>\\n  </td>\\n  <td>\\n   <p>\\n    <span>\\n    </span>\\n   </p>\\n  </td>\\n  <td>\\n   <p>\\n    <span>\\n    </span>\\n   </p>\\n  </td>\\n  <td>\\n   <p>\\n    <span>\\n    </span>\\n   </p>\\n  </td>\\n  <td>\\n   <p>\\n    <span>\\n     <ix:nonfraction>\\n      3,220\\n     </ix:nonfraction>\\n    </span>\\n   </p>\\n  </td>\\n  <td>\\n   <p>\\n    <span>\\n    </span>\\n   </p>\\n  </td>\\n  <td>\\n   <p>\\n    <span>\\n    </span>\\n   </p>\\n  </td>\\n  <td>\\n   <p>\\n    <span>\\n    </span>\\n   </p>\\n  </td>\\n  <td>\\n   <p>\\n    <span>\\n     <ix:nonfraction>\\n      3,301\\n     </ix:nonfraction>\\n    </span>\\n   </p>\\n  </td>\\n  <td>\\n   <p>\\n    <span>\\n    </span>\\n   </p>\\n  </td>\\n </tr>\\n <tr>\\n  <td>\\n   <p>\\n    <span>\\n     Total expenses\\n    </span>\\n   </p>\\n  </td>\\n  <td>\\n   <p>\\n    <span>\\n    </span>\\n   </p>\\n  </td>\\n  <td>\\n   <p>\\n    <span>\\n     $\\n    </span>\\n   </p>\\n  </td>\\n  <td>\\n   <p>\\n    <span>\\n     <ix:nonfraction>\\n      45,604\\n     </ix:nonfraction>\\n    </span>\\n   </p>\\n  </td>\\n  <td>\\n   <p>\\n    <span>\\n    </span>\\n   </p>\\n  </td>\\n  <td>\\n   <p>\\n    <span>\\n    </span>\\n   </p>\\n  </td>\\n  <td>\\n   <p>\\n    <span>\\n     $\\n    </span>\\n   </p>\\n  </td>\\n  <td>\\n   <p>\\n    <span>\\n     <ix:nonfraction>\\n      33,200\\n     </ix:nonfraction>\\n    </span>\\n   </p>\\n  </td>\\n  <td>\\n   <p>\\n    <span>\\n    </span>\\n   </p>\\n  </td>\\n  <td>\\n   <p>\\n    <span>\\n    </span>\\n   </p>\\n  </td>\\n  <td>\\n   <p>\\n    <span>\\n     $\\n    </span>\\n   </p>\\n  </td>\\n  <td>\\n   <p>\\n    <span>\\n     <ix:nonfraction>\\n      152,937\\n     </ix:nonfraction>\\n    </span>\\n   </p>\\n  </td>\\n  <td>\\n   <p>\\n    <span>\\n    </span>\\n   </p>\\n  </td>\\n  <td>\\n   <p>\\n    <span>\\n    </span>\\n   </p>\\n  </td>\\n  <td>\\n   <p>\\n    <span>\\n     $\\n    </span>\\n   </p>\\n  </td>\\n  <td>\\n   <p>\\n    <span>\\n     <ix:nonfraction>\\n      99,255\\n     </ix:nonfraction>\\n    </span>\\n   </p>\\n  </td>\\n  <td>\\n   <p>\\n    <span>\\n    </span>\\n   </p>\\n  </td>\\n </tr>\\n <tr>\\n  <td>\\n   <p>\\n    <span>\\n     Fee waivers\\n    </span>\\n   </p>\\n  </td>\\n  <td>\\n   <p>\\n    <span>\\n    </span>\\n   </p>\\n  </td>\\n  <td>\\n   <p>\\n    <span>\\n     $\\n    </span>\\n   </p>\\n  </td>\\n  <td>\\n   <p>\\n    <span>\\n     —\\n    </span>\\n   </p>\\n  </td>\\n  <td>\\n   <p>\\n    <span>\\n    </span>\\n   </p>\\n  </td>\\n  <td>\\n   <p>\\n    <span>\\n    </span>\\n   </p>\\n  </td>\\n  <td>\\n   <p>\\n    <span>\\n     $\\n    </span>\\n   </p>\\n  </td>\\n  <td>\\n   <p>\\n    <span>\\n     —\\n    </span>\\n   </p>\\n  </td>\\n  <td>\\n   <p>\\n    <span>\\n    </span>\\n   </p>\\n  </td>\\n  <td>\\n   <p>\\n    <span>\\n    </span>\\n   </p>\\n  </td>\\n  <td>\\n   <p>\\n    <span>\\n     $\\n    </span>\\n   </p>\\n  </td>\\n  <td>\\n   <p>\\n    -\\n    <span>\\n     <ix:nonfraction>\\n      1,986\\n     </ix:nonfraction>\\n    </span>\\n   </p>\\n  </td>\\n  <td>\\n   <p>\\n   </p>\\n  </td>\\n  <td>\\n   <p>\\n    <span>\\n    </span>\\n   </p>\\n  </td>\\n  <td>\\n   <p>\\n    <span>\\n     $\\n    </span>\\n   </p>\\n  </td>\\n  <td>\\n   <p>\\n    -\\n    <span>\\n     <ix:nonfraction>\\n      11,724\\n     </ix:nonfraction>\\n    </span>\\n   </p>\\n  </td>\\n  <td>\\n   <p>\\n   </p>\\n  </td>\\n </tr>\\n <tr>\\n  <td>\\n   <p>\\n    <span>\\n     Net expenses\\n    </span>\\n   </p>\\n  </td>\\n  <td>\\n   <p>\\n    <span>\\n    </span>\\n   </p>\\n  </td>\\n  <td>\\n   <p>\\n    <span>\\n     $\\n    </span>\\n   </p>\\n  </td>\\n  <td>\\n   <p>\\n    <span>\\n     <ix:nonfraction>\\n      45,604\\n     </ix:nonfraction>\\n    </span>\\n   </p>\\n  </td>\\n  <td>\\n   <p>\\n    <span>\\n    </span>\\n   </p>\\n  </td>\\n  <td>\\n   <p>\\n    <span>\\n    </span>\\n   </p>\\n  </td>\\n  <td>\\n   <p>\\n    <span>\\n     $\\n    </span>\\n   </p>\\n  </td>\\n  <td>\\n   <p>\\n    <span>\\n     <ix:nonfraction>\\n      33,200\\n     </ix:nonfraction>\\n    </span>\\n   </p>\\n  </td>\\n  <td>\\n   <p>\\n    <span>\\n    </span>\\n   </p>\\n  </td>\\n  <td>\\n   <p>\\n    <span>\\n    </span>\\n   </p>\\n  </td>\\n  <td>\\n   <p>\\n    <span>\\n     $\\n    </span>\\n   </p>\\n  </td>\\n  <td>\\n   <p>\\n    <span>\\n     <ix:nonfraction>\\n      150,951\\n     </ix:nonfraction>\\n    </span>\\n   </p>\\n  </td>\\n  <td>\\n   <p>\\n    <span>\\n    </span>\\n   </p>\\n  </td>\\n  <td>\\n   <p>\\n    <span>\\n    </span>\\n   </p>\\n  </td>\\n  <td>\\n   <p>\\n    <span>\\n     $\\n    </span>\\n   </p>\\n  </td>\\n  <td>\\n   <p>\\n    <span>\\n     <ix:nonfraction>\\n      87,531\\n     </ix:nonfraction>\\n    </span>\\n   </p>\\n  </td>\\n  <td>\\n   <p>\\n    <span>\\n    </span>\\n   </p>\\n  </td>\\n </tr>\\n <tr>\\n  <td>\\n   <p>\\n    <span>\\n     Net investment income before taxes\\n    </span>\\n   </p>\\n  </td>\\n  <td>\\n   <p>\\n    <span>\\n    </span>\\n   </p>\\n  </td>\\n  <td>\\n   <p>\\n    <span>\\n     $\\n    </span>\\n   </p>\\n  </td>\\n  <td>\\n   <p>\\n    <span>\\n     <ix:nonfraction>\\n      74,452\\n     </ix:nonfraction>\\n    </span>\\n   </p>\\n  </td>\\n  <td>\\n   <p>\\n    <span>\\n    </span>\\n   </p>\\n  </td>\\n  <td>\\n   <p>\\n    <span>\\n    </span>\\n   </p>\\n  </td>\\n  <td>\\n   <p>\\n    <span>\\n     $\\n    </span>\\n   </p>\\n  </td>\\n  <td>\\n   <p>\\n    <span>\\n     <ix:nonfraction>\\n      62,018\\n     </ix:nonfraction>\\n    </span>\\n   </p>\\n  </td>\\n  <td>\\n   <p>\\n    <span>\\n    </span>\\n   </p>\\n  </td>\\n  <td>\\n   <p>\\n    <span>\\n    </span>\\n   </p>\\n  </td>\\n  <td>\\n   <p>\\n    <span>\\n     $\\n    </span>\\n   </p>\\n  </td>\\n  <td>\\n   <p>\\n    <span>\\n     <ix:nonfraction>\\n      188,592\\n     </ix:nonfraction>\\n    </span>\\n   </p>\\n  </td>\\n  <td>\\n   <p>\\n    <span>\\n    </span>\\n   </p>\\n  </td>\\n  <td>\\n   <p>\\n    <span>\\n    </span>\\n   </p>\\n  </td>\\n  <td>\\n   <p>\\n    <span>\\n     $\\n    </span>\\n   </p>\\n  </td>\\n  <td>\\n   <p>\\n    <span>\\n     <ix:nonfraction>\\n      163,445\\n     </ix:nonfraction>\\n    </span>\\n   </p>\\n  </td>\\n  <td>\\n   <p>\\n    <span>\\n    </span>\\n   </p>\\n  </td>\\n </tr>\\n <tr>\\n  <td>\\n   <p>\\n    <span>\\n     Income tax expense, including excise tax\\n    </span>\\n   </p>\\n  </td>\\n  <td>\\n   <p>\\n    <span>\\n    </span>\\n   </p>\\n  </td>\\n  <td>\\n   <p>\\n    <span>\\n     $\\n    </span>\\n   </p>\\n  </td>\\n  <td>\\n   <p>\\n    <span>\\n     <ix:nonfraction>\\n      1,503\\n     </ix:nonfraction>\\n    </span>\\n   </p>\\n  </td>\\n  <td>\\n   <p>\\n    <span>\\n    </span>\\n   </p>\\n  </td>\\n  <td>\\n   <p>\\n    <span>\\n    </span>\\n   </p>\\n  </td>\\n  <td>\\n   <p>\\n    <span>\\n     $\\n    </span>\\n   </p>\\n  </td>\\n  <td>\\n   <p>\\n    <span>\\n     <ix:nonfraction>\\n      829\\n     </ix:nonfraction>\\n    </span>\\n   </p>\\n  </td>\\n  <td>\\n   <p>\\n    <span>\\n    </span>\\n   </p>\\n  </td>\\n  <td>\\n   <p>\\n    <span>\\n    </span>\\n   </p>\\n  </td>\\n  <td>\\n   <p>\\n    <span>\\n     $\\n    </span>\\n   </p>\\n  </td>\\n  <td>\\n   <p>\\n    <span>\\n     <ix:nonfraction>\\n      3,155\\n     </ix:nonfraction>\\n    </span>\\n   </p>\\n  </td>\\n  <td>\\n   <p>\\n    <span>\\n    </span>\\n   </p>\\n  </td>\\n  <td>\\n   <p>\\n    <span>\\n    </span>\\n   </p>\\n  </td>\\n  <td>\\n   <p>\\n    <span>\\n     $\\n    </span>\\n   </p>\\n  </td>\\n  <td>\\n   <p>\\n    <span>\\n     <ix:nonfraction>\\n      2,494\\n     </ix:nonfraction>\\n    </span>\\n   </p>\\n  </td>\\n  <td>\\n   <p>\\n    <span>\\n    </span>\\n   </p>\\n  </td>\\n </tr>\\n <tr>\\n  <td>\\n   <p>\\n    <span>\\n     Net investment income after taxes\\n    </span>\\n   </p>\\n  </td>\\n  <td>\\n   <p>\\n    <span>\\n    </span>\\n   </p>\\n  </td>\\n  <td>\\n   <p>\\n    <span>\\n     $\\n    </span>\\n   </p>\\n  </td>\\n  <td>\\n   <p>\\n    <span>\\n     <ix:nonfraction>\\n      72,949\\n     </ix:nonfraction>\\n    </span>\\n   </p>\\n  </td>\\n  <td>\\n   <p>\\n    <span>\\n    </span>\\n   </p>\\n  </td>\\n  <td>\\n   <p>\\n    <span>\\n    </span>\\n   </p>\\n  </td>\\n  <td>\\n   <p>\\n    <span>\\n     $\\n    </span>\\n   </p>\\n  </td>\\n  <td>\\n   <p>\\n    <span>\\n     <ix:nonfraction>\\n      61,189\\n     </ix:nonfraction>\\n    </span>\\n   </p>\\n  </td>\\n  <td>\\n   <p>\\n    <span>\\n    </span>\\n   </p>\\n  </td>\\n  <td>\\n   <p>\\n    <span>\\n    </span>\\n   </p>\\n  </td>\\n  <td>\\n   <p>\\n    <span>\\n     $\\n    </span>\\n   </p>\\n  </td>\\n  <td>\\n   <p>\\n    <span>\\n     <ix:nonfraction>\\n      185,437\\n     </ix:nonfraction>\\n    </span>\\n   </p>\\n  </td>\\n  <td>\\n   <p>\\n    <span>\\n    </span>\\n   </p>\\n  </td>\\n  <td>\\n   <p>\\n    <span>\\n    </span>\\n   </p>\\n  </td>\\n  <td>\\n   <p>\\n    <span>\\n     $\\n    </span>\\n   </p>\\n  </td>\\n  <td>\\n   <p>\\n    <span>\\n     <ix:nonfraction>\\n      160,951\\n     </ix:nonfraction>\\n    </span>\\n   </p>\\n  </td>\\n  <td>\\n   <p>\\n    <span>\\n    </span>\\n   </p>\\n  </td>\\n </tr>\\n <tr>\\n  <td>\\n   <p>\\n    <span>\\n     Net realized and unrealized gains (losses) on investment transactions:\\n    </span>\\n   </p>\\n  </td>\\n  <td>\\n   <p>\\n    <span>\\n    </span>\\n   </p>\\n  </td>\\n  <td>\\n   <p>\\n    <span>\\n    </span>\\n   </p>\\n  </td>\\n  <td>\\n   <p>\\n    <span>\\n    </span>\\n   </p>\\n  </td>\\n  <td>\\n   <p>\\n    <span>\\n    </span>\\n   </p>\\n  </td>\\n  <td>\\n   <p>\\n    <span>\\n    </span>\\n   </p>\\n  </td>\\n  <td>\\n   <p>\\n    <span>\\n    </span>\\n   </p>\\n  </td>\\n  <td>\\n   <p>\\n    <span>\\n    </span>\\n   </p>\\n  </td>\\n  <td>\\n   <p>\\n    <span>\\n    </span>\\n   </p>\\n  </td>\\n  <td>\\n   <p>\\n    <span>\\n    </span>\\n   </p>\\n  </td>\\n  <td>\\n   <p>\\n    <span>\\n    </span>\\n   </p>\\n  </td>\\n  <td>\\n   <p>\\n    <span>\\n    </span>\\n   </p>\\n  </td>\\n  <td>\\n   <p>\\n    <span>\\n    </span>\\n   </p>\\n  </td>\\n </tr>\\n <tr>\\n  <td>\\n   <p>\\n    <span>\\n     Net realized gain (loss) from:\\n    </span>\\n   </p>\\n  </td>\\n  <td>\\n   <p>\\n    <span>\\n    </span>\\n   </p>\\n  </td>\\n  <td>\\n   <p>\\n    <span>\\n    </span>\\n   </p>\\n  </td>\\n  <td>\\n   <p>\\n    <span>\\n    </span>\\n   </p>\\n  </td>\\n  <td>\\n   <p>\\n    <span>\\n    </span>\\n   </p>\\n  </td>\\n  <td>\\n   <p>\\n    <span>\\n    </span>\\n   </p>\\n  </td>\\n  <td>\\n   <p>\\n    <span>\\n    </span>\\n   </p>\\n  </td>\\n  <td>\\n   <p>\\n    <span>\\n    </span>\\n   </p>\\n  </td>\\n  <td>\\n   <p>\\n    <span>\\n    </span>\\n   </p>\\n  </td>\\n  <td>\\n   <p>\\n    <span>\\n    </span>\\n   </p>\\n  </td>\\n  <td>\\n   <p>\\n    <span>\\n    </span>\\n   </p>\\n  </td>\\n  <td>\\n   <p>\\n    <span>\\n    </span>\\n   </p>\\n  </td>\\n  <td>\\n   <p>\\n    <span>\\n    </span>\\n   </p>\\n  </td>\\n </tr>\\n <tr>\\n  <td>\\n   <p>\\n    <span>\\n     Non-controlled/non-affiliated investments\\n    </span>\\n   </p>\\n  </td>\\n  <td>\\n   <p>\\n    <span>\\n    </span>\\n   </p>\\n  </td>\\n  <td>\\n   <p>\\n    <span>\\n     $\\n    </span>\\n   </p>\\n  </td>\\n  <td>\\n   <p>\\n    -\\n    <span>\\n     <ix:nonfraction>\\n      5,180\\n     </ix:nonfraction>\\n    </span>\\n   </p>\\n  </td>\\n  <td>\\n   <p>\\n   </p>\\n  </td>\\n  <td>\\n   <p>\\n    <span>\\n    </span>\\n   </p>\\n  </td>\\n  <td>\\n   <p>\\n    <span>\\n     $\\n    </span>\\n   </p>\\n  </td>\\n  <td>\\n   <p>\\n    <span>\\n     —\\n    </span>\\n   </p>\\n  </td>\\n  <td>\\n   <p>\\n    <span>\\n    </span>\\n   </p>\\n  </td>\\n  <td>\\n   <p>\\n    <span>\\n    </span>\\n   </p>\\n  </td>\\n  <td>\\n   <p>\\n    <span>\\n     $\\n    </span>\\n   </p>\\n  </td>\\n  <td>\\n   <p>\\n    -\\n    <span>\\n     <ix:nonfraction>\\n      44,394\\n     </ix:nonfraction>\\n    </span>\\n   </p>\\n  </td>\\n  <td>\\n   <p>\\n   </p>\\n  </td>\\n  <td>\\n   <p>\\n    <span>\\n    </span>\\n   </p>\\n  </td>\\n  <td>\\n   <p>\\n    <span>\\n     $\\n    </span>\\n   </p>\\n  </td>\\n  <td>\\n   <p>\\n    -\\n    <span>\\n     <ix:nonfraction>\\n      5,054\\n     </ix:nonfraction>\\n    </span>\\n   </p>\\n  </td>\\n  <td>\\n   <p>\\n   </p>\\n  </td>\\n </tr>\\n <tr>\\n  <td>\\n   <p>\\n    <span>\\n     Controlled affiliated investments\\n    </span>\\n   </p>\\n  </td>\\n  <td>\\n   <p>\\n    <span>\\n    </span>\\n   </p>\\n  </td>\\n  <td>\\n   <p>\\n    <span>\\n    </span>\\n   </p>\\n  </td>\\n  <td>\\n   <p>\\n    <span>\\n     —\\n    </span>\\n   </p>\\n  </td>\\n  <td>\\n   <p>\\n    <span>\\n    </span>\\n   </p>\\n  </td>\\n  <td>\\n   <p>\\n    <span>\\n    </span>\\n   </p>\\n  </td>\\n  <td>\\n   <p>\\n    <span>\\n    </span>\\n   </p>\\n  </td>\\n  <td>\\n   <p>\\n    <span>\\n     —\\n    </span>\\n   </p>\\n  </td>\\n  <td>\\n   <p>\\n    <span>\\n    </span>\\n   </p>\\n  </td>\\n  <td>\\n   <p>\\n    <span>\\n    </span>\\n   </p>\\n  </td>\\n  <td>\\n   <p>\\n    <span>\\n    </span>\\n   </p>\\n  </td>\\n  <td>\\n   <p>\\n    <span>\\n     —\\n    </span>\\n   </p>\\n  </td>\\n  <td>\\n   <p>\\n    <span>\\n    </span>\\n   </p>\\n  </td>\\n  <td>\\n   <p>\\n    <span>\\n    </span>\\n   </p>\\n  </td>\\n  <td>\\n   <p>\\n    <span>\\n    </span>\\n   </p>\\n  </td>\\n  <td>\\n   <p>\\n    -\\n    <span>\\n     <ix:nonfraction>\\n      2,035\\n     </ix:nonfraction>\\n    </span>\\n   </p>\\n  </td>\\n  <td>\\n   <p>\\n   </p>\\n  </td>\\n </tr>\\n <tr>\\n  <td>\\n   <p>\\n    <span>\\n     Foreign currency forward contracts\\n    </span>\\n   </p>\\n  </td>\\n  <td>\\n   <p>\\n    <span>\\n    </span>\\n   </p>\\n  </td>\\n  <td>\\n   <p>\\n    <span>\\n    </span>\\n   </p>\\n  </td>\\n  <td>\\n   <p>\\n    <span>\\n     —\\n    </span>\\n   </p>\\n  </td>\\n  <td>\\n   <p>\\n    <span>\\n    </span>\\n   </p>\\n  </td>\\n  <td>\\n   <p>\\n    <span>\\n    </span>\\n   </p>\\n  </td>\\n  <td>\\n   <p>\\n    <span>\\n    </span>\\n   </p>\\n  </td>\\n  <td>\\n   <p>\\n    <span>\\n     <ix:nonfraction>\\n      90\\n     </ix:nonfraction>\\n    </span>\\n   </p>\\n  </td>\\n  <td>\\n   <p>\\n    <span>\\n    </span>\\n   </p>\\n  </td>\\n  <td>\\n   <p>\\n    <span>\\n    </span>\\n   </p>\\n  </td>\\n  <td>\\n   <p>\\n    <span>\\n    </span>\\n   </p>\\n  </td>\\n  <td>\\n   <p>\\n    <span>\\n     —\\n    </span>\\n   </p>\\n  </td>\\n  <td>\\n   <p>\\n    <span>\\n    </span>\\n   </p>\\n  </td>\\n  <td>\\n   <p>\\n    <span>\\n    </span>\\n   </p>\\n  </td>\\n  <td>\\n   <p>\\n    <span>\\n    </span>\\n   </p>\\n  </td>\\n  <td>\\n   <p>\\n    <span>\\n     <ix:nonfraction>\\n      171\\n     </ix:nonfraction>\\n    </span>\\n   </p>\\n  </td>\\n  <td>\\n   <p>\\n    <span>\\n    </span>\\n   </p>\\n  </td>\\n </tr>\\n <tr>\\n  <td>\\n   <p>\\n    <span>\\n     Foreign currency and other transactions\\n    </span>\\n   </p>\\n  </td>\\n  <td>\\n   <p>\\n    <span>\\n    </span>\\n   </p>\\n  </td>\\n  <td>\\n   <p>\\n    <span>\\n    </span>\\n   </p>\\n  </td>\\n  <td>\\n   <p>\\n    -\\n    <span>\\n     <ix:nonfraction>\\n      10\\n     </ix:nonfraction>\\n    </span>\\n   </p>\\n  </td>\\n  <td>\\n   <p>\\n   </p>\\n  </td>\\n  <td>\\n   <p>\\n    <span>\\n    </span>\\n   </p>\\n  </td>\\n  <td>\\n   <p>\\n    <span>\\n    </span>\\n   </p>\\n  </td>\\n  <td>\\n   <p>\\n    -\\n    <span>\\n     <ix:nonfraction>\\n      1,565\\n     </ix:nonfraction>\\n    </span>\\n   </p>\\n  </td>\\n  <td>\\n   <p>\\n   </p>\\n  </td>\\n  <td>\\n   <p>\\n    <span>\\n    </span>\\n   </p>\\n  </td>\\n  <td>\\n   <p>\\n    <span>\\n    </span>\\n   </p>\\n  </td>\\n  <td>\\n   <p>\\n    <span>\\n     <ix:nonfraction>\\n      185\\n     </ix:nonfraction>\\n    </span>\\n   </p>\\n  </td>\\n  <td>\\n   <p>\\n    <span>\\n    </span>\\n   </p>\\n  </td>\\n  <td>\\n   <p>\\n    <span>\\n    </span>\\n   </p>\\n  </td>\\n  <td>\\n   <p>\\n    <span>\\n    </span>\\n   </p>\\n  </td>\\n  <td>\\n   <p>\\n    -\\n    <span>\\n     <ix:nonfraction>\\n      2,413\\n     </ix:nonfraction>\\n    </span>\\n   </p>\\n  </td>\\n  <td>\\n   <p>\\n   </p>\\n  </td>\\n </tr>\\n <tr>\\n  <td>\\n   <p>\\n    <span>\\n     Net change in unrealized appreciation (depreciation) from:\\n    </span>\\n   </p>\\n  </td>\\n  <td>\\n   <p>\\n    <span>\\n    </span>\\n   </p>\\n  </td>\\n  <td>\\n   <p>\\n    <span>\\n    </span>\\n   </p>\\n  </td>\\n  <td>\\n   <p>\\n    <span>\\n    </span>\\n   </p>\\n  </td>\\n  <td>\\n   <p>\\n    <span>\\n    </span>\\n   </p>\\n  </td>\\n  <td>\\n   <p>\\n    <span>\\n    </span>\\n   </p>\\n  </td>\\n  <td>\\n   <p>\\n    <span>\\n    </span>\\n   </p>\\n  </td>\\n  <td>\\n   <p>\\n    <span>\\n    </span>\\n   </p>\\n  </td>\\n  <td>\\n   <p>\\n    <span>\\n    </span>\\n   </p>\\n  </td>\\n  <td>\\n   <p>\\n    <span>\\n    </span>\\n   </p>\\n  </td>\\n  <td>\\n   <p>\\n    <span>\\n    </span>\\n   </p>\\n  </td>\\n  <td>\\n   <p>\\n    <span>\\n    </span>\\n   </p>\\n  </td>\\n  <td>\\n   <p>\\n    <span>\\n    </span>\\n   </p>\\n  </td>\\n </tr>\\n <tr>\\n  <td>\\n   <p>\\n    <span>\\n     Non-controlled/non-affiliated investments\\n    </span>\\n   </p>\\n  </td>\\n  <td>\\n   <p>\\n    <span>\\n    </span>\\n   </p>\\n  </td>\\n  <td>\\n   <p>\\n    <span>\\n    </span>\\n   </p>\\n  </td>\\n  <td>\\n   <p>\\n    -\\n    <span>\\n     <ix:nonfraction>\\n      17,813\\n     </ix:nonfraction>\\n    </span>\\n   </p>\\n  </td>\\n  <td>\\n   <p>\\n   </p>\\n  </td>\\n  <td>\\n   <p>\\n    <span>\\n    </span>\\n   </p>\\n  </td>\\n  <td>\\n   <p>\\n    <span>\\n    </span>\\n   </p>\\n  </td>\\n  <td>\\n   <p>\\n    -\\n    <span>\\n     <ix:nonfraction>\\n      50,069\\n     </ix:nonfraction>\\n    </span>\\n   </p>\\n  </td>\\n  <td>\\n   <p>\\n   </p>\\n  </td>\\n  <td>\\n   <p>\\n    <span>\\n    </span>\\n   </p>\\n  </td>\\n  <td>\\n   <p>\\n    <span>\\n    </span>\\n   </p>\\n  </td>\\n  <td>\\n   <p>\\n    <span>\\n     <ix:nonfraction>\\n      6,578\\n     </ix:nonfraction>\\n    </span>\\n   </p>\\n  </td>\\n  <td>\\n   <p>\\n    <span>\\n    </span>\\n   </p>\\n  </td>\\n  <td>\\n   <p>\\n    <span>\\n    </span>\\n   </p>\\n  </td>\\n  <td>\\n   <p>\\n    <span>\\n    </span>\\n   </p>\\n  </td>\\n  <td>\\n   <p>\\n    -\\n    <span>\\n     <ix:nonfraction>\\n      89,028\\n     </ix:nonfraction>\\n    </span>\\n   </p>\\n  </td>\\n  <td>\\n   <p>\\n   </p>\\n  </td>\\n </tr>\\n <tr>\\n  <td>\\n   <p>\\n    <span>\\n     Non-controlled affiliated investments\\n    </span>\\n   </p>\\n  </td>\\n  <td>\\n   <p>\\n    <span>\\n    </span>\\n   </p>\\n  </td>\\n  <td>\\n   <p>\\n    <span>\\n    </span>\\n   </p>\\n  </td>\\n  <td>\\n   <p>\\n    -\\n    <span>\\n     <ix:nonfraction>\\n      2,089\\n     </ix:nonfraction>\\n    </span>\\n   </p>\\n  </td>\\n  <td>\\n   <p>\\n   </p>\\n  </td>\\n  <td>\\n   <p>\\n    <span>\\n    </span>\\n   </p>\\n  </td>\\n  <td>\\n   <p>\\n    <span>\\n    </span>\\n   </p>\\n  </td>\\n  <td>\\n   <p>\\n    -\\n    <span>\\n     <ix:nonfraction>\\n      3,529\\n     </ix:nonfraction>\\n    </span>\\n   </p>\\n  </td>\\n  <td>\\n   <p>\\n   </p>\\n  </td>\\n  <td>\\n   <p>\\n    <span>\\n    </span>\\n   </p>\\n  </td>\\n  <td>\\n   <p>\\n    <span>\\n    </span>\\n   </p>\\n  </td>\\n  <td>\\n   <p>\\n    -\\n    <span>\\n     <ix:nonfraction>\\n      1,912\\n     </ix:nonfraction>\\n    </span>\\n   </p>\\n  </td>\\n  <td>\\n   <p>\\n   </p>\\n  </td>\\n  <td>\\n   <p>\\n    <span>\\n    </span>\\n   </p>\\n  </td>\\n  <td>\\n   <p>\\n    <span>\\n    </span>\\n   </p>\\n  </td>\\n  <td>\\n   <p>\\n    -\\n    <span>\\n     <ix:nonfraction>\\n      1,585\\n     </ix:nonfraction>\\n    </span>\\n   </p>\\n  </td>\\n  <td>\\n   <p>\\n   </p>\\n  </td>\\n </tr>\\n <tr>\\n  <td>\\n   <p>\\n    <span>\\n     Controlled affiliated investments\\n    </span>\\n   </p>\\n  </td>\\n  <td>\\n   <p>\\n    <span>\\n    </span>\\n   </p>\\n  </td>\\n  <td>\\n   <p>\\n    <span>\\n    </span>\\n   </p>\\n  </td>\\n  <td>\\n   <p>\\n    <span>\\n     —\\n    </span>\\n   </p>\\n  </td>\\n  <td>\\n   <p>\\n    <span>\\n    </span>\\n   </p>\\n  </td>\\n  <td>\\n   <p>\\n    <span>\\n    </span>\\n   </p>\\n  </td>\\n  <td>\\n   <p>\\n    <span>\\n    </span>\\n   </p>\\n  </td>\\n  <td>\\n   <p>\\n    -\\n    <span>\\n     <ix:nonfraction>\\n      18,685\\n     </ix:nonfraction>\\n    </span>\\n   </p>\\n  </td>\\n  <td>\\n   <p>\\n   </p>\\n  </td>\\n  <td>\\n   <p>\\n    <span>\\n    </span>\\n   </p>\\n  </td>\\n  <td>\\n   <p>\\n    <span>\\n    </span>\\n   </p>\\n  </td>\\n  <td>\\n   <p>\\n    <span>\\n     —\\n    </span>\\n   </p>\\n  </td>\\n  <td>\\n   <p>\\n    <span>\\n    </span>\\n   </p>\\n  </td>\\n  <td>\\n   <p>\\n    <span>\\n    </span>\\n   </p>\\n  </td>\\n  <td>\\n   <p>\\n    <span>\\n    </span>\\n   </p>\\n  </td>\\n  <td>\\n   <p>\\n    -\\n    <span>\\n     <ix:nonfraction>\\n      19,746\\n     </ix:nonfraction>\\n    </span>\\n   </p>\\n  </td>\\n  <td>\\n   <p>\\n   </p>\\n  </td>\\n </tr>\\n <tr>\\n  <td>\\n   <p>\\n    <span>\\n     Foreign currency forward contracts\\n    </span>\\n   </p>\\n  </td>\\n  <td>\\n   <p>\\n    <span>\\n    </span>\\n   </p>\\n  </td>\\n  <td>\\n   <p>\\n    <span>\\n    </span>\\n   </p>\\n  </td>\\n  <td>\\n   <p>\\n    <span>\\n     <ix:nonfraction>\\n      232\\n     </ix:nonfraction>\\n    </span>\\n   </p>\\n  </td>\\n  <td>\\n   <p>\\n    <span>\\n    </span>\\n   </p>\\n  </td>\\n  <td>\\n   <p>\\n    <span>\\n    </span>\\n   </p>\\n  </td>\\n  <td>\\n   <p>\\n    <span>\\n    </span>\\n   </p>\\n  </td>\\n  <td>\\n   <p>\\n    -\\n    <span>\\n     <ix:nonfraction>\\n      35\\n     </ix:nonfraction>\\n    </span>\\n   </p>\\n  </td>\\n  <td>\\n   <p>\\n   </p>\\n  </td>\\n  <td>\\n   <p>\\n    <span>\\n    </span>\\n   </p>\\n  </td>\\n  <td>\\n   <p>\\n    <span>\\n    </span>\\n   </p>\\n  </td>\\n  <td>\\n   <p>\\n    <span>\\n     <ix:nonfraction>\\n      103\\n     </ix:nonfraction>\\n    </span>\\n   </p>\\n  </td>\\n  <td>\\n   <p>\\n    <span>\\n    </span>\\n   </p>\\n  </td>\\n  <td>\\n   <p>\\n    <span>\\n    </span>\\n   </p>\\n  </td>\\n  <td>\\n   <p>\\n    <span>\\n    </span>\\n   </p>\\n  </td>\\n  <td>\\n   <p>\\n    <span>\\n     <ix:nonfraction>\\n      11\\n     </ix:nonfraction>\\n    </span>\\n   </p>\\n  </td>\\n  <td>\\n   <p>\\n    <span>\\n    </span>\\n   </p>\\n  </td>\\n </tr>\\n <tr>\\n  <td>\\n   <p>\\n    <span>\\n     Foreign currency translations and other transactions\\n    </span>\\n   </p>\\n  </td>\\n  <td>\\n   <p>\\n    <span>\\n    </span>\\n   </p>\\n  </td>\\n  <td>\\n   <p>\\n    <span>\\n    </span>\\n   </p>\\n  </td>\\n  <td>\\n   <p>\\n    <span>\\n     <ix:nonfraction>\\n      3,568\\n     </ix:nonfraction>\\n    </span>\\n   </p>\\n  </td>\\n  <td>\\n   <p>\\n    <span>\\n    </span>\\n   </p>\\n  </td>\\n  <td>\\n   <p>\\n    <span>\\n    </span>\\n   </p>\\n  </td>\\n  <td>\\n   <p>\\n    <span>\\n    </span>\\n   </p>\\n  </td>\\n  <td>\\n   <p>\\n    <span>\\n     <ix:nonfraction>\\n      4,974\\n     </ix:nonfraction>\\n    </span>\\n   </p>\\n  </td>\\n  <td>\\n   <p>\\n    <span>\\n    </span>\\n   </p>\\n  </td>\\n  <td>\\n   <p>\\n    <span>\\n    </span>\\n   </p>\\n  </td>\\n  <td>\\n   <p>\\n    <span>\\n    </span>\\n   </p>\\n  </td>\\n  <td>\\n   <p>\\n    -\\n    <span>\\n     <ix:nonfraction>\\n      57\\n     </ix:nonfraction>\\n    </span>\\n   </p>\\n  </td>\\n  <td>\\n   <p>\\n   </p>\\n  </td>\\n  <td>\\n   <p>\\n    <span>\\n    </span>\\n   </p>\\n  </td>\\n  <td>\\n   <p>\\n    <span>\\n    </span>\\n   </p>\\n  </td>\\n  <td>\\n   <p>\\n    <span>\\n     <ix:nonfraction>\\n      10,051\\n     </ix:nonfraction>\\n    </span>\\n   </p>\\n  </td>\\n  <td>\\n   <p>\\n    <span>\\n    </span>\\n   </p>\\n  </td>\\n </tr>\\n <tr>\\n  <td>\\n   <p>\\n    <span>\\n     Net realized and unrealized gains (losses)\\n    </span>\\n   </p>\\n  </td>\\n  <td>\\n   <p>\\n    <span>\\n    </span>\\n   </p>\\n  </td>\\n  <td>\\n   <p>\\n    <span>\\n     $\\n    </span>\\n   </p>\\n  </td>\\n  <td>\\n   <p>\\n    -\\n    <span>\\n     <ix:nonfraction>\\n      21,292\\n     </ix:nonfraction>\\n    </span>\\n   </p>\\n  </td>\\n  <td>\\n   <p>\\n   </p>\\n  </td>\\n  <td>\\n   <p>\\n    <span>\\n    </span>\\n   </p>\\n  </td>\\n  <td>\\n   <p>\\n    <span>\\n     $\\n    </span>\\n   </p>\\n  </td>\\n  <td>\\n   <p>\\n    -\\n    <span>\\n     <ix:nonfraction>\\n      68,819\\n     </ix:nonfraction>\\n    </span>\\n   </p>\\n  </td>\\n  <td>\\n   <p>\\n   </p>\\n  </td>\\n  <td>\\n   <p>\\n    <span>\\n    </span>\\n   </p>\\n  </td>\\n  <td>\\n   <p>\\n    <span>\\n     $\\n    </span>\\n   </p>\\n  </td>\\n  <td>\\n   <p>\\n    -\\n    <span>\\n     <ix:nonfraction>\\n      39,497\\n     </ix:nonfraction>\\n    </span>\\n   </p>\\n  </td>\\n  <td>\\n   <p>\\n   </p>\\n  </td>\\n  <td>\\n   <p>\\n    <span>\\n    </span>\\n   </p>\\n  </td>\\n  <td>\\n   <p>\\n    <span>\\n     $\\n    </span>\\n   </p>\\n  </td>\\n  <td>\\n   <p>\\n    -\\n    <span>\\n     <ix:nonfraction>\\n      109,628\\n     </ix:nonfraction>\\n    </span>\\n   </p>\\n  </td>\\n  <td>\\n   <p>\\n   </p>\\n  </td>\\n </tr>\\n <tr>\\n  <td>\\n   <p>\\n    <span>\\n     (Provision) benefit for taxes on unrealized appreciation/depreciation on investments\\n    </span>\\n   </p>\\n  </td>\\n  <td>\\n   <p>\\n    <span>\\n    </span>\\n   </p>\\n  </td>\\n  <td>\\n   <p>\\n    <span>\\n     $\\n    </span>\\n   </p>\\n  </td>\\n  <td>\\n   <p>\\n    -\\n    <span>\\n     <ix:nonfraction>\\n      62\\n     </ix:nonfraction>\\n    </span>\\n   </p>\\n  </td>\\n  <td>\\n   <p>\\n   </p>\\n  </td>\\n  <td>\\n   <p>\\n    <span>\\n    </span>\\n   </p>\\n  </td>\\n  <td>\\n   <p>\\n    <span>\\n     $\\n    </span>\\n   </p>\\n  </td>\\n  <td>\\n   <p>\\n    <span>\\n     <ix:nonfraction>\\n      130\\n     </ix:nonfraction>\\n    </span>\\n   </p>\\n  </td>\\n  <td>\\n   <p>\\n    <span>\\n    </span>\\n   </p>\\n  </td>\\n  <td>\\n   <p>\\n    <span>\\n    </span>\\n   </p>\\n  </td>\\n  <td>\\n   <p>\\n    <span>\\n     $\\n    </span>\\n   </p>\\n  </td>\\n  <td>\\n   <p>\\n    -\\n    <span>\\n     <ix:nonfraction>\\n      618\\n     </ix:nonfraction>\\n    </span>\\n   </p>\\n  </td>\\n  <td>\\n   <p>\\n   </p>\\n  </td>\\n  <td>\\n   <p>\\n    <span>\\n    </span>\\n   </p>\\n  </td>\\n  <td>\\n   <p>\\n    <span>\\n     $\\n    </span>\\n   </p>\\n  </td>\\n  <td>\\n   <p>\\n    <span>\\n     <ix:nonfraction>\\n      12\\n     </ix:nonfraction>\\n    </span>\\n   </p>\\n  </td>\\n  <td>\\n   <p>\\n    <span>\\n    </span>\\n   </p>\\n  </td>\\n </tr>\\n <tr>\\n  <td>\\n   <p>\\n    <span>\\n     Net increase (decrease) in net assets from operations\\n    </span>\\n   </p>\\n  </td>\\n  <td>\\n   <p>\\n    <span>\\n    </span>\\n   </p>\\n  </td>\\n  <td>\\n   <p>\\n    <span>\\n     $\\n    </span>\\n   </p>\\n  </td>\\n  <td>\\n   <p>\\n    <span>\\n     <ix:nonfraction>\\n      51,595\\n     </ix:nonfraction>\\n    </span>\\n   </p>\\n  </td>\\n  <td>\\n   <p>\\n    <span>\\n    </span>\\n   </p>\\n  </td>\\n  <td>\\n   <p>\\n    <span>\\n    </span>\\n   </p>\\n  </td>\\n  <td>\\n   <p>\\n    <span>\\n     $\\n    </span>\\n   </p>\\n  </td>\\n  <td>\\n   <p>\\n    -\\n    <span>\\n     <ix:nonfraction>\\n      7,500\\n     </ix:nonfraction>\\n    </span>\\n   </p>\\n  </td>\\n  <td>\\n   <p>\\n   </p>\\n  </td>\\n  <td>\\n   <p>\\n    <span>\\n    </span>\\n   </p>\\n  </td>\\n  <td>\\n   <p>\\n    <span>\\n     $\\n    </span>\\n   </p>\\n  </td>\\n  <td>\\n   <p>\\n    <span>\\n     <ix:nonfraction>\\n      145,322\\n     </ix:nonfraction>\\n    </span>\\n   </p>\\n  </td>\\n  <td>\\n   <p>\\n    <span>\\n    </span>\\n   </p>\\n  </td>\\n  <td>\\n   <p>\\n    <span>\\n    </span>\\n   </p>\\n  </td>\\n  <td>\\n   <p>\\n    <span>\\n     $\\n    </span>\\n   </p>\\n  </td>\\n  <td>\\n   <p>\\n    <span>\\n     <ix:nonfraction>\\n      51,335\\n     </ix:nonfraction>\\n    </span>\\n   </p>\\n  </td>\\n  <td>\\n   <p>\\n    <span>\\n    </span>\\n   </p>\\n  </td>\\n </tr>\\n <tr>\\n  <td>\\n   <p>\\n    <span>\\n     Weighted average shares outstanding\\n    </span>\\n   </p>\\n  </td>\\n  <td>\\n   <p>\\n    <span>\\n    </span>\\n   </p>\\n  </td>\\n  <td>\\n   <p>\\n    <span>\\n    </span>\\n   </p>\\n  </td>\\n  <td>\\n   <p>\\n    <span>\\n     <ix:nonfraction>\\n      109,535,156\\n     </ix:nonfraction>\\n    </span>\\n   </p>\\n  </td>\\n  <td>\\n   <p>\\n    <span>\\n    </span>\\n   </p>\\n  </td>\\n  <td>\\n   <p>\\n    <span>\\n    </span>\\n   </p>\\n  </td>\\n  <td>\\n   <p>\\n    <span>\\n    </span>\\n   </p>\\n  </td>\\n  <td>\\n   <p>\\n    <span>\\n     <ix:nonfraction>\\n      102,367,005\\n     </ix:nonfraction>\\n    </span>\\n   </p>\\n  </td>\\n  <td>\\n   <p>\\n    <span>\\n    </span>\\n   </p>\\n  </td>\\n  <td>\\n   <p>\\n    <span>\\n    </span>\\n   </p>\\n  </td>\\n  <td>\\n   <p>\\n    <span>\\n    </span>\\n   </p>\\n  </td>\\n  <td>\\n   <p>\\n    <span>\\n     <ix:nonfraction>\\n      107,881,454\\n     </ix:nonfraction>\\n    </span>\\n   </p>\\n  </td>\\n  <td>\\n   <p>\\n    <span>\\n    </span>\\n   </p>\\n  </td>\\n  <td>\\n   <p>\\n    <span>\\n    </span>\\n   </p>\\n  </td>\\n  <td>\\n   <p>\\n    <span>\\n    </span>\\n   </p>\\n  </td>\\n  <td>\\n   <p>\\n    <span>\\n     <ix:nonfraction>\\n      102,069,593\\n     </ix:nonfraction>\\n    </span>\\n   </p>\\n  </td>\\n  <td>\\n   <p>\\n    <span>\\n    </span>\\n   </p>\\n  </td>\\n </tr>\\n <tr>\\n  <td>\\n   <p>\\n    <span>\\n     Basic and diluted net investment income per share\\n    </span>\\n   </p>\\n  </td>\\n  <td>\\n   <p>\\n    <span>\\n    </span>\\n   </p>\\n  </td>\\n  <td>\\n   <p>\\n    <span>\\n     $\\n    </span>\\n   </p>\\n  </td>\\n  <td>\\n   <p>\\n    <span>\\n     <ix:nonfraction>\\n      <ix:nonfraction>\\n       0.67\\n      </ix:nonfraction>\\n     </ix:nonfraction>\\n    </span>\\n   </p>\\n  </td>\\n  <td>\\n   <p>\\n    <span>\\n    </span>\\n   </p>\\n  </td>\\n  <td>\\n   <p>\\n    <span>\\n    </span>\\n   </p>\\n  </td>\\n  <td>\\n   <p>\\n    <span>\\n     $\\n    </span>\\n   </p>\\n  </td>\\n  <td>\\n   <p>\\n    <span>\\n     <ix:nonfraction>\\n      <ix:nonfraction>\\n       0.60\\n      </ix:nonfraction>\\n     </ix:nonfraction>\\n    </span>\\n   </p>\\n  </td>\\n  <td>\\n   <p>\\n    <span>\\n    </span>\\n   </p>\\n  </td>\\n  <td>\\n   <p>\\n    <span>\\n    </span>\\n   </p>\\n  </td>\\n  <td>\\n   <p>\\n    <span>\\n     $\\n    </span>\\n   </p>\\n  </td>\\n  <td>\\n   <p>\\n    <span>\\n     <ix:nonfraction>\\n      <ix:nonfraction>\\n       1.72\\n      </ix:nonfraction>\\n     </ix:nonfraction>\\n    </span>\\n   </p>\\n  </td>\\n  <td>\\n   <p>\\n    <span>\\n    </span>\\n   </p>\\n  </td>\\n  <td>\\n   <p>\\n    <span>\\n    </span>\\n   </p>\\n  </td>\\n  <td>\\n   <p>\\n    <span>\\n     $\\n    </span>\\n   </p>\\n  </td>\\n  <td>\\n   <p>\\n    <span>\\n     <ix:nonfraction>\\n      <ix:nonfraction>\\n       1.58\\n      </ix:nonfraction>\\n     </ix:nonfraction>\\n    </span>\\n   </p>\\n  </td>\\n  <td>\\n   <p>\\n    <span>\\n    </span>\\n   </p>\\n  </td>\\n </tr>\\n <tr>\\n  <td>\\n   <p>\\n    <span>\\n     Basic and diluted earnings (loss) per share\\n    </span>\\n   </p>\\n  </td>\\n  <td>\\n   <p>\\n    <span>\\n    </span>\\n   </p>\\n  </td>\\n  <td>\\n   <p>\\n    <span>\\n     $\\n    </span>\\n   </p>\\n  </td>\\n  <td>\\n   <p>\\n    <span>\\n     <ix:nonfraction>\\n      <ix:nonfraction>\\n       0.47\\n      </ix:nonfraction>\\n     </ix:nonfraction>\\n    </span>\\n   </p>\\n  </td>\\n  <td>\\n   <p>\\n    <span>\\n    </span>\\n   </p>\\n  </td>\\n  <td>\\n   <p>\\n    <span>\\n    </span>\\n   </p>\\n  </td>\\n  <td>\\n   <p>\\n    <span>\\n     $\\n    </span>\\n   </p>\\n  </td>\\n  <td>\\n   <p>\\n    -\\n    <span>\\n     <ix:nonfraction>\\n      <ix:nonfraction>\\n       0.07\\n      </ix:nonfraction>\\n     </ix:nonfraction>\\n    </span>\\n   </p>\\n  </td>\\n  <td>\\n   <p>\\n   </p>\\n  </td>\\n  <td>\\n   <p>\\n    <span>\\n    </span>\\n   </p>\\n  </td>\\n  <td>\\n   <p>\\n    <span>\\n     $\\n    </span>\\n   </p>\\n  </td>\\n  <td>\\n   <p>\\n    <span>\\n     <ix:nonfraction>\\n      <ix:nonfraction>\\n       1.35\\n      </ix:nonfraction>\\n     </ix:nonfraction>\\n    </span>\\n   </p>\\n  </td>\\n  <td>\\n   <p>\\n    <span>\\n    </span>\\n   </p>\\n  </td>\\n  <td>\\n   <p>\\n    <span>\\n    </span>\\n   </p>\\n  </td>\\n  <td>\\n   <p>\\n    <span>\\n     $\\n    </span>\\n   </p>\\n  </td>\\n  <td>\\n   <p>\\n    <span>\\n     <ix:nonfraction>\\n      <ix:nonfraction>\\n       0.50\\n      </ix:nonfraction>\\n     </ix:nonfraction>\\n    </span>\\n   </p>\\n  </td>\\n  <td>\\n   <p>\\n    <span>\\n    </span>\\n   </p>\\n  </td>\\n </tr>\\n</table>\\n'"
      ]
     },
     "execution_count": 51,
     "metadata": {},
     "output_type": "execute_result"
    }
   ],
   "source": [
    "table.prettify()"
   ]
  },
  {
   "cell_type": "code",
   "execution_count": 52,
   "metadata": {},
   "outputs": [],
   "source": [
    "file_path = \"output2.txt\"\n",
    "# Write the string representation of tables to the file\n",
    "with open(file_path, \"w\") as file:\n",
    "    file.write(table.prettify())"
   ]
  },
  {
   "cell_type": "code",
   "execution_count": null,
   "metadata": {},
   "outputs": [],
   "source": [
    "first_row = table.find_all('tr')[0]\n",
    "\n",
    "# Convert it to a prettified string\n",
    "first_row_html = first_row.prettify()\n",
    "first_row_soup = BeautifulSoup(first_row_html, 'html.parser')\n",
    "\n",
    "# Extract the text content from each cell in the first row\n",
    "header = [cell.get_text(strip=True) for cell in first_row_soup.find_all(\n",
    "    'td') if cell.get_text(strip=True)]\n",
    "\n",
    "# Update the columns of the DataFrame with the extracted header\n",
    "header"
   ]
  },
  {
   "cell_type": "code",
   "execution_count": null,
   "metadata": {},
   "outputs": [],
   "source": []
  },
  {
   "cell_type": "code",
   "execution_count": null,
   "metadata": {
    "notebookRunGroups": {
     "groupValue": "1"
    }
   },
   "outputs": [],
   "source": [
    "PD_TABLE = pd.read_html(\n",
    "    table.prettify(), keep_default_na=False, skiprows=1)\n",
    "PD_TABLE[0] = PD_TABLE[0].drop(10, axis=0)\n",
    "PD_TABLE[0] = PD_TABLE[0].drop(33, axis=0)\n",
    "PD_TABLE[0] = PD_TABLE[0].drop(39, axis=0)\n",
    "PD_TABLE[0] = PD_TABLE[0].drop(40, axis=0)\n",
    "\n",
    "\n",
    "PD_TABLE[0] = PD_TABLE[0].replace('', np.nan)\n",
    "PD_TABLE[0] = PD_TABLE[0].dropna(axis=1, how='all')\n",
    "PD_TABLE[0].columns = header\n",
    "PD_TABLE[0]"
   ]
  },
  {
   "cell_type": "code",
   "execution_count": null,
   "metadata": {},
   "outputs": [],
   "source": [
    "table.prettify()"
   ]
  },
  {
   "cell_type": "code",
   "execution_count": null,
   "metadata": {},
   "outputs": [],
   "source": [
    "for tr in table.findAll('tr'):\n",
    "    print(tr)"
   ]
  },
  {
   "cell_type": "code",
   "execution_count": null,
   "metadata": {},
   "outputs": [],
   "source": [
    "# candel\n",
    "for tr in table.findAll('span', string='$'):\n",
    "    nonfraction_tag = tr.find_next('ix:nonfraction')\n",
    "    nonfraction_tag.string = f\"${nonfraction_tag.text}\"\n",
    "    tr.string.replace_with('')"
   ]
  },
  {
   "cell_type": "code",
   "execution_count": null,
   "metadata": {},
   "outputs": [],
   "source": [
    "ix_nonfraction_elements = table.find_all('ix:nonfraction')\n",
    "for element in ix_nonfraction_elements:\n",
    "    element.string = element.text.replace(',', '')"
   ]
  },
  {
   "cell_type": "code",
   "execution_count": null,
   "metadata": {},
   "outputs": [],
   "source": [
    "def convert_to_numeric(text):\n",
    "    \"\"\"\n",
    "    Convert text to either integer or float if possible, else return the original text.\n",
    "    \"\"\"\n",
    "    # Strip any leading or trailing whitespace\n",
    "    text = text.replace('(', '-')\n",
    "    text = text.strip()\n",
    "\n",
    "    # Check if the text represents an integer\n",
    "    if text.isdigit():\n",
    "        # Convert to integer\n",
    "        converted_value = int(text)\n",
    "        return converted_value\n",
    "    else:\n",
    "        # Try converting to float\n",
    "        try:\n",
    "            converted_value = float(text)\n",
    "            return converted_value\n",
    "        except ValueError:\n",
    "            # If it's neither an integer nor a float, return the original text\n",
    "            return text\n",
    "\n",
    "\n",
    "# Example usage:\n",
    "for element in ix_nonfraction_elements:\n",
    "    numeric_value = convert_to_numeric(element.text)\n",
    "    print(numeric_value)"
   ]
  },
  {
   "cell_type": "code",
   "execution_count": 38,
   "metadata": {
    "notebookRunGroups": {
     "groupValue": "2"
    }
   },
   "outputs": [
    {
     "name": "stdout",
     "output_type": "stream",
     "text": [
      "accessionNumber                                       0000950170-23-060336\n",
      "filingDate                                                      2023-11-07\n",
      "reportDate                                              September 30, 2023\n",
      "acceptanceDateTime                                2023-11-07T16:40:27.000Z\n",
      "act                                                                     34\n",
      "form                                                                  10-Q\n",
      "fileNumber                                                       814-00998\n",
      "filmNumber                                                       231384576\n",
      "items                                                                  NaN\n",
      "size                                                              48188974\n",
      "isXBRL                                                                   1\n",
      "isInlineXBRL                                                             1\n",
      "primaryDocument                                          gsbd-20230930.htm\n",
      "primaryDocDescription                                                 10-Q\n",
      "fileLink                 https://www.sec.gov/Archives/edgar/data/000157...\n",
      "txtFileLink              https://www.sec.gov/Archives/edgar/data/000157...\n",
      "Name: 1, dtype: object\n"
     ]
    }
   ],
   "source": [
    "test_file = filing_links.iloc[1]\n",
    "print(test_file)\n",
    "content = Helper.get_response(\n",
    "    url=test_file['fileLink'], headers=headers)\n",
    "parsed_content = Helper.parse_and_trim(content.content)"
   ]
  },
  {
   "cell_type": "code",
   "execution_count": 48,
   "metadata": {
    "notebookRunGroups": {
     "groupValue": "2"
    }
   },
   "outputs": [
    {
     "name": "stdout",
     "output_type": "stream",
     "text": [
      "Extractiong File: September 30, 2023\n"
     ]
    }
   ],
   "source": [
    "\n",
    "consolidated_schedule_regex = re.compile(\n",
    "    r'(?i)^\\s*.*\\s*SCHEDULE(S|)\\s+OF\\s+INVESTMENTS\\s*.*\\s*$')\n",
    "date_regex_pattern = r'([A-Za-z]+\\s+\\d{1,2},\\s+\\d{4})'\n",
    "\n",
    "\n",
    "def convert_to_numeric(table):\n",
    "    \"\"\"\n",
    "    Convert text to either integer or float if possible, else return the original text.\n",
    "    \"\"\"\n",
    "    ix_nonfraction_elements = table.find_all('ix:nonfraction')\n",
    "    for element in ix_nonfraction_elements:\n",
    "        # Corrected this line to use element.text\n",
    "\n",
    "        text = element.text.replace(',', '')\n",
    "        # Moved this line before stripping whitespace\n",
    "        text = text.strip()\n",
    "\n",
    "        # Check if the text represents an integer\n",
    "        if text.isdigit():\n",
    "            # Convert to integer\n",
    "            converted_value = int(text)\n",
    "        else:\n",
    "            # Try converting to float\n",
    "            try:\n",
    "                converted_value = float(text)\n",
    "            except ValueError:\n",
    "                # If it's neither an integer nor a float, keep the original text\n",
    "                converted_value = text\n",
    "\n",
    "        # Replace the text content of the element with the converted value\n",
    "        element.string = str(converted_value)\n",
    "\n",
    "    return table\n",
    "\n",
    "\n",
    "def convert_currency_symbols(table, currency_symbols):\n",
    "    \"\"\"\n",
    "    Convert currency symbols to a consistent format and replace original symbols with an empty string.\n",
    "\n",
    "    Args:\n",
    "    - table: BeautifulSoup object representing the HTML table\n",
    "    - currency_symbols: List of currency symbols to be converted\n",
    "\n",
    "    Returns:\n",
    "    - Modified BeautifulSoup object with converted currency symbols\n",
    "    \"\"\"\n",
    "    for currency_symbol in currency_symbols:\n",
    "        for tr in table.findAll('span', string=currency_symbol):\n",
    "            nonfraction_tag = tr.find_next('ix:nonfraction')\n",
    "            nonfraction_tag.string = f\"{currency_symbol} {nonfraction_tag.text}\"\n",
    "            tr.string.replace_with('')\n",
    "\n",
    "    return table\n",
    "\n",
    "\n",
    "def drop_if_contain(pattern, df):\n",
    "    matching_rows = df.apply(\n",
    "        lambda row: row.str.contains(pattern, flags=re.IGNORECASE, regex=True).any(), axis=1)\n",
    "    df = df[~matching_rows]\n",
    "    return df\n",
    "\n",
    "\n",
    "def ExtractTable(content, report_Date) -> pd.DataFrame:\n",
    "    master_table = pd.DataFrame()\n",
    "    print(f\"Extractiong File: {report_Date}\")\n",
    "    for tag in content.findAll(string=consolidated_schedule_regex):\n",
    "        try:\n",
    "            date_matches = re.findall(date_regex_pattern, tag.text)\n",
    "        except Exception as e:\n",
    "            print(f'Could not find date on extract_tables() : {e}')\n",
    "\n",
    "        if date_matches and len(date_matches) == 1:\n",
    "            table_date = date_matches[0]\n",
    "            if table_date is not None and unicodedata.normalize('NFKD', table_date) == unicodedata.normalize('NFKD', report_Date):\n",
    "                html_table = tag.find_next('table')\n",
    "                # we perform more cleaning before\n",
    "                # taking the first row and making it the header for that table\n",
    "                first_row = html_table.find_all('tr')[0]\n",
    "                headers = [cell.get_text(strip=True) for cell in first_row.find_all(\n",
    "                    'td') if cell.get_text(strip=True)]\n",
    "                if r'Cost' in headers:\n",
    "                    # adding all currency sign\n",
    "                    convert_to_numeric(html_table)\n",
    "\n",
    "                    currency_symbols = ['$', 'CAD', 'GBP', '€']\n",
    "                    html_table = convert_currency_symbols(\n",
    "                        html_table, currency_symbols)\n",
    "\n",
    "                    new_table = pd.read_html(\n",
    "                        html_table.prettify(), skiprows=1)[0]\n",
    "\n",
    "                    pattern = r'^([Tt]otal)'\n",
    "                    new_table = drop_if_contain(pattern, new_table)\n",
    "\n",
    "                    new_table = new_table.replace('', np.nan)\n",
    "                    # new_table = new_table.dropna(axis=1, how='all')\n",
    "                    # new_table.columns = headers\n",
    "\n",
    "                    if master_table is None:\n",
    "                        master_table = new_table\n",
    "                    else:\n",
    "                        master_table = pd.concat(\n",
    "                            [master_table, new_table], ignore_index=True)\n",
    "\n",
    "    return master_table\n",
    "\n",
    "\n",
    "data = ExtractTable(parsed_content, test_file['reportDate'])\n",
    "data.to_excel('test.xlsx')"
   ]
  },
  {
   "cell_type": "code",
   "execution_count": 49,
   "metadata": {},
   "outputs": [
    {
     "data": {
      "text/html": [
       "<div>\n",
       "<style scoped>\n",
       "    .dataframe tbody tr th:only-of-type {\n",
       "        vertical-align: middle;\n",
       "    }\n",
       "\n",
       "    .dataframe tbody tr th {\n",
       "        vertical-align: top;\n",
       "    }\n",
       "\n",
       "    .dataframe thead th {\n",
       "        text-align: right;\n",
       "    }\n",
       "</style>\n",
       "<table border=\"1\" class=\"dataframe\">\n",
       "  <thead>\n",
       "    <tr style=\"text-align: right;\">\n",
       "      <th></th>\n",
       "      <th>0</th>\n",
       "      <th>1</th>\n",
       "      <th>2</th>\n",
       "      <th>3</th>\n",
       "      <th>4</th>\n",
       "      <th>5</th>\n",
       "      <th>6</th>\n",
       "      <th>7</th>\n",
       "      <th>8</th>\n",
       "      <th>9</th>\n",
       "      <th>10</th>\n",
       "      <th>11</th>\n",
       "      <th>12</th>\n",
       "      <th>13</th>\n",
       "      <th>14</th>\n",
       "      <th>15</th>\n",
       "      <th>16</th>\n",
       "      <th>17</th>\n",
       "    </tr>\n",
       "  </thead>\n",
       "  <tbody>\n",
       "    <tr>\n",
       "      <th>0</th>\n",
       "      <td>1st Lien/Senior Secured Debt -  196.24  %</td>\n",
       "      <td>NaN</td>\n",
       "      <td>NaN</td>\n",
       "      <td>NaN</td>\n",
       "      <td>NaN</td>\n",
       "      <td>NaN</td>\n",
       "      <td>NaN</td>\n",
       "      <td>NaN</td>\n",
       "      <td>NaN</td>\n",
       "      <td>NaN</td>\n",
       "      <td>NaN</td>\n",
       "      <td>NaN</td>\n",
       "      <td>NaN</td>\n",
       "      <td>NaN</td>\n",
       "      <td>NaN</td>\n",
       "      <td>NaN</td>\n",
       "      <td>NaN</td>\n",
       "      <td>NaN</td>\n",
       "    </tr>\n",
       "    <tr>\n",
       "      <th>1</th>\n",
       "      <td>1272775 B.C. LTD. (dba Everest Clinical Research)</td>\n",
       "      <td>Professional Services</td>\n",
       "      <td>11.54  %</td>\n",
       "      <td>NaN</td>\n",
       "      <td>S +  6.0  %</td>\n",
       "      <td>11/06/26</td>\n",
       "      <td>NaN</td>\n",
       "      <td>NaN</td>\n",
       "      <td>$ 9171</td>\n",
       "      <td>NaN</td>\n",
       "      <td>NaN</td>\n",
       "      <td>$ 9092</td>\n",
       "      <td>NaN</td>\n",
       "      <td>NaN</td>\n",
       "      <td>$ 9056</td>\n",
       "      <td>NaN</td>\n",
       "      <td>(5) (6) (7)</td>\n",
       "      <td>NaN</td>\n",
       "    </tr>\n",
       "    <tr>\n",
       "      <th>2</th>\n",
       "      <td>1272775 B.C. LTD. (dba Everest Clinical Research)</td>\n",
       "      <td>Professional Services</td>\n",
       "      <td>14.5  %</td>\n",
       "      <td>NaN</td>\n",
       "      <td>P +  6.0  %</td>\n",
       "      <td>11/06/26</td>\n",
       "      <td>NaN</td>\n",
       "      <td>NaN</td>\n",
       "      <td>919</td>\n",
       "      <td>NaN</td>\n",
       "      <td>NaN</td>\n",
       "      <td>874</td>\n",
       "      <td>NaN</td>\n",
       "      <td>NaN</td>\n",
       "      <td>871</td>\n",
       "      <td>NaN</td>\n",
       "      <td>(5) (6) (7) (8)</td>\n",
       "      <td>NaN</td>\n",
       "    </tr>\n",
       "    <tr>\n",
       "      <th>3</th>\n",
       "      <td>1272775 B.C. LTD. (dba Everest Clinical Research)</td>\n",
       "      <td>Professional Services</td>\n",
       "      <td>12.2  %</td>\n",
       "      <td>NaN</td>\n",
       "      <td>CDN P +  4.75  %</td>\n",
       "      <td>11/06/26</td>\n",
       "      <td>NaN</td>\n",
       "      <td>NaN</td>\n",
       "      <td>CAD 454</td>\n",
       "      <td>NaN</td>\n",
       "      <td>NaN</td>\n",
       "      <td>339</td>\n",
       "      <td>NaN</td>\n",
       "      <td>NaN</td>\n",
       "      <td>330</td>\n",
       "      <td>NaN</td>\n",
       "      <td>(5) (6) (7)</td>\n",
       "      <td>NaN</td>\n",
       "    </tr>\n",
       "    <tr>\n",
       "      <th>4</th>\n",
       "      <td>3SI Security Systems, Inc.</td>\n",
       "      <td>Commercial Services &amp; Supplies</td>\n",
       "      <td>12.05  %</td>\n",
       "      <td>NaN</td>\n",
       "      <td>S +  6.5  %</td>\n",
       "      <td>12/16/26</td>\n",
       "      <td>NaN</td>\n",
       "      <td>NaN</td>\n",
       "      <td>13250</td>\n",
       "      <td>NaN</td>\n",
       "      <td>NaN</td>\n",
       "      <td>13122</td>\n",
       "      <td>NaN</td>\n",
       "      <td>NaN</td>\n",
       "      <td>12554</td>\n",
       "      <td>NaN</td>\n",
       "      <td>(7)</td>\n",
       "      <td>NaN</td>\n",
       "    </tr>\n",
       "    <tr>\n",
       "      <th>...</th>\n",
       "      <td>...</td>\n",
       "      <td>...</td>\n",
       "      <td>...</td>\n",
       "      <td>...</td>\n",
       "      <td>...</td>\n",
       "      <td>...</td>\n",
       "      <td>...</td>\n",
       "      <td>...</td>\n",
       "      <td>...</td>\n",
       "      <td>...</td>\n",
       "      <td>...</td>\n",
       "      <td>...</td>\n",
       "      <td>...</td>\n",
       "      <td>...</td>\n",
       "      <td>...</td>\n",
       "      <td>...</td>\n",
       "      <td>...</td>\n",
       "      <td>...</td>\n",
       "    </tr>\n",
       "    <tr>\n",
       "      <th>392</th>\n",
       "      <td>Warrants -  0.02  %</td>\n",
       "      <td>NaN</td>\n",
       "      <td>NaN</td>\n",
       "      <td>NaN</td>\n",
       "      <td>NaN</td>\n",
       "      <td>NaN</td>\n",
       "      <td>NaN</td>\n",
       "      <td>NaN</td>\n",
       "      <td>NaN</td>\n",
       "      <td>NaN</td>\n",
       "      <td>NaN</td>\n",
       "      <td>NaN</td>\n",
       "      <td>NaN</td>\n",
       "      <td>NaN</td>\n",
       "      <td>NaN</td>\n",
       "      <td>NaN</td>\n",
       "      <td>NaN</td>\n",
       "      <td>NaN</td>\n",
       "    </tr>\n",
       "    <tr>\n",
       "      <th>393</th>\n",
       "      <td>CloudBees, Inc.</td>\n",
       "      <td>Software</td>\n",
       "      <td>NaN</td>\n",
       "      <td>11/24/21</td>\n",
       "      <td>NaN</td>\n",
       "      <td>333980</td>\n",
       "      <td>NaN</td>\n",
       "      <td>NaN</td>\n",
       "      <td>$ 1849</td>\n",
       "      <td>NaN</td>\n",
       "      <td>NaN</td>\n",
       "      <td>$ 327</td>\n",
       "      <td>NaN</td>\n",
       "      <td>(6) (7) (12)</td>\n",
       "      <td>NaN</td>\n",
       "      <td>NaN</td>\n",
       "      <td>NaN</td>\n",
       "      <td>NaN</td>\n",
       "    </tr>\n",
       "    <tr>\n",
       "      <th>394</th>\n",
       "      <td>KDOR Holdings Inc. (dba Senneca Holdings)</td>\n",
       "      <td>Building Products</td>\n",
       "      <td>NaN</td>\n",
       "      <td>06/22/20</td>\n",
       "      <td>NaN</td>\n",
       "      <td>59</td>\n",
       "      <td>NaN</td>\n",
       "      <td>NaN</td>\n",
       "      <td>—</td>\n",
       "      <td>NaN</td>\n",
       "      <td>NaN</td>\n",
       "      <td>—</td>\n",
       "      <td>NaN</td>\n",
       "      <td>(6) (7) (12)</td>\n",
       "      <td>NaN</td>\n",
       "      <td>NaN</td>\n",
       "      <td>NaN</td>\n",
       "      <td>NaN</td>\n",
       "    </tr>\n",
       "    <tr>\n",
       "      <th>395</th>\n",
       "      <td>KDOR Holdings Inc. (dba Senneca Holdings)</td>\n",
       "      <td>Building Products</td>\n",
       "      <td>NaN</td>\n",
       "      <td>05/29/20</td>\n",
       "      <td>NaN</td>\n",
       "      <td>2812</td>\n",
       "      <td>NaN</td>\n",
       "      <td>NaN</td>\n",
       "      <td>—</td>\n",
       "      <td>NaN</td>\n",
       "      <td>NaN</td>\n",
       "      <td>—</td>\n",
       "      <td>NaN</td>\n",
       "      <td>(6) (7) (12)</td>\n",
       "      <td>NaN</td>\n",
       "      <td>NaN</td>\n",
       "      <td>NaN</td>\n",
       "      <td>NaN</td>\n",
       "    </tr>\n",
       "    <tr>\n",
       "      <th>396</th>\n",
       "      <td>KDOR Holdings Inc. (dba Senneca Holdings)</td>\n",
       "      <td>Building Products</td>\n",
       "      <td>NaN</td>\n",
       "      <td>05/29/20</td>\n",
       "      <td>NaN</td>\n",
       "      <td>294</td>\n",
       "      <td>NaN</td>\n",
       "      <td>NaN</td>\n",
       "      <td>—</td>\n",
       "      <td>NaN</td>\n",
       "      <td>NaN</td>\n",
       "      <td>—</td>\n",
       "      <td>NaN</td>\n",
       "      <td>(6) (7) (12)</td>\n",
       "      <td>NaN</td>\n",
       "      <td>NaN</td>\n",
       "      <td>NaN</td>\n",
       "      <td>NaN</td>\n",
       "    </tr>\n",
       "  </tbody>\n",
       "</table>\n",
       "<p>397 rows × 18 columns</p>\n",
       "</div>"
      ],
      "text/plain": [
       "                                                    0   \\\n",
       "0            1st Lien/Senior Secured Debt -  196.24  %   \n",
       "1    1272775 B.C. LTD. (dba Everest Clinical Research)   \n",
       "2    1272775 B.C. LTD. (dba Everest Clinical Research)   \n",
       "3    1272775 B.C. LTD. (dba Everest Clinical Research)   \n",
       "4                           3SI Security Systems, Inc.   \n",
       "..                                                 ...   \n",
       "392                                Warrants -  0.02  %   \n",
       "393                                    CloudBees, Inc.   \n",
       "394          KDOR Holdings Inc. (dba Senneca Holdings)   \n",
       "395          KDOR Holdings Inc. (dba Senneca Holdings)   \n",
       "396          KDOR Holdings Inc. (dba Senneca Holdings)   \n",
       "\n",
       "                                 1         2         3                 4   \\\n",
       "0                               NaN       NaN       NaN               NaN   \n",
       "1             Professional Services  11.54  %       NaN       S +  6.0  %   \n",
       "2             Professional Services   14.5  %       NaN       P +  6.0  %   \n",
       "3             Professional Services   12.2  %       NaN  CDN P +  4.75  %   \n",
       "4    Commercial Services & Supplies  12.05  %       NaN       S +  6.5  %   \n",
       "..                              ...       ...       ...               ...   \n",
       "392                             NaN       NaN       NaN               NaN   \n",
       "393                        Software       NaN  11/24/21               NaN   \n",
       "394               Building Products       NaN  06/22/20               NaN   \n",
       "395               Building Products       NaN  05/29/20               NaN   \n",
       "396               Building Products       NaN  05/29/20               NaN   \n",
       "\n",
       "           5    6    7        8    9    10      11   12            13      14  \\\n",
       "0         NaN  NaN  NaN      NaN  NaN  NaN     NaN  NaN           NaN     NaN   \n",
       "1    11/06/26  NaN  NaN   $ 9171  NaN  NaN  $ 9092  NaN           NaN  $ 9056   \n",
       "2    11/06/26  NaN  NaN      919  NaN  NaN     874  NaN           NaN     871   \n",
       "3    11/06/26  NaN  NaN  CAD 454  NaN  NaN     339  NaN           NaN     330   \n",
       "4    12/16/26  NaN  NaN    13250  NaN  NaN   13122  NaN           NaN   12554   \n",
       "..        ...  ...  ...      ...  ...  ...     ...  ...           ...     ...   \n",
       "392       NaN  NaN  NaN      NaN  NaN  NaN     NaN  NaN           NaN     NaN   \n",
       "393    333980  NaN  NaN   $ 1849  NaN  NaN   $ 327  NaN  (6) (7) (12)     NaN   \n",
       "394        59  NaN  NaN        —  NaN  NaN       —  NaN  (6) (7) (12)     NaN   \n",
       "395      2812  NaN  NaN        —  NaN  NaN       —  NaN  (6) (7) (12)     NaN   \n",
       "396       294  NaN  NaN        —  NaN  NaN       —  NaN  (6) (7) (12)     NaN   \n",
       "\n",
       "      15               16   17  \n",
       "0    NaN              NaN  NaN  \n",
       "1    NaN      (5) (6) (7)  NaN  \n",
       "2    NaN  (5) (6) (7) (8)  NaN  \n",
       "3    NaN      (5) (6) (7)  NaN  \n",
       "4    NaN              (7)  NaN  \n",
       "..   ...              ...  ...  \n",
       "392  NaN              NaN  NaN  \n",
       "393  NaN              NaN  NaN  \n",
       "394  NaN              NaN  NaN  \n",
       "395  NaN              NaN  NaN  \n",
       "396  NaN              NaN  NaN  \n",
       "\n",
       "[397 rows x 18 columns]"
      ]
     },
     "execution_count": 49,
     "metadata": {},
     "output_type": "execute_result"
    }
   ],
   "source": [
    "data"
   ]
  },
  {
   "cell_type": "code",
   "execution_count": null,
   "metadata": {},
   "outputs": [],
   "source": []
  }
 ],
 "metadata": {
  "kernelspec": {
   "display_name": "base",
   "language": "python",
   "name": "python3"
  },
  "language_info": {
   "codemirror_mode": {
    "name": "ipython",
    "version": 3
   },
   "file_extension": ".py",
   "mimetype": "text/x-python",
   "name": "python",
   "nbconvert_exporter": "python",
   "pygments_lexer": "ipython3",
   "version": "3.10.13"
  }
 },
 "nbformat": 4,
 "nbformat_minor": 2
}
