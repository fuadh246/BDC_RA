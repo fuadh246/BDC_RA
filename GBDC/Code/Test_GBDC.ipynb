{
 "cells": [
  {
   "cell_type": "code",
   "execution_count": null,
   "metadata": {},
   "outputs": [],
   "source": [
    "from bs4 import BeautifulSoup\n",
    "import re\n",
    "import unicodedata\n",
    "import pandas as pd\n",
    "import numpy as np\n",
    "import html5lib\n",
    "import requests\n",
    "from openpyxl import Workbook\n",
    "from datetime import datetime\n",
    "import webbrowser\n",
    "\n",
    "def parse_and_trim(content, content_type):\n",
    "    if content_type == 'HTML':\n",
    "        soup = BeautifulSoup(content, 'html.parser')\n",
    "    else:\n",
    "        soup = BeautifulSoup(content, 'html.parser')\n",
    "    for tag in soup.recursiveChildGenerator():\n",
    "        try:\n",
    "            tag.attrs = None\n",
    "        except AttributeError:\n",
    "            pass\n",
    "    for linebreak in soup.find_all('br'):\n",
    "        linebreak.extract()\n",
    "    return soup"
   ]
  },
  {
   "cell_type": "code",
   "execution_count": null,
   "metadata": {},
   "outputs": [],
   "source": [
    "headers = {\n",
    "    'User-Agent': 'GOLUB CAPITAL BDC, Inc.'\n",
    "}\n",
    "filing_links = pd.read_excel(\n",
    "    \"../GBDC__sec_filing_links.xlsx\")\n",
    "filing_links.head(5)"
   ]
  },
  {
   "cell_type": "code",
   "execution_count": null,
   "metadata": {},
   "outputs": [],
   "source": [
    "date_columns = ['Filing date', 'Reporting date']\n",
    "for col in date_columns:\n",
    "    filing_links[col] = pd.to_datetime(filing_links[col], format='%Y-%m-%d')\n",
    "for col in date_columns:\n",
    "    filing_links[col] = filing_links[col].dt.strftime(\"%B %d, %Y\")\n",
    "filing_links.head(5)"
   ]
  },
  {
   "cell_type": "code",
   "execution_count": null,
   "metadata": {},
   "outputs": [],
   "source": [
    "# index=-2\n",
    "# url, date = filing_links.iloc[index]['Filings URL'], filing_links.iloc[index]['Reporting date']\n",
    "# print(url, date)\n",
    "# response = requests.get(url, headers=headers)\n",
    "# content = parse_and_trim(response.content, 'HTML')\n",
    "# search_texts = [\n",
    "#     'Consolidated Schedule of Investments',\n",
    "#     'Consolidated Schedule of Investments - (continued)',\n",
    "#         'Consolidated Schedule of Investments (unaudited) - (continued)',\n",
    "#         'Consolidated Schedule of Investments (unaudited)']\n",
    "# all_tags=content.find_all(text=search_texts)\n",
    "# for tag in all_tags:\n",
    "#     print(tag,tag.next)\n",
    "\n"
   ]
  },
  {
   "cell_type": "code",
   "execution_count": null,
   "metadata": {},
   "outputs": [],
   "source": [
    "for qtr_date, html_link in zip(filing_links['Reporting date'], filing_links['Filings URL']):\n",
    "    print(html_link, qtr_date)\n",
    "    response = requests.get(html_link, headers=headers)\n",
    "    content = parse_and_trim(response.content, 'HTML')\n",
    "    search_texts = [\n",
    "    'Consolidated Schedule of Investments',\n",
    "    'Consolidated Schedule of Investments - (continued)',\n",
    "        'Consolidated Schedule of Investments (unaudited) - (continued)',\n",
    "        'Consolidated Schedule of Investments (unaudited)',\n",
    "        'Consolidated Schedule of Investments (unaudited) - continued',\n",
    "        'Consolidated Schedule of Investments (unaudited) - (continued)',\n",
    "        'Consolidated Schedule of Investments (unaudited)',\n",
    "        'Consolidated Schedule of Investments (unaudited) - (continued)',\n",
    "        'Consolidated Schedule of Investments - (continued)'\n",
    "        ]\n",
    "    pattern = r'Consolidated Schedule of Investments(?: \\(-?continued\\))? ?(?:- ?\\(unaudited\\))?'\n",
    "    consolidated_schedule_regex = re.compile(r'^\\s*.*\\s*CONSOLIDATED\\s+SCHEDULE(S|)\\s+OF\\s+INVESTMENTS\\s*.*\\s*$')\n",
    "    # all_tags=content.find_all(text=consolidated_schedule_regex)\n",
    "    # for tag in all_tags:\n",
    "    for tag in content.find_all(text=pattern):\n",
    "        print(tag,tag.next)\n"
   ]
  },
  {
   "cell_type": "code",
   "execution_count": null,
   "metadata": {},
   "outputs": [],
   "source": []
  }
 ],
 "metadata": {
  "kernelspec": {
   "display_name": "base",
   "language": "python",
   "name": "python3"
  },
  "language_info": {
   "codemirror_mode": {
    "name": "ipython",
    "version": 3
   },
   "file_extension": ".py",
   "mimetype": "text/x-python",
   "name": "python",
   "nbconvert_exporter": "python",
   "pygments_lexer": "ipython3",
   "version": "3.10.9"
  },
  "orig_nbformat": 4
 },
 "nbformat": 4,
 "nbformat_minor": 2
}
