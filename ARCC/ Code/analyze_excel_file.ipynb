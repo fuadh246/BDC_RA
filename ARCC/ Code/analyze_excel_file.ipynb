{
 "cells": [
  {
   "cell_type": "code",
   "execution_count": 15,
   "metadata": {},
   "outputs": [],
   "source": [
    "import os\n",
    "import pandas as pd"
   ]
  },
  {
   "cell_type": "code",
   "execution_count": 16,
   "metadata": {},
   "outputs": [],
   "source": [
    "path = '/Users/fuadhassan/Desktop/BDC_RA/ARCC/ARCC_Investment.xlsx'\n",
    "xls = pd.ExcelFile(path)\n",
    "all_sheets = pd.read_excel(path, sheet_name=None)"
   ]
  },
  {
   "cell_type": "code",
   "execution_count": 23,
   "metadata": {},
   "outputs": [
    {
     "name": "stdout",
     "output_type": "stream",
     "text": [
      "DataFrame name: September_30_2010 : (800, 9)\n",
      "DataFrame name: December_31_2010 : (1071, 12)\n",
      "DataFrame name: March_31_2011 : (906, 9)\n",
      "DataFrame name: June_30_2011 : (379, 7)\n",
      "DataFrame name: September_30_2011 : (340, 7)\n",
      "DataFrame name: December_31_2011 : (1181, 12)\n",
      "DataFrame name: March_31_2012 : (2864, 7)\n",
      "DataFrame name: June_30_2012 : (336, 7)\n",
      "DataFrame name: September_30_2012 : (360, 7)\n",
      "DataFrame name: December_31_2012 : (1075, 12)\n",
      "DataFrame name: March_31_2013 : (714, 9)\n",
      "DataFrame name: June_30_2013 : (1245, 13)\n",
      "DataFrame name: September_30_2013 : (27, 7)\n",
      "DataFrame name: December_31_2013 : (1100, 13)\n",
      "DataFrame name: March_31_2014 : (1326, 13)\n",
      "DataFrame name: June_30_2014 : (1354, 13)\n",
      "DataFrame name: September_30_2014 : (1357, 12)\n",
      "DataFrame name: December_31_2014 : (1190, 11)\n",
      "DataFrame name: March_31_2015 : (1496, 13)\n",
      "DataFrame name: June_30_2015 : (1542, 13)\n",
      "DataFrame name: September_30_2015 : (1572, 13)\n",
      "DataFrame name: December_31_2015 : (1379, 11)\n",
      "DataFrame name: March_31_2016 : (20, 7)\n",
      "DataFrame name: June_30_2016 : (22, 7)\n",
      "DataFrame name: September_30_2016 : (24, 7)\n",
      "DataFrame name: December_31_2016 : (1429, 11)\n",
      "DataFrame name: March_31_2017 : (32, 7)\n",
      "DataFrame name: June_30_2017 : (33, 7)\n",
      "DataFrame name: September_30_2017 : (27, 7)\n",
      "DataFrame name: December_31_2017 : (28, 7)\n",
      "DataFrame name: March_31_2018 : (27, 7)\n",
      "DataFrame name: June_30_2018 : (27, 7)\n",
      "DataFrame name: September_30_2018 : (24, 7)\n",
      "DataFrame name: December_31_2018 : (793, 7)\n",
      "DataFrame name: March_31_2019 : (845, 7)\n",
      "DataFrame name: June_30_2019 : (822, 7)\n",
      "DataFrame name: September_30_2019 : (891, 7)\n",
      "DataFrame name: December_31_2019 : (746, 9)\n",
      "DataFrame name: March_31_2020 : (820, 7)\n",
      "DataFrame name: June_30_2020 : (767, 7)\n",
      "DataFrame name: September_30_2020 : (754, 7)\n",
      "DataFrame name: December_31_2020 : (794, 7)\n",
      "DataFrame name: March_31_2021 : (792, 7)\n",
      "DataFrame name: June_30_2021 : (787, 7)\n",
      "DataFrame name: September_30_2021 : (792, 7)\n",
      "DataFrame name: December_31_2021 : (851, 7)\n",
      "DataFrame name: March_31_2022 : (889, 7)\n",
      "DataFrame name: June_30_2022 : (974, 7)\n",
      "DataFrame name: September_30_2022 : (992, 12)\n",
      "DataFrame name: December_31_2022 : (1022, 15)\n",
      "DataFrame name: March_31_2023 : (1033, 12)\n",
      "DataFrame name: June_30_2023 : (1162, 13)\n"
     ]
    }
   ],
   "source": [
    "dataframes = {}\n",
    "# Loop through each sheet and create a DataFrame in the dictionary\n",
    "for sheet_name, sheet_df in all_sheets.items():\n",
    "    dataframes[sheet_name] = sheet_df\n",
    "for sheet_name, sheet_df in dataframes.items():\n",
    "    print(f\"DataFrame name: {sheet_name.replace(' ','_')} : {sheet_df.shape}\")"
   ]
  }
 ],
 "metadata": {
  "kernelspec": {
   "display_name": "Python 3",
   "language": "python",
   "name": "python3"
  },
  "language_info": {
   "codemirror_mode": {
    "name": "ipython",
    "version": 3
   },
   "file_extension": ".py",
   "mimetype": "text/x-python",
   "name": "python",
   "nbconvert_exporter": "python",
   "pygments_lexer": "ipython3",
   "version": "3.10.0"
  },
  "orig_nbformat": 4
 },
 "nbformat": 4,
 "nbformat_minor": 2
}
