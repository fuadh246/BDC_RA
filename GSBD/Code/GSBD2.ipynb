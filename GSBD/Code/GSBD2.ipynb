{
 "cells": [
  {
   "cell_type": "code",
   "execution_count": 8,
   "metadata": {},
   "outputs": [],
   "source": [
    "import pandas as pd\n",
    "import numpy as np\n",
    "import requests\n",
    "import html5lib\n",
    "from bs4 import BeautifulSoup\n",
    "from datetime import datetime\n",
    "from openpyxl import workbook\n",
    "import re\n",
    "import os\n",
    "import webbrowser\n",
    "import unicodedata\n",
    "from Helper_package import Helper"
   ]
  },
  {
   "cell_type": "code",
   "execution_count": 9,
   "metadata": {},
   "outputs": [
    {
     "name": "stdout",
     "output_type": "stream",
     "text": [
      "Data written to ../GSBC_sec_filing_links.xlsx\n",
      "Filing link recived\n"
     ]
    }
   ],
   "source": [
    "headers = {\n",
    "    'User-Agent': 'Goldman Sachs BDC, Inc. GSBD on NYSE'\n",
    "}\n",
    "CIK = '0001572694'\n",
    "\n",
    "filing_data = Helper.fetch_filing_data(cik=CIK, headers=headers)\n",
    "if filing_data is not None:\n",
    "    # Write DataFrame to Excel file with auto-adjusting column widths\n",
    "    file_name = \"../GSBC_sec_filing_links.xlsx\"\n",
    "    with pd.ExcelWriter(file_name, engine='xlsxwriter') as writer:\n",
    "        filing_data.to_excel(writer, index=False)\n",
    "        worksheet = writer.sheets['Sheet1']\n",
    "        for i, col in enumerate(filing_data.columns):\n",
    "            column_len = max(filing_data[col].astype(\n",
    "                str).str.len().max(), len(col)) + 2\n",
    "            worksheet.set_column(i, i, column_len)\n",
    "\n",
    "    print(f\"Data written to {file_name}\")\n",
    "\n",
    "filing_links = Helper.get_filing_links('../GSBC_sec_filing_links.xlsx')\n",
    "print(\"Filing link recived\")"
   ]
  },
  {
   "cell_type": "code",
   "execution_count": 10,
   "metadata": {},
   "outputs": [
    {
     "name": "stdout",
     "output_type": "stream",
     "text": [
      "Date was converted to '%B %d, %Y' format and back to\n",
      "<class 'pandas.core.series.Series'>\n",
      "RangeIndex: 36 entries, 0 to 35\n",
      "Series name: reportDate\n",
      "Non-Null Count  Dtype \n",
      "--------------  ----- \n",
      "36 non-null     object\n",
      "dtypes: object(1)\n",
      "memory usage: 416.0+ bytes\n"
     ]
    }
   ],
   "source": [
    "filing_links['reportDate'] = pd.to_datetime(\n",
    "    filing_links['reportDate']).dt.strftime(\"%B %d, %Y\")\n",
    "print(\"Date was converted to '%B %d, %Y' format and back to\")\n",
    "filing_links['reportDate'].info()"
   ]
  },
  {
   "cell_type": "code",
   "execution_count": 11,
   "metadata": {},
   "outputs": [
    {
     "name": "stdout",
     "output_type": "stream",
     "text": [
      "<class 'pandas.core.frame.DataFrame'>\n",
      "RangeIndex: 36 entries, 0 to 35\n",
      "Data columns (total 16 columns):\n",
      " #   Column                 Non-Null Count  Dtype  \n",
      "---  ------                 --------------  -----  \n",
      " 0   accessionNumber        36 non-null     object \n",
      " 1   filingDate             36 non-null     object \n",
      " 2   reportDate             36 non-null     object \n",
      " 3   acceptanceDateTime     36 non-null     object \n",
      " 4   act                    36 non-null     int64  \n",
      " 5   form                   36 non-null     object \n",
      " 6   fileNumber             36 non-null     object \n",
      " 7   filmNumber             36 non-null     int64  \n",
      " 8   items                  0 non-null      float64\n",
      " 9   size                   36 non-null     int64  \n",
      " 10  isXBRL                 36 non-null     int64  \n",
      " 11  isInlineXBRL           36 non-null     int64  \n",
      " 12  primaryDocument        36 non-null     object \n",
      " 13  primaryDocDescription  36 non-null     object \n",
      " 14  fileLink               36 non-null     object \n",
      " 15  txtFileLink            36 non-null     object \n",
      "dtypes: float64(1), int64(5), object(10)\n",
      "memory usage: 4.6+ KB\n"
     ]
    }
   ],
   "source": [
    "filing_links.info()"
   ]
  },
  {
   "cell_type": "code",
   "execution_count": 12,
   "metadata": {},
   "outputs": [
    {
     "name": "stdout",
     "output_type": "stream",
     "text": [
      "All Valid Links\n"
     ]
    }
   ],
   "source": [
    "def check_links_validity(filing_links):\n",
    "    '''\n",
    "        Checks the validity of each file link in the DataFrame.\n",
    "    '''\n",
    "    valid_links = []\n",
    "    invalid_links = []\n",
    "    for index, row in filing_links.iterrows():\n",
    "        link = row['fileLink']\n",
    "        try:\n",
    "            response = requests.head(link, headers=headers)\n",
    "            response.raise_for_status()\n",
    "            valid_links.append(link)\n",
    "        except Exception as e:\n",
    "            invalid_links.append((link, str(e)))\n",
    "    if invalid_links:\n",
    "        print(\"\\nInvalid Links:\")\n",
    "        for link, error_message in invalid_links:\n",
    "            print(f\"{link}: {error_message}\")\n",
    "\n",
    "    if len(valid_links) == filing_links.shape[0]:\n",
    "        print(\"All Valid Links\")\n",
    "\n",
    "\n",
    "check_links_validity(filing_links)"
   ]
  },
  {
   "cell_type": "code",
   "execution_count": 13,
   "metadata": {},
   "outputs": [
    {
     "name": "stdout",
     "output_type": "stream",
     "text": [
      "accessionNumber                                       0000950170-24-022198\n",
      "filingDate                                                      2024-02-28\n",
      "reportDate                                               December 31, 2023\n",
      "acceptanceDateTime                                2024-02-28T16:51:23.000Z\n",
      "act                                                                     34\n",
      "form                                                                  10-K\n",
      "fileNumber                                                       814-00998\n",
      "filmNumber                                                        24696411\n",
      "items                                                                  NaN\n",
      "size                                                              43314172\n",
      "isXBRL                                                                   1\n",
      "isInlineXBRL                                                             1\n",
      "primaryDocument                                          gsbd-20231231.htm\n",
      "primaryDocDescription                                                 10-K\n",
      "fileLink                 https://www.sec.gov/Archives/edgar/data/000157...\n",
      "txtFileLink              https://www.sec.gov/Archives/edgar/data/000157...\n",
      "Name: 0, dtype: object\n"
     ]
    }
   ],
   "source": [
    "test_file = filing_links.iloc[0]\n",
    "print(test_file)\n",
    "content = Helper.get_content(Helper.get_response(\n",
    "    url=test_file['fileLink'], headers=headers))"
   ]
  },
  {
   "cell_type": "code",
   "execution_count": 14,
   "metadata": {},
   "outputs": [],
   "source": [
    "def extract_tables(content, report_Date) -> pd.DataFrame:\n",
    "    master_table = pd.DataFrame()\n",
    "    print(f\"Extractiong File: {report_Date}\")\n",
    "    consolidated_schedule_regex = re.compile(r'(?i)^\\s*.*\\s*SCHEDULE(S|)\\s+OF\\s+INVESTMENTS\\s*.*\\s*$')\n",
    "    \n",
    "\n",
    "\n",
    "\n",
    "\n",
    "extract_tables(content=content, report_Date=test_file['reportDate'])"
   ]
  }
 ],
 "metadata": {
  "kernelspec": {
   "display_name": "base",
   "language": "python",
   "name": "python3"
  },
  "language_info": {
   "codemirror_mode": {
    "name": "ipython",
    "version": 3
   },
   "file_extension": ".py",
   "mimetype": "text/x-python",
   "name": "python",
   "nbconvert_exporter": "python",
   "pygments_lexer": "ipython3",
   "version": "3.10.13"
  }
 },
 "nbformat": 4,
 "nbformat_minor": 2
}
