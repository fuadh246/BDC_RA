{
 "cells": [
  {
   "cell_type": "code",
   "execution_count": null,
   "metadata": {},
   "outputs": [],
   "source": [
    "from bs4 import BeautifulSoup\n",
    "import re\n",
    "import unicodedata\n",
    "import pandas as pd\n",
    "import numpy as np\n",
    "import html5lib\n",
    "import requests\n",
    "from openpyxl import Workbook\n",
    "from datetime import datetime\n",
    "import webbrowser\n",
    "import os"
   ]
  },
  {
   "cell_type": "code",
   "execution_count": null,
   "metadata": {},
   "outputs": [],
   "source": [
    "path = '../Test_GBDC_Investment.xlsx'\n",
    "xls = pd.ExcelFile(path)\n",
    "all_sheets = pd.read_excel(path, sheet_name=None)\n",
    "dataframes = {}\n",
    "# Loop through each sheet and create a DataFrame in the dictionary\n",
    "for sheet_name, sheet_df in all_sheets.items():\n",
    "    dataframes[sheet_name.replace(' ', '_')] = sheet_df\n",
    "    print(f\"DataFrame name: {sheet_name} : {sheet_df.shape}\")"
   ]
  },
  {
   "cell_type": "code",
   "execution_count": null,
   "metadata": {},
   "outputs": [],
   "source": [
    "def process_table_fun(soi_table_df, process_tables_shapes):\n",
    "    print(1, 'shape:', soi_table_df.shape)\n",
    "    soi_table_df = soi_table_df.replace(r'^\\s*\\$\\s*$', np.nan, regex=True)\n",
    "    soi_table_df = soi_table_df.replace(r'\\n', '', regex=True)\n",
    "    print(2, 'shape:', soi_table_df.shape)\n",
    "    # fewer non-null values, effectively dropping rows with more than 100 non-null values.\n",
    "    # for index, row in soi_table_df.iterrows():\n",
    "    #     if row.count() > 100:\n",
    "    #         soi_table_df = soi_table_df.drop(index)\n",
    "\n",
    "    pattern = r'Total\\s+Investments'\n",
    "    # Use the apply function to check if the pattern is in any column for each row\n",
    "    matching_rows = soi_table_df.apply(\n",
    "        lambda row: row.str.contains(pattern, flags=re.IGNORECASE, regex=True).any(), axis=1)\n",
    "    # Find the index of the first row that matches the pattern\n",
    "    # Slice the DataFrame to keep only the rows up to and including the first matching row\n",
    "    if soi_table_df[matching_rows].index[0] < 20:\n",
    "        soi_table_df = soi_table_df.loc[:soi_table_df[matching_rows].index[1]].reset_index(\n",
    "            drop=True)\n",
    "    else:\n",
    "        soi_table_df = soi_table_df.loc[:soi_table_df[matching_rows].index[0]].reset_index(\n",
    "            drop=True)\n",
    "\n",
    "    print(0, 'shape:', soi_table_df.shape)\n",
    "    soi_table_df = soi_table_df.dropna(how='all', axis=1).reset_index(\n",
    "        drop=True)\n",
    "\n",
    "    print(3, 'shape:', soi_table_df.shape)\n",
    "    soi_table_df = soi_table_df.dropna(how='all', axis=0).reset_index(\n",
    "        drop=True)\n",
    "\n",
    "    print(4, 'shape:', soi_table_df.shape)\n",
    "    soi_table_df.dropna().reset_index(\n",
    "        drop=True)\n",
    "    print(5, 'shape:', soi_table_df.shape)\n",
    "\n",
    "    pattern = r'Net asset value per common share|How We Addressed the Matter in Our Audit'\n",
    "    matching_rows = soi_table_df.apply(\n",
    "        lambda row: row.str.contains(pattern, flags=re.IGNORECASE, regex=True).any(), axis=1)\n",
    "\n",
    "    # Check if the pattern exists in the DataFrame\n",
    "    if matching_rows.any():\n",
    "        # Extract rows from the first occurrence onwards\n",
    "        soi_table_df = soi_table_df.iloc[matching_rows.idxmax(\n",
    "        )+1:].reset_index(drop=True)\n",
    "\n",
    "    # Reset the index after making modifications\n",
    "    soi_table_df.reset_index(drop=True, inplace=True)\n",
    "\n",
    "    # pattern = r'(?i)investment\\s*type?|investment'\n",
    "    # pattern = 'Investments'\n",
    "    # matching_rows = soi_table_df.apply(\n",
    "    #     lambda row: row.str.contains(pattern, flags=re.IGNORECASE, regex=True).any(), axis=1)\n",
    "\n",
    "    # if matching_rows is not None:\n",
    "    #     soi_table_df = soi_table_df.loc[soi_table_df[matching_rows].index[0]:].reset_index(\n",
    "    #         drop=True)\n",
    "\n",
    "    # second_row_values = soi_table_df.iloc[1]\n",
    "    # for col_idx, value in enumerate(second_row_values):\n",
    "    #     if not pd.isna(value) and not pd.isna(soi_table_df.columns[col_idx]):\n",
    "    #         col_name = soi_table_df.columns[col_idx]\n",
    "    #         new_col_name = f\"{col_name} {str(value)}\"\n",
    "    #         soi_table_df.rename(columns={col_name: new_col_name}, inplace=True)\n",
    "    #         soi_table_df.iloc[2, col_idx] = np.nan\n",
    "    # print(soi_table_df.columns)\n",
    "\n",
    "    # soi_table_df = soi_table_df.rename(\n",
    "    #     columns=soi_table_df.iloc[0]).drop(soi_table_df.index[0])\n",
    "\n",
    "    print(6, 'shape:', soi_table_df.shape)\n",
    "    soi_table_df = soi_table_df.replace('—', 0)\n",
    "    soi_table_df = soi_table_df.replace('-', np.nan)\n",
    "    print(7, 'shape:', soi_table_df.shape)\n",
    "\n",
    "    soi_table_df = soi_table_df.applymap(\n",
    "        lambda x: x.strip() if isinstance(x, str) else x)\n",
    "\n",
    "    process_tables_shapes.append(soi_table_df.shape)\n",
    "\n",
    "    return soi_table_df"
   ]
  },
  {
   "cell_type": "code",
   "execution_count": null,
   "metadata": {},
   "outputs": [],
   "source": [
    "path = '/Users/fuadhassan/Desktop/BDC_RA/GBDC/process_tables_GBDC_Investment.xlsx'\n",
    "writer = pd.ExcelWriter(path, engine='openpyxl')\n",
    "process_tables = {}\n",
    "process_tables_shape = []\n",
    "for dataframe in dataframes:\n",
    "    print(dataframe)\n",
    "    process_tables[dataframe] = process_table_fun(\n",
    "        dataframes[dataframe], process_tables_shape)\n",
    "    print('\\n')\n",
    "    process_tables[dataframe].to_excel(\n",
    "        writer, sheet_name=dataframe.replace(',', ''), index=False)\n",
    "    writer.book .save(path)\n",
    "writer.close()"
   ]
  },
  {
   "cell_type": "code",
   "execution_count": null,
   "metadata": {},
   "outputs": [],
   "source": [
    "process_tables['March_31_2013'].to_csv('test.csv')"
   ]
  },
  {
   "cell_type": "code",
   "execution_count": null,
   "metadata": {},
   "outputs": [],
   "source": [
    "soi_table_df = process_tables['March_31_2013']"
   ]
  },
  {
   "cell_type": "code",
   "execution_count": null,
   "metadata": {},
   "outputs": [],
   "source": [
    "soi_table_df"
   ]
  },
  {
   "cell_type": "code",
   "execution_count": null,
   "metadata": {},
   "outputs": [],
   "source": [
    "\n",
    "pattern = r'(?i)investment\\s*type?|investment'\n",
    "matching_rows = soi_table_df.apply(\n",
    "    lambda row: row.str.contains(pattern, flags=re.IGNORECASE, regex=True).any(), axis=1)\n",
    "soi_table_df = soi_table_df.loc[soi_table_df[matching_rows].index[0]:].reset_index(\n",
    "    drop=True)"
   ]
  },
  {
   "cell_type": "code",
   "execution_count": null,
   "metadata": {},
   "outputs": [],
   "source": [
    "df = soi_table_df\n",
    "\n",
    "# Define the regular expression pattern to match the variations\n",
    "pattern = r'(?i)investment\\s*type?|investment'\n",
    "\n",
    "# Check if any rows match the pattern\n",
    "matching_rows = soi_table_df[~soi_table_df.astype(str).apply(lambda x: x.str.contains(\n",
    "    pattern, flags=re.IGNORECASE, regex=True))['Investment']]\n",
    "matching_rows"
   ]
  },
  {
   "cell_type": "code",
   "execution_count": null,
   "metadata": {},
   "outputs": [],
   "source": [
    "matching_rows"
   ]
  },
  {
   "cell_type": "code",
   "execution_count": null,
   "metadata": {},
   "outputs": [],
   "source": [
    "pattern = r'(?i)investment\\s*type?|investment'\n",
    "\n",
    "# Create a boolean mask for rows where the pattern doesn't match\n",
    "no_match_mask = ~soi_table_df.astype(str).apply(\n",
    "    lambda x: x.str.contains(pattern, flags=re.IGNORECASE, regex=True)).any(axis=1)\n",
    "\n",
    "# Filter rows based on the mask\n",
    "no_match_mask"
   ]
  },
  {
   "cell_type": "code",
   "execution_count": null,
   "metadata": {},
   "outputs": [],
   "source": [
    "import pandas as pd\n",
    "\n",
    "# Sample DataFrame\n",
    "data = {'A': [1, 2, 3],\n",
    "        'B': [4, 5, 6],\n",
    "        'C': [7, 8, 9]}\n",
    "\n",
    "df = pd.DataFrame(data)\n",
    "\n",
    "# Get the number of columns in the DataFrame\n",
    "num_columns = len(df.columns)\n",
    "\n",
    "# Initialize an empty list to store the values of the first row\n",
    "first_row_values = []\n",
    "\n",
    "# Loop through column indices and retrieve the values in the first row\n",
    "for col_idx in range(num_columns):\n",
    "    value = df.iloc[0, col_idx]\n",
    "    first_row_values.append(value)\n",
    "\n",
    "# Print the values of the first row for each column\n",
    "for col_idx, value in enumerate(first_row_values):\n",
    "    print(f\"Value in column {df.columns[col_idx]} (index {col_idx}): {value}\")"
   ]
  },
  {
   "cell_type": "code",
   "execution_count": null,
   "metadata": {},
   "outputs": [],
   "source": []
  }
 ],
 "metadata": {
  "kernelspec": {
   "display_name": "base",
   "language": "python",
   "name": "python3"
  },
  "language_info": {
   "codemirror_mode": {
    "name": "ipython",
    "version": 3
   },
   "file_extension": ".py",
   "mimetype": "text/x-python",
   "name": "python",
   "nbconvert_exporter": "python",
   "pygments_lexer": "ipython3",
   "version": "3.10.13"
  }
 },
 "nbformat": 4,
 "nbformat_minor": 2
}
