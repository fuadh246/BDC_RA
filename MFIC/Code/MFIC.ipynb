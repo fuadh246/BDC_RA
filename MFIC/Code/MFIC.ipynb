{
 "cells": [
  {
   "cell_type": "code",
   "execution_count": 53,
   "metadata": {},
   "outputs": [],
   "source": [
    "from bs4 import BeautifulSoup\n",
    "import re\n",
    "import unicodedata\n",
    "import pandas as pd\n",
    "import numpy as np\n",
    "import html5lib\n",
    "import requests\n",
    "from openpyxl import Workbook\n",
    "from datetime import datetime\n",
    "import webbrowser\n",
    "import os\n",
    "\n",
    "\n",
    "def parse_and_trim(content, content_type):\n",
    "    if content_type == \"HTML\":\n",
    "        soup = BeautifulSoup(content, 'html.parser')\n",
    "    else:\n",
    "        soup = BeautifulSoup(content, 'html.parser')\n",
    "    for tag in soup.recursiveChildGenerator():\n",
    "        try:\n",
    "            tag.attrs = None\n",
    "        except AttributeError:\n",
    "            pass\n",
    "    for linebreak in soup.find_all('br'):\n",
    "        linebreak.extract()\n",
    "    return soup"
   ]
  },
  {
   "cell_type": "code",
   "execution_count": 58,
   "metadata": {},
   "outputs": [
    {
     "data": {
      "text/html": [
       "<div>\n",
       "<style scoped>\n",
       "    .dataframe tbody tr th:only-of-type {\n",
       "        vertical-align: middle;\n",
       "    }\n",
       "\n",
       "    .dataframe tbody tr th {\n",
       "        vertical-align: top;\n",
       "    }\n",
       "\n",
       "    .dataframe thead th {\n",
       "        text-align: right;\n",
       "    }\n",
       "</style>\n",
       "<table border=\"1\" class=\"dataframe\">\n",
       "  <thead>\n",
       "    <tr style=\"text-align: right;\">\n",
       "      <th></th>\n",
       "      <th>Form type</th>\n",
       "      <th>Form description</th>\n",
       "      <th>Filing date</th>\n",
       "      <th>Reporting date</th>\n",
       "      <th>url</th>\n",
       "    </tr>\n",
       "  </thead>\n",
       "  <tbody>\n",
       "    <tr>\n",
       "      <th>0</th>\n",
       "      <td>10-Q</td>\n",
       "      <td>Quarterly report [Sections 13 or 15(d)]</td>\n",
       "      <td>November 07, 2023</td>\n",
       "      <td>September 30, 2023</td>\n",
       "      <td>https://www.sec.gov/Archives/edgar/data/127875...</td>\n",
       "    </tr>\n",
       "    <tr>\n",
       "      <th>1</th>\n",
       "      <td>10-Q</td>\n",
       "      <td>Quarterly report [Sections 13 or 15(d)]</td>\n",
       "      <td>August 02, 2023</td>\n",
       "      <td>June 30, 2023</td>\n",
       "      <td>https://www.sec.gov/Archives/edgar/data/127875...</td>\n",
       "    </tr>\n",
       "    <tr>\n",
       "      <th>2</th>\n",
       "      <td>10-Q</td>\n",
       "      <td>Quarterly report [Sections 13 or 15(d)]</td>\n",
       "      <td>May 02, 2023</td>\n",
       "      <td>March 31, 2023</td>\n",
       "      <td>https://www.sec.gov/Archives/edgar/data/127875...</td>\n",
       "    </tr>\n",
       "    <tr>\n",
       "      <th>3</th>\n",
       "      <td>10-KT</td>\n",
       "      <td>Transition reports [Rule 13a-10 or 15d-10]</td>\n",
       "      <td>February 21, 2023</td>\n",
       "      <td>December 31, 2022</td>\n",
       "      <td>https://www.sec.gov/Archives/edgar/data/127875...</td>\n",
       "    </tr>\n",
       "    <tr>\n",
       "      <th>4</th>\n",
       "      <td>10-Q</td>\n",
       "      <td>Quarterly report [Sections 13 or 15(d)]</td>\n",
       "      <td>November 03, 2022</td>\n",
       "      <td>September 30, 2022</td>\n",
       "      <td>https://www.sec.gov/Archives/edgar/data/127875...</td>\n",
       "    </tr>\n",
       "  </tbody>\n",
       "</table>\n",
       "</div>"
      ],
      "text/plain": [
       "  Form type                            Form description        Filing date  \\\n",
       "0      10-Q     Quarterly report [Sections 13 or 15(d)]  November 07, 2023   \n",
       "1      10-Q     Quarterly report [Sections 13 or 15(d)]    August 02, 2023   \n",
       "2      10-Q     Quarterly report [Sections 13 or 15(d)]       May 02, 2023   \n",
       "3     10-KT  Transition reports [Rule 13a-10 or 15d-10]  February 21, 2023   \n",
       "4      10-Q     Quarterly report [Sections 13 or 15(d)]  November 03, 2022   \n",
       "\n",
       "       Reporting date                                                url  \n",
       "0  September 30, 2023  https://www.sec.gov/Archives/edgar/data/127875...  \n",
       "1       June 30, 2023  https://www.sec.gov/Archives/edgar/data/127875...  \n",
       "2      March 31, 2023  https://www.sec.gov/Archives/edgar/data/127875...  \n",
       "3   December 31, 2022  https://www.sec.gov/Archives/edgar/data/127875...  \n",
       "4  September 30, 2022  https://www.sec.gov/Archives/edgar/data/127875...  "
      ]
     },
     "execution_count": 58,
     "metadata": {},
     "output_type": "execute_result"
    }
   ],
   "source": [
    "headers = {\n",
    "    'User-Agent': 'GOLUB CAPITAL BDC, Inc.'\n",
    "}\n",
    "filing_links = pd.read_excel('../MFIC__sec_filing_links.xlsx')\n",
    "date_columns = ['Filing date', 'Reporting date']\n",
    "for col in date_columns:\n",
    "    filing_links[col] = pd.to_datetime(filing_links[col], format='%Y-%m-%d')\n",
    "for col in date_columns:\n",
    "    filing_links[col] = filing_links[col].dt.strftime(\"%B %d, %Y\")\n",
    "filing_links.head(5)"
   ]
  },
  {
   "cell_type": "code",
   "execution_count": 59,
   "metadata": {},
   "outputs": [],
   "source": [
    "def extract_tables(soup_content, qtr_date):\n",
    "    master_table = None\n",
    "    print(qtr_date)\n",
    "    # if qtr_date == 'December 31, 2015' or qtr_date == 'June 30, 2016':\n",
    "    #     consolidated_schedule_regex = re.compile(\n",
    "    #         r'(?i)^\\s*.*\\s*CONSOLIDATED\\s+SCHEDULE(S|)\\s+OF\\s+INVESTMENTS\\s*(\\(.*\\)|)\\s*-.*\\s*\\(.*\\)$')\n",
    "    # else:\n",
    "    consolidated_schedule_regex = re.compile(\n",
    "        r'(?i)^\\s*.*\\s*CONSOLIDATED\\s+SCHEDULE(S|)\\s+OF\\s+INVESTMENTS\\s*.*\\s*$')\n",
    "    date_regex_pattern = r'([A-Za-z]+\\s+\\d{1,2},\\s+\\d{4})'\n",
    "    # date_regex_pattern2 = r'\\bAs\\s+of\\s+([A-Za-z]+\\s+\\d{1,2},\\s+\\d{4})\\b'\n",
    "    for tag in soup_content.find_all(text=re.compile(consolidated_schedule_regex)):\n",
    "        date_str = re.search(date_regex_pattern, tag.find_next().text)\n",
    "        if date_str is None:\n",
    "            date_str = re.search(date_regex_pattern, tag.next.text)\n",
    "        if date_str is None:\n",
    "            date_str = re.search(date_regex_pattern,\n",
    "                                 tag.find_next().next.next.next.text)\n",
    "        if date_str is not None:\n",
    "            date_str = str(date_str.group(1))\n",
    "            date_str = unicodedata.normalize('NFKD', date_str)\n",
    "            qtr_date_cleaned = qtr_date.replace(',', '').replace(\n",
    "                ' ', '').replace('\\n', '').lower()\n",
    "            date_str_cleaned = date_str.replace(',', '').replace(\n",
    "                ' ', '').replace('\\n', '').lower()\n",
    "            print(date_str, qtr_date_cleaned, date_str_cleaned)\n",
    "\n",
    "            if qtr_date_cleaned == date_str_cleaned:\n",
    "                html_table = tag.find_next('table')\n",
    "                new_table = pd.read_html(\n",
    "                    html_table.prettify(), keep_default_na=False, skiprows=0, flavor='bs4')[0]\n",
    "                new_table = new_table.applymap(lambda x: unicodedata.normalize(\n",
    "                    'NFKD', x.strip().strip(u'\\u200b').replace('-', '0').replace('%', '')) if type(x) == str else x)\n",
    "\n",
    "                new_table = new_table.replace(\n",
    "                    r'^\\s*$', np.nan, regex=True).replace(r'^\\s*\\$\\s*$', np.nan, regex=True)\n",
    "                new_table = new_table.dropna(how='all', axis=0)\n",
    "\n",
    "                if master_table is None:\n",
    "                    master_table = new_table\n",
    "                else:\n",
    "                    master_table = pd.concat(\n",
    "                        [master_table, new_table], ignore_index=True)\n",
    "            # print(master_table)\n",
    "\n",
    "    master_table = master_table.applymap(\n",
    "        lambda x: x.strip().strip(u'\\u200b') if type(x) == str else x)\n",
    "    master_table = master_table.replace(r'^\\s*$', np.nan, regex=True).replace(\n",
    "        r'^\\s*\\$\\s*$', np.nan, regex=True).replace(r'^\\s*\\)\\s*$', np.nan, regex=True)\n",
    "    print(master_table.shape)\n",
    "    return master_table"
   ]
  },
  {
   "cell_type": "code",
   "execution_count": 60,
   "metadata": {},
   "outputs": [
    {
     "name": "stdout",
     "output_type": "stream",
     "text": [
      "September 30, 2023\n"
     ]
    },
    {
     "ename": "AttributeError",
     "evalue": "'str' object has no attribute 'find_all'",
     "output_type": "error",
     "traceback": [
      "\u001b[0;31m---------------------------------------------------------------------------\u001b[0m",
      "\u001b[0;31mAttributeError\u001b[0m                            Traceback (most recent call last)",
      "\u001b[1;32m/Users/fuadhassan/Desktop/BDC_RA/MFIC/Code/MFIC.ipynb Cell 4\u001b[0m line \u001b[0;36m1\n\u001b[0;32m----> <a href='vscode-notebook-cell:/Users/fuadhassan/Desktop/BDC_RA/MFIC/Code/MFIC.ipynb#X15sZmlsZQ%3D%3D?line=0'>1</a>\u001b[0m master \u001b[39m=\u001b[39m extract_tables(\n\u001b[1;32m      <a href='vscode-notebook-cell:/Users/fuadhassan/Desktop/BDC_RA/MFIC/Code/MFIC.ipynb#X15sZmlsZQ%3D%3D?line=1'>2</a>\u001b[0m     filing_links[\u001b[39m'\u001b[39;49m\u001b[39murl\u001b[39;49m\u001b[39m'\u001b[39;49m][\u001b[39m0\u001b[39;49m], filing_links[\u001b[39m'\u001b[39;49m\u001b[39mReporting date\u001b[39;49m\u001b[39m'\u001b[39;49m][\u001b[39m0\u001b[39;49m])\n",
      "\u001b[1;32m/Users/fuadhassan/Desktop/BDC_RA/MFIC/Code/MFIC.ipynb Cell 4\u001b[0m line \u001b[0;36m1\n\u001b[1;32m     <a href='vscode-notebook-cell:/Users/fuadhassan/Desktop/BDC_RA/MFIC/Code/MFIC.ipynb#X15sZmlsZQ%3D%3D?line=9'>10</a>\u001b[0m date_regex_pattern \u001b[39m=\u001b[39m \u001b[39mr\u001b[39m\u001b[39m'\u001b[39m\u001b[39m([A-Za-z]+\u001b[39m\u001b[39m\\\u001b[39m\u001b[39ms+\u001b[39m\u001b[39m\\\u001b[39m\u001b[39md\u001b[39m\u001b[39m{\u001b[39m\u001b[39m1,2},\u001b[39m\u001b[39m\\\u001b[39m\u001b[39ms+\u001b[39m\u001b[39m\\\u001b[39m\u001b[39md\u001b[39m\u001b[39m{4}\u001b[39;00m\u001b[39m)\u001b[39m\u001b[39m'\u001b[39m\n\u001b[1;32m     <a href='vscode-notebook-cell:/Users/fuadhassan/Desktop/BDC_RA/MFIC/Code/MFIC.ipynb#X15sZmlsZQ%3D%3D?line=10'>11</a>\u001b[0m \u001b[39m# date_regex_pattern2 = r'\\bAs\\s+of\\s+([A-Za-z]+\\s+\\d{1,2},\\s+\\d{4})\\b'\u001b[39;00m\n\u001b[0;32m---> <a href='vscode-notebook-cell:/Users/fuadhassan/Desktop/BDC_RA/MFIC/Code/MFIC.ipynb#X15sZmlsZQ%3D%3D?line=11'>12</a>\u001b[0m \u001b[39mfor\u001b[39;00m tag \u001b[39min\u001b[39;00m soup_content\u001b[39m.\u001b[39;49mfind_all(text\u001b[39m=\u001b[39mre\u001b[39m.\u001b[39mcompile(consolidated_schedule_regex)):\n\u001b[1;32m     <a href='vscode-notebook-cell:/Users/fuadhassan/Desktop/BDC_RA/MFIC/Code/MFIC.ipynb#X15sZmlsZQ%3D%3D?line=12'>13</a>\u001b[0m     date_str \u001b[39m=\u001b[39m re\u001b[39m.\u001b[39msearch(date_regex_pattern, tag\u001b[39m.\u001b[39mfind_next()\u001b[39m.\u001b[39mtext)\n\u001b[1;32m     <a href='vscode-notebook-cell:/Users/fuadhassan/Desktop/BDC_RA/MFIC/Code/MFIC.ipynb#X15sZmlsZQ%3D%3D?line=13'>14</a>\u001b[0m     \u001b[39mif\u001b[39;00m date_str \u001b[39mis\u001b[39;00m \u001b[39mNone\u001b[39;00m:\n",
      "\u001b[0;31mAttributeError\u001b[0m: 'str' object has no attribute 'find_all'"
     ]
    }
   ],
   "source": [
    "master = extract_tables(\n",
    "    filing_links['url'][0], filing_links['Reporting date'][0])"
   ]
  },
  {
   "cell_type": "code",
   "execution_count": 61,
   "metadata": {},
   "outputs": [
    {
     "data": {
      "text/plain": [
       "'https://www.sec.gov/Archives/edgar/data/1278752/000095017023060325/mfic-20230930.htm'"
      ]
     },
     "execution_count": 61,
     "metadata": {},
     "output_type": "execute_result"
    }
   ],
   "source": []
  },
  {
   "cell_type": "code",
   "execution_count": null,
   "metadata": {},
   "outputs": [],
   "source": []
  }
 ],
 "metadata": {
  "kernelspec": {
   "display_name": "base",
   "language": "python",
   "name": "python3"
  },
  "language_info": {
   "codemirror_mode": {
    "name": "ipython",
    "version": 3
   },
   "file_extension": ".py",
   "mimetype": "text/x-python",
   "name": "python",
   "nbconvert_exporter": "python",
   "pygments_lexer": "ipython3",
   "version": "3.10.13"
  }
 },
 "nbformat": 4,
 "nbformat_minor": 2
}
