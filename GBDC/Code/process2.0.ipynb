{
 "cells": [
  {
   "cell_type": "code",
   "execution_count": 106,
   "metadata": {},
   "outputs": [],
   "source": [
    "from bs4 import BeautifulSoup\n",
    "import pandas as pd\n",
    "import numpy as np\n",
    "import re\n",
    "import unicodedata\n",
    "import os\n",
    "import webbrowser\n",
    "import html5lib\n",
    "from openpyxl import workbook\n",
    "from datetime import datetime\n",
    "import requests"
   ]
  },
  {
   "cell_type": "code",
   "execution_count": 107,
   "metadata": {},
   "outputs": [],
   "source": [
    "path = '../Master_tables_GBDC_Investment.xlsx'\n",
    "dataframes = pd.read_excel(path, sheet_name=None)"
   ]
  },
  {
   "cell_type": "code",
   "execution_count": 142,
   "metadata": {},
   "outputs": [],
   "source": [
    "process_tables = {}\n",
    "process_tables_shape = {}\n",
    "if not os.path.exists('../PT_csv_file'):\n",
    "    os.makedirs('../PT_csv_file')\n",
    "\n",
    "\n",
    "def run_process_function(dataframes, process_tables, process_tables_shape):\n",
    "    path = '../process_tables_GBDC_Investment.xlsx'\n",
    "    writer = pd.ExcelWriter(path=path, engine='openpyxl')\n",
    "    for dataframe in dataframes:\n",
    "        print(dataframe)\n",
    "        processed_table = process_table_function(dataframes[dataframe])\n",
    "        process_tables[dataframe] = processed_table\n",
    "        process_tables_shape[dataframe] = processed_table.shape\n",
    "        processed_table.to_excel(\n",
    "            writer, sheet_name=dataframe.replace(',', ''), index=False)\n",
    "        processed_table.to_csv(\n",
    "            '../PT_csv_file/'+dataframe.replace(',', '')+'.csv')\n",
    "        writer.book.save(path)\n",
    "    writer.close()"
   ]
  },
  {
   "cell_type": "code",
   "execution_count": 143,
   "metadata": {},
   "outputs": [],
   "source": [
    "def shape(count, df):\n",
    "    print(f\"{count} : shape : {df.shape}\")\n",
    "    count += 1\n",
    "    return count\n",
    "\n",
    "\n",
    "def dropna_col_row(df):\n",
    "    df = df.dropna(how='all', axis=0).reset_index(drop=True)\n",
    "    df = df.dropna(how='all', axis=1).reset_index(drop=True)\n",
    "    return df\n",
    "\n",
    "\n",
    "def drop_if_contain(pattern, df):\n",
    "    matching_rows = df.apply(\n",
    "        lambda row: row.str.contains(pattern, flags=re.IGNORECASE, regex=True).any(), axis=1)\n",
    "    df = df[~matching_rows]\n",
    "    return df\n",
    "\n",
    "\n",
    "def rename_columns(df):\n",
    "    num_cols = df.shape[1]\n",
    "    data_col_mapper = dict(\n",
    "        zip(df.columns.to_list(), [i for i in range(0, num_cols)]))\n",
    "    df = df.rename(columns=data_col_mapper)\n",
    "    return df"
   ]
  },
  {
   "cell_type": "code",
   "execution_count": 146,
   "metadata": {},
   "outputs": [
    {
     "name": "stdout",
     "output_type": "stream",
     "text": [
      "March 31 2013\n",
      "1 : shape : (424, 31)\n",
      "2 : shape : (424, 15)\n",
      "3 : shape : (424, 15)\n",
      "4 : shape : (424, 15)\n",
      "5 : shape : (399, 15)\n",
      "6 : shape : (399, 10)\n",
      "7 : shape : (365, 10)\n"
     ]
    },
    {
     "name": "stderr",
     "output_type": "stream",
     "text": [
      "/var/folders/mf/yrkcqqr56t955_zz9p9f4swc0000gn/T/ipykernel_22062/2457978013.py:15: UserWarning: This pattern is interpreted as a regular expression, and has match groups. To actually get the groups, use str.extract.\n",
      "  lambda row: row.str.contains(pattern, flags=re.IGNORECASE, regex=True).any(), axis=1)\n"
     ]
    },
    {
     "name": "stdout",
     "output_type": "stream",
     "text": [
      "8 : shape : (365, 10)\n",
      "June 30 2013\n",
      "1 : shape : (432, 31)\n",
      "2 : shape : (432, 23)\n",
      "3 : shape : (432, 23)\n",
      "4 : shape : (431, 23)\n"
     ]
    },
    {
     "name": "stderr",
     "output_type": "stream",
     "text": [
      "/var/folders/mf/yrkcqqr56t955_zz9p9f4swc0000gn/T/ipykernel_22062/2457978013.py:15: UserWarning: This pattern is interpreted as a regular expression, and has match groups. To actually get the groups, use str.extract.\n",
      "  lambda row: row.str.contains(pattern, flags=re.IGNORECASE, regex=True).any(), axis=1)\n"
     ]
    },
    {
     "name": "stdout",
     "output_type": "stream",
     "text": [
      "5 : shape : (403, 23)\n",
      "6 : shape : (403, 18)\n",
      "7 : shape : (365, 18)\n",
      "8 : shape : (365, 10)\n",
      "September 30 2013\n",
      "1 : shape : (486, 41)\n",
      "2 : shape : (486, 17)\n",
      "3 : shape : (454, 17)\n",
      "4 : shape : (440, 17)\n",
      "5 : shape : (420, 17)\n",
      "6 : shape : (420, 10)\n",
      "7 : shape : (381, 10)\n"
     ]
    },
    {
     "name": "stderr",
     "output_type": "stream",
     "text": [
      "/var/folders/mf/yrkcqqr56t955_zz9p9f4swc0000gn/T/ipykernel_22062/2457978013.py:15: UserWarning: This pattern is interpreted as a regular expression, and has match groups. To actually get the groups, use str.extract.\n",
      "  lambda row: row.str.contains(pattern, flags=re.IGNORECASE, regex=True).any(), axis=1)\n"
     ]
    },
    {
     "name": "stdout",
     "output_type": "stream",
     "text": [
      "8 : shape : (381, 10)\n",
      "December 31 2013\n",
      "1 : shape : (443, 31)\n",
      "2 : shape : (443, 23)\n",
      "3 : shape : (443, 23)\n",
      "4 : shape : (442, 23)\n"
     ]
    },
    {
     "name": "stderr",
     "output_type": "stream",
     "text": [
      "/var/folders/mf/yrkcqqr56t955_zz9p9f4swc0000gn/T/ipykernel_22062/2457978013.py:15: UserWarning: This pattern is interpreted as a regular expression, and has match groups. To actually get the groups, use str.extract.\n",
      "  lambda row: row.str.contains(pattern, flags=re.IGNORECASE, regex=True).any(), axis=1)\n"
     ]
    },
    {
     "name": "stdout",
     "output_type": "stream",
     "text": [
      "5 : shape : (416, 23)\n",
      "6 : shape : (416, 18)\n",
      "7 : shape : (378, 18)\n",
      "8 : shape : (378, 10)\n",
      "March 31 2014\n",
      "1 : shape : (467, 31)\n",
      "2 : shape : (467, 22)\n",
      "3 : shape : (467, 22)\n",
      "4 : shape : (462, 22)\n",
      "5 : shape : (436, 22)\n",
      "6 : shape : (436, 17)\n",
      "7 : shape : (399, 17)\n"
     ]
    },
    {
     "name": "stderr",
     "output_type": "stream",
     "text": [
      "/var/folders/mf/yrkcqqr56t955_zz9p9f4swc0000gn/T/ipykernel_22062/2457978013.py:15: UserWarning: This pattern is interpreted as a regular expression, and has match groups. To actually get the groups, use str.extract.\n",
      "  lambda row: row.str.contains(pattern, flags=re.IGNORECASE, regex=True).any(), axis=1)\n"
     ]
    },
    {
     "name": "stdout",
     "output_type": "stream",
     "text": [
      "8 : shape : (399, 10)\n",
      "June 30 2014\n",
      "1 : shape : (487, 27)\n",
      "2 : shape : (487, 21)\n",
      "3 : shape : (487, 21)\n",
      "4 : shape : (482, 21)\n",
      "5 : shape : (451, 21)\n",
      "6 : shape : (451, 15)\n",
      "7 : shape : (412, 15)\n"
     ]
    },
    {
     "name": "stderr",
     "output_type": "stream",
     "text": [
      "/var/folders/mf/yrkcqqr56t955_zz9p9f4swc0000gn/T/ipykernel_22062/2457978013.py:15: UserWarning: This pattern is interpreted as a regular expression, and has match groups. To actually get the groups, use str.extract.\n",
      "  lambda row: row.str.contains(pattern, flags=re.IGNORECASE, regex=True).any(), axis=1)\n"
     ]
    },
    {
     "name": "stdout",
     "output_type": "stream",
     "text": [
      "8 : shape : (412, 10)\n",
      "September 30 2014\n",
      "1 : shape : (527, 33)\n",
      "2 : shape : (527, 18)\n",
      "3 : shape : (493, 18)\n",
      "4 : shape : (487, 18)\n"
     ]
    },
    {
     "name": "stderr",
     "output_type": "stream",
     "text": [
      "/var/folders/mf/yrkcqqr56t955_zz9p9f4swc0000gn/T/ipykernel_22062/2457978013.py:15: UserWarning: This pattern is interpreted as a regular expression, and has match groups. To actually get the groups, use str.extract.\n",
      "  lambda row: row.str.contains(pattern, flags=re.IGNORECASE, regex=True).any(), axis=1)\n"
     ]
    },
    {
     "name": "stdout",
     "output_type": "stream",
     "text": [
      "5 : shape : (468, 18)\n",
      "6 : shape : (468, 10)\n",
      "7 : shape : (432, 10)\n",
      "8 : shape : (432, 10)\n",
      "December 31 2014\n",
      "1 : shape : (506, 31)\n",
      "2 : shape : (506, 22)\n",
      "3 : shape : (506, 22)\n",
      "4 : shape : (498, 22)\n",
      "5 : shape : (466, 22)\n",
      "6 : shape : (466, 18)\n",
      "7 : shape : (430, 18)\n"
     ]
    },
    {
     "name": "stderr",
     "output_type": "stream",
     "text": [
      "/var/folders/mf/yrkcqqr56t955_zz9p9f4swc0000gn/T/ipykernel_22062/2457978013.py:15: UserWarning: This pattern is interpreted as a regular expression, and has match groups. To actually get the groups, use str.extract.\n",
      "  lambda row: row.str.contains(pattern, flags=re.IGNORECASE, regex=True).any(), axis=1)\n"
     ]
    },
    {
     "name": "stdout",
     "output_type": "stream",
     "text": [
      "8 : shape : (430, 10)\n",
      "March 31 2015\n",
      "1 : shape : (524, 31)\n",
      "2 : shape : (524, 20)\n",
      "3 : shape : (524, 20)\n",
      "4 : shape : (517, 20)\n"
     ]
    },
    {
     "name": "stderr",
     "output_type": "stream",
     "text": [
      "/var/folders/mf/yrkcqqr56t955_zz9p9f4swc0000gn/T/ipykernel_22062/2457978013.py:15: UserWarning: This pattern is interpreted as a regular expression, and has match groups. To actually get the groups, use str.extract.\n",
      "  lambda row: row.str.contains(pattern, flags=re.IGNORECASE, regex=True).any(), axis=1)\n"
     ]
    },
    {
     "name": "stdout",
     "output_type": "stream",
     "text": [
      "5 : shape : (485, 20)\n",
      "6 : shape : (485, 13)\n",
      "7 : shape : (445, 13)\n",
      "8 : shape : (445, 10)\n",
      "June 30 2015\n",
      "1 : shape : (571, 31)\n",
      "2 : shape : (571, 20)\n",
      "3 : shape : (571, 20)\n",
      "4 : shape : (560, 20)\n"
     ]
    },
    {
     "name": "stderr",
     "output_type": "stream",
     "text": [
      "/var/folders/mf/yrkcqqr56t955_zz9p9f4swc0000gn/T/ipykernel_22062/2457978013.py:15: UserWarning: This pattern is interpreted as a regular expression, and has match groups. To actually get the groups, use str.extract.\n",
      "  lambda row: row.str.contains(pattern, flags=re.IGNORECASE, regex=True).any(), axis=1)\n"
     ]
    },
    {
     "name": "stdout",
     "output_type": "stream",
     "text": [
      "5 : shape : (528, 20)\n",
      "6 : shape : (528, 13)\n",
      "7 : shape : (473, 13)\n",
      "8 : shape : (473, 10)\n",
      "September 30 2015\n",
      "1 : shape : (584, 33)\n",
      "2 : shape : (584, 18)\n",
      "3 : shape : (551, 18)\n",
      "4 : shape : (542, 18)\n"
     ]
    },
    {
     "name": "stderr",
     "output_type": "stream",
     "text": [
      "/var/folders/mf/yrkcqqr56t955_zz9p9f4swc0000gn/T/ipykernel_22062/2457978013.py:15: UserWarning: This pattern is interpreted as a regular expression, and has match groups. To actually get the groups, use str.extract.\n",
      "  lambda row: row.str.contains(pattern, flags=re.IGNORECASE, regex=True).any(), axis=1)\n"
     ]
    },
    {
     "name": "stdout",
     "output_type": "stream",
     "text": [
      "5 : shape : (525, 18)\n",
      "6 : shape : (525, 10)\n",
      "7 : shape : (483, 10)\n",
      "8 : shape : (483, 10)\n",
      "December 31 2015\n",
      "1 : shape : (505, 27)\n",
      "2 : shape : (505, 21)\n",
      "3 : shape : (505, 21)\n",
      "4 : shape : (497, 21)\n",
      "5 : shape : (461, 21)\n",
      "6 : shape : (461, 20)\n",
      "7 : shape : (425, 20)\n"
     ]
    },
    {
     "name": "stderr",
     "output_type": "stream",
     "text": [
      "/var/folders/mf/yrkcqqr56t955_zz9p9f4swc0000gn/T/ipykernel_22062/2457978013.py:15: UserWarning: This pattern is interpreted as a regular expression, and has match groups. To actually get the groups, use str.extract.\n",
      "  lambda row: row.str.contains(pattern, flags=re.IGNORECASE, regex=True).any(), axis=1)\n"
     ]
    },
    {
     "name": "stdout",
     "output_type": "stream",
     "text": [
      "8 : shape : (425, 10)\n",
      "March 31 2016\n",
      "1 : shape : (589, 27)\n",
      "2 : shape : (589, 19)\n",
      "3 : shape : (589, 19)\n",
      "4 : shape : (581, 19)\n",
      "5 : shape : (547, 19)\n",
      "6 : shape : (547, 16)\n",
      "7 : shape : (505, 16)\n"
     ]
    },
    {
     "name": "stderr",
     "output_type": "stream",
     "text": [
      "/var/folders/mf/yrkcqqr56t955_zz9p9f4swc0000gn/T/ipykernel_22062/2457978013.py:15: UserWarning: This pattern is interpreted as a regular expression, and has match groups. To actually get the groups, use str.extract.\n",
      "  lambda row: row.str.contains(pattern, flags=re.IGNORECASE, regex=True).any(), axis=1)\n"
     ]
    },
    {
     "name": "stdout",
     "output_type": "stream",
     "text": [
      "8 : shape : (505, 10)\n",
      "June 30 2016\n",
      "1 : shape : (564, 27)\n",
      "2 : shape : (564, 19)\n",
      "3 : shape : (564, 19)\n",
      "4 : shape : (540, 19)\n",
      "5 : shape : (509, 19)\n",
      "6 : shape : (509, 14)\n",
      "7 : shape : (469, 14)\n"
     ]
    },
    {
     "name": "stderr",
     "output_type": "stream",
     "text": [
      "/var/folders/mf/yrkcqqr56t955_zz9p9f4swc0000gn/T/ipykernel_22062/2457978013.py:15: UserWarning: This pattern is interpreted as a regular expression, and has match groups. To actually get the groups, use str.extract.\n",
      "  lambda row: row.str.contains(pattern, flags=re.IGNORECASE, regex=True).any(), axis=1)\n"
     ]
    },
    {
     "name": "stdout",
     "output_type": "stream",
     "text": [
      "8 : shape : (469, 10)\n",
      "September 30 2016\n",
      "1 : shape : (700, 23)\n",
      "2 : shape : (700, 22)\n",
      "3 : shape : (654, 22)\n",
      "4 : shape : (648, 22)\n"
     ]
    },
    {
     "name": "stderr",
     "output_type": "stream",
     "text": [
      "/var/folders/mf/yrkcqqr56t955_zz9p9f4swc0000gn/T/ipykernel_22062/2457978013.py:15: UserWarning: This pattern is interpreted as a regular expression, and has match groups. To actually get the groups, use str.extract.\n",
      "  lambda row: row.str.contains(pattern, flags=re.IGNORECASE, regex=True).any(), axis=1)\n"
     ]
    },
    {
     "name": "stdout",
     "output_type": "stream",
     "text": [
      "5 : shape : (624, 22)\n",
      "6 : shape : (624, 20)\n",
      "7 : shape : (582, 20)\n",
      "8 : shape : (582, 10)\n",
      "December 31 2016\n",
      "1 : shape : (646, 23)\n",
      "2 : shape : (646, 21)\n",
      "3 : shape : (646, 21)\n",
      "4 : shape : (640, 21)\n"
     ]
    },
    {
     "name": "stderr",
     "output_type": "stream",
     "text": [
      "/var/folders/mf/yrkcqqr56t955_zz9p9f4swc0000gn/T/ipykernel_22062/2457978013.py:15: UserWarning: This pattern is interpreted as a regular expression, and has match groups. To actually get the groups, use str.extract.\n",
      "  lambda row: row.str.contains(pattern, flags=re.IGNORECASE, regex=True).any(), axis=1)\n"
     ]
    },
    {
     "name": "stdout",
     "output_type": "stream",
     "text": [
      "5 : shape : (619, 21)\n",
      "6 : shape : (619, 20)\n",
      "7 : shape : (579, 20)\n",
      "8 : shape : (579, 10)\n",
      "March 31 2017\n",
      "1 : shape : (677, 23)\n",
      "2 : shape : (677, 22)\n",
      "3 : shape : (677, 22)\n",
      "4 : shape : (669, 22)\n"
     ]
    },
    {
     "name": "stderr",
     "output_type": "stream",
     "text": [
      "/var/folders/mf/yrkcqqr56t955_zz9p9f4swc0000gn/T/ipykernel_22062/2457978013.py:15: UserWarning: This pattern is interpreted as a regular expression, and has match groups. To actually get the groups, use str.extract.\n",
      "  lambda row: row.str.contains(pattern, flags=re.IGNORECASE, regex=True).any(), axis=1)\n"
     ]
    },
    {
     "name": "stdout",
     "output_type": "stream",
     "text": [
      "5 : shape : (648, 22)\n",
      "6 : shape : (648, 22)\n",
      "7 : shape : (606, 22)\n",
      "8 : shape : (606, 10)\n",
      "June 30 2017\n",
      "1 : shape : (699, 23)\n",
      "2 : shape : (699, 22)\n",
      "3 : shape : (699, 22)\n",
      "4 : shape : (694, 22)\n"
     ]
    },
    {
     "name": "stderr",
     "output_type": "stream",
     "text": [
      "/var/folders/mf/yrkcqqr56t955_zz9p9f4swc0000gn/T/ipykernel_22062/2457978013.py:15: UserWarning: This pattern is interpreted as a regular expression, and has match groups. To actually get the groups, use str.extract.\n",
      "  lambda row: row.str.contains(pattern, flags=re.IGNORECASE, regex=True).any(), axis=1)\n"
     ]
    },
    {
     "name": "stdout",
     "output_type": "stream",
     "text": [
      "5 : shape : (675, 22)\n",
      "6 : shape : (675, 22)\n",
      "7 : shape : (635, 22)\n",
      "8 : shape : (635, 10)\n",
      "December 31 2017\n",
      "1 : shape : (734, 41)\n",
      "2 : shape : (734, 28)\n",
      "3 : shape : (734, 28)\n",
      "4 : shape : (725, 28)\n"
     ]
    },
    {
     "name": "stderr",
     "output_type": "stream",
     "text": [
      "/var/folders/mf/yrkcqqr56t955_zz9p9f4swc0000gn/T/ipykernel_22062/2457978013.py:15: UserWarning: This pattern is interpreted as a regular expression, and has match groups. To actually get the groups, use str.extract.\n",
      "  lambda row: row.str.contains(pattern, flags=re.IGNORECASE, regex=True).any(), axis=1)\n"
     ]
    },
    {
     "name": "stdout",
     "output_type": "stream",
     "text": [
      "5 : shape : (703, 28)\n",
      "6 : shape : (703, 22)\n",
      "7 : shape : (663, 22)\n",
      "8 : shape : (663, 10)\n",
      "March 31 2018\n",
      "1 : shape : (766, 25)\n",
      "2 : shape : (766, 22)\n",
      "3 : shape : (766, 22)\n",
      "4 : shape : (760, 22)\n"
     ]
    },
    {
     "name": "stderr",
     "output_type": "stream",
     "text": [
      "/var/folders/mf/yrkcqqr56t955_zz9p9f4swc0000gn/T/ipykernel_22062/2457978013.py:15: UserWarning: This pattern is interpreted as a regular expression, and has match groups. To actually get the groups, use str.extract.\n",
      "  lambda row: row.str.contains(pattern, flags=re.IGNORECASE, regex=True).any(), axis=1)\n"
     ]
    },
    {
     "name": "stdout",
     "output_type": "stream",
     "text": [
      "5 : shape : (737, 22)\n",
      "6 : shape : (737, 22)\n",
      "7 : shape : (699, 22)\n",
      "8 : shape : (699, 10)\n",
      "June 30 2018\n",
      "1 : shape : (817, 25)\n",
      "2 : shape : (817, 23)\n",
      "3 : shape : (817, 23)\n",
      "4 : shape : (798, 23)\n"
     ]
    },
    {
     "name": "stderr",
     "output_type": "stream",
     "text": [
      "/var/folders/mf/yrkcqqr56t955_zz9p9f4swc0000gn/T/ipykernel_22062/2457978013.py:15: UserWarning: This pattern is interpreted as a regular expression, and has match groups. To actually get the groups, use str.extract.\n",
      "  lambda row: row.str.contains(pattern, flags=re.IGNORECASE, regex=True).any(), axis=1)\n"
     ]
    },
    {
     "name": "stdout",
     "output_type": "stream",
     "text": [
      "5 : shape : (774, 23)\n",
      "6 : shape : (774, 20)\n",
      "7 : shape : (737, 20)\n",
      "8 : shape : (737, 10)\n",
      "September 30 2018\n",
      "1 : shape : (883, 24)\n",
      "2 : shape : (883, 22)\n",
      "3 : shape : (851, 22)\n",
      "4 : shape : (845, 22)\n"
     ]
    },
    {
     "name": "stderr",
     "output_type": "stream",
     "text": [
      "/var/folders/mf/yrkcqqr56t955_zz9p9f4swc0000gn/T/ipykernel_22062/2457978013.py:15: UserWarning: This pattern is interpreted as a regular expression, and has match groups. To actually get the groups, use str.extract.\n",
      "  lambda row: row.str.contains(pattern, flags=re.IGNORECASE, regex=True).any(), axis=1)\n"
     ]
    },
    {
     "name": "stdout",
     "output_type": "stream",
     "text": [
      "5 : shape : (819, 22)\n",
      "6 : shape : (819, 18)\n",
      "7 : shape : (778, 18)\n",
      "8 : shape : (778, 10)\n",
      "December 31 2018\n",
      "1 : shape : (916, 41)\n",
      "2 : shape : (916, 30)\n",
      "3 : shape : (916, 30)\n",
      "4 : shape : (906, 30)\n"
     ]
    },
    {
     "name": "stderr",
     "output_type": "stream",
     "text": [
      "/var/folders/mf/yrkcqqr56t955_zz9p9f4swc0000gn/T/ipykernel_22062/2457978013.py:15: UserWarning: This pattern is interpreted as a regular expression, and has match groups. To actually get the groups, use str.extract.\n",
      "  lambda row: row.str.contains(pattern, flags=re.IGNORECASE, regex=True).any(), axis=1)\n"
     ]
    },
    {
     "name": "stdout",
     "output_type": "stream",
     "text": [
      "5 : shape : (879, 30)\n",
      "6 : shape : (879, 19)\n",
      "7 : shape : (841, 19)\n",
      "8 : shape : (841, 10)\n",
      "March 31 2019\n",
      "1 : shape : (951, 24)\n",
      "2 : shape : (951, 22)\n",
      "3 : shape : (951, 22)\n",
      "4 : shape : (945, 22)\n"
     ]
    },
    {
     "name": "stderr",
     "output_type": "stream",
     "text": [
      "/var/folders/mf/yrkcqqr56t955_zz9p9f4swc0000gn/T/ipykernel_22062/2457978013.py:15: UserWarning: This pattern is interpreted as a regular expression, and has match groups. To actually get the groups, use str.extract.\n",
      "  lambda row: row.str.contains(pattern, flags=re.IGNORECASE, regex=True).any(), axis=1)\n"
     ]
    },
    {
     "name": "stdout",
     "output_type": "stream",
     "text": [
      "5 : shape : (915, 22)\n",
      "6 : shape : (915, 18)\n",
      "7 : shape : (875, 18)\n",
      "8 : shape : (875, 10)\n",
      "June 30 2019\n",
      "1 : shape : (994, 24)\n",
      "2 : shape : (994, 22)\n",
      "3 : shape : (994, 22)\n",
      "4 : shape : (988, 22)\n"
     ]
    },
    {
     "name": "stderr",
     "output_type": "stream",
     "text": [
      "/var/folders/mf/yrkcqqr56t955_zz9p9f4swc0000gn/T/ipykernel_22062/2457978013.py:15: UserWarning: This pattern is interpreted as a regular expression, and has match groups. To actually get the groups, use str.extract.\n",
      "  lambda row: row.str.contains(pattern, flags=re.IGNORECASE, regex=True).any(), axis=1)\n"
     ]
    },
    {
     "name": "stdout",
     "output_type": "stream",
     "text": [
      "5 : shape : (957, 22)\n",
      "6 : shape : (957, 18)\n",
      "7 : shape : (917, 18)\n",
      "8 : shape : (917, 10)\n",
      "September 30 2019\n",
      "1 : shape : (1096, 25)\n",
      "2 : shape : (1096, 23)\n",
      "3 : shape : (1094, 23)\n",
      "4 : shape : (1087, 23)\n"
     ]
    },
    {
     "name": "stderr",
     "output_type": "stream",
     "text": [
      "/var/folders/mf/yrkcqqr56t955_zz9p9f4swc0000gn/T/ipykernel_22062/2457978013.py:15: UserWarning: This pattern is interpreted as a regular expression, and has match groups. To actually get the groups, use str.extract.\n",
      "  lambda row: row.str.contains(pattern, flags=re.IGNORECASE, regex=True).any(), axis=1)\n"
     ]
    },
    {
     "name": "stdout",
     "output_type": "stream",
     "text": [
      "5 : shape : (1055, 23)\n",
      "6 : shape : (1055, 19)\n",
      "7 : shape : (1013, 19)\n",
      "8 : shape : (1013, 10)\n",
      "December 31 2019\n",
      "1 : shape : (1149, 25)\n",
      "2 : shape : (1149, 22)\n",
      "3 : shape : (1149, 22)\n",
      "4 : shape : (1143, 22)\n"
     ]
    },
    {
     "name": "stderr",
     "output_type": "stream",
     "text": [
      "/var/folders/mf/yrkcqqr56t955_zz9p9f4swc0000gn/T/ipykernel_22062/2457978013.py:15: UserWarning: This pattern is interpreted as a regular expression, and has match groups. To actually get the groups, use str.extract.\n",
      "  lambda row: row.str.contains(pattern, flags=re.IGNORECASE, regex=True).any(), axis=1)\n"
     ]
    },
    {
     "name": "stdout",
     "output_type": "stream",
     "text": [
      "5 : shape : (1108, 22)\n",
      "6 : shape : (1108, 19)\n",
      "7 : shape : (1063, 19)\n",
      "8 : shape : (1063, 10)\n",
      "March 31 2020\n",
      "1 : shape : (1211, 65)\n",
      "2 : shape : (1211, 32)\n",
      "3 : shape : (1211, 32)\n",
      "4 : shape : (1192, 32)\n",
      "5 : shape : (1155, 32)\n"
     ]
    },
    {
     "name": "stderr",
     "output_type": "stream",
     "text": [
      "/var/folders/mf/yrkcqqr56t955_zz9p9f4swc0000gn/T/ipykernel_22062/2457978013.py:15: UserWarning: This pattern is interpreted as a regular expression, and has match groups. To actually get the groups, use str.extract.\n",
      "  lambda row: row.str.contains(pattern, flags=re.IGNORECASE, regex=True).any(), axis=1)\n"
     ]
    },
    {
     "name": "stdout",
     "output_type": "stream",
     "text": [
      "6 : shape : (1155, 21)\n",
      "7 : shape : (1106, 21)\n",
      "8 : shape : (1106, 11)\n",
      "June 30 2020\n",
      "1 : shape : (1205, 54)\n",
      "2 : shape : (1205, 27)\n",
      "3 : shape : (1205, 27)\n",
      "4 : shape : (1192, 27)\n",
      "5 : shape : (1155, 27)\n",
      "6 : shape : (1155, 18)\n"
     ]
    },
    {
     "name": "stderr",
     "output_type": "stream",
     "text": [
      "/var/folders/mf/yrkcqqr56t955_zz9p9f4swc0000gn/T/ipykernel_22062/2457978013.py:15: UserWarning: This pattern is interpreted as a regular expression, and has match groups. To actually get the groups, use str.extract.\n",
      "  lambda row: row.str.contains(pattern, flags=re.IGNORECASE, regex=True).any(), axis=1)\n"
     ]
    },
    {
     "name": "stdout",
     "output_type": "stream",
     "text": [
      "7 : shape : (1105, 18)\n",
      "8 : shape : (1105, 10)\n",
      "September 30 2020\n",
      "1 : shape : (1275, 64)\n",
      "2 : shape : (1275, 26)\n",
      "3 : shape : (1273, 26)\n",
      "4 : shape : (1254, 26)\n"
     ]
    },
    {
     "name": "stderr",
     "output_type": "stream",
     "text": [
      "/var/folders/mf/yrkcqqr56t955_zz9p9f4swc0000gn/T/ipykernel_22062/2457978013.py:15: UserWarning: This pattern is interpreted as a regular expression, and has match groups. To actually get the groups, use str.extract.\n",
      "  lambda row: row.str.contains(pattern, flags=re.IGNORECASE, regex=True).any(), axis=1)\n"
     ]
    },
    {
     "name": "stdout",
     "output_type": "stream",
     "text": [
      "5 : shape : (1208, 26)\n",
      "6 : shape : (1208, 19)\n",
      "7 : shape : (1138, 19)\n",
      "8 : shape : (1138, 10)\n",
      "December 31 2020\n",
      "1 : shape : (1318, 64)\n",
      "2 : shape : (1318, 26)\n",
      "3 : shape : (1318, 26)\n",
      "4 : shape : (1299, 26)\n"
     ]
    },
    {
     "name": "stderr",
     "output_type": "stream",
     "text": [
      "/var/folders/mf/yrkcqqr56t955_zz9p9f4swc0000gn/T/ipykernel_22062/2457978013.py:15: UserWarning: This pattern is interpreted as a regular expression, and has match groups. To actually get the groups, use str.extract.\n",
      "  lambda row: row.str.contains(pattern, flags=re.IGNORECASE, regex=True).any(), axis=1)\n"
     ]
    },
    {
     "name": "stdout",
     "output_type": "stream",
     "text": [
      "5 : shape : (1249, 26)\n",
      "6 : shape : (1249, 19)\n",
      "7 : shape : (1175, 19)\n",
      "8 : shape : (1175, 10)\n",
      "March 31 2021\n",
      "1 : shape : (1371, 64)\n",
      "2 : shape : (1371, 26)\n",
      "3 : shape : (1371, 26)\n",
      "4 : shape : (1352, 26)\n"
     ]
    },
    {
     "name": "stderr",
     "output_type": "stream",
     "text": [
      "/var/folders/mf/yrkcqqr56t955_zz9p9f4swc0000gn/T/ipykernel_22062/2457978013.py:15: UserWarning: This pattern is interpreted as a regular expression, and has match groups. To actually get the groups, use str.extract.\n",
      "  lambda row: row.str.contains(pattern, flags=re.IGNORECASE, regex=True).any(), axis=1)\n"
     ]
    },
    {
     "name": "stdout",
     "output_type": "stream",
     "text": [
      "5 : shape : (1301, 26)\n",
      "6 : shape : (1301, 19)\n",
      "7 : shape : (1227, 19)\n",
      "8 : shape : (1227, 10)\n",
      "June 30 2021\n",
      "1 : shape : (1456, 64)\n",
      "2 : shape : (1456, 27)\n",
      "3 : shape : (1456, 27)\n",
      "4 : shape : (1436, 27)\n"
     ]
    },
    {
     "name": "stderr",
     "output_type": "stream",
     "text": [
      "/var/folders/mf/yrkcqqr56t955_zz9p9f4swc0000gn/T/ipykernel_22062/2457978013.py:15: UserWarning: This pattern is interpreted as a regular expression, and has match groups. To actually get the groups, use str.extract.\n",
      "  lambda row: row.str.contains(pattern, flags=re.IGNORECASE, regex=True).any(), axis=1)\n"
     ]
    },
    {
     "name": "stdout",
     "output_type": "stream",
     "text": [
      "5 : shape : (1385, 27)\n",
      "6 : shape : (1385, 19)\n",
      "7 : shape : (1308, 19)\n",
      "8 : shape : (1308, 10)\n",
      "September 30 2021\n",
      "1 : shape : (1572, 64)\n",
      "2 : shape : (1572, 26)\n",
      "3 : shape : (1569, 26)\n",
      "4 : shape : (1550, 26)\n"
     ]
    },
    {
     "name": "stderr",
     "output_type": "stream",
     "text": [
      "/var/folders/mf/yrkcqqr56t955_zz9p9f4swc0000gn/T/ipykernel_22062/2457978013.py:15: UserWarning: This pattern is interpreted as a regular expression, and has match groups. To actually get the groups, use str.extract.\n",
      "  lambda row: row.str.contains(pattern, flags=re.IGNORECASE, regex=True).any(), axis=1)\n"
     ]
    },
    {
     "name": "stdout",
     "output_type": "stream",
     "text": [
      "5 : shape : (1498, 26)\n",
      "6 : shape : (1498, 19)\n",
      "7 : shape : (1419, 19)\n",
      "8 : shape : (1419, 10)\n",
      "December 31 2021\n",
      "1 : shape : (1621, 64)\n",
      "2 : shape : (1621, 26)\n",
      "3 : shape : (1621, 26)\n",
      "4 : shape : (1563, 26)\n"
     ]
    },
    {
     "name": "stderr",
     "output_type": "stream",
     "text": [
      "/var/folders/mf/yrkcqqr56t955_zz9p9f4swc0000gn/T/ipykernel_22062/2457978013.py:15: UserWarning: This pattern is interpreted as a regular expression, and has match groups. To actually get the groups, use str.extract.\n",
      "  lambda row: row.str.contains(pattern, flags=re.IGNORECASE, regex=True).any(), axis=1)\n"
     ]
    },
    {
     "name": "stdout",
     "output_type": "stream",
     "text": [
      "5 : shape : (1509, 26)\n",
      "6 : shape : (1509, 19)\n",
      "7 : shape : (1433, 19)\n",
      "8 : shape : (1433, 10)\n",
      "March 31 2022\n",
      "1 : shape : (1684, 64)\n",
      "2 : shape : (1684, 26)\n",
      "3 : shape : (1684, 26)\n",
      "4 : shape : (1666, 26)\n"
     ]
    },
    {
     "name": "stderr",
     "output_type": "stream",
     "text": [
      "/var/folders/mf/yrkcqqr56t955_zz9p9f4swc0000gn/T/ipykernel_22062/2457978013.py:15: UserWarning: This pattern is interpreted as a regular expression, and has match groups. To actually get the groups, use str.extract.\n",
      "  lambda row: row.str.contains(pattern, flags=re.IGNORECASE, regex=True).any(), axis=1)\n"
     ]
    },
    {
     "name": "stdout",
     "output_type": "stream",
     "text": [
      "5 : shape : (1611, 26)\n",
      "6 : shape : (1611, 19)\n",
      "7 : shape : (1531, 19)\n",
      "8 : shape : (1531, 10)\n",
      "June 30 2022\n",
      "1 : shape : (1777, 64)\n",
      "2 : shape : (1777, 26)\n",
      "3 : shape : (1777, 26)\n",
      "4 : shape : (1759, 26)\n"
     ]
    },
    {
     "name": "stderr",
     "output_type": "stream",
     "text": [
      "/var/folders/mf/yrkcqqr56t955_zz9p9f4swc0000gn/T/ipykernel_22062/2457978013.py:15: UserWarning: This pattern is interpreted as a regular expression, and has match groups. To actually get the groups, use str.extract.\n",
      "  lambda row: row.str.contains(pattern, flags=re.IGNORECASE, regex=True).any(), axis=1)\n"
     ]
    },
    {
     "name": "stdout",
     "output_type": "stream",
     "text": [
      "5 : shape : (1702, 26)\n",
      "6 : shape : (1702, 19)\n",
      "7 : shape : (1624, 19)\n",
      "8 : shape : (1624, 10)\n",
      "September 30 2022\n",
      "1 : shape : (1773, 76)\n",
      "2 : shape : (1773, 28)\n",
      "3 : shape : (1770, 28)\n",
      "4 : shape : (1753, 28)\n"
     ]
    },
    {
     "name": "stderr",
     "output_type": "stream",
     "text": [
      "/var/folders/mf/yrkcqqr56t955_zz9p9f4swc0000gn/T/ipykernel_22062/2457978013.py:15: UserWarning: This pattern is interpreted as a regular expression, and has match groups. To actually get the groups, use str.extract.\n",
      "  lambda row: row.str.contains(pattern, flags=re.IGNORECASE, regex=True).any(), axis=1)\n"
     ]
    },
    {
     "name": "stdout",
     "output_type": "stream",
     "text": [
      "5 : shape : (1694, 28)\n",
      "6 : shape : (1694, 23)\n",
      "7 : shape : (1617, 23)\n",
      "8 : shape : (1617, 13)\n",
      "December 31 2022\n",
      "1 : shape : (1769, 76)\n",
      "2 : shape : (1769, 28)\n",
      "3 : shape : (1769, 28)\n",
      "4 : shape : (1753, 28)\n"
     ]
    },
    {
     "name": "stderr",
     "output_type": "stream",
     "text": [
      "/var/folders/mf/yrkcqqr56t955_zz9p9f4swc0000gn/T/ipykernel_22062/2457978013.py:15: UserWarning: This pattern is interpreted as a regular expression, and has match groups. To actually get the groups, use str.extract.\n",
      "  lambda row: row.str.contains(pattern, flags=re.IGNORECASE, regex=True).any(), axis=1)\n"
     ]
    },
    {
     "name": "stdout",
     "output_type": "stream",
     "text": [
      "5 : shape : (1696, 28)\n",
      "6 : shape : (1696, 24)\n",
      "7 : shape : (1620, 24)\n",
      "8 : shape : (1620, 13)\n",
      "March 31 2023\n",
      "1 : shape : (1605, 76)\n",
      "2 : shape : (1605, 28)\n",
      "3 : shape : (1605, 28)\n",
      "4 : shape : (1588, 28)\n"
     ]
    },
    {
     "name": "stderr",
     "output_type": "stream",
     "text": [
      "/var/folders/mf/yrkcqqr56t955_zz9p9f4swc0000gn/T/ipykernel_22062/2457978013.py:15: UserWarning: This pattern is interpreted as a regular expression, and has match groups. To actually get the groups, use str.extract.\n",
      "  lambda row: row.str.contains(pattern, flags=re.IGNORECASE, regex=True).any(), axis=1)\n"
     ]
    },
    {
     "name": "stdout",
     "output_type": "stream",
     "text": [
      "5 : shape : (1534, 28)\n",
      "6 : shape : (1534, 23)\n",
      "7 : shape : (1460, 23)\n",
      "8 : shape : (1460, 13)\n",
      "June 30 2023\n",
      "1 : shape : (1523, 76)\n",
      "2 : shape : (1523, 28)\n",
      "3 : shape : (1523, 28)\n",
      "4 : shape : (1504, 28)\n"
     ]
    },
    {
     "name": "stderr",
     "output_type": "stream",
     "text": [
      "/var/folders/mf/yrkcqqr56t955_zz9p9f4swc0000gn/T/ipykernel_22062/2457978013.py:15: UserWarning: This pattern is interpreted as a regular expression, and has match groups. To actually get the groups, use str.extract.\n",
      "  lambda row: row.str.contains(pattern, flags=re.IGNORECASE, regex=True).any(), axis=1)\n"
     ]
    },
    {
     "name": "stdout",
     "output_type": "stream",
     "text": [
      "5 : shape : (1454, 28)\n",
      "6 : shape : (1454, 23)\n",
      "7 : shape : (1383, 23)\n",
      "8 : shape : (1383, 13)\n"
     ]
    }
   ],
   "source": [
    "def process_table_function(soi_table_df):\n",
    "    count = 1\n",
    "    count = shape(count, soi_table_df)\n",
    "    soi_table_df = soi_table_df.replace(\n",
    "        r'^\\s*\\$\\s*$', '', regex=True).replace(r'\\n', '', regex=True)\n",
    "    soi_table_df = soi_table_df.replace('-', '0')\n",
    "    soi_table_df = dropna_col_row(soi_table_df)\n",
    "    soi_table_df = soi_table_df.apply(\n",
    "        lambda x: x.strip() if isinstance(x, str) else x)\n",
    "    count = shape(count, soi_table_df)\n",
    "\n",
    "    # drops all the extra top row\n",
    "    pattern = r'Net asset value per common share|How We Addressed the Matter in Our Audit'\n",
    "    matching_rows = soi_table_df.apply(\n",
    "        lambda row: row.str.contains(pattern, flags=re.IGNORECASE, regex=True).any(), axis=1)\n",
    "    # Check if the pattern exists in the DataFrame\n",
    "    if matching_rows.any():\n",
    "        # Extract rows from the first occurrence onwards\n",
    "        soi_table_df = soi_table_df.iloc[matching_rows.idxmax(\n",
    "        )+1:].reset_index(drop=True)\n",
    "    count = shape(count, soi_table_df)\n",
    "\n",
    "    # drops all the extra bottom row\n",
    "    pattern = r'Total\\s+Investments'\n",
    "    # Use the apply function to check if the pattern is in any column for each row\n",
    "    matching_rows = soi_table_df.apply(\n",
    "        lambda row: row.str.contains(pattern, flags=re.IGNORECASE, regex=True).any(), axis=1)\n",
    "    # Find the index of the first row that matches the pattern\n",
    "    # Slice the DataFrame to keep only the rows up to and including the first matching row\n",
    "    if soi_table_df[matching_rows].index[0] < 20:\n",
    "        soi_table_df = soi_table_df.loc[:soi_table_df[matching_rows].index[1]].reset_index(\n",
    "            drop=True)\n",
    "    else:\n",
    "        soi_table_df = soi_table_df.loc[:soi_table_df[matching_rows].index[0]].reset_index(\n",
    "            drop=True)\n",
    "    count = shape(count, soi_table_df)\n",
    "\n",
    "    # drop all the col name\n",
    "    pattern = r'(?:Spread\\s*Above|cost|Percentage|Above)'\n",
    "    soi_table_df = drop_if_contain(pattern, soi_table_df)\n",
    "    pattern = r'^([Tt]otal)'\n",
    "    soi_table_df = drop_if_contain(pattern, soi_table_df)\n",
    "    count = shape(count, soi_table_df)\n",
    "\n",
    "# drop nan col row\n",
    "    soi_table_df = dropna_col_row(soi_table_df)\n",
    "    count = shape(count, soi_table_df)\n",
    "# drops the sub total\n",
    "    soi_table_df = soi_table_df.dropna(subset=[soi_table_df.columns[0]])\n",
    "    count = shape(count, soi_table_df)\n",
    "\n",
    "\n",
    "# rename col\n",
    "    soi_table_df = rename_columns(soi_table_df)\n",
    "\n",
    "    for index, row in soi_table_df.iterrows():\n",
    "        for column in soi_table_df.columns:\n",
    "            pattern = re.compile(r'\\([a-zA-Z]\\)')\n",
    "            if str(row[column])[-1] == \"+\" or '+' in str(row[column]):\n",
    "                next_column_index = soi_table_df.columns.get_loc(\n",
    "                    column) + 1\n",
    "                if str(row[column])[-1] == \"+\":\n",
    "                    if (next_column_index < len(soi_table_df.columns)\n",
    "                        and not pd.isna(row[soi_table_df.columns[next_column_index]])\n",
    "                        ):\n",
    "                        soi_table_df.at[index, column] = str(\n",
    "                            soi_table_df.at[index, column])+str(row[soi_table_df.columns[next_column_index]])\n",
    "                        soi_table_df.at[index,\n",
    "                                        soi_table_df.columns[next_column_index]] = np.nan\n",
    "\n",
    "                    next_column_index = soi_table_df.columns.get_loc(\n",
    "                        next_column_index) + 1\n",
    "                if (\n",
    "                    next_column_index < len(soi_table_df.columns)\n",
    "                    and pattern.search(str(row[soi_table_df.columns[next_column_index]]))\n",
    "                    and not pd.isna(row[soi_table_df.columns[next_column_index]])\n",
    "                ):\n",
    "                    soi_table_df.at[index, column] = str(\n",
    "                        soi_table_df.at[index, column])+str(row[soi_table_df.columns[next_column_index]])\n",
    "                    soi_table_df.at[index,\n",
    "                                    soi_table_df.columns[next_column_index]] = np.nan\n",
    "\n",
    "            if row[column] == \"No Value\":\n",
    "                pattern = re.compile(r'\\([0-9]\\)')\n",
    "                next_column_index = soi_table_df.columns.get_loc(column) + 1\n",
    "                if (\n",
    "                    next_column_index < len(soi_table_df.columns)\n",
    "                    and pattern.search(str(row[soi_table_df.columns[next_column_index]]))\n",
    "                    and not pd.isna(row[soi_table_df.columns[next_column_index]])\n",
    "                ):\n",
    "                    soi_table_df.at[index,\n",
    "                                    column] = row[soi_table_df.columns[next_column_index]]\n",
    "                    soi_table_df.at[index,\n",
    "                                    soi_table_df.columns[next_column_index]] = np.nan\n",
    "\n",
    "    soi_table_df.insert(0, 'Industy', '')\n",
    "\n",
    "    for index, row in soi_table_df.iterrows():\n",
    "        if row.nunique() == 2:\n",
    "            soi_table_df.at[index, 'Industy'] = row.loc[0]\n",
    "    soi_table_df['Industy'] = soi_table_df['Industy'].replace('', np.nan)\n",
    "\n",
    "    col_indices = [0, 1, 2]\n",
    "    soi_table_df.iloc[:, col_indices] = soi_table_df.iloc[:, col_indices].fillna(\n",
    "        method='ffill')\n",
    "    col_indices = [0]\n",
    "    soi_table_df.iloc[:, col_indices] = soi_table_df.iloc[:,\n",
    "                                                          col_indices].fillna('No value')\n",
    "\n",
    "    for index, row in soi_table_df.iterrows():\n",
    "        cleanedList = [x for x in list(row) if str(x) != 'nan']\n",
    "        row = pd.Series(cleanedList)\n",
    "        soi_table_df.loc[index] = row\n",
    "\n",
    "\n",
    "# drop nan col row\n",
    "    # soi_table_df = soi_table_df.dropna(axis=0, thresh=4)\n",
    "    soi_table_df = dropna_col_row(soi_table_df)\n",
    "    count = shape(count, soi_table_df)\n",
    "# rename col\n",
    "    soi_table_df = rename_columns(soi_table_df)\n",
    "\n",
    "    return soi_table_df\n",
    "\n",
    "\n",
    "run_process_function(dataframes=dataframes, process_tables=process_tables,\n",
    "                     process_tables_shape=process_tables_shape)"
   ]
  },
  {
   "cell_type": "code",
   "execution_count": 148,
   "metadata": {},
   "outputs": [
    {
     "data": {
      "text/plain": [
       "{'March 31 2013': (365, 10),\n",
       " 'June 30 2013': (365, 10),\n",
       " 'September 30 2013': (381, 10),\n",
       " 'December 31 2013': (378, 10),\n",
       " 'March 31 2014': (399, 10),\n",
       " 'June 30 2014': (412, 10),\n",
       " 'September 30 2014': (432, 10),\n",
       " 'December 31 2014': (430, 10),\n",
       " 'March 31 2015': (445, 10),\n",
       " 'June 30 2015': (473, 10),\n",
       " 'September 30 2015': (483, 10),\n",
       " 'December 31 2015': (425, 10),\n",
       " 'March 31 2016': (505, 10),\n",
       " 'June 30 2016': (469, 10),\n",
       " 'September 30 2016': (582, 10),\n",
       " 'December 31 2016': (579, 10),\n",
       " 'March 31 2017': (606, 10),\n",
       " 'June 30 2017': (635, 10),\n",
       " 'December 31 2017': (663, 10),\n",
       " 'March 31 2018': (699, 10),\n",
       " 'June 30 2018': (737, 10),\n",
       " 'September 30 2018': (778, 10),\n",
       " 'December 31 2018': (841, 10),\n",
       " 'March 31 2019': (875, 10),\n",
       " 'June 30 2019': (917, 10),\n",
       " 'September 30 2019': (1013, 10),\n",
       " 'December 31 2019': (1063, 10),\n",
       " 'March 31 2020': (1106, 11),\n",
       " 'June 30 2020': (1105, 10),\n",
       " 'September 30 2020': (1138, 10),\n",
       " 'December 31 2020': (1175, 10),\n",
       " 'March 31 2021': (1227, 10),\n",
       " 'June 30 2021': (1308, 10),\n",
       " 'September 30 2021': (1419, 10),\n",
       " 'December 31 2021': (1433, 10),\n",
       " 'March 31 2022': (1531, 10),\n",
       " 'June 30 2022': (1624, 10),\n",
       " 'September 30 2022': (1617, 13),\n",
       " 'December 31 2022': (1620, 13),\n",
       " 'March 31 2023': (1460, 13),\n",
       " 'June 30 2023': (1383, 13)}"
      ]
     },
     "execution_count": 148,
     "metadata": {},
     "output_type": "execute_result"
    }
   ],
   "source": [
    "process_tables_shape"
   ]
  },
  {
   "cell_type": "code",
   "execution_count": null,
   "metadata": {},
   "outputs": [],
   "source": []
  },
  {
   "cell_type": "code",
   "execution_count": null,
   "metadata": {},
   "outputs": [],
   "source": []
  }
 ],
 "metadata": {
  "kernelspec": {
   "display_name": "base",
   "language": "python",
   "name": "python3"
  },
  "language_info": {
   "codemirror_mode": {
    "name": "ipython",
    "version": 3
   },
   "file_extension": ".py",
   "mimetype": "text/x-python",
   "name": "python",
   "nbconvert_exporter": "python",
   "pygments_lexer": "ipython3",
   "version": "3.10.13"
  }
 },
 "nbformat": 4,
 "nbformat_minor": 2
}
