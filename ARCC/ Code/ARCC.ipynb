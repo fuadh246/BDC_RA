{
 "cells": [
  {
   "cell_type": "code",
   "execution_count": 323,
   "metadata": {},
   "outputs": [],
   "source": [
    "from bs4 import BeautifulSoup\n",
    "import re\n",
    "import unicodedata\n",
    "import pandas as pd\n",
    "import numpy as np\n",
    "import html5lib\n",
    "import requests\n",
    "from openpyxl import Workbook\n",
    "from datetime import datetime"
   ]
  },
  {
   "cell_type": "code",
   "execution_count": 324,
   "metadata": {},
   "outputs": [],
   "source": [
    "def parse_and_trim(content, content_type):\n",
    "    if content_type == 'HTML':\n",
    "        soup = BeautifulSoup(content, 'html.parser')\n",
    "    else:\n",
    "        soup = BeautifulSoup(content, 'html.parser')\n",
    "\n",
    "    for tag in soup.recursiveChildGenerator():\n",
    "        try:\n",
    "            tag.attrs = None\n",
    "        except AttributeError:\n",
    "            pass\n",
    "\n",
    "    for linebreak in soup.find_all('br'):\n",
    "        linebreak.extract()\n",
    "\n",
    "    return soup"
   ]
  },
  {
   "cell_type": "code",
   "execution_count": 325,
   "metadata": {},
   "outputs": [],
   "source": [
    "def remove_multiple_spaces(string):\n",
    "    pattern = r'\\s+'\n",
    "    replaced_string = re.sub(pattern, ' ', string)\n",
    "    return replaced_string\n",
    "\n",
    "\n",
    "def find_qrt_date(content):\n",
    "    qtr_date = content.find_all(text=re.compile(\n",
    "        r'for\\s+(the\\s+)?(fiscal\\s+)?year\\s+ended\\s+|for\\s+the\\s+quarter\\s+ended\\s+|for\\s+the\\s+quarterly\\s+period\\s+ended\\s+', re.IGNORECASE))\n",
    "    qtr_match = re.search(\n",
    "        r'([A-Za-z]+)\\s+(\\d{1,2}),\\s+(\\d{4})', qtr_date[0].replace('\\n', ''))\n",
    "    if qtr_match is None:\n",
    "        qtr_match = qtr_match = re.search(\n",
    "            r'([A-Za-z]+) (\\d{1,2}), (\\d{4})', qtr_date[1])\n",
    "    return remove_multiple_spaces(str(qtr_match.group()))"
   ]
  },
  {
   "cell_type": "code",
   "execution_count": 326,
   "metadata": {},
   "outputs": [
    {
     "data": {
      "text/html": [
       "<div>\n",
       "<style scoped>\n",
       "    .dataframe tbody tr th:only-of-type {\n",
       "        vertical-align: middle;\n",
       "    }\n",
       "\n",
       "    .dataframe tbody tr th {\n",
       "        vertical-align: top;\n",
       "    }\n",
       "\n",
       "    .dataframe thead th {\n",
       "        text-align: right;\n",
       "    }\n",
       "</style>\n",
       "<table border=\"1\" class=\"dataframe\">\n",
       "  <thead>\n",
       "    <tr style=\"text-align: right;\">\n",
       "      <th></th>\n",
       "      <th>Form type</th>\n",
       "      <th>Form description</th>\n",
       "      <th>Filing date</th>\n",
       "      <th>Reporting date</th>\n",
       "      <th>Filings URL</th>\n",
       "    </tr>\n",
       "  </thead>\n",
       "  <tbody>\n",
       "    <tr>\n",
       "      <th>0</th>\n",
       "      <td>10-Q</td>\n",
       "      <td>Quarterly report [Sections 13 or 15(d)]</td>\n",
       "      <td>2023-07-25</td>\n",
       "      <td>2023-06-30</td>\n",
       "      <td>https://www.sec.gov/Archives/edgar/data/128775...</td>\n",
       "    </tr>\n",
       "    <tr>\n",
       "      <th>1</th>\n",
       "      <td>10-Q</td>\n",
       "      <td>Quarterly report [Sections 13 or 15(d)]</td>\n",
       "      <td>2023-04-25</td>\n",
       "      <td>2023-03-31</td>\n",
       "      <td>https://www.sec.gov/Archives/edgar/data/128775...</td>\n",
       "    </tr>\n",
       "    <tr>\n",
       "      <th>2</th>\n",
       "      <td>10-K/A</td>\n",
       "      <td>Annual report [Section 13 and 15(d), not S-K I...</td>\n",
       "      <td>2023-03-31</td>\n",
       "      <td>2022-12-31</td>\n",
       "      <td>https://www.sec.gov/Archives/edgar/data/128775...</td>\n",
       "    </tr>\n",
       "    <tr>\n",
       "      <th>3</th>\n",
       "      <td>10-K</td>\n",
       "      <td>Annual report [Section 13 and 15(d), not S-K I...</td>\n",
       "      <td>2023-02-07</td>\n",
       "      <td>2022-12-31</td>\n",
       "      <td>https://www.sec.gov/Archives/edgar/data/128775...</td>\n",
       "    </tr>\n",
       "    <tr>\n",
       "      <th>4</th>\n",
       "      <td>10-Q</td>\n",
       "      <td>Quarterly report [Sections 13 or 15(d)]</td>\n",
       "      <td>2022-10-25</td>\n",
       "      <td>2022-09-30</td>\n",
       "      <td>https://www.sec.gov/Archives/edgar/data/128775...</td>\n",
       "    </tr>\n",
       "  </tbody>\n",
       "</table>\n",
       "</div>"
      ],
      "text/plain": [
       "  Form type                                   Form description Filing date  \\\n",
       "0      10-Q            Quarterly report [Sections 13 or 15(d)]  2023-07-25   \n",
       "1      10-Q            Quarterly report [Sections 13 or 15(d)]  2023-04-25   \n",
       "2    10-K/A  Annual report [Section 13 and 15(d), not S-K I...  2023-03-31   \n",
       "3      10-K  Annual report [Section 13 and 15(d), not S-K I...  2023-02-07   \n",
       "4      10-Q            Quarterly report [Sections 13 or 15(d)]  2022-10-25   \n",
       "\n",
       "  Reporting date                                        Filings URL  \n",
       "0     2023-06-30  https://www.sec.gov/Archives/edgar/data/128775...  \n",
       "1     2023-03-31  https://www.sec.gov/Archives/edgar/data/128775...  \n",
       "2     2022-12-31  https://www.sec.gov/Archives/edgar/data/128775...  \n",
       "3     2022-12-31  https://www.sec.gov/Archives/edgar/data/128775...  \n",
       "4     2022-09-30  https://www.sec.gov/Archives/edgar/data/128775...  "
      ]
     },
     "execution_count": 326,
     "metadata": {},
     "output_type": "execute_result"
    }
   ],
   "source": [
    "headers = {\n",
    "    'User-Agent': 'ARES CAPITAL CORP'\n",
    "}\n",
    "filing_links = pd.read_excel(\n",
    "    \"/Users/fuadhassan/Desktop/BDC_RA/ARCC/ARCC__sec_filing_links.xlsx\")\n",
    "filing_links.head()"
   ]
  },
  {
   "cell_type": "code",
   "execution_count": 327,
   "metadata": {},
   "outputs": [
    {
     "data": {
      "text/html": [
       "<div>\n",
       "<style scoped>\n",
       "    .dataframe tbody tr th:only-of-type {\n",
       "        vertical-align: middle;\n",
       "    }\n",
       "\n",
       "    .dataframe tbody tr th {\n",
       "        vertical-align: top;\n",
       "    }\n",
       "\n",
       "    .dataframe thead th {\n",
       "        text-align: right;\n",
       "    }\n",
       "</style>\n",
       "<table border=\"1\" class=\"dataframe\">\n",
       "  <thead>\n",
       "    <tr style=\"text-align: right;\">\n",
       "      <th></th>\n",
       "      <th>Form type</th>\n",
       "      <th>Form description</th>\n",
       "      <th>Filing date</th>\n",
       "      <th>Reporting date</th>\n",
       "      <th>Filings URL</th>\n",
       "    </tr>\n",
       "  </thead>\n",
       "  <tbody>\n",
       "    <tr>\n",
       "      <th>0</th>\n",
       "      <td>10-Q</td>\n",
       "      <td>Quarterly report [Sections 13 or 15(d)]</td>\n",
       "      <td>2023-07-25</td>\n",
       "      <td>2023-06-30</td>\n",
       "      <td>https://www.sec.gov/Archives/edgar/data/128775...</td>\n",
       "    </tr>\n",
       "    <tr>\n",
       "      <th>1</th>\n",
       "      <td>10-Q</td>\n",
       "      <td>Quarterly report [Sections 13 or 15(d)]</td>\n",
       "      <td>2023-04-25</td>\n",
       "      <td>2023-03-31</td>\n",
       "      <td>https://www.sec.gov/Archives/edgar/data/128775...</td>\n",
       "    </tr>\n",
       "    <tr>\n",
       "      <th>2</th>\n",
       "      <td>10-K</td>\n",
       "      <td>Annual report [Section 13 and 15(d), not S-K I...</td>\n",
       "      <td>2023-02-07</td>\n",
       "      <td>2022-12-31</td>\n",
       "      <td>https://www.sec.gov/Archives/edgar/data/128775...</td>\n",
       "    </tr>\n",
       "    <tr>\n",
       "      <th>3</th>\n",
       "      <td>10-Q</td>\n",
       "      <td>Quarterly report [Sections 13 or 15(d)]</td>\n",
       "      <td>2022-10-25</td>\n",
       "      <td>2022-09-30</td>\n",
       "      <td>https://www.sec.gov/Archives/edgar/data/128775...</td>\n",
       "    </tr>\n",
       "    <tr>\n",
       "      <th>4</th>\n",
       "      <td>10-Q</td>\n",
       "      <td>Quarterly report [Sections 13 or 15(d)]</td>\n",
       "      <td>2022-07-26</td>\n",
       "      <td>2022-06-30</td>\n",
       "      <td>https://www.sec.gov/Archives/edgar/data/128775...</td>\n",
       "    </tr>\n",
       "  </tbody>\n",
       "</table>\n",
       "</div>"
      ],
      "text/plain": [
       "  Form type                                   Form description Filing date  \\\n",
       "0      10-Q            Quarterly report [Sections 13 or 15(d)]  2023-07-25   \n",
       "1      10-Q            Quarterly report [Sections 13 or 15(d)]  2023-04-25   \n",
       "2      10-K  Annual report [Section 13 and 15(d), not S-K I...  2023-02-07   \n",
       "3      10-Q            Quarterly report [Sections 13 or 15(d)]  2022-10-25   \n",
       "4      10-Q            Quarterly report [Sections 13 or 15(d)]  2022-07-26   \n",
       "\n",
       "  Reporting date                                        Filings URL  \n",
       "0     2023-06-30  https://www.sec.gov/Archives/edgar/data/128775...  \n",
       "1     2023-03-31  https://www.sec.gov/Archives/edgar/data/128775...  \n",
       "2     2022-12-31  https://www.sec.gov/Archives/edgar/data/128775...  \n",
       "3     2022-09-30  https://www.sec.gov/Archives/edgar/data/128775...  \n",
       "4     2022-06-30  https://www.sec.gov/Archives/edgar/data/128775...  "
      ]
     },
     "execution_count": 327,
     "metadata": {},
     "output_type": "execute_result"
    }
   ],
   "source": [
    "# drops all the amendment filing\n",
    "filing_links = filing_links.drop(filing_links[filing_links['Form description'].str.contains(\n",
    "    'amendment', case=False)].index).reset_index(drop=True)\n",
    "filing_links.head()"
   ]
  },
  {
   "cell_type": "code",
   "execution_count": 328,
   "metadata": {},
   "outputs": [],
   "source": [
    "date_columns = ['Filing date', 'Reporting date']\n",
    "for col in date_columns:\n",
    "    filing_links[col] = pd.to_datetime(filing_links[col], format='%Y-%m-%d')\n",
    "for col in date_columns:\n",
    "    filing_links[col] = filing_links[col].dt.strftime(\"%B %d, %Y\")"
   ]
  },
  {
   "cell_type": "code",
   "execution_count": 329,
   "metadata": {},
   "outputs": [
    {
     "data": {
      "text/html": [
       "<div>\n",
       "<style scoped>\n",
       "    .dataframe tbody tr th:only-of-type {\n",
       "        vertical-align: middle;\n",
       "    }\n",
       "\n",
       "    .dataframe tbody tr th {\n",
       "        vertical-align: top;\n",
       "    }\n",
       "\n",
       "    .dataframe thead th {\n",
       "        text-align: right;\n",
       "    }\n",
       "</style>\n",
       "<table border=\"1\" class=\"dataframe\">\n",
       "  <thead>\n",
       "    <tr style=\"text-align: right;\">\n",
       "      <th></th>\n",
       "      <th>Form type</th>\n",
       "      <th>Form description</th>\n",
       "      <th>Filing date</th>\n",
       "      <th>Reporting date</th>\n",
       "      <th>Filings URL</th>\n",
       "    </tr>\n",
       "  </thead>\n",
       "  <tbody>\n",
       "    <tr>\n",
       "      <th>0</th>\n",
       "      <td>10-Q</td>\n",
       "      <td>Quarterly report [Sections 13 or 15(d)]</td>\n",
       "      <td>July 25, 2023</td>\n",
       "      <td>June 30, 2023</td>\n",
       "      <td>https://www.sec.gov/Archives/edgar/data/128775...</td>\n",
       "    </tr>\n",
       "    <tr>\n",
       "      <th>1</th>\n",
       "      <td>10-Q</td>\n",
       "      <td>Quarterly report [Sections 13 or 15(d)]</td>\n",
       "      <td>April 25, 2023</td>\n",
       "      <td>March 31, 2023</td>\n",
       "      <td>https://www.sec.gov/Archives/edgar/data/128775...</td>\n",
       "    </tr>\n",
       "    <tr>\n",
       "      <th>2</th>\n",
       "      <td>10-K</td>\n",
       "      <td>Annual report [Section 13 and 15(d), not S-K I...</td>\n",
       "      <td>February 07, 2023</td>\n",
       "      <td>December 31, 2022</td>\n",
       "      <td>https://www.sec.gov/Archives/edgar/data/128775...</td>\n",
       "    </tr>\n",
       "    <tr>\n",
       "      <th>3</th>\n",
       "      <td>10-Q</td>\n",
       "      <td>Quarterly report [Sections 13 or 15(d)]</td>\n",
       "      <td>October 25, 2022</td>\n",
       "      <td>September 30, 2022</td>\n",
       "      <td>https://www.sec.gov/Archives/edgar/data/128775...</td>\n",
       "    </tr>\n",
       "    <tr>\n",
       "      <th>4</th>\n",
       "      <td>10-Q</td>\n",
       "      <td>Quarterly report [Sections 13 or 15(d)]</td>\n",
       "      <td>July 26, 2022</td>\n",
       "      <td>June 30, 2022</td>\n",
       "      <td>https://www.sec.gov/Archives/edgar/data/128775...</td>\n",
       "    </tr>\n",
       "  </tbody>\n",
       "</table>\n",
       "</div>"
      ],
      "text/plain": [
       "  Form type                                   Form description  \\\n",
       "0      10-Q            Quarterly report [Sections 13 or 15(d)]   \n",
       "1      10-Q            Quarterly report [Sections 13 or 15(d)]   \n",
       "2      10-K  Annual report [Section 13 and 15(d), not S-K I...   \n",
       "3      10-Q            Quarterly report [Sections 13 or 15(d)]   \n",
       "4      10-Q            Quarterly report [Sections 13 or 15(d)]   \n",
       "\n",
       "         Filing date      Reporting date  \\\n",
       "0      July 25, 2023       June 30, 2023   \n",
       "1     April 25, 2023      March 31, 2023   \n",
       "2  February 07, 2023   December 31, 2022   \n",
       "3   October 25, 2022  September 30, 2022   \n",
       "4      July 26, 2022       June 30, 2022   \n",
       "\n",
       "                                         Filings URL  \n",
       "0  https://www.sec.gov/Archives/edgar/data/128775...  \n",
       "1  https://www.sec.gov/Archives/edgar/data/128775...  \n",
       "2  https://www.sec.gov/Archives/edgar/data/128775...  \n",
       "3  https://www.sec.gov/Archives/edgar/data/128775...  \n",
       "4  https://www.sec.gov/Archives/edgar/data/128775...  "
      ]
     },
     "execution_count": 329,
     "metadata": {},
     "output_type": "execute_result"
    }
   ],
   "source": [
    "filing_links.head()"
   ]
  },
  {
   "cell_type": "code",
   "execution_count": 330,
   "metadata": {},
   "outputs": [
    {
     "name": "stdout",
     "output_type": "stream",
     "text": [
      "<class 'pandas.core.frame.DataFrame'>\n",
      "RangeIndex: 52 entries, 0 to 51\n",
      "Data columns (total 5 columns):\n",
      " #   Column            Non-Null Count  Dtype \n",
      "---  ------            --------------  ----- \n",
      " 0   Form type         52 non-null     object\n",
      " 1   Form description  52 non-null     object\n",
      " 2   Filing date       52 non-null     object\n",
      " 3   Reporting date    52 non-null     object\n",
      " 4   Filings URL       52 non-null     object\n",
      "dtypes: object(5)\n",
      "memory usage: 2.2+ KB\n"
     ]
    }
   ],
   "source": [
    "filing_links.info()"
   ]
  },
  {
   "cell_type": "code",
   "execution_count": 331,
   "metadata": {},
   "outputs": [],
   "source": [
    "# url = filing_links.iloc[1]['Filings URL']\n",
    "# date = filing_links.iloc[1]['Reporting date']\n",
    "# url, date"
   ]
  },
  {
   "cell_type": "code",
   "execution_count": 332,
   "metadata": {},
   "outputs": [],
   "source": [
    "# response = requests.get(url, headers=headers)\n",
    "# content = parse_and_trim(response.content, 'HTML')"
   ]
  },
  {
   "cell_type": "code",
   "execution_count": 333,
   "metadata": {},
   "outputs": [],
   "source": [
    "# real one on git hub\n",
    "\n",
    "\n",
    "# def extract_tables(soup_content, qtr_date):\n",
    "#     master_table = None\n",
    "#     all_tags = soup_content.find_all(True)\n",
    "#     print(type(all_tags))\n",
    "#     count = 0\n",
    "#     for tag in soup_content.find_all(text=re.compile('^.*CONSOLIDATED\\s+SCHEDULE(S|)\\s+OF\\s+INVESTMENTS.*$')):\n",
    "#         print('yes')\n",
    "#         date_str = re.search(r'([A-Za-z]+) (\\d{1,2}), (\\d{4})', tag)\n",
    "#         print(date_str)\n",
    "#         if date_str is None:\n",
    "#             next_line = tag.find_next(text=re.compile(\n",
    "#                 r'([A-Za-z]+) (\\d{1,2}), (\\d{4})')).text\n",
    "#             date_str = re.search(r'([A-Za-z]+) (\\d{1,2}), (\\d{4})', next_line)\n",
    "#         if date_str is None:\n",
    "#             next_line = tag.next.next.next.next.next.next.text\n",
    "#             date_str = re.search(r'([A-Za-z]+) (\\d{1,2}), (\\d{4})', next_line)\n",
    "#         if date_str is not None:\n",
    "#             date_str = str(date_str.group())\n",
    "#             date_str = unicodedata.normalize('NFKD', date_str)\n",
    "#             print(date_str)\n",
    "#             if qtr_date.replace(',', '').strip().lower() in date_str.replace(',', '').strip().lower():\n",
    "#                 count += 1\n",
    "#                 print('Table found: ')\n",
    "#                 print('Table #', count)\n",
    "#                 html_table = tag.find_next('table')\n",
    "#                 if master_table is None:\n",
    "#                     master_table = pd.read_html(\n",
    "#                         html_table.prettify(), skiprows=0, flavor='bs4')[0]\n",
    "#                     master_table = master_table.applymap(lambda x: unicodedata.normalize(\n",
    "#                         'NFKD', x.strip().strip(u'\\u200b').replace('—', '-')) if type(x) == str else x)\n",
    "#                     master_table = master_table.replace(r'^\\s*$', np.nan, regex=True).replace(r'^\\s*\\$\\s*$', np.nan,\n",
    "#                                                                                               regex=True)\n",
    "#                     master_table = master_table.dropna(how='all', axis=0)\n",
    "#                 else:\n",
    "#                     new_table = pd.read_html(\n",
    "#                         html_table.prettify(), skiprows=0, flavor='bs4')[0]\n",
    "#                     new_table = new_table.applymap(lambda x: unicodedata.normalize(\n",
    "#                         'NFKD', x.strip().strip(u'\\u200b').replace('—', '-')) if type(x) == str else x)\n",
    "#                     new_table = new_table.replace(r'^\\s*$', np.nan, regex=True).replace(r'^\\s*\\$\\s*$', np.nan,\n",
    "#                                                                                         regex=True)\n",
    "#                     new_table = new_table.dropna(how='all', axis=0)\n",
    "#                     # print('head')\n",
    "#                     # print(new_table.head()) # text\n",
    "#                     master_table = master_table.append(\n",
    "#                         new_table.dropna(how='all', axis=0).reset_index(\n",
    "#                             drop=True).drop(index=0),\n",
    "#                         ignore_index=True)\n",
    "\n",
    "#     master_table = master_table.applymap(\n",
    "#         lambda x: x.strip().strip(u'\\u200b') if type(x) == str else x)\n",
    "#     master_table = master_table.replace(r'^\\s*$', np.nan, regex=True).replace(\n",
    "#         r'^\\s*\\$\\s*$', np.nan, regex=True).replace(r'^\\s*\\)\\s*$', np.nan, regex=True)\n",
    "#     return master_table"
   ]
  },
  {
   "cell_type": "code",
   "execution_count": 334,
   "metadata": {},
   "outputs": [],
   "source": [
    "def extract_tables(soup_content, qtr_date):\n",
    "    master_table = None\n",
    "    all_tags = soup_content.find_all(True)\n",
    "    count = 0\n",
    "    for tag in content.find_all(text=re.compile('^\\s*.*\\s*CONSOLIDATED\\s+SCHEDULE(S|)\\s+OF\\s+INVESTMENTS\\s*.*\\s*$')):\n",
    "        next_line_text = tag.next.text.strip()\n",
    "        regex_pattern = r'([A-Za-z]+\\s+\\d{1,2},\\s+\\d{4})'\n",
    "        date_str = re.search(regex_pattern, next_line_text)\n",
    "        if date_str is None:\n",
    "            next_line_text = tag.find_next(text=re.compile(regex_pattern)).text\n",
    "            date_str = re.search(regex_pattern, next_line_text)\n",
    "        if date_str is None:\n",
    "            next_line = tag.next.text.strip()\n",
    "            date_str = re.search(\n",
    "                regex_pattern, next_line)\n",
    "        if date_str is not None:\n",
    "            date_str = str(date_str.group(1))\n",
    "            date_str = unicodedata.normalize('NFKD', date_str)\n",
    "            if qtr_date.replace(',', '').strip().lower() in date_str.replace(',', '').strip().lower():\n",
    "                count += 1\n",
    "                # print('Table #', count)\n",
    "                html_table = tag.find_next('table')\n",
    "\n",
    "                new_table = pd.read_html(\n",
    "                    html_table.prettify(), skiprows=0, flavor='bs4')[0]\n",
    "                new_table = new_table.applymap(lambda x: unicodedata.normalize(\n",
    "                    'NFKD', x.strip().strip(u'\\u200b').replace('—', '-')) if type(x) == str else x)\n",
    "                new_table = new_table.replace(\n",
    "                    r'^\\s*$', np.nan, regex=True).replace(r'^\\s*\\$\\s*$', np.nan, regex=True)\n",
    "                new_table = new_table.dropna(how='all', axis=0)\n",
    "\n",
    "                if master_table is None:\n",
    "                    master_table = new_table\n",
    "                else:\n",
    "                    master_table = pd.concat(\n",
    "                        [master_table, new_table], ignore_index=True)\n",
    "\n",
    "    master_table = master_table.applymap(\n",
    "        lambda x: x.strip().strip(u'\\u200b') if type(x) == str else x)\n",
    "    master_table = master_table.replace(r'^\\s*$', np.nan, regex=True).replace(\n",
    "        r'^\\s*\\$\\s*$', np.nan, regex=True).replace(r'^\\s*\\)\\s*$', np.nan, regex=True)\n",
    "    return master_table"
   ]
  },
  {
   "cell_type": "code",
   "execution_count": 335,
   "metadata": {},
   "outputs": [],
   "source": [
    "def process_table(soi_table_df, append_str):\n",
    "    soi_table_df = soi_table_df.replace(r'^\\s*\\$\\s*$', np.nan, regex=True)\n",
    "    soi_table_df = soi_table_df.dropna(how='all', axis=1)\n",
    "    soi_table_df = soi_table_df.dropna(\n",
    "        how='all', axis=0).reset_index(drop=True)\n",
    "    # print('1: ' + str(soi_table_df.shape))\n",
    "\n",
    "    # Separate header and data\n",
    "    soi_table_header = soi_table_df.iloc[0].dropna(how='any')\n",
    "    soi_table_data_df = soi_table_df.rename(\n",
    "        columns=soi_table_df.iloc[0]).drop(soi_table_df.index[0])\n",
    "    # print('2: ' + str(soi_table_data_df.shape))\n",
    "\n",
    "    soi_table_data_df = soi_table_data_df[soi_table_data_df[soi_table_data_df.columns[0]]\n",
    "                                          != soi_table_data_df.columns[0]]\n",
    "    # print('2: ' + str(soi_table_data_df.shape))\n",
    "\n",
    "    # Drop rows with only two non-null values\n",
    "    soi_table_data_df = soi_table_data_df.dropna(thresh=3)\n",
    "\n",
    "    # print('4: ' + str(soi_table_data_df.shape))\n",
    "\n",
    "    soi_table_data_df = soi_table_data_df.replace('-', 0, regex=False)\n",
    "\n",
    "    # original_column_names = soi_table_data_df.columns.tolist()\n",
    "    # soi_table_data_df.columns = soi_table_data_df.columns.str.replace(\n",
    "    #     ' ', '')\n",
    "    columns_to_fill = ['Amortized Cost', 'Fair Value']\n",
    "    for col in columns_to_fill:\n",
    "        col_index = soi_table_data_df.columns.str.replace(\n",
    "            ' ', '').get_loc(col.replace(' ', ''))\n",
    "        next_col_index = col_index + 1\n",
    "        for i in range(len(soi_table_data_df)):\n",
    "            current_value = soi_table_data_df.iat[i, col_index]\n",
    "            if pd.isna(current_value) and next_col_index < len(soi_table_data_df.columns):\n",
    "                next_valid_index = next((j for j, v in enumerate(\n",
    "                    soi_table_data_df.iloc[i, next_col_index:], start=next_col_index) if pd.notna(v)), None)\n",
    "\n",
    "                if next_valid_index is not None:\n",
    "                    next_value = soi_table_data_df.iat[i, next_valid_index]\n",
    "                    soi_table_data_df.iat[i, col_index] = next_value\n",
    "                    soi_table_data_df.iat[i, next_valid_index] = pd.NA\n",
    "    # soi_table_data_df.columns = original_column_names\n",
    "\n",
    "    # drops everything after % of Net Assets\n",
    "    # if 'FairValue' in soi_table_data_df.columns.str.replace(' ', ''):\n",
    "    #     start_index = soi_table_data_df.columns.str.replace(\n",
    "    #         ' ', '').get_loc('FairValue')\n",
    "    #     soi_table_data_df = soi_table_data_df.iloc[:, :start_index+1]\n",
    "    if 'FairValue' in soi_table_data_df.columns.str.replace(' ', ''):\n",
    "        start_index = soi_table_data_df.columns.str.replace(\n",
    "            ' ', '').get_loc('FairValue')\n",
    "        soi_table_data_df = soi_table_data_df.iloc[:, :start_index+1]\n",
    "\n",
    "    # Drop rows with only two non-null values\n",
    "    soi_table_data_df = soi_table_data_df.dropna(thresh=3)\n",
    "\n",
    "    # Drop rows labeled as subtotals\n",
    "    # subtotal_rows = soi_table_data_df[soi_table_data_df['Company (1)'].str.replace(' ', '').str.contains(\n",
    "    #     'subtotal', case=False, na=False)]\n",
    "    # soi_table_data_df = soi_table_data_df[~soi_table_data_df.index.isin(\n",
    "    #     subtotal_rows.index)]\n",
    "    # print('3: ' + str(soi_table_data_df.shape))\n",
    "\n",
    "    # # Drop rows based on regex pattern (e.g., 'subtotal' or 'total')\n",
    "    # pattern = r'^([Ss]ubtotal)|([Tt]otal)'\n",
    "    # mask = soi_table_data_df.apply(lambda row: row.astype(\n",
    "    #     str).str.contains(pattern, case=False, na=False)).any(axis=1)\n",
    "    # soi_table_data_df = soi_table_data_df[~mask]\n",
    "    # # print('4: ' + str(soi_table_data_df.shape))\n",
    "\n",
    "    # Drop rows with all missing values\n",
    "    soi_table_df = soi_table_df.dropna(how='all')\n",
    "    # print('5: ' + str(soi_table_data_df.shape))\n",
    "\n",
    "    # # # Drop columns with all missing values\n",
    "    soi_table_data_df = soi_table_data_df.dropna(how='all', axis=1)\n",
    "    # # print('6: ' + str(soi_table_data_df.shape))\n",
    "\n",
    "    # Forward fill the first two columns\n",
    "    col_indices = [0, 1]\n",
    "    soi_table_data_df.iloc[:, col_indices] = soi_table_data_df.iloc[:, col_indices].fillna(\n",
    "        method='ffill')\n",
    "    # print('7: ' + str(soi_table_data_df.shape))\n",
    "\n",
    "    soi_table_data_df = soi_table_data_df.fillna(0)\n",
    "    # soi_table_data_df = soi_table_data_df.dropna(how='all', axis=1)\n",
    "\n",
    "    cols_to_convert = ['Shares/Units', 'Principal',\n",
    "                       'Amortized Cost', 'Fair Value']\n",
    "    for col in cols_to_convert:\n",
    "        if col.replace(' ', '') in soi_table_data_df.columns.str.replace(' ', ''):\n",
    "            col_index = soi_table_data_df.columns.str.replace(\n",
    "                ' ', '').get_loc(col.replace(' ', ''))\n",
    "            # soi_table_data_df.iloc[:, col_index] = soi_table_data_df.iloc[:, col_index].str.replace(\n",
    "            #     '$', '')\n",
    "            soi_table_data_df.iloc[:, col_index] = pd.to_numeric(\n",
    "                soi_table_data_df.iloc[:, col_index], errors='coerce').fillna(0)\n",
    "\n",
    "    # columns_to_drop = []\n",
    "    # for column in soi_table_data_df.columns:\n",
    "    #     # Check for NaN values in the column\n",
    "    #     # Use .item() to get a single boolean value\n",
    "    #     if soi_table_data_df[column].isna().any().item():\n",
    "    #         columns_to_drop.append(column)\n",
    "\n",
    "    # # soi_table_data_df.drop(columns=columns_to_drop, inplace=True)\n",
    "\n",
    "    # # soi_table_data_df = soi_table_data_df.replace('-', 0, regex=False)\n",
    "    # soi_table_data_df.to_excel('test.xlsx')\n",
    "\n",
    "    # print('8: ' + str(soi_table_data_df.shape))\n",
    "\n",
    "    return soi_table_data_df"
   ]
  },
  {
   "cell_type": "code",
   "execution_count": 336,
   "metadata": {},
   "outputs": [],
   "source": [
    "url = filing_links.iloc[0]['Filings URL']\n",
    "date = filing_links.iloc[0]['Reporting date']\n",
    "url, date\n",
    "response = requests.get(url, headers=headers)\n",
    "content = parse_and_trim(response.content, 'HTML')"
   ]
  },
  {
   "cell_type": "code",
   "execution_count": 337,
   "metadata": {},
   "outputs": [
    {
     "name": "stderr",
     "output_type": "stream",
     "text": [
      "/var/folders/mf/yrkcqqr56t955_zz9p9f4swc0000gn/T/ipykernel_88328/1061021236.py:97: DeprecationWarning: In a future version, `df.iloc[:, i] = newvals` will attempt to set the values inplace instead of always setting a new array. To retain the old behavior, use either `df[df.columns[i]] = newvals` or, if columns are non-unique, `df.isetitem(i, newvals)`\n",
      "  soi_table_data_df.iloc[:, col_index] = pd.to_numeric(\n",
      "/var/folders/mf/yrkcqqr56t955_zz9p9f4swc0000gn/T/ipykernel_88328/1061021236.py:97: DeprecationWarning: In a future version, `df.iloc[:, i] = newvals` will attempt to set the values inplace instead of always setting a new array. To retain the old behavior, use either `df[df.columns[i]] = newvals` or, if columns are non-unique, `df.isetitem(i, newvals)`\n",
      "  soi_table_data_df.iloc[:, col_index] = pd.to_numeric(\n",
      "/var/folders/mf/yrkcqqr56t955_zz9p9f4swc0000gn/T/ipykernel_88328/1061021236.py:97: DeprecationWarning: In a future version, `df.iloc[:, i] = newvals` will attempt to set the values inplace instead of always setting a new array. To retain the old behavior, use either `df[df.columns[i]] = newvals` or, if columns are non-unique, `df.isetitem(i, newvals)`\n",
      "  soi_table_data_df.iloc[:, col_index] = pd.to_numeric(\n",
      "/var/folders/mf/yrkcqqr56t955_zz9p9f4swc0000gn/T/ipykernel_88328/1061021236.py:97: DeprecationWarning: In a future version, `df.iloc[:, i] = newvals` will attempt to set the values inplace instead of always setting a new array. To retain the old behavior, use either `df[df.columns[i]] = newvals` or, if columns are non-unique, `df.isetitem(i, newvals)`\n",
      "  soi_table_data_df.iloc[:, col_index] = pd.to_numeric(\n"
     ]
    },
    {
     "data": {
      "text/html": [
       "<div>\n",
       "<style scoped>\n",
       "    .dataframe tbody tr th:only-of-type {\n",
       "        vertical-align: middle;\n",
       "    }\n",
       "\n",
       "    .dataframe tbody tr th {\n",
       "        vertical-align: top;\n",
       "    }\n",
       "\n",
       "    .dataframe thead th {\n",
       "        text-align: right;\n",
       "    }\n",
       "</style>\n",
       "<table border=\"1\" class=\"dataframe\">\n",
       "  <thead>\n",
       "    <tr style=\"text-align: right;\">\n",
       "      <th></th>\n",
       "      <th>Company (1)</th>\n",
       "      <th>Business Description</th>\n",
       "      <th>Investment</th>\n",
       "      <th>Coupon (3)</th>\n",
       "      <th>Reference (7)</th>\n",
       "      <th>Spread (3)</th>\n",
       "      <th>Acquisition Date</th>\n",
       "      <th>Maturity Date</th>\n",
       "      <th>Shares/Units</th>\n",
       "      <th>Principal</th>\n",
       "      <th>NaN</th>\n",
       "      <th>Amortized Cost</th>\n",
       "      <th>Fair Value</th>\n",
       "    </tr>\n",
       "  </thead>\n",
       "  <tbody>\n",
       "    <tr>\n",
       "      <th>2</th>\n",
       "      <td>2U, Inc.</td>\n",
       "      <td>Provider of course design and learning managem...</td>\n",
       "      <td>First lien senior secured loan</td>\n",
       "      <td>11.32  %</td>\n",
       "      <td>SOFR (M)</td>\n",
       "      <td>6.50  %</td>\n",
       "      <td>01/2023</td>\n",
       "      <td>12/2026</td>\n",
       "      <td>0.0</td>\n",
       "      <td>0.0</td>\n",
       "      <td>4.7</td>\n",
       "      <td>4.4</td>\n",
       "      <td>4.5</td>\n",
       "    </tr>\n",
       "    <tr>\n",
       "      <th>3</th>\n",
       "      <td>AffiniPay Midco, LLC and AffiniPay Intermediat...</td>\n",
       "      <td>Payment processing solution provider</td>\n",
       "      <td>First lien senior secured loan</td>\n",
       "      <td>10.20  %</td>\n",
       "      <td>SOFR (A)</td>\n",
       "      <td>5.50  %</td>\n",
       "      <td>02/2020</td>\n",
       "      <td>06/2028</td>\n",
       "      <td>0.0</td>\n",
       "      <td>63.0</td>\n",
       "      <td>0.0</td>\n",
       "      <td>63.0</td>\n",
       "      <td>61.8</td>\n",
       "    </tr>\n",
       "    <tr>\n",
       "      <th>4</th>\n",
       "      <td>AffiniPay Midco, LLC and AffiniPay Intermediat...</td>\n",
       "      <td>Payment processing solution provider</td>\n",
       "      <td>First lien senior secured loan</td>\n",
       "      <td>10.39  %</td>\n",
       "      <td>SOFR (A)</td>\n",
       "      <td>5.50  %</td>\n",
       "      <td>06/2022</td>\n",
       "      <td>06/2028</td>\n",
       "      <td>0.0</td>\n",
       "      <td>120.0</td>\n",
       "      <td>0.0</td>\n",
       "      <td>118.0</td>\n",
       "      <td>117.6</td>\n",
       "    </tr>\n",
       "    <tr>\n",
       "      <th>5</th>\n",
       "      <td>AffiniPay Midco, LLC and AffiniPay Intermediat...</td>\n",
       "      <td>Payment processing solution provider</td>\n",
       "      <td>Senior subordinated loan</td>\n",
       "      <td>15.06  % PIK</td>\n",
       "      <td>SOFR (Q)</td>\n",
       "      <td>10.00  %</td>\n",
       "      <td>02/2020</td>\n",
       "      <td>06/2030</td>\n",
       "      <td>0.0</td>\n",
       "      <td>61.0</td>\n",
       "      <td>0.0</td>\n",
       "      <td>61.0</td>\n",
       "      <td>59.8</td>\n",
       "    </tr>\n",
       "    <tr>\n",
       "      <th>7</th>\n",
       "      <td>Anaplan, Inc. (15)</td>\n",
       "      <td>Provider of cloud-based connected planning pla...</td>\n",
       "      <td>First lien senior secured loan</td>\n",
       "      <td>11.60  %</td>\n",
       "      <td>SOFR (M)</td>\n",
       "      <td>6.50  %</td>\n",
       "      <td>06/2022</td>\n",
       "      <td>06/2029</td>\n",
       "      <td>0.0</td>\n",
       "      <td>1.8</td>\n",
       "      <td>0.0</td>\n",
       "      <td>1.8</td>\n",
       "      <td>1.8</td>\n",
       "    </tr>\n",
       "    <tr>\n",
       "      <th>...</th>\n",
       "      <td>...</td>\n",
       "      <td>...</td>\n",
       "      <td>...</td>\n",
       "      <td>...</td>\n",
       "      <td>...</td>\n",
       "      <td>...</td>\n",
       "      <td>...</td>\n",
       "      <td>...</td>\n",
       "      <td>...</td>\n",
       "      <td>...</td>\n",
       "      <td>...</td>\n",
       "      <td>...</td>\n",
       "      <td>...</td>\n",
       "    </tr>\n",
       "    <tr>\n",
       "      <th>1554</th>\n",
       "      <td>Flinn Scientific, Inc. and WCI-Quantum Holding...</td>\n",
       "      <td>Distributor of instructional products, service...</td>\n",
       "      <td>First lien senior secured revolving loan</td>\n",
       "      <td>10.72  %</td>\n",
       "      <td>SOFR (Q)</td>\n",
       "      <td>5.50  %</td>\n",
       "      <td>08/2018</td>\n",
       "      <td>08/2024</td>\n",
       "      <td>0.0</td>\n",
       "      <td>3.7</td>\n",
       "      <td>0.0</td>\n",
       "      <td>3.7</td>\n",
       "      <td>3.7</td>\n",
       "    </tr>\n",
       "    <tr>\n",
       "      <th>1555</th>\n",
       "      <td>Flinn Scientific, Inc. and WCI-Quantum Holding...</td>\n",
       "      <td>Distributor of instructional products, service...</td>\n",
       "      <td>First lien senior secured loan</td>\n",
       "      <td>11.00  %</td>\n",
       "      <td>SOFR (Q)</td>\n",
       "      <td>5.50  %</td>\n",
       "      <td>07/2017</td>\n",
       "      <td>08/2024</td>\n",
       "      <td>0.0</td>\n",
       "      <td>29.4</td>\n",
       "      <td>0.0</td>\n",
       "      <td>29.4</td>\n",
       "      <td>29.4</td>\n",
       "    </tr>\n",
       "    <tr>\n",
       "      <th>1556</th>\n",
       "      <td>Flinn Scientific, Inc. and WCI-Quantum Holding...</td>\n",
       "      <td>Distributor of instructional products, service...</td>\n",
       "      <td>First lien senior secured loan</td>\n",
       "      <td>11.00  %</td>\n",
       "      <td>SOFR (Q)</td>\n",
       "      <td>5.50  %</td>\n",
       "      <td>08/2018</td>\n",
       "      <td>08/2024</td>\n",
       "      <td>0.0</td>\n",
       "      <td>1.1</td>\n",
       "      <td>0.0</td>\n",
       "      <td>1.1</td>\n",
       "      <td>1.1</td>\n",
       "    </tr>\n",
       "    <tr>\n",
       "      <th>1557</th>\n",
       "      <td>Flinn Scientific, Inc. and WCI-Quantum Holding...</td>\n",
       "      <td>Distributor of instructional products, service...</td>\n",
       "      <td>Series A preferred stock</td>\n",
       "      <td>0</td>\n",
       "      <td>0</td>\n",
       "      <td>0</td>\n",
       "      <td>10/2014</td>\n",
       "      <td>0</td>\n",
       "      <td>1272.0</td>\n",
       "      <td>0.0</td>\n",
       "      <td>0.0</td>\n",
       "      <td>0.7</td>\n",
       "      <td>1.4</td>\n",
       "    </tr>\n",
       "    <tr>\n",
       "      <th>1560</th>\n",
       "      <td>Total Investments</td>\n",
       "      <td>Distributor of instructional products, service...</td>\n",
       "      <td>0</td>\n",
       "      <td>0</td>\n",
       "      <td>0</td>\n",
       "      <td>0</td>\n",
       "      <td>0</td>\n",
       "      <td>0</td>\n",
       "      <td>0.0</td>\n",
       "      <td>0.0</td>\n",
       "      <td>0.0</td>\n",
       "      <td>21685.6</td>\n",
       "      <td>21496.5</td>\n",
       "    </tr>\n",
       "  </tbody>\n",
       "</table>\n",
       "<p>1162 rows × 13 columns</p>\n",
       "</div>"
      ],
      "text/plain": [
       "                                            Company (1)  \\\n",
       "2                                              2U, Inc.   \n",
       "3     AffiniPay Midco, LLC and AffiniPay Intermediat...   \n",
       "4     AffiniPay Midco, LLC and AffiniPay Intermediat...   \n",
       "5     AffiniPay Midco, LLC and AffiniPay Intermediat...   \n",
       "7                                    Anaplan, Inc. (15)   \n",
       "...                                                 ...   \n",
       "1554  Flinn Scientific, Inc. and WCI-Quantum Holding...   \n",
       "1555  Flinn Scientific, Inc. and WCI-Quantum Holding...   \n",
       "1556  Flinn Scientific, Inc. and WCI-Quantum Holding...   \n",
       "1557  Flinn Scientific, Inc. and WCI-Quantum Holding...   \n",
       "1560                                  Total Investments   \n",
       "\n",
       "                                   Business Description  \\\n",
       "2     Provider of course design and learning managem...   \n",
       "3                  Payment processing solution provider   \n",
       "4                  Payment processing solution provider   \n",
       "5                  Payment processing solution provider   \n",
       "7     Provider of cloud-based connected planning pla...   \n",
       "...                                                 ...   \n",
       "1554  Distributor of instructional products, service...   \n",
       "1555  Distributor of instructional products, service...   \n",
       "1556  Distributor of instructional products, service...   \n",
       "1557  Distributor of instructional products, service...   \n",
       "1560  Distributor of instructional products, service...   \n",
       "\n",
       "                                    Investment    Coupon (3) Reference (7)  \\\n",
       "2               First lien senior secured loan      11.32  %      SOFR (M)   \n",
       "3               First lien senior secured loan      10.20  %      SOFR (A)   \n",
       "4               First lien senior secured loan      10.39  %      SOFR (A)   \n",
       "5                     Senior subordinated loan  15.06  % PIK      SOFR (Q)   \n",
       "7               First lien senior secured loan      11.60  %      SOFR (M)   \n",
       "...                                        ...           ...           ...   \n",
       "1554  First lien senior secured revolving loan      10.72  %      SOFR (Q)   \n",
       "1555            First lien senior secured loan      11.00  %      SOFR (Q)   \n",
       "1556            First lien senior secured loan      11.00  %      SOFR (Q)   \n",
       "1557                  Series A preferred stock             0             0   \n",
       "1560                                         0             0             0   \n",
       "\n",
       "     Spread (3) Acquisition Date Maturity Date  Shares/Units  Principal  NaN  \\\n",
       "2       6.50  %          01/2023       12/2026           0.0        0.0  4.7   \n",
       "3       5.50  %          02/2020       06/2028           0.0       63.0  0.0   \n",
       "4       5.50  %          06/2022       06/2028           0.0      120.0  0.0   \n",
       "5      10.00  %          02/2020       06/2030           0.0       61.0  0.0   \n",
       "7       6.50  %          06/2022       06/2029           0.0        1.8  0.0   \n",
       "...         ...              ...           ...           ...        ...  ...   \n",
       "1554    5.50  %          08/2018       08/2024           0.0        3.7  0.0   \n",
       "1555    5.50  %          07/2017       08/2024           0.0       29.4  0.0   \n",
       "1556    5.50  %          08/2018       08/2024           0.0        1.1  0.0   \n",
       "1557          0          10/2014             0        1272.0        0.0  0.0   \n",
       "1560          0                0             0           0.0        0.0  0.0   \n",
       "\n",
       "      Amortized Cost  Fair Value  \n",
       "2                4.4         4.5  \n",
       "3               63.0        61.8  \n",
       "4              118.0       117.6  \n",
       "5               61.0        59.8  \n",
       "7                1.8         1.8  \n",
       "...              ...         ...  \n",
       "1554             3.7         3.7  \n",
       "1555            29.4        29.4  \n",
       "1556             1.1         1.1  \n",
       "1557             0.7         1.4  \n",
       "1560         21685.6     21496.5  \n",
       "\n",
       "[1162 rows x 13 columns]"
      ]
     },
     "execution_count": 337,
     "metadata": {},
     "output_type": "execute_result"
    }
   ],
   "source": [
    "\n",
    "master_table = extract_tables(content, date)\n",
    "process_table_ = process_table(master_table, \"\")\n",
    "process_table_.to_excel(\"ex.xlsx\")\n",
    "process_table_.to_csv('ex.csv')\n",
    "process_table_"
   ]
  },
  {
   "cell_type": "code",
   "execution_count": 338,
   "metadata": {},
   "outputs": [],
   "source": [
    "# filing_links = filing_links.iloc[10]"
   ]
  },
  {
   "cell_type": "code",
   "execution_count": 339,
   "metadata": {},
   "outputs": [
    {
     "name": "stdout",
     "output_type": "stream",
     "text": [
      "start\n",
      "content DONE\n",
      "0 master_table DONE\n"
     ]
    },
    {
     "name": "stderr",
     "output_type": "stream",
     "text": [
      "/var/folders/mf/yrkcqqr56t955_zz9p9f4swc0000gn/T/ipykernel_88328/1061021236.py:97: DeprecationWarning: In a future version, `df.iloc[:, i] = newvals` will attempt to set the values inplace instead of always setting a new array. To retain the old behavior, use either `df[df.columns[i]] = newvals` or, if columns are non-unique, `df.isetitem(i, newvals)`\n",
      "  soi_table_data_df.iloc[:, col_index] = pd.to_numeric(\n",
      "/var/folders/mf/yrkcqqr56t955_zz9p9f4swc0000gn/T/ipykernel_88328/1061021236.py:97: DeprecationWarning: In a future version, `df.iloc[:, i] = newvals` will attempt to set the values inplace instead of always setting a new array. To retain the old behavior, use either `df[df.columns[i]] = newvals` or, if columns are non-unique, `df.isetitem(i, newvals)`\n",
      "  soi_table_data_df.iloc[:, col_index] = pd.to_numeric(\n",
      "/var/folders/mf/yrkcqqr56t955_zz9p9f4swc0000gn/T/ipykernel_88328/1061021236.py:97: DeprecationWarning: In a future version, `df.iloc[:, i] = newvals` will attempt to set the values inplace instead of always setting a new array. To retain the old behavior, use either `df[df.columns[i]] = newvals` or, if columns are non-unique, `df.isetitem(i, newvals)`\n",
      "  soi_table_data_df.iloc[:, col_index] = pd.to_numeric(\n",
      "/var/folders/mf/yrkcqqr56t955_zz9p9f4swc0000gn/T/ipykernel_88328/1061021236.py:97: DeprecationWarning: In a future version, `df.iloc[:, i] = newvals` will attempt to set the values inplace instead of always setting a new array. To retain the old behavior, use either `df[df.columns[i]] = newvals` or, if columns are non-unique, `df.isetitem(i, newvals)`\n",
      "  soi_table_data_df.iloc[:, col_index] = pd.to_numeric(\n",
      "/var/folders/mf/yrkcqqr56t955_zz9p9f4swc0000gn/T/ipykernel_88328/2166244296.py:20: FutureWarning: save is not part of the public API, usage can give unexpected results and will be removed in a future version\n",
      "  writer.save()\n"
     ]
    },
    {
     "name": "stdout",
     "output_type": "stream",
     "text": [
      "0 processed_table_ DONE\n",
      "start\n",
      "content DONE\n",
      "1 master_table DONE\n"
     ]
    },
    {
     "name": "stderr",
     "output_type": "stream",
     "text": [
      "/var/folders/mf/yrkcqqr56t955_zz9p9f4swc0000gn/T/ipykernel_88328/1061021236.py:97: DeprecationWarning: In a future version, `df.iloc[:, i] = newvals` will attempt to set the values inplace instead of always setting a new array. To retain the old behavior, use either `df[df.columns[i]] = newvals` or, if columns are non-unique, `df.isetitem(i, newvals)`\n",
      "  soi_table_data_df.iloc[:, col_index] = pd.to_numeric(\n",
      "/var/folders/mf/yrkcqqr56t955_zz9p9f4swc0000gn/T/ipykernel_88328/1061021236.py:97: DeprecationWarning: In a future version, `df.iloc[:, i] = newvals` will attempt to set the values inplace instead of always setting a new array. To retain the old behavior, use either `df[df.columns[i]] = newvals` or, if columns are non-unique, `df.isetitem(i, newvals)`\n",
      "  soi_table_data_df.iloc[:, col_index] = pd.to_numeric(\n",
      "/var/folders/mf/yrkcqqr56t955_zz9p9f4swc0000gn/T/ipykernel_88328/1061021236.py:97: DeprecationWarning: In a future version, `df.iloc[:, i] = newvals` will attempt to set the values inplace instead of always setting a new array. To retain the old behavior, use either `df[df.columns[i]] = newvals` or, if columns are non-unique, `df.isetitem(i, newvals)`\n",
      "  soi_table_data_df.iloc[:, col_index] = pd.to_numeric(\n",
      "/var/folders/mf/yrkcqqr56t955_zz9p9f4swc0000gn/T/ipykernel_88328/1061021236.py:97: DeprecationWarning: In a future version, `df.iloc[:, i] = newvals` will attempt to set the values inplace instead of always setting a new array. To retain the old behavior, use either `df[df.columns[i]] = newvals` or, if columns are non-unique, `df.isetitem(i, newvals)`\n",
      "  soi_table_data_df.iloc[:, col_index] = pd.to_numeric(\n"
     ]
    },
    {
     "name": "stdout",
     "output_type": "stream",
     "text": [
      "1 processed_table_ DONE\n"
     ]
    },
    {
     "name": "stderr",
     "output_type": "stream",
     "text": [
      "/var/folders/mf/yrkcqqr56t955_zz9p9f4swc0000gn/T/ipykernel_88328/2166244296.py:20: FutureWarning: save is not part of the public API, usage can give unexpected results and will be removed in a future version\n",
      "  writer.save()\n"
     ]
    },
    {
     "name": "stdout",
     "output_type": "stream",
     "text": [
      "start\n",
      "content DONE\n",
      "2 master_table DONE\n"
     ]
    },
    {
     "name": "stderr",
     "output_type": "stream",
     "text": [
      "/var/folders/mf/yrkcqqr56t955_zz9p9f4swc0000gn/T/ipykernel_88328/1061021236.py:97: DeprecationWarning: In a future version, `df.iloc[:, i] = newvals` will attempt to set the values inplace instead of always setting a new array. To retain the old behavior, use either `df[df.columns[i]] = newvals` or, if columns are non-unique, `df.isetitem(i, newvals)`\n",
      "  soi_table_data_df.iloc[:, col_index] = pd.to_numeric(\n",
      "/var/folders/mf/yrkcqqr56t955_zz9p9f4swc0000gn/T/ipykernel_88328/1061021236.py:97: DeprecationWarning: In a future version, `df.iloc[:, i] = newvals` will attempt to set the values inplace instead of always setting a new array. To retain the old behavior, use either `df[df.columns[i]] = newvals` or, if columns are non-unique, `df.isetitem(i, newvals)`\n",
      "  soi_table_data_df.iloc[:, col_index] = pd.to_numeric(\n",
      "/var/folders/mf/yrkcqqr56t955_zz9p9f4swc0000gn/T/ipykernel_88328/1061021236.py:97: DeprecationWarning: In a future version, `df.iloc[:, i] = newvals` will attempt to set the values inplace instead of always setting a new array. To retain the old behavior, use either `df[df.columns[i]] = newvals` or, if columns are non-unique, `df.isetitem(i, newvals)`\n",
      "  soi_table_data_df.iloc[:, col_index] = pd.to_numeric(\n",
      "/var/folders/mf/yrkcqqr56t955_zz9p9f4swc0000gn/T/ipykernel_88328/1061021236.py:97: DeprecationWarning: In a future version, `df.iloc[:, i] = newvals` will attempt to set the values inplace instead of always setting a new array. To retain the old behavior, use either `df[df.columns[i]] = newvals` or, if columns are non-unique, `df.isetitem(i, newvals)`\n",
      "  soi_table_data_df.iloc[:, col_index] = pd.to_numeric(\n",
      "/var/folders/mf/yrkcqqr56t955_zz9p9f4swc0000gn/T/ipykernel_88328/2166244296.py:20: FutureWarning: save is not part of the public API, usage can give unexpected results and will be removed in a future version\n",
      "  writer.save()\n"
     ]
    },
    {
     "name": "stdout",
     "output_type": "stream",
     "text": [
      "2 processed_table_ DONE\n",
      "start\n",
      "content DONE\n",
      "3 master_table DONE\n"
     ]
    },
    {
     "name": "stderr",
     "output_type": "stream",
     "text": [
      "/var/folders/mf/yrkcqqr56t955_zz9p9f4swc0000gn/T/ipykernel_88328/1061021236.py:97: DeprecationWarning: In a future version, `df.iloc[:, i] = newvals` will attempt to set the values inplace instead of always setting a new array. To retain the old behavior, use either `df[df.columns[i]] = newvals` or, if columns are non-unique, `df.isetitem(i, newvals)`\n",
      "  soi_table_data_df.iloc[:, col_index] = pd.to_numeric(\n",
      "/var/folders/mf/yrkcqqr56t955_zz9p9f4swc0000gn/T/ipykernel_88328/1061021236.py:97: DeprecationWarning: In a future version, `df.iloc[:, i] = newvals` will attempt to set the values inplace instead of always setting a new array. To retain the old behavior, use either `df[df.columns[i]] = newvals` or, if columns are non-unique, `df.isetitem(i, newvals)`\n",
      "  soi_table_data_df.iloc[:, col_index] = pd.to_numeric(\n",
      "/var/folders/mf/yrkcqqr56t955_zz9p9f4swc0000gn/T/ipykernel_88328/1061021236.py:97: DeprecationWarning: In a future version, `df.iloc[:, i] = newvals` will attempt to set the values inplace instead of always setting a new array. To retain the old behavior, use either `df[df.columns[i]] = newvals` or, if columns are non-unique, `df.isetitem(i, newvals)`\n",
      "  soi_table_data_df.iloc[:, col_index] = pd.to_numeric(\n",
      "/var/folders/mf/yrkcqqr56t955_zz9p9f4swc0000gn/T/ipykernel_88328/1061021236.py:97: DeprecationWarning: In a future version, `df.iloc[:, i] = newvals` will attempt to set the values inplace instead of always setting a new array. To retain the old behavior, use either `df[df.columns[i]] = newvals` or, if columns are non-unique, `df.isetitem(i, newvals)`\n",
      "  soi_table_data_df.iloc[:, col_index] = pd.to_numeric(\n",
      "/var/folders/mf/yrkcqqr56t955_zz9p9f4swc0000gn/T/ipykernel_88328/2166244296.py:20: FutureWarning: save is not part of the public API, usage can give unexpected results and will be removed in a future version\n",
      "  writer.save()\n"
     ]
    },
    {
     "name": "stdout",
     "output_type": "stream",
     "text": [
      "3 processed_table_ DONE\n",
      "start\n",
      "content DONE\n",
      "4 master_table DONE\n"
     ]
    },
    {
     "name": "stderr",
     "output_type": "stream",
     "text": [
      "/var/folders/mf/yrkcqqr56t955_zz9p9f4swc0000gn/T/ipykernel_88328/1061021236.py:97: DeprecationWarning: In a future version, `df.iloc[:, i] = newvals` will attempt to set the values inplace instead of always setting a new array. To retain the old behavior, use either `df[df.columns[i]] = newvals` or, if columns are non-unique, `df.isetitem(i, newvals)`\n",
      "  soi_table_data_df.iloc[:, col_index] = pd.to_numeric(\n",
      "/var/folders/mf/yrkcqqr56t955_zz9p9f4swc0000gn/T/ipykernel_88328/1061021236.py:97: DeprecationWarning: In a future version, `df.iloc[:, i] = newvals` will attempt to set the values inplace instead of always setting a new array. To retain the old behavior, use either `df[df.columns[i]] = newvals` or, if columns are non-unique, `df.isetitem(i, newvals)`\n",
      "  soi_table_data_df.iloc[:, col_index] = pd.to_numeric(\n",
      "/var/folders/mf/yrkcqqr56t955_zz9p9f4swc0000gn/T/ipykernel_88328/2166244296.py:20: FutureWarning: save is not part of the public API, usage can give unexpected results and will be removed in a future version\n",
      "  writer.save()\n"
     ]
    },
    {
     "name": "stdout",
     "output_type": "stream",
     "text": [
      "4 processed_table_ DONE\n",
      "start\n",
      "content DONE\n",
      "5 master_table DONE\n"
     ]
    },
    {
     "name": "stderr",
     "output_type": "stream",
     "text": [
      "/var/folders/mf/yrkcqqr56t955_zz9p9f4swc0000gn/T/ipykernel_88328/1061021236.py:97: DeprecationWarning: In a future version, `df.iloc[:, i] = newvals` will attempt to set the values inplace instead of always setting a new array. To retain the old behavior, use either `df[df.columns[i]] = newvals` or, if columns are non-unique, `df.isetitem(i, newvals)`\n",
      "  soi_table_data_df.iloc[:, col_index] = pd.to_numeric(\n",
      "/var/folders/mf/yrkcqqr56t955_zz9p9f4swc0000gn/T/ipykernel_88328/1061021236.py:97: DeprecationWarning: In a future version, `df.iloc[:, i] = newvals` will attempt to set the values inplace instead of always setting a new array. To retain the old behavior, use either `df[df.columns[i]] = newvals` or, if columns are non-unique, `df.isetitem(i, newvals)`\n",
      "  soi_table_data_df.iloc[:, col_index] = pd.to_numeric(\n",
      "/var/folders/mf/yrkcqqr56t955_zz9p9f4swc0000gn/T/ipykernel_88328/2166244296.py:20: FutureWarning: save is not part of the public API, usage can give unexpected results and will be removed in a future version\n",
      "  writer.save()\n"
     ]
    },
    {
     "name": "stdout",
     "output_type": "stream",
     "text": [
      "5 processed_table_ DONE\n",
      "start\n",
      "content DONE\n",
      "6 master_table DONE\n"
     ]
    },
    {
     "name": "stderr",
     "output_type": "stream",
     "text": [
      "/var/folders/mf/yrkcqqr56t955_zz9p9f4swc0000gn/T/ipykernel_88328/1061021236.py:97: DeprecationWarning: In a future version, `df.iloc[:, i] = newvals` will attempt to set the values inplace instead of always setting a new array. To retain the old behavior, use either `df[df.columns[i]] = newvals` or, if columns are non-unique, `df.isetitem(i, newvals)`\n",
      "  soi_table_data_df.iloc[:, col_index] = pd.to_numeric(\n",
      "/var/folders/mf/yrkcqqr56t955_zz9p9f4swc0000gn/T/ipykernel_88328/1061021236.py:97: DeprecationWarning: In a future version, `df.iloc[:, i] = newvals` will attempt to set the values inplace instead of always setting a new array. To retain the old behavior, use either `df[df.columns[i]] = newvals` or, if columns are non-unique, `df.isetitem(i, newvals)`\n",
      "  soi_table_data_df.iloc[:, col_index] = pd.to_numeric(\n",
      "/var/folders/mf/yrkcqqr56t955_zz9p9f4swc0000gn/T/ipykernel_88328/2166244296.py:20: FutureWarning: save is not part of the public API, usage can give unexpected results and will be removed in a future version\n",
      "  writer.save()\n"
     ]
    },
    {
     "name": "stdout",
     "output_type": "stream",
     "text": [
      "6 processed_table_ DONE\n",
      "start\n",
      "content DONE\n",
      "7 master_table DONE\n"
     ]
    },
    {
     "name": "stderr",
     "output_type": "stream",
     "text": [
      "/var/folders/mf/yrkcqqr56t955_zz9p9f4swc0000gn/T/ipykernel_88328/1061021236.py:97: DeprecationWarning: In a future version, `df.iloc[:, i] = newvals` will attempt to set the values inplace instead of always setting a new array. To retain the old behavior, use either `df[df.columns[i]] = newvals` or, if columns are non-unique, `df.isetitem(i, newvals)`\n",
      "  soi_table_data_df.iloc[:, col_index] = pd.to_numeric(\n",
      "/var/folders/mf/yrkcqqr56t955_zz9p9f4swc0000gn/T/ipykernel_88328/1061021236.py:97: DeprecationWarning: In a future version, `df.iloc[:, i] = newvals` will attempt to set the values inplace instead of always setting a new array. To retain the old behavior, use either `df[df.columns[i]] = newvals` or, if columns are non-unique, `df.isetitem(i, newvals)`\n",
      "  soi_table_data_df.iloc[:, col_index] = pd.to_numeric(\n",
      "/var/folders/mf/yrkcqqr56t955_zz9p9f4swc0000gn/T/ipykernel_88328/2166244296.py:20: FutureWarning: save is not part of the public API, usage can give unexpected results and will be removed in a future version\n",
      "  writer.save()\n"
     ]
    },
    {
     "name": "stdout",
     "output_type": "stream",
     "text": [
      "7 processed_table_ DONE\n",
      "start\n",
      "content DONE\n",
      "8 master_table DONE\n"
     ]
    },
    {
     "name": "stderr",
     "output_type": "stream",
     "text": [
      "/var/folders/mf/yrkcqqr56t955_zz9p9f4swc0000gn/T/ipykernel_88328/1061021236.py:97: DeprecationWarning: In a future version, `df.iloc[:, i] = newvals` will attempt to set the values inplace instead of always setting a new array. To retain the old behavior, use either `df[df.columns[i]] = newvals` or, if columns are non-unique, `df.isetitem(i, newvals)`\n",
      "  soi_table_data_df.iloc[:, col_index] = pd.to_numeric(\n",
      "/var/folders/mf/yrkcqqr56t955_zz9p9f4swc0000gn/T/ipykernel_88328/1061021236.py:97: DeprecationWarning: In a future version, `df.iloc[:, i] = newvals` will attempt to set the values inplace instead of always setting a new array. To retain the old behavior, use either `df[df.columns[i]] = newvals` or, if columns are non-unique, `df.isetitem(i, newvals)`\n",
      "  soi_table_data_df.iloc[:, col_index] = pd.to_numeric(\n",
      "/var/folders/mf/yrkcqqr56t955_zz9p9f4swc0000gn/T/ipykernel_88328/2166244296.py:20: FutureWarning: save is not part of the public API, usage can give unexpected results and will be removed in a future version\n",
      "  writer.save()\n"
     ]
    },
    {
     "name": "stdout",
     "output_type": "stream",
     "text": [
      "8 processed_table_ DONE\n",
      "start\n",
      "content DONE\n",
      "9 master_table DONE\n",
      "9 processed_table_ DONE\n"
     ]
    },
    {
     "name": "stderr",
     "output_type": "stream",
     "text": [
      "/var/folders/mf/yrkcqqr56t955_zz9p9f4swc0000gn/T/ipykernel_88328/1061021236.py:97: DeprecationWarning: In a future version, `df.iloc[:, i] = newvals` will attempt to set the values inplace instead of always setting a new array. To retain the old behavior, use either `df[df.columns[i]] = newvals` or, if columns are non-unique, `df.isetitem(i, newvals)`\n",
      "  soi_table_data_df.iloc[:, col_index] = pd.to_numeric(\n",
      "/var/folders/mf/yrkcqqr56t955_zz9p9f4swc0000gn/T/ipykernel_88328/1061021236.py:97: DeprecationWarning: In a future version, `df.iloc[:, i] = newvals` will attempt to set the values inplace instead of always setting a new array. To retain the old behavior, use either `df[df.columns[i]] = newvals` or, if columns are non-unique, `df.isetitem(i, newvals)`\n",
      "  soi_table_data_df.iloc[:, col_index] = pd.to_numeric(\n",
      "/var/folders/mf/yrkcqqr56t955_zz9p9f4swc0000gn/T/ipykernel_88328/2166244296.py:20: FutureWarning: save is not part of the public API, usage can give unexpected results and will be removed in a future version\n",
      "  writer.save()\n"
     ]
    },
    {
     "name": "stdout",
     "output_type": "stream",
     "text": [
      "start\n",
      "content DONE\n",
      "10 master_table DONE\n"
     ]
    },
    {
     "name": "stderr",
     "output_type": "stream",
     "text": [
      "/var/folders/mf/yrkcqqr56t955_zz9p9f4swc0000gn/T/ipykernel_88328/1061021236.py:97: DeprecationWarning: In a future version, `df.iloc[:, i] = newvals` will attempt to set the values inplace instead of always setting a new array. To retain the old behavior, use either `df[df.columns[i]] = newvals` or, if columns are non-unique, `df.isetitem(i, newvals)`\n",
      "  soi_table_data_df.iloc[:, col_index] = pd.to_numeric(\n",
      "/var/folders/mf/yrkcqqr56t955_zz9p9f4swc0000gn/T/ipykernel_88328/1061021236.py:97: DeprecationWarning: In a future version, `df.iloc[:, i] = newvals` will attempt to set the values inplace instead of always setting a new array. To retain the old behavior, use either `df[df.columns[i]] = newvals` or, if columns are non-unique, `df.isetitem(i, newvals)`\n",
      "  soi_table_data_df.iloc[:, col_index] = pd.to_numeric(\n",
      "/var/folders/mf/yrkcqqr56t955_zz9p9f4swc0000gn/T/ipykernel_88328/2166244296.py:20: FutureWarning: save is not part of the public API, usage can give unexpected results and will be removed in a future version\n",
      "  writer.save()\n"
     ]
    },
    {
     "name": "stdout",
     "output_type": "stream",
     "text": [
      "10 processed_table_ DONE\n",
      "start\n",
      "content DONE\n",
      "11 master_table DONE\n"
     ]
    },
    {
     "name": "stderr",
     "output_type": "stream",
     "text": [
      "/var/folders/mf/yrkcqqr56t955_zz9p9f4swc0000gn/T/ipykernel_88328/1061021236.py:97: DeprecationWarning: In a future version, `df.iloc[:, i] = newvals` will attempt to set the values inplace instead of always setting a new array. To retain the old behavior, use either `df[df.columns[i]] = newvals` or, if columns are non-unique, `df.isetitem(i, newvals)`\n",
      "  soi_table_data_df.iloc[:, col_index] = pd.to_numeric(\n",
      "/var/folders/mf/yrkcqqr56t955_zz9p9f4swc0000gn/T/ipykernel_88328/1061021236.py:97: DeprecationWarning: In a future version, `df.iloc[:, i] = newvals` will attempt to set the values inplace instead of always setting a new array. To retain the old behavior, use either `df[df.columns[i]] = newvals` or, if columns are non-unique, `df.isetitem(i, newvals)`\n",
      "  soi_table_data_df.iloc[:, col_index] = pd.to_numeric(\n"
     ]
    },
    {
     "name": "stdout",
     "output_type": "stream",
     "text": [
      "11 processed_table_ DONE\n"
     ]
    },
    {
     "name": "stderr",
     "output_type": "stream",
     "text": [
      "/var/folders/mf/yrkcqqr56t955_zz9p9f4swc0000gn/T/ipykernel_88328/2166244296.py:20: FutureWarning: save is not part of the public API, usage can give unexpected results and will be removed in a future version\n",
      "  writer.save()\n"
     ]
    },
    {
     "name": "stdout",
     "output_type": "stream",
     "text": [
      "start\n",
      "content DONE\n",
      "12 master_table DONE\n"
     ]
    },
    {
     "name": "stderr",
     "output_type": "stream",
     "text": [
      "/var/folders/mf/yrkcqqr56t955_zz9p9f4swc0000gn/T/ipykernel_88328/1061021236.py:97: DeprecationWarning: In a future version, `df.iloc[:, i] = newvals` will attempt to set the values inplace instead of always setting a new array. To retain the old behavior, use either `df[df.columns[i]] = newvals` or, if columns are non-unique, `df.isetitem(i, newvals)`\n",
      "  soi_table_data_df.iloc[:, col_index] = pd.to_numeric(\n",
      "/var/folders/mf/yrkcqqr56t955_zz9p9f4swc0000gn/T/ipykernel_88328/1061021236.py:97: DeprecationWarning: In a future version, `df.iloc[:, i] = newvals` will attempt to set the values inplace instead of always setting a new array. To retain the old behavior, use either `df[df.columns[i]] = newvals` or, if columns are non-unique, `df.isetitem(i, newvals)`\n",
      "  soi_table_data_df.iloc[:, col_index] = pd.to_numeric(\n",
      "/var/folders/mf/yrkcqqr56t955_zz9p9f4swc0000gn/T/ipykernel_88328/2166244296.py:20: FutureWarning: save is not part of the public API, usage can give unexpected results and will be removed in a future version\n",
      "  writer.save()\n"
     ]
    },
    {
     "name": "stdout",
     "output_type": "stream",
     "text": [
      "12 processed_table_ DONE\n",
      "start\n",
      "content DONE\n",
      "13 master_table DONE\n"
     ]
    },
    {
     "name": "stderr",
     "output_type": "stream",
     "text": [
      "/var/folders/mf/yrkcqqr56t955_zz9p9f4swc0000gn/T/ipykernel_88328/1061021236.py:97: DeprecationWarning: In a future version, `df.iloc[:, i] = newvals` will attempt to set the values inplace instead of always setting a new array. To retain the old behavior, use either `df[df.columns[i]] = newvals` or, if columns are non-unique, `df.isetitem(i, newvals)`\n",
      "  soi_table_data_df.iloc[:, col_index] = pd.to_numeric(\n",
      "/var/folders/mf/yrkcqqr56t955_zz9p9f4swc0000gn/T/ipykernel_88328/1061021236.py:97: DeprecationWarning: In a future version, `df.iloc[:, i] = newvals` will attempt to set the values inplace instead of always setting a new array. To retain the old behavior, use either `df[df.columns[i]] = newvals` or, if columns are non-unique, `df.isetitem(i, newvals)`\n",
      "  soi_table_data_df.iloc[:, col_index] = pd.to_numeric(\n",
      "/var/folders/mf/yrkcqqr56t955_zz9p9f4swc0000gn/T/ipykernel_88328/2166244296.py:20: FutureWarning: save is not part of the public API, usage can give unexpected results and will be removed in a future version\n",
      "  writer.save()\n"
     ]
    },
    {
     "name": "stdout",
     "output_type": "stream",
     "text": [
      "13 processed_table_ DONE\n",
      "start\n",
      "content DONE\n",
      "14 master_table DONE\n"
     ]
    },
    {
     "name": "stderr",
     "output_type": "stream",
     "text": [
      "/var/folders/mf/yrkcqqr56t955_zz9p9f4swc0000gn/T/ipykernel_88328/1061021236.py:97: DeprecationWarning: In a future version, `df.iloc[:, i] = newvals` will attempt to set the values inplace instead of always setting a new array. To retain the old behavior, use either `df[df.columns[i]] = newvals` or, if columns are non-unique, `df.isetitem(i, newvals)`\n",
      "  soi_table_data_df.iloc[:, col_index] = pd.to_numeric(\n",
      "/var/folders/mf/yrkcqqr56t955_zz9p9f4swc0000gn/T/ipykernel_88328/1061021236.py:97: DeprecationWarning: In a future version, `df.iloc[:, i] = newvals` will attempt to set the values inplace instead of always setting a new array. To retain the old behavior, use either `df[df.columns[i]] = newvals` or, if columns are non-unique, `df.isetitem(i, newvals)`\n",
      "  soi_table_data_df.iloc[:, col_index] = pd.to_numeric(\n",
      "/var/folders/mf/yrkcqqr56t955_zz9p9f4swc0000gn/T/ipykernel_88328/2166244296.py:20: FutureWarning: save is not part of the public API, usage can give unexpected results and will be removed in a future version\n",
      "  writer.save()\n"
     ]
    },
    {
     "name": "stdout",
     "output_type": "stream",
     "text": [
      "14 processed_table_ DONE\n",
      "start\n",
      "content DONE\n",
      "15 master_table DONE\n"
     ]
    },
    {
     "name": "stderr",
     "output_type": "stream",
     "text": [
      "/var/folders/mf/yrkcqqr56t955_zz9p9f4swc0000gn/T/ipykernel_88328/1061021236.py:97: DeprecationWarning: In a future version, `df.iloc[:, i] = newvals` will attempt to set the values inplace instead of always setting a new array. To retain the old behavior, use either `df[df.columns[i]] = newvals` or, if columns are non-unique, `df.isetitem(i, newvals)`\n",
      "  soi_table_data_df.iloc[:, col_index] = pd.to_numeric(\n",
      "/var/folders/mf/yrkcqqr56t955_zz9p9f4swc0000gn/T/ipykernel_88328/1061021236.py:97: DeprecationWarning: In a future version, `df.iloc[:, i] = newvals` will attempt to set the values inplace instead of always setting a new array. To retain the old behavior, use either `df[df.columns[i]] = newvals` or, if columns are non-unique, `df.isetitem(i, newvals)`\n",
      "  soi_table_data_df.iloc[:, col_index] = pd.to_numeric(\n",
      "/var/folders/mf/yrkcqqr56t955_zz9p9f4swc0000gn/T/ipykernel_88328/2166244296.py:20: FutureWarning: save is not part of the public API, usage can give unexpected results and will be removed in a future version\n",
      "  writer.save()\n"
     ]
    },
    {
     "name": "stdout",
     "output_type": "stream",
     "text": [
      "15 processed_table_ DONE\n",
      "start\n",
      "content DONE\n",
      "16 master_table DONE\n"
     ]
    },
    {
     "name": "stderr",
     "output_type": "stream",
     "text": [
      "/var/folders/mf/yrkcqqr56t955_zz9p9f4swc0000gn/T/ipykernel_88328/1061021236.py:97: DeprecationWarning: In a future version, `df.iloc[:, i] = newvals` will attempt to set the values inplace instead of always setting a new array. To retain the old behavior, use either `df[df.columns[i]] = newvals` or, if columns are non-unique, `df.isetitem(i, newvals)`\n",
      "  soi_table_data_df.iloc[:, col_index] = pd.to_numeric(\n",
      "/var/folders/mf/yrkcqqr56t955_zz9p9f4swc0000gn/T/ipykernel_88328/1061021236.py:97: DeprecationWarning: In a future version, `df.iloc[:, i] = newvals` will attempt to set the values inplace instead of always setting a new array. To retain the old behavior, use either `df[df.columns[i]] = newvals` or, if columns are non-unique, `df.isetitem(i, newvals)`\n",
      "  soi_table_data_df.iloc[:, col_index] = pd.to_numeric(\n",
      "/var/folders/mf/yrkcqqr56t955_zz9p9f4swc0000gn/T/ipykernel_88328/2166244296.py:20: FutureWarning: save is not part of the public API, usage can give unexpected results and will be removed in a future version\n",
      "  writer.save()\n"
     ]
    },
    {
     "name": "stdout",
     "output_type": "stream",
     "text": [
      "16 processed_table_ DONE\n",
      "start\n",
      "content DONE\n",
      "17 master_table DONE\n"
     ]
    },
    {
     "name": "stderr",
     "output_type": "stream",
     "text": [
      "/var/folders/mf/yrkcqqr56t955_zz9p9f4swc0000gn/T/ipykernel_88328/1061021236.py:97: DeprecationWarning: In a future version, `df.iloc[:, i] = newvals` will attempt to set the values inplace instead of always setting a new array. To retain the old behavior, use either `df[df.columns[i]] = newvals` or, if columns are non-unique, `df.isetitem(i, newvals)`\n",
      "  soi_table_data_df.iloc[:, col_index] = pd.to_numeric(\n",
      "/var/folders/mf/yrkcqqr56t955_zz9p9f4swc0000gn/T/ipykernel_88328/1061021236.py:97: DeprecationWarning: In a future version, `df.iloc[:, i] = newvals` will attempt to set the values inplace instead of always setting a new array. To retain the old behavior, use either `df[df.columns[i]] = newvals` or, if columns are non-unique, `df.isetitem(i, newvals)`\n",
      "  soi_table_data_df.iloc[:, col_index] = pd.to_numeric(\n",
      "/var/folders/mf/yrkcqqr56t955_zz9p9f4swc0000gn/T/ipykernel_88328/2166244296.py:20: FutureWarning: save is not part of the public API, usage can give unexpected results and will be removed in a future version\n",
      "  writer.save()\n"
     ]
    },
    {
     "name": "stdout",
     "output_type": "stream",
     "text": [
      "17 processed_table_ DONE\n",
      "start\n",
      "content DONE\n",
      "18 master_table DONE\n",
      "18 processed_table_ DONE\n"
     ]
    },
    {
     "name": "stderr",
     "output_type": "stream",
     "text": [
      "/var/folders/mf/yrkcqqr56t955_zz9p9f4swc0000gn/T/ipykernel_88328/1061021236.py:97: DeprecationWarning: In a future version, `df.iloc[:, i] = newvals` will attempt to set the values inplace instead of always setting a new array. To retain the old behavior, use either `df[df.columns[i]] = newvals` or, if columns are non-unique, `df.isetitem(i, newvals)`\n",
      "  soi_table_data_df.iloc[:, col_index] = pd.to_numeric(\n",
      "/var/folders/mf/yrkcqqr56t955_zz9p9f4swc0000gn/T/ipykernel_88328/1061021236.py:97: DeprecationWarning: In a future version, `df.iloc[:, i] = newvals` will attempt to set the values inplace instead of always setting a new array. To retain the old behavior, use either `df[df.columns[i]] = newvals` or, if columns are non-unique, `df.isetitem(i, newvals)`\n",
      "  soi_table_data_df.iloc[:, col_index] = pd.to_numeric(\n",
      "/var/folders/mf/yrkcqqr56t955_zz9p9f4swc0000gn/T/ipykernel_88328/2166244296.py:20: FutureWarning: save is not part of the public API, usage can give unexpected results and will be removed in a future version\n",
      "  writer.save()\n"
     ]
    },
    {
     "name": "stdout",
     "output_type": "stream",
     "text": [
      "start\n",
      "content DONE\n",
      "19 master_table DONE\n",
      "19 processed_table_ DONE\n"
     ]
    },
    {
     "name": "stderr",
     "output_type": "stream",
     "text": [
      "/var/folders/mf/yrkcqqr56t955_zz9p9f4swc0000gn/T/ipykernel_88328/1061021236.py:97: DeprecationWarning: In a future version, `df.iloc[:, i] = newvals` will attempt to set the values inplace instead of always setting a new array. To retain the old behavior, use either `df[df.columns[i]] = newvals` or, if columns are non-unique, `df.isetitem(i, newvals)`\n",
      "  soi_table_data_df.iloc[:, col_index] = pd.to_numeric(\n",
      "/var/folders/mf/yrkcqqr56t955_zz9p9f4swc0000gn/T/ipykernel_88328/1061021236.py:97: DeprecationWarning: In a future version, `df.iloc[:, i] = newvals` will attempt to set the values inplace instead of always setting a new array. To retain the old behavior, use either `df[df.columns[i]] = newvals` or, if columns are non-unique, `df.isetitem(i, newvals)`\n",
      "  soi_table_data_df.iloc[:, col_index] = pd.to_numeric(\n",
      "/var/folders/mf/yrkcqqr56t955_zz9p9f4swc0000gn/T/ipykernel_88328/2166244296.py:20: FutureWarning: save is not part of the public API, usage can give unexpected results and will be removed in a future version\n",
      "  writer.save()\n"
     ]
    },
    {
     "name": "stdout",
     "output_type": "stream",
     "text": [
      "start\n",
      "content DONE\n",
      "20 master_table DONE\n",
      "20 processed_table_ DONE\n"
     ]
    },
    {
     "name": "stderr",
     "output_type": "stream",
     "text": [
      "/var/folders/mf/yrkcqqr56t955_zz9p9f4swc0000gn/T/ipykernel_88328/1061021236.py:97: DeprecationWarning: In a future version, `df.iloc[:, i] = newvals` will attempt to set the values inplace instead of always setting a new array. To retain the old behavior, use either `df[df.columns[i]] = newvals` or, if columns are non-unique, `df.isetitem(i, newvals)`\n",
      "  soi_table_data_df.iloc[:, col_index] = pd.to_numeric(\n",
      "/var/folders/mf/yrkcqqr56t955_zz9p9f4swc0000gn/T/ipykernel_88328/1061021236.py:97: DeprecationWarning: In a future version, `df.iloc[:, i] = newvals` will attempt to set the values inplace instead of always setting a new array. To retain the old behavior, use either `df[df.columns[i]] = newvals` or, if columns are non-unique, `df.isetitem(i, newvals)`\n",
      "  soi_table_data_df.iloc[:, col_index] = pd.to_numeric(\n",
      "/var/folders/mf/yrkcqqr56t955_zz9p9f4swc0000gn/T/ipykernel_88328/2166244296.py:20: FutureWarning: save is not part of the public API, usage can give unexpected results and will be removed in a future version\n",
      "  writer.save()\n"
     ]
    },
    {
     "name": "stdout",
     "output_type": "stream",
     "text": [
      "start\n",
      "content DONE\n",
      "21 master_table DONE\n",
      "21 processed_table_ DONE\n"
     ]
    },
    {
     "name": "stderr",
     "output_type": "stream",
     "text": [
      "/var/folders/mf/yrkcqqr56t955_zz9p9f4swc0000gn/T/ipykernel_88328/1061021236.py:97: DeprecationWarning: In a future version, `df.iloc[:, i] = newvals` will attempt to set the values inplace instead of always setting a new array. To retain the old behavior, use either `df[df.columns[i]] = newvals` or, if columns are non-unique, `df.isetitem(i, newvals)`\n",
      "  soi_table_data_df.iloc[:, col_index] = pd.to_numeric(\n",
      "/var/folders/mf/yrkcqqr56t955_zz9p9f4swc0000gn/T/ipykernel_88328/1061021236.py:97: DeprecationWarning: In a future version, `df.iloc[:, i] = newvals` will attempt to set the values inplace instead of always setting a new array. To retain the old behavior, use either `df[df.columns[i]] = newvals` or, if columns are non-unique, `df.isetitem(i, newvals)`\n",
      "  soi_table_data_df.iloc[:, col_index] = pd.to_numeric(\n",
      "/var/folders/mf/yrkcqqr56t955_zz9p9f4swc0000gn/T/ipykernel_88328/2166244296.py:20: FutureWarning: save is not part of the public API, usage can give unexpected results and will be removed in a future version\n",
      "  writer.save()\n"
     ]
    },
    {
     "name": "stdout",
     "output_type": "stream",
     "text": [
      "start\n",
      "content DONE\n",
      "22 master_table DONE\n",
      "22 processed_table_ DONE\n"
     ]
    },
    {
     "name": "stderr",
     "output_type": "stream",
     "text": [
      "/var/folders/mf/yrkcqqr56t955_zz9p9f4swc0000gn/T/ipykernel_88328/1061021236.py:97: DeprecationWarning: In a future version, `df.iloc[:, i] = newvals` will attempt to set the values inplace instead of always setting a new array. To retain the old behavior, use either `df[df.columns[i]] = newvals` or, if columns are non-unique, `df.isetitem(i, newvals)`\n",
      "  soi_table_data_df.iloc[:, col_index] = pd.to_numeric(\n",
      "/var/folders/mf/yrkcqqr56t955_zz9p9f4swc0000gn/T/ipykernel_88328/1061021236.py:97: DeprecationWarning: In a future version, `df.iloc[:, i] = newvals` will attempt to set the values inplace instead of always setting a new array. To retain the old behavior, use either `df[df.columns[i]] = newvals` or, if columns are non-unique, `df.isetitem(i, newvals)`\n",
      "  soi_table_data_df.iloc[:, col_index] = pd.to_numeric(\n",
      "/var/folders/mf/yrkcqqr56t955_zz9p9f4swc0000gn/T/ipykernel_88328/2166244296.py:20: FutureWarning: save is not part of the public API, usage can give unexpected results and will be removed in a future version\n",
      "  writer.save()\n"
     ]
    },
    {
     "name": "stdout",
     "output_type": "stream",
     "text": [
      "start\n",
      "content DONE\n",
      "23 master_table DONE\n",
      "23 processed_table_ DONE\n"
     ]
    },
    {
     "name": "stderr",
     "output_type": "stream",
     "text": [
      "/var/folders/mf/yrkcqqr56t955_zz9p9f4swc0000gn/T/ipykernel_88328/1061021236.py:97: DeprecationWarning: In a future version, `df.iloc[:, i] = newvals` will attempt to set the values inplace instead of always setting a new array. To retain the old behavior, use either `df[df.columns[i]] = newvals` or, if columns are non-unique, `df.isetitem(i, newvals)`\n",
      "  soi_table_data_df.iloc[:, col_index] = pd.to_numeric(\n",
      "/var/folders/mf/yrkcqqr56t955_zz9p9f4swc0000gn/T/ipykernel_88328/1061021236.py:97: DeprecationWarning: In a future version, `df.iloc[:, i] = newvals` will attempt to set the values inplace instead of always setting a new array. To retain the old behavior, use either `df[df.columns[i]] = newvals` or, if columns are non-unique, `df.isetitem(i, newvals)`\n",
      "  soi_table_data_df.iloc[:, col_index] = pd.to_numeric(\n",
      "/var/folders/mf/yrkcqqr56t955_zz9p9f4swc0000gn/T/ipykernel_88328/2166244296.py:20: FutureWarning: save is not part of the public API, usage can give unexpected results and will be removed in a future version\n",
      "  writer.save()\n"
     ]
    },
    {
     "name": "stdout",
     "output_type": "stream",
     "text": [
      "start\n",
      "content DONE\n",
      "24 master_table DONE\n",
      "24 processed_table_ DONE\n"
     ]
    },
    {
     "name": "stderr",
     "output_type": "stream",
     "text": [
      "/var/folders/mf/yrkcqqr56t955_zz9p9f4swc0000gn/T/ipykernel_88328/1061021236.py:97: DeprecationWarning: In a future version, `df.iloc[:, i] = newvals` will attempt to set the values inplace instead of always setting a new array. To retain the old behavior, use either `df[df.columns[i]] = newvals` or, if columns are non-unique, `df.isetitem(i, newvals)`\n",
      "  soi_table_data_df.iloc[:, col_index] = pd.to_numeric(\n",
      "/var/folders/mf/yrkcqqr56t955_zz9p9f4swc0000gn/T/ipykernel_88328/1061021236.py:97: DeprecationWarning: In a future version, `df.iloc[:, i] = newvals` will attempt to set the values inplace instead of always setting a new array. To retain the old behavior, use either `df[df.columns[i]] = newvals` or, if columns are non-unique, `df.isetitem(i, newvals)`\n",
      "  soi_table_data_df.iloc[:, col_index] = pd.to_numeric(\n",
      "/var/folders/mf/yrkcqqr56t955_zz9p9f4swc0000gn/T/ipykernel_88328/2166244296.py:20: FutureWarning: save is not part of the public API, usage can give unexpected results and will be removed in a future version\n",
      "  writer.save()\n"
     ]
    },
    {
     "name": "stdout",
     "output_type": "stream",
     "text": [
      "start\n",
      "content DONE\n",
      "25 master_table DONE\n",
      "25 processed_table_ DONE\n"
     ]
    },
    {
     "name": "stderr",
     "output_type": "stream",
     "text": [
      "/var/folders/mf/yrkcqqr56t955_zz9p9f4swc0000gn/T/ipykernel_88328/1061021236.py:97: DeprecationWarning: In a future version, `df.iloc[:, i] = newvals` will attempt to set the values inplace instead of always setting a new array. To retain the old behavior, use either `df[df.columns[i]] = newvals` or, if columns are non-unique, `df.isetitem(i, newvals)`\n",
      "  soi_table_data_df.iloc[:, col_index] = pd.to_numeric(\n",
      "/var/folders/mf/yrkcqqr56t955_zz9p9f4swc0000gn/T/ipykernel_88328/1061021236.py:97: DeprecationWarning: In a future version, `df.iloc[:, i] = newvals` will attempt to set the values inplace instead of always setting a new array. To retain the old behavior, use either `df[df.columns[i]] = newvals` or, if columns are non-unique, `df.isetitem(i, newvals)`\n",
      "  soi_table_data_df.iloc[:, col_index] = pd.to_numeric(\n",
      "/var/folders/mf/yrkcqqr56t955_zz9p9f4swc0000gn/T/ipykernel_88328/2166244296.py:20: FutureWarning: save is not part of the public API, usage can give unexpected results and will be removed in a future version\n",
      "  writer.save()\n"
     ]
    },
    {
     "name": "stdout",
     "output_type": "stream",
     "text": [
      "start\n",
      "content DONE\n",
      "26 master_table DONE\n",
      "26 processed_table_ DONE\n"
     ]
    },
    {
     "name": "stderr",
     "output_type": "stream",
     "text": [
      "/var/folders/mf/yrkcqqr56t955_zz9p9f4swc0000gn/T/ipykernel_88328/1061021236.py:97: DeprecationWarning: In a future version, `df.iloc[:, i] = newvals` will attempt to set the values inplace instead of always setting a new array. To retain the old behavior, use either `df[df.columns[i]] = newvals` or, if columns are non-unique, `df.isetitem(i, newvals)`\n",
      "  soi_table_data_df.iloc[:, col_index] = pd.to_numeric(\n",
      "/var/folders/mf/yrkcqqr56t955_zz9p9f4swc0000gn/T/ipykernel_88328/1061021236.py:97: DeprecationWarning: In a future version, `df.iloc[:, i] = newvals` will attempt to set the values inplace instead of always setting a new array. To retain the old behavior, use either `df[df.columns[i]] = newvals` or, if columns are non-unique, `df.isetitem(i, newvals)`\n",
      "  soi_table_data_df.iloc[:, col_index] = pd.to_numeric(\n",
      "/var/folders/mf/yrkcqqr56t955_zz9p9f4swc0000gn/T/ipykernel_88328/2166244296.py:20: FutureWarning: save is not part of the public API, usage can give unexpected results and will be removed in a future version\n",
      "  writer.save()\n"
     ]
    },
    {
     "name": "stdout",
     "output_type": "stream",
     "text": [
      "start\n",
      "content DONE\n",
      "27 master_table DONE\n",
      "27 processed_table_ DONE\n"
     ]
    },
    {
     "name": "stderr",
     "output_type": "stream",
     "text": [
      "/var/folders/mf/yrkcqqr56t955_zz9p9f4swc0000gn/T/ipykernel_88328/1061021236.py:97: DeprecationWarning: In a future version, `df.iloc[:, i] = newvals` will attempt to set the values inplace instead of always setting a new array. To retain the old behavior, use either `df[df.columns[i]] = newvals` or, if columns are non-unique, `df.isetitem(i, newvals)`\n",
      "  soi_table_data_df.iloc[:, col_index] = pd.to_numeric(\n",
      "/var/folders/mf/yrkcqqr56t955_zz9p9f4swc0000gn/T/ipykernel_88328/1061021236.py:97: DeprecationWarning: In a future version, `df.iloc[:, i] = newvals` will attempt to set the values inplace instead of always setting a new array. To retain the old behavior, use either `df[df.columns[i]] = newvals` or, if columns are non-unique, `df.isetitem(i, newvals)`\n",
      "  soi_table_data_df.iloc[:, col_index] = pd.to_numeric(\n",
      "/var/folders/mf/yrkcqqr56t955_zz9p9f4swc0000gn/T/ipykernel_88328/2166244296.py:20: FutureWarning: save is not part of the public API, usage can give unexpected results and will be removed in a future version\n",
      "  writer.save()\n"
     ]
    },
    {
     "name": "stdout",
     "output_type": "stream",
     "text": [
      "start\n",
      "content DONE\n",
      "28 master_table DONE\n",
      "28 processed_table_ DONE\n"
     ]
    },
    {
     "name": "stderr",
     "output_type": "stream",
     "text": [
      "/var/folders/mf/yrkcqqr56t955_zz9p9f4swc0000gn/T/ipykernel_88328/1061021236.py:97: DeprecationWarning: In a future version, `df.iloc[:, i] = newvals` will attempt to set the values inplace instead of always setting a new array. To retain the old behavior, use either `df[df.columns[i]] = newvals` or, if columns are non-unique, `df.isetitem(i, newvals)`\n",
      "  soi_table_data_df.iloc[:, col_index] = pd.to_numeric(\n",
      "/var/folders/mf/yrkcqqr56t955_zz9p9f4swc0000gn/T/ipykernel_88328/1061021236.py:97: DeprecationWarning: In a future version, `df.iloc[:, i] = newvals` will attempt to set the values inplace instead of always setting a new array. To retain the old behavior, use either `df[df.columns[i]] = newvals` or, if columns are non-unique, `df.isetitem(i, newvals)`\n",
      "  soi_table_data_df.iloc[:, col_index] = pd.to_numeric(\n",
      "/var/folders/mf/yrkcqqr56t955_zz9p9f4swc0000gn/T/ipykernel_88328/2166244296.py:20: FutureWarning: save is not part of the public API, usage can give unexpected results and will be removed in a future version\n",
      "  writer.save()\n"
     ]
    },
    {
     "name": "stdout",
     "output_type": "stream",
     "text": [
      "start\n",
      "content DONE\n",
      "29 master_table DONE\n",
      "29 processed_table_ DONE\n"
     ]
    },
    {
     "name": "stderr",
     "output_type": "stream",
     "text": [
      "/var/folders/mf/yrkcqqr56t955_zz9p9f4swc0000gn/T/ipykernel_88328/1061021236.py:97: DeprecationWarning: In a future version, `df.iloc[:, i] = newvals` will attempt to set the values inplace instead of always setting a new array. To retain the old behavior, use either `df[df.columns[i]] = newvals` or, if columns are non-unique, `df.isetitem(i, newvals)`\n",
      "  soi_table_data_df.iloc[:, col_index] = pd.to_numeric(\n",
      "/var/folders/mf/yrkcqqr56t955_zz9p9f4swc0000gn/T/ipykernel_88328/1061021236.py:97: DeprecationWarning: In a future version, `df.iloc[:, i] = newvals` will attempt to set the values inplace instead of always setting a new array. To retain the old behavior, use either `df[df.columns[i]] = newvals` or, if columns are non-unique, `df.isetitem(i, newvals)`\n",
      "  soi_table_data_df.iloc[:, col_index] = pd.to_numeric(\n",
      "/var/folders/mf/yrkcqqr56t955_zz9p9f4swc0000gn/T/ipykernel_88328/2166244296.py:20: FutureWarning: save is not part of the public API, usage can give unexpected results and will be removed in a future version\n",
      "  writer.save()\n"
     ]
    },
    {
     "name": "stdout",
     "output_type": "stream",
     "text": [
      "start\n",
      "content DONE\n",
      "30 master_table DONE\n",
      "30 processed_table_ DONE\n"
     ]
    },
    {
     "name": "stderr",
     "output_type": "stream",
     "text": [
      "/var/folders/mf/yrkcqqr56t955_zz9p9f4swc0000gn/T/ipykernel_88328/1061021236.py:97: DeprecationWarning: In a future version, `df.iloc[:, i] = newvals` will attempt to set the values inplace instead of always setting a new array. To retain the old behavior, use either `df[df.columns[i]] = newvals` or, if columns are non-unique, `df.isetitem(i, newvals)`\n",
      "  soi_table_data_df.iloc[:, col_index] = pd.to_numeric(\n",
      "/var/folders/mf/yrkcqqr56t955_zz9p9f4swc0000gn/T/ipykernel_88328/1061021236.py:97: DeprecationWarning: In a future version, `df.iloc[:, i] = newvals` will attempt to set the values inplace instead of always setting a new array. To retain the old behavior, use either `df[df.columns[i]] = newvals` or, if columns are non-unique, `df.isetitem(i, newvals)`\n",
      "  soi_table_data_df.iloc[:, col_index] = pd.to_numeric(\n",
      "/var/folders/mf/yrkcqqr56t955_zz9p9f4swc0000gn/T/ipykernel_88328/2166244296.py:20: FutureWarning: save is not part of the public API, usage can give unexpected results and will be removed in a future version\n",
      "  writer.save()\n"
     ]
    },
    {
     "name": "stdout",
     "output_type": "stream",
     "text": [
      "start\n",
      "content DONE\n",
      "31 master_table DONE\n",
      "31 processed_table_ DONE\n"
     ]
    },
    {
     "name": "stderr",
     "output_type": "stream",
     "text": [
      "/var/folders/mf/yrkcqqr56t955_zz9p9f4swc0000gn/T/ipykernel_88328/1061021236.py:97: DeprecationWarning: In a future version, `df.iloc[:, i] = newvals` will attempt to set the values inplace instead of always setting a new array. To retain the old behavior, use either `df[df.columns[i]] = newvals` or, if columns are non-unique, `df.isetitem(i, newvals)`\n",
      "  soi_table_data_df.iloc[:, col_index] = pd.to_numeric(\n",
      "/var/folders/mf/yrkcqqr56t955_zz9p9f4swc0000gn/T/ipykernel_88328/1061021236.py:97: DeprecationWarning: In a future version, `df.iloc[:, i] = newvals` will attempt to set the values inplace instead of always setting a new array. To retain the old behavior, use either `df[df.columns[i]] = newvals` or, if columns are non-unique, `df.isetitem(i, newvals)`\n",
      "  soi_table_data_df.iloc[:, col_index] = pd.to_numeric(\n",
      "/var/folders/mf/yrkcqqr56t955_zz9p9f4swc0000gn/T/ipykernel_88328/2166244296.py:20: FutureWarning: save is not part of the public API, usage can give unexpected results and will be removed in a future version\n",
      "  writer.save()\n"
     ]
    },
    {
     "name": "stdout",
     "output_type": "stream",
     "text": [
      "start\n",
      "content DONE\n",
      "32 master_table DONE\n",
      "32 processed_table_ DONE\n"
     ]
    },
    {
     "name": "stderr",
     "output_type": "stream",
     "text": [
      "/var/folders/mf/yrkcqqr56t955_zz9p9f4swc0000gn/T/ipykernel_88328/1061021236.py:97: DeprecationWarning: In a future version, `df.iloc[:, i] = newvals` will attempt to set the values inplace instead of always setting a new array. To retain the old behavior, use either `df[df.columns[i]] = newvals` or, if columns are non-unique, `df.isetitem(i, newvals)`\n",
      "  soi_table_data_df.iloc[:, col_index] = pd.to_numeric(\n",
      "/var/folders/mf/yrkcqqr56t955_zz9p9f4swc0000gn/T/ipykernel_88328/1061021236.py:97: DeprecationWarning: In a future version, `df.iloc[:, i] = newvals` will attempt to set the values inplace instead of always setting a new array. To retain the old behavior, use either `df[df.columns[i]] = newvals` or, if columns are non-unique, `df.isetitem(i, newvals)`\n",
      "  soi_table_data_df.iloc[:, col_index] = pd.to_numeric(\n",
      "/var/folders/mf/yrkcqqr56t955_zz9p9f4swc0000gn/T/ipykernel_88328/2166244296.py:20: FutureWarning: save is not part of the public API, usage can give unexpected results and will be removed in a future version\n",
      "  writer.save()\n"
     ]
    },
    {
     "name": "stdout",
     "output_type": "stream",
     "text": [
      "start\n",
      "content DONE\n",
      "33 master_table DONE\n",
      "33 processed_table_ DONE\n"
     ]
    },
    {
     "name": "stderr",
     "output_type": "stream",
     "text": [
      "/var/folders/mf/yrkcqqr56t955_zz9p9f4swc0000gn/T/ipykernel_88328/1061021236.py:97: DeprecationWarning: In a future version, `df.iloc[:, i] = newvals` will attempt to set the values inplace instead of always setting a new array. To retain the old behavior, use either `df[df.columns[i]] = newvals` or, if columns are non-unique, `df.isetitem(i, newvals)`\n",
      "  soi_table_data_df.iloc[:, col_index] = pd.to_numeric(\n",
      "/var/folders/mf/yrkcqqr56t955_zz9p9f4swc0000gn/T/ipykernel_88328/1061021236.py:97: DeprecationWarning: In a future version, `df.iloc[:, i] = newvals` will attempt to set the values inplace instead of always setting a new array. To retain the old behavior, use either `df[df.columns[i]] = newvals` or, if columns are non-unique, `df.isetitem(i, newvals)`\n",
      "  soi_table_data_df.iloc[:, col_index] = pd.to_numeric(\n",
      "/var/folders/mf/yrkcqqr56t955_zz9p9f4swc0000gn/T/ipykernel_88328/2166244296.py:20: FutureWarning: save is not part of the public API, usage can give unexpected results and will be removed in a future version\n",
      "  writer.save()\n"
     ]
    },
    {
     "name": "stdout",
     "output_type": "stream",
     "text": [
      "start\n",
      "content DONE\n",
      "34 master_table DONE\n",
      "34 processed_table_ DONE\n"
     ]
    },
    {
     "name": "stderr",
     "output_type": "stream",
     "text": [
      "/var/folders/mf/yrkcqqr56t955_zz9p9f4swc0000gn/T/ipykernel_88328/1061021236.py:97: DeprecationWarning: In a future version, `df.iloc[:, i] = newvals` will attempt to set the values inplace instead of always setting a new array. To retain the old behavior, use either `df[df.columns[i]] = newvals` or, if columns are non-unique, `df.isetitem(i, newvals)`\n",
      "  soi_table_data_df.iloc[:, col_index] = pd.to_numeric(\n",
      "/var/folders/mf/yrkcqqr56t955_zz9p9f4swc0000gn/T/ipykernel_88328/1061021236.py:97: DeprecationWarning: In a future version, `df.iloc[:, i] = newvals` will attempt to set the values inplace instead of always setting a new array. To retain the old behavior, use either `df[df.columns[i]] = newvals` or, if columns are non-unique, `df.isetitem(i, newvals)`\n",
      "  soi_table_data_df.iloc[:, col_index] = pd.to_numeric(\n",
      "/var/folders/mf/yrkcqqr56t955_zz9p9f4swc0000gn/T/ipykernel_88328/2166244296.py:20: FutureWarning: save is not part of the public API, usage can give unexpected results and will be removed in a future version\n",
      "  writer.save()\n"
     ]
    },
    {
     "name": "stdout",
     "output_type": "stream",
     "text": [
      "start\n",
      "content DONE\n",
      "35 master_table DONE\n",
      "35 processed_table_ DONE\n"
     ]
    },
    {
     "name": "stderr",
     "output_type": "stream",
     "text": [
      "/var/folders/mf/yrkcqqr56t955_zz9p9f4swc0000gn/T/ipykernel_88328/1061021236.py:97: DeprecationWarning: In a future version, `df.iloc[:, i] = newvals` will attempt to set the values inplace instead of always setting a new array. To retain the old behavior, use either `df[df.columns[i]] = newvals` or, if columns are non-unique, `df.isetitem(i, newvals)`\n",
      "  soi_table_data_df.iloc[:, col_index] = pd.to_numeric(\n",
      "/var/folders/mf/yrkcqqr56t955_zz9p9f4swc0000gn/T/ipykernel_88328/1061021236.py:97: DeprecationWarning: In a future version, `df.iloc[:, i] = newvals` will attempt to set the values inplace instead of always setting a new array. To retain the old behavior, use either `df[df.columns[i]] = newvals` or, if columns are non-unique, `df.isetitem(i, newvals)`\n",
      "  soi_table_data_df.iloc[:, col_index] = pd.to_numeric(\n",
      "/var/folders/mf/yrkcqqr56t955_zz9p9f4swc0000gn/T/ipykernel_88328/2166244296.py:20: FutureWarning: save is not part of the public API, usage can give unexpected results and will be removed in a future version\n",
      "  writer.save()\n"
     ]
    },
    {
     "name": "stdout",
     "output_type": "stream",
     "text": [
      "start\n",
      "content DONE\n",
      "36 master_table DONE\n",
      "36 processed_table_ DONE\n"
     ]
    },
    {
     "name": "stderr",
     "output_type": "stream",
     "text": [
      "/var/folders/mf/yrkcqqr56t955_zz9p9f4swc0000gn/T/ipykernel_88328/1061021236.py:97: DeprecationWarning: In a future version, `df.iloc[:, i] = newvals` will attempt to set the values inplace instead of always setting a new array. To retain the old behavior, use either `df[df.columns[i]] = newvals` or, if columns are non-unique, `df.isetitem(i, newvals)`\n",
      "  soi_table_data_df.iloc[:, col_index] = pd.to_numeric(\n",
      "/var/folders/mf/yrkcqqr56t955_zz9p9f4swc0000gn/T/ipykernel_88328/1061021236.py:97: DeprecationWarning: In a future version, `df.iloc[:, i] = newvals` will attempt to set the values inplace instead of always setting a new array. To retain the old behavior, use either `df[df.columns[i]] = newvals` or, if columns are non-unique, `df.isetitem(i, newvals)`\n",
      "  soi_table_data_df.iloc[:, col_index] = pd.to_numeric(\n",
      "/var/folders/mf/yrkcqqr56t955_zz9p9f4swc0000gn/T/ipykernel_88328/2166244296.py:20: FutureWarning: save is not part of the public API, usage can give unexpected results and will be removed in a future version\n",
      "  writer.save()\n"
     ]
    },
    {
     "name": "stdout",
     "output_type": "stream",
     "text": [
      "start\n",
      "content DONE\n",
      "37 master_table DONE\n",
      "37 processed_table_ DONE\n"
     ]
    },
    {
     "name": "stderr",
     "output_type": "stream",
     "text": [
      "/var/folders/mf/yrkcqqr56t955_zz9p9f4swc0000gn/T/ipykernel_88328/1061021236.py:97: DeprecationWarning: In a future version, `df.iloc[:, i] = newvals` will attempt to set the values inplace instead of always setting a new array. To retain the old behavior, use either `df[df.columns[i]] = newvals` or, if columns are non-unique, `df.isetitem(i, newvals)`\n",
      "  soi_table_data_df.iloc[:, col_index] = pd.to_numeric(\n",
      "/var/folders/mf/yrkcqqr56t955_zz9p9f4swc0000gn/T/ipykernel_88328/1061021236.py:97: DeprecationWarning: In a future version, `df.iloc[:, i] = newvals` will attempt to set the values inplace instead of always setting a new array. To retain the old behavior, use either `df[df.columns[i]] = newvals` or, if columns are non-unique, `df.isetitem(i, newvals)`\n",
      "  soi_table_data_df.iloc[:, col_index] = pd.to_numeric(\n",
      "/var/folders/mf/yrkcqqr56t955_zz9p9f4swc0000gn/T/ipykernel_88328/2166244296.py:20: FutureWarning: save is not part of the public API, usage can give unexpected results and will be removed in a future version\n",
      "  writer.save()\n"
     ]
    },
    {
     "name": "stdout",
     "output_type": "stream",
     "text": [
      "start\n",
      "content DONE\n",
      "38 master_table DONE\n",
      "38 processed_table_ DONE\n"
     ]
    },
    {
     "name": "stderr",
     "output_type": "stream",
     "text": [
      "/var/folders/mf/yrkcqqr56t955_zz9p9f4swc0000gn/T/ipykernel_88328/1061021236.py:97: DeprecationWarning: In a future version, `df.iloc[:, i] = newvals` will attempt to set the values inplace instead of always setting a new array. To retain the old behavior, use either `df[df.columns[i]] = newvals` or, if columns are non-unique, `df.isetitem(i, newvals)`\n",
      "  soi_table_data_df.iloc[:, col_index] = pd.to_numeric(\n",
      "/var/folders/mf/yrkcqqr56t955_zz9p9f4swc0000gn/T/ipykernel_88328/1061021236.py:97: DeprecationWarning: In a future version, `df.iloc[:, i] = newvals` will attempt to set the values inplace instead of always setting a new array. To retain the old behavior, use either `df[df.columns[i]] = newvals` or, if columns are non-unique, `df.isetitem(i, newvals)`\n",
      "  soi_table_data_df.iloc[:, col_index] = pd.to_numeric(\n",
      "/var/folders/mf/yrkcqqr56t955_zz9p9f4swc0000gn/T/ipykernel_88328/2166244296.py:20: FutureWarning: save is not part of the public API, usage can give unexpected results and will be removed in a future version\n",
      "  writer.save()\n"
     ]
    },
    {
     "name": "stdout",
     "output_type": "stream",
     "text": [
      "start\n",
      "content DONE\n",
      "39 master_table DONE\n",
      "39 processed_table_ DONE\n"
     ]
    },
    {
     "name": "stderr",
     "output_type": "stream",
     "text": [
      "/var/folders/mf/yrkcqqr56t955_zz9p9f4swc0000gn/T/ipykernel_88328/1061021236.py:97: DeprecationWarning: In a future version, `df.iloc[:, i] = newvals` will attempt to set the values inplace instead of always setting a new array. To retain the old behavior, use either `df[df.columns[i]] = newvals` or, if columns are non-unique, `df.isetitem(i, newvals)`\n",
      "  soi_table_data_df.iloc[:, col_index] = pd.to_numeric(\n",
      "/var/folders/mf/yrkcqqr56t955_zz9p9f4swc0000gn/T/ipykernel_88328/1061021236.py:97: DeprecationWarning: In a future version, `df.iloc[:, i] = newvals` will attempt to set the values inplace instead of always setting a new array. To retain the old behavior, use either `df[df.columns[i]] = newvals` or, if columns are non-unique, `df.isetitem(i, newvals)`\n",
      "  soi_table_data_df.iloc[:, col_index] = pd.to_numeric(\n",
      "/var/folders/mf/yrkcqqr56t955_zz9p9f4swc0000gn/T/ipykernel_88328/2166244296.py:20: FutureWarning: save is not part of the public API, usage can give unexpected results and will be removed in a future version\n",
      "  writer.save()\n"
     ]
    },
    {
     "name": "stdout",
     "output_type": "stream",
     "text": [
      "start\n",
      "content DONE\n",
      "40 master_table DONE\n",
      "40 processed_table_ DONE\n"
     ]
    },
    {
     "name": "stderr",
     "output_type": "stream",
     "text": [
      "/var/folders/mf/yrkcqqr56t955_zz9p9f4swc0000gn/T/ipykernel_88328/1061021236.py:97: DeprecationWarning: In a future version, `df.iloc[:, i] = newvals` will attempt to set the values inplace instead of always setting a new array. To retain the old behavior, use either `df[df.columns[i]] = newvals` or, if columns are non-unique, `df.isetitem(i, newvals)`\n",
      "  soi_table_data_df.iloc[:, col_index] = pd.to_numeric(\n",
      "/var/folders/mf/yrkcqqr56t955_zz9p9f4swc0000gn/T/ipykernel_88328/1061021236.py:97: DeprecationWarning: In a future version, `df.iloc[:, i] = newvals` will attempt to set the values inplace instead of always setting a new array. To retain the old behavior, use either `df[df.columns[i]] = newvals` or, if columns are non-unique, `df.isetitem(i, newvals)`\n",
      "  soi_table_data_df.iloc[:, col_index] = pd.to_numeric(\n",
      "/var/folders/mf/yrkcqqr56t955_zz9p9f4swc0000gn/T/ipykernel_88328/2166244296.py:20: FutureWarning: save is not part of the public API, usage can give unexpected results and will be removed in a future version\n",
      "  writer.save()\n"
     ]
    },
    {
     "name": "stdout",
     "output_type": "stream",
     "text": [
      "start\n",
      "content DONE\n",
      "41 master_table DONE\n",
      "41 processed_table_ DONE\n"
     ]
    },
    {
     "name": "stderr",
     "output_type": "stream",
     "text": [
      "/var/folders/mf/yrkcqqr56t955_zz9p9f4swc0000gn/T/ipykernel_88328/1061021236.py:97: DeprecationWarning: In a future version, `df.iloc[:, i] = newvals` will attempt to set the values inplace instead of always setting a new array. To retain the old behavior, use either `df[df.columns[i]] = newvals` or, if columns are non-unique, `df.isetitem(i, newvals)`\n",
      "  soi_table_data_df.iloc[:, col_index] = pd.to_numeric(\n",
      "/var/folders/mf/yrkcqqr56t955_zz9p9f4swc0000gn/T/ipykernel_88328/1061021236.py:97: DeprecationWarning: In a future version, `df.iloc[:, i] = newvals` will attempt to set the values inplace instead of always setting a new array. To retain the old behavior, use either `df[df.columns[i]] = newvals` or, if columns are non-unique, `df.isetitem(i, newvals)`\n",
      "  soi_table_data_df.iloc[:, col_index] = pd.to_numeric(\n",
      "/var/folders/mf/yrkcqqr56t955_zz9p9f4swc0000gn/T/ipykernel_88328/2166244296.py:20: FutureWarning: save is not part of the public API, usage can give unexpected results and will be removed in a future version\n",
      "  writer.save()\n"
     ]
    },
    {
     "name": "stdout",
     "output_type": "stream",
     "text": [
      "start\n",
      "content DONE\n",
      "42 master_table DONE\n",
      "42 processed_table_ DONE\n"
     ]
    },
    {
     "name": "stderr",
     "output_type": "stream",
     "text": [
      "/var/folders/mf/yrkcqqr56t955_zz9p9f4swc0000gn/T/ipykernel_88328/1061021236.py:97: DeprecationWarning: In a future version, `df.iloc[:, i] = newvals` will attempt to set the values inplace instead of always setting a new array. To retain the old behavior, use either `df[df.columns[i]] = newvals` or, if columns are non-unique, `df.isetitem(i, newvals)`\n",
      "  soi_table_data_df.iloc[:, col_index] = pd.to_numeric(\n",
      "/var/folders/mf/yrkcqqr56t955_zz9p9f4swc0000gn/T/ipykernel_88328/2166244296.py:20: FutureWarning: save is not part of the public API, usage can give unexpected results and will be removed in a future version\n",
      "  writer.save()\n"
     ]
    },
    {
     "name": "stdout",
     "output_type": "stream",
     "text": [
      "start\n",
      "content DONE\n",
      "43 master_table DONE\n",
      "43 processed_table_ DONE\n"
     ]
    },
    {
     "name": "stderr",
     "output_type": "stream",
     "text": [
      "/var/folders/mf/yrkcqqr56t955_zz9p9f4swc0000gn/T/ipykernel_88328/1061021236.py:97: DeprecationWarning: In a future version, `df.iloc[:, i] = newvals` will attempt to set the values inplace instead of always setting a new array. To retain the old behavior, use either `df[df.columns[i]] = newvals` or, if columns are non-unique, `df.isetitem(i, newvals)`\n",
      "  soi_table_data_df.iloc[:, col_index] = pd.to_numeric(\n",
      "/var/folders/mf/yrkcqqr56t955_zz9p9f4swc0000gn/T/ipykernel_88328/1061021236.py:97: DeprecationWarning: In a future version, `df.iloc[:, i] = newvals` will attempt to set the values inplace instead of always setting a new array. To retain the old behavior, use either `df[df.columns[i]] = newvals` or, if columns are non-unique, `df.isetitem(i, newvals)`\n",
      "  soi_table_data_df.iloc[:, col_index] = pd.to_numeric(\n",
      "/var/folders/mf/yrkcqqr56t955_zz9p9f4swc0000gn/T/ipykernel_88328/2166244296.py:20: FutureWarning: save is not part of the public API, usage can give unexpected results and will be removed in a future version\n",
      "  writer.save()\n"
     ]
    },
    {
     "name": "stdout",
     "output_type": "stream",
     "text": [
      "start\n",
      "content DONE\n",
      "44 master_table DONE\n",
      "44 processed_table_ DONE\n"
     ]
    },
    {
     "name": "stderr",
     "output_type": "stream",
     "text": [
      "/var/folders/mf/yrkcqqr56t955_zz9p9f4swc0000gn/T/ipykernel_88328/1061021236.py:97: DeprecationWarning: In a future version, `df.iloc[:, i] = newvals` will attempt to set the values inplace instead of always setting a new array. To retain the old behavior, use either `df[df.columns[i]] = newvals` or, if columns are non-unique, `df.isetitem(i, newvals)`\n",
      "  soi_table_data_df.iloc[:, col_index] = pd.to_numeric(\n",
      "/var/folders/mf/yrkcqqr56t955_zz9p9f4swc0000gn/T/ipykernel_88328/1061021236.py:97: DeprecationWarning: In a future version, `df.iloc[:, i] = newvals` will attempt to set the values inplace instead of always setting a new array. To retain the old behavior, use either `df[df.columns[i]] = newvals` or, if columns are non-unique, `df.isetitem(i, newvals)`\n",
      "  soi_table_data_df.iloc[:, col_index] = pd.to_numeric(\n",
      "/var/folders/mf/yrkcqqr56t955_zz9p9f4swc0000gn/T/ipykernel_88328/2166244296.py:20: FutureWarning: save is not part of the public API, usage can give unexpected results and will be removed in a future version\n",
      "  writer.save()\n"
     ]
    },
    {
     "name": "stdout",
     "output_type": "stream",
     "text": [
      "start\n",
      "content DONE\n",
      "45 master_table DONE\n",
      "45 processed_table_ DONE\n"
     ]
    },
    {
     "name": "stderr",
     "output_type": "stream",
     "text": [
      "/var/folders/mf/yrkcqqr56t955_zz9p9f4swc0000gn/T/ipykernel_88328/1061021236.py:97: DeprecationWarning: In a future version, `df.iloc[:, i] = newvals` will attempt to set the values inplace instead of always setting a new array. To retain the old behavior, use either `df[df.columns[i]] = newvals` or, if columns are non-unique, `df.isetitem(i, newvals)`\n",
      "  soi_table_data_df.iloc[:, col_index] = pd.to_numeric(\n",
      "/var/folders/mf/yrkcqqr56t955_zz9p9f4swc0000gn/T/ipykernel_88328/1061021236.py:97: DeprecationWarning: In a future version, `df.iloc[:, i] = newvals` will attempt to set the values inplace instead of always setting a new array. To retain the old behavior, use either `df[df.columns[i]] = newvals` or, if columns are non-unique, `df.isetitem(i, newvals)`\n",
      "  soi_table_data_df.iloc[:, col_index] = pd.to_numeric(\n",
      "/var/folders/mf/yrkcqqr56t955_zz9p9f4swc0000gn/T/ipykernel_88328/2166244296.py:20: FutureWarning: save is not part of the public API, usage can give unexpected results and will be removed in a future version\n",
      "  writer.save()\n"
     ]
    },
    {
     "name": "stdout",
     "output_type": "stream",
     "text": [
      "start\n",
      "content DONE\n",
      "46 master_table DONE\n",
      "46 processed_table_ DONE\n"
     ]
    },
    {
     "name": "stderr",
     "output_type": "stream",
     "text": [
      "/var/folders/mf/yrkcqqr56t955_zz9p9f4swc0000gn/T/ipykernel_88328/1061021236.py:97: DeprecationWarning: In a future version, `df.iloc[:, i] = newvals` will attempt to set the values inplace instead of always setting a new array. To retain the old behavior, use either `df[df.columns[i]] = newvals` or, if columns are non-unique, `df.isetitem(i, newvals)`\n",
      "  soi_table_data_df.iloc[:, col_index] = pd.to_numeric(\n",
      "/var/folders/mf/yrkcqqr56t955_zz9p9f4swc0000gn/T/ipykernel_88328/1061021236.py:97: DeprecationWarning: In a future version, `df.iloc[:, i] = newvals` will attempt to set the values inplace instead of always setting a new array. To retain the old behavior, use either `df[df.columns[i]] = newvals` or, if columns are non-unique, `df.isetitem(i, newvals)`\n",
      "  soi_table_data_df.iloc[:, col_index] = pd.to_numeric(\n",
      "/var/folders/mf/yrkcqqr56t955_zz9p9f4swc0000gn/T/ipykernel_88328/2166244296.py:20: FutureWarning: save is not part of the public API, usage can give unexpected results and will be removed in a future version\n",
      "  writer.save()\n"
     ]
    },
    {
     "name": "stdout",
     "output_type": "stream",
     "text": [
      "start\n",
      "content DONE\n",
      "47 master_table DONE\n",
      "47 processed_table_ DONE\n"
     ]
    },
    {
     "name": "stderr",
     "output_type": "stream",
     "text": [
      "/var/folders/mf/yrkcqqr56t955_zz9p9f4swc0000gn/T/ipykernel_88328/1061021236.py:97: DeprecationWarning: In a future version, `df.iloc[:, i] = newvals` will attempt to set the values inplace instead of always setting a new array. To retain the old behavior, use either `df[df.columns[i]] = newvals` or, if columns are non-unique, `df.isetitem(i, newvals)`\n",
      "  soi_table_data_df.iloc[:, col_index] = pd.to_numeric(\n",
      "/var/folders/mf/yrkcqqr56t955_zz9p9f4swc0000gn/T/ipykernel_88328/1061021236.py:97: DeprecationWarning: In a future version, `df.iloc[:, i] = newvals` will attempt to set the values inplace instead of always setting a new array. To retain the old behavior, use either `df[df.columns[i]] = newvals` or, if columns are non-unique, `df.isetitem(i, newvals)`\n",
      "  soi_table_data_df.iloc[:, col_index] = pd.to_numeric(\n",
      "/var/folders/mf/yrkcqqr56t955_zz9p9f4swc0000gn/T/ipykernel_88328/2166244296.py:20: FutureWarning: save is not part of the public API, usage can give unexpected results and will be removed in a future version\n",
      "  writer.save()\n"
     ]
    },
    {
     "name": "stdout",
     "output_type": "stream",
     "text": [
      "start\n",
      "content DONE\n",
      "48 master_table DONE\n",
      "48 processed_table_ DONE\n"
     ]
    },
    {
     "name": "stderr",
     "output_type": "stream",
     "text": [
      "/var/folders/mf/yrkcqqr56t955_zz9p9f4swc0000gn/T/ipykernel_88328/1061021236.py:97: DeprecationWarning: In a future version, `df.iloc[:, i] = newvals` will attempt to set the values inplace instead of always setting a new array. To retain the old behavior, use either `df[df.columns[i]] = newvals` or, if columns are non-unique, `df.isetitem(i, newvals)`\n",
      "  soi_table_data_df.iloc[:, col_index] = pd.to_numeric(\n",
      "/var/folders/mf/yrkcqqr56t955_zz9p9f4swc0000gn/T/ipykernel_88328/1061021236.py:97: DeprecationWarning: In a future version, `df.iloc[:, i] = newvals` will attempt to set the values inplace instead of always setting a new array. To retain the old behavior, use either `df[df.columns[i]] = newvals` or, if columns are non-unique, `df.isetitem(i, newvals)`\n",
      "  soi_table_data_df.iloc[:, col_index] = pd.to_numeric(\n",
      "/var/folders/mf/yrkcqqr56t955_zz9p9f4swc0000gn/T/ipykernel_88328/2166244296.py:20: FutureWarning: save is not part of the public API, usage can give unexpected results and will be removed in a future version\n",
      "  writer.save()\n"
     ]
    },
    {
     "name": "stdout",
     "output_type": "stream",
     "text": [
      "start\n",
      "content DONE\n",
      "49 master_table DONE\n",
      "49 processed_table_ DONE\n"
     ]
    },
    {
     "name": "stderr",
     "output_type": "stream",
     "text": [
      "/var/folders/mf/yrkcqqr56t955_zz9p9f4swc0000gn/T/ipykernel_88328/1061021236.py:97: DeprecationWarning: In a future version, `df.iloc[:, i] = newvals` will attempt to set the values inplace instead of always setting a new array. To retain the old behavior, use either `df[df.columns[i]] = newvals` or, if columns are non-unique, `df.isetitem(i, newvals)`\n",
      "  soi_table_data_df.iloc[:, col_index] = pd.to_numeric(\n",
      "/var/folders/mf/yrkcqqr56t955_zz9p9f4swc0000gn/T/ipykernel_88328/1061021236.py:97: DeprecationWarning: In a future version, `df.iloc[:, i] = newvals` will attempt to set the values inplace instead of always setting a new array. To retain the old behavior, use either `df[df.columns[i]] = newvals` or, if columns are non-unique, `df.isetitem(i, newvals)`\n",
      "  soi_table_data_df.iloc[:, col_index] = pd.to_numeric(\n",
      "/var/folders/mf/yrkcqqr56t955_zz9p9f4swc0000gn/T/ipykernel_88328/2166244296.py:20: FutureWarning: save is not part of the public API, usage can give unexpected results and will be removed in a future version\n",
      "  writer.save()\n"
     ]
    },
    {
     "name": "stdout",
     "output_type": "stream",
     "text": [
      "start\n",
      "content DONE\n",
      "50 master_table DONE\n",
      "50 processed_table_ DONE\n"
     ]
    },
    {
     "name": "stderr",
     "output_type": "stream",
     "text": [
      "/var/folders/mf/yrkcqqr56t955_zz9p9f4swc0000gn/T/ipykernel_88328/1061021236.py:97: DeprecationWarning: In a future version, `df.iloc[:, i] = newvals` will attempt to set the values inplace instead of always setting a new array. To retain the old behavior, use either `df[df.columns[i]] = newvals` or, if columns are non-unique, `df.isetitem(i, newvals)`\n",
      "  soi_table_data_df.iloc[:, col_index] = pd.to_numeric(\n",
      "/var/folders/mf/yrkcqqr56t955_zz9p9f4swc0000gn/T/ipykernel_88328/1061021236.py:97: DeprecationWarning: In a future version, `df.iloc[:, i] = newvals` will attempt to set the values inplace instead of always setting a new array. To retain the old behavior, use either `df[df.columns[i]] = newvals` or, if columns are non-unique, `df.isetitem(i, newvals)`\n",
      "  soi_table_data_df.iloc[:, col_index] = pd.to_numeric(\n",
      "/var/folders/mf/yrkcqqr56t955_zz9p9f4swc0000gn/T/ipykernel_88328/2166244296.py:20: FutureWarning: save is not part of the public API, usage can give unexpected results and will be removed in a future version\n",
      "  writer.save()\n"
     ]
    },
    {
     "name": "stdout",
     "output_type": "stream",
     "text": [
      "start\n",
      "content DONE\n",
      "51 master_table DONE\n",
      "51 processed_table_ DONE\n"
     ]
    },
    {
     "name": "stderr",
     "output_type": "stream",
     "text": [
      "/var/folders/mf/yrkcqqr56t955_zz9p9f4swc0000gn/T/ipykernel_88328/1061021236.py:97: DeprecationWarning: In a future version, `df.iloc[:, i] = newvals` will attempt to set the values inplace instead of always setting a new array. To retain the old behavior, use either `df[df.columns[i]] = newvals` or, if columns are non-unique, `df.isetitem(i, newvals)`\n",
      "  soi_table_data_df.iloc[:, col_index] = pd.to_numeric(\n",
      "/var/folders/mf/yrkcqqr56t955_zz9p9f4swc0000gn/T/ipykernel_88328/1061021236.py:97: DeprecationWarning: In a future version, `df.iloc[:, i] = newvals` will attempt to set the values inplace instead of always setting a new array. To retain the old behavior, use either `df[df.columns[i]] = newvals` or, if columns are non-unique, `df.isetitem(i, newvals)`\n",
      "  soi_table_data_df.iloc[:, col_index] = pd.to_numeric(\n",
      "/var/folders/mf/yrkcqqr56t955_zz9p9f4swc0000gn/T/ipykernel_88328/2166244296.py:20: FutureWarning: save is not part of the public API, usage can give unexpected results and will be removed in a future version\n",
      "  writer.save()\n"
     ]
    }
   ],
   "source": [
    "count = 0\n",
    "path = '/Users/fuadhassan/Desktop/BDC_RA/ARCC/ARCC_Investment.xlsx'\n",
    "writer = pd.ExcelWriter(path, engine='openpyxl')\n",
    "\n",
    "for qtr_date, html_link in zip(filing_links['Reporting date'], filing_links['Filings URL']):\n",
    "    print('start')\n",
    "    response = requests.get(html_link, headers=headers)\n",
    "    content = parse_and_trim(response.content, 'HTML')\n",
    "    print('content DONE')\n",
    "    master_table = extract_tables(content, qtr_date)\n",
    "    print(count, \"master_table DONE\")\n",
    "    processed_table_ = process_table(\n",
    "        master_table, qtr_date.replace(',', ''))\n",
    "    # print(processed_table_)\n",
    "    processed_table_.to_excel(\n",
    "        writer, sheet_name=qtr_date.replace(',', ''), index=False)\n",
    "    processed_table_.to_csv('csv_file/'+qtr_date.replace(',', '')+'.csv')\n",
    "    print(count, \"processed_table_ DONE\")\n",
    "    count += 1\n",
    "    writer.save()\n",
    "# writer.save()\n",
    "writer.close()"
   ]
  },
  {
   "cell_type": "code",
   "execution_count": 340,
   "metadata": {},
   "outputs": [],
   "source": [
    "# # url = filing_links.iloc[0]['Filings URL']\n",
    "# # date = filing_links.iloc[0]['Reporting date']\n",
    "# # url, date\n",
    "# # response = requests.get(url, headers=headers)\n",
    "# # content = parse_and_trim(response.content, 'HTML')\n",
    "# master_table = extract_tables(content, date)\n",
    "# process_table_ = process_table(master_table, \"\")\n",
    "# process_table_.to_excel(\"ex.xlsx\")\n",
    "# process_table_.to_csv('ex.csv')\n",
    "# process_table_"
   ]
  },
  {
   "cell_type": "code",
   "execution_count": 341,
   "metadata": {},
   "outputs": [
    {
     "name": "stdout",
     "output_type": "stream",
     "text": [
      "done\n"
     ]
    }
   ],
   "source": [
    "print('done')"
   ]
  },
  {
   "cell_type": "code",
   "execution_count": null,
   "metadata": {},
   "outputs": [],
   "source": []
  }
 ],
 "metadata": {
  "kernelspec": {
   "display_name": "base",
   "language": "python",
   "name": "python3"
  },
  "language_info": {
   "codemirror_mode": {
    "name": "ipython",
    "version": 3
   },
   "file_extension": ".py",
   "mimetype": "text/x-python",
   "name": "python",
   "nbconvert_exporter": "python",
   "pygments_lexer": "ipython3",
   "version": "3.10.9"
  },
  "orig_nbformat": 4
 },
 "nbformat": 4,
 "nbformat_minor": 2
}
