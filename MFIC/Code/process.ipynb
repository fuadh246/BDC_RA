{
 "cells": [
  {
   "cell_type": "code",
   "execution_count": 159,
   "metadata": {},
   "outputs": [],
   "source": [
    "from bs4 import BeautifulSoup\n",
    "import pandas as pd\n",
    "import numpy as np\n",
    "import re\n",
    "import unicodedata\n",
    "import os\n",
    "import webbrowser\n",
    "import html5lib\n",
    "from openpyxl import workbook\n",
    "from datetime import datetime\n",
    "import requests"
   ]
  },
  {
   "cell_type": "code",
   "execution_count": 160,
   "metadata": {},
   "outputs": [
    {
     "name": "stdout",
     "output_type": "stream",
     "text": [
      "DataFrame name: September 30 2023 : (983, 45)\n",
      "DataFrame name: June 30 2023 : (1043, 45)\n",
      "DataFrame name: March 31 2023 : (986, 45)\n",
      "DataFrame name: December 31 2022 : (890, 45)\n",
      "DataFrame name: September 30 2022 : (950, 45)\n",
      "DataFrame name: June 30 2022 : (961, 50)\n",
      "DataFrame name: March 31 2022 : (915, 50)\n",
      "DataFrame name: December 31 2021 : (935, 50)\n",
      "DataFrame name: September 30 2021 : (982, 50)\n",
      "DataFrame name: June 30 2021 : (1050, 50)\n",
      "DataFrame name: March 31 2021 : (1006, 50)\n",
      "DataFrame name: December 31 2020 : (1023, 50)\n",
      "DataFrame name: September 30 2020 : (1059, 50)\n",
      "DataFrame name: June 30 2020 : (1109, 50)\n",
      "DataFrame name: March 31 2020 : (1114, 50)\n",
      "DataFrame name: December 31 2019 : (872, 27)\n",
      "DataFrame name: September 30 2019 : (639, 21)\n",
      "DataFrame name: June 30 2019 : (582, 21)\n",
      "DataFrame name: March 31 2019 : (492, 21)\n",
      "DataFrame name: December 31 2018 : (422, 21)\n",
      "DataFrame name: September 30 2018 : (403, 26)\n",
      "DataFrame name: June 30 2018 : (369, 21)\n",
      "DataFrame name: March 31 2018 : (367, 21)\n",
      "DataFrame name: December 31 2017 : (337, 21)\n",
      "DataFrame name: September 30 2017 : (367, 21)\n",
      "DataFrame name: June 30 2017 : (307, 22)\n",
      "DataFrame name: March 31 2017 : (250, 22)\n",
      "DataFrame name: December 31 2016 : (311, 21)\n",
      "DataFrame name: September 30 2016 : (301, 19)\n",
      "DataFrame name: June 30 2016 : (255, 19)\n",
      "DataFrame name: March 31 2016 : (263, 19)\n",
      "DataFrame name: December 31 2015 : (276, 19)\n",
      "DataFrame name: September 30 2015 : (246, 19)\n",
      "DataFrame name: June 30 2015 : (246, 19)\n",
      "DataFrame name: March 31 2015 : (256, 19)\n",
      "DataFrame name: December 31 2014 : (257, 19)\n",
      "DataFrame name: September 30 2014 : (260, 19)\n",
      "DataFrame name: June 30 2014 : (280, 19)\n",
      "DataFrame name: March 31 2014 : (299, 15)\n",
      "DataFrame name: December 31 2013 : (265, 15)\n",
      "DataFrame name: September 30 2013 : (262, 15)\n",
      "DataFrame name: March 31 2013 : (185, 15)\n",
      "DataFrame name: June 30 2013 : (229, 23)\n"
     ]
    }
   ],
   "source": [
    "path = '../Master_tables_MFIC_Investment.xlsx'\n",
    "dataframes = pd.read_excel(path, sheet_name=None)\n",
    "\n",
    "\n",
    "dataframes = {}\n",
    "# Loop through each sheet and create a DataFrame in the dictionary\n",
    "for sheet_name, sheet_df in all_sheets.items():\n",
    "    dataframes[sheet_name.replace(' ', '_')] = sheet_df\n",
    "    print(f\"DataFrame name: {sheet_name} : {sheet_df.shape}\")\n",
    "\n",
    "\n",
    "process_tables = {}\n",
    "process_tables_shape = {}\n",
    "if not os.path.exists('../PT_csv_file'):\n",
    "    os.makedirs('../PT_csv_file')\n",
    "\n",
    "\n",
    "def run_process_function(dataframes, process_tables, process_tables_shape):\n",
    "    path = '../process_tables_GBDC_Investment.xlsx'\n",
    "    writer = pd.ExcelWriter(path=path, engine='openpyxl')\n",
    "    for dataframe in dataframes:\n",
    "        print(dataframe)\n",
    "        processed_table = process_table_function(dataframes[dataframe])\n",
    "        process_tables[dataframe] = processed_table\n",
    "        process_tables_shape[dataframe] = processed_table.shape\n",
    "        processed_table.to_excel(\n",
    "            writer, sheet_name=dataframe.replace(',', ''), index=False)\n",
    "        processed_table.to_csv(\n",
    "            '../PT_csv_file/'+dataframe.replace(',', '')+'.csv')\n",
    "        writer.book.save(path)\n",
    "    writer.close()\n",
    "\n",
    "\n",
    "def shape(count, df):\n",
    "    print(f\"{count} : shape : {df.shape}\")\n",
    "    count += 1\n",
    "    return count\n",
    "\n",
    "\n",
    "def dropna_col_row(df):\n",
    "    df = df.dropna(how='all', axis=0).reset_index(drop=True)\n",
    "    df = df.dropna(how='all', axis=1).reset_index(drop=True)\n",
    "    return df\n",
    "\n",
    "\n",
    "def drop_if_contain(pattern, df):\n",
    "    matching_rows = df.apply(\n",
    "        lambda row: row.str.contains(pattern, flags=re.IGNORECASE, regex=True).any(), axis=1)\n",
    "    df = df[~matching_rows]\n",
    "    return df\n",
    "\n",
    "\n",
    "def rename_columns(df):\n",
    "    num_cols = df.shape[1]\n",
    "    data_col_mapper = dict(\n",
    "        zip(df.columns.to_list(), [i for i in range(0, num_cols)]))\n",
    "    df = df.rename(columns=data_col_mapper)\n",
    "    return df"
   ]
  },
  {
   "cell_type": "code",
   "execution_count": 168,
   "metadata": {},
   "outputs": [
    {
     "name": "stdout",
     "output_type": "stream",
     "text": [
      "September_30_2023\n",
      "1 : shape : (983, 45)\n",
      "2 : shape : (983, 45)\n",
      "3 : shape : (952, 45)\n",
      "4 : shape : (633, 45)\n",
      "5 : shape : (633, 45)\n",
      "6 : shape : (633, 45)\n",
      "7 : shape : (633, 45)\n",
      "8 : shape : (615, 9)\n",
      "9 : shape : (589, 9)\n",
      "June_30_2023\n",
      "1 : shape : (1043, 45)\n",
      "2 : shape : (1043, 45)\n",
      "3 : shape : (1011, 45)\n"
     ]
    },
    {
     "name": "stderr",
     "output_type": "stream",
     "text": [
      "/var/folders/mf/yrkcqqr56t955_zz9p9f4swc0000gn/T/ipykernel_19124/1322545620.py:48: UserWarning: This pattern is interpreted as a regular expression, and has match groups. To actually get the groups, use str.extract.\n",
      "  lambda row: row.str.contains(pattern, flags=re.IGNORECASE, regex=True).any(), axis=1)\n"
     ]
    },
    {
     "name": "stdout",
     "output_type": "stream",
     "text": [
      "4 : shape : (668, 45)\n",
      "5 : shape : (668, 45)\n",
      "6 : shape : (668, 45)\n",
      "7 : shape : (668, 45)\n",
      "8 : shape : (649, 9)\n",
      "9 : shape : (624, 9)\n",
      "March_31_2023\n",
      "1 : shape : (986, 45)\n",
      "2 : shape : (986, 45)\n"
     ]
    },
    {
     "name": "stderr",
     "output_type": "stream",
     "text": [
      "/var/folders/mf/yrkcqqr56t955_zz9p9f4swc0000gn/T/ipykernel_19124/1322545620.py:48: UserWarning: This pattern is interpreted as a regular expression, and has match groups. To actually get the groups, use str.extract.\n",
      "  lambda row: row.str.contains(pattern, flags=re.IGNORECASE, regex=True).any(), axis=1)\n"
     ]
    },
    {
     "name": "stdout",
     "output_type": "stream",
     "text": [
      "3 : shape : (954, 45)\n",
      "4 : shape : (618, 45)\n",
      "5 : shape : (618, 45)\n",
      "6 : shape : (618, 45)\n",
      "7 : shape : (618, 45)\n",
      "8 : shape : (601, 9)\n"
     ]
    },
    {
     "name": "stderr",
     "output_type": "stream",
     "text": [
      "/var/folders/mf/yrkcqqr56t955_zz9p9f4swc0000gn/T/ipykernel_19124/1322545620.py:48: UserWarning: This pattern is interpreted as a regular expression, and has match groups. To actually get the groups, use str.extract.\n",
      "  lambda row: row.str.contains(pattern, flags=re.IGNORECASE, regex=True).any(), axis=1)\n"
     ]
    },
    {
     "name": "stdout",
     "output_type": "stream",
     "text": [
      "9 : shape : (575, 9)\n",
      "December_31_2022\n",
      "1 : shape : (890, 45)\n",
      "2 : shape : (890, 45)\n",
      "3 : shape : (860, 45)\n",
      "4 : shape : (546, 45)\n",
      "5 : shape : (546, 45)\n",
      "6 : shape : (546, 45)\n",
      "7 : shape : (546, 45)\n",
      "8 : shape : (532, 9)\n",
      "9 : shape : (509, 9)\n",
      "September_30_2022\n",
      "1 : shape : (950, 45)\n"
     ]
    },
    {
     "name": "stderr",
     "output_type": "stream",
     "text": [
      "/var/folders/mf/yrkcqqr56t955_zz9p9f4swc0000gn/T/ipykernel_19124/1322545620.py:48: UserWarning: This pattern is interpreted as a regular expression, and has match groups. To actually get the groups, use str.extract.\n",
      "  lambda row: row.str.contains(pattern, flags=re.IGNORECASE, regex=True).any(), axis=1)\n"
     ]
    },
    {
     "name": "stdout",
     "output_type": "stream",
     "text": [
      "2 : shape : (950, 45)\n",
      "3 : shape : (918, 45)\n",
      "4 : shape : (584, 45)\n",
      "5 : shape : (584, 45)\n",
      "6 : shape : (584, 45)\n",
      "7 : shape : (584, 45)\n",
      "8 : shape : (569, 9)\n",
      "9 : shape : (542, 9)\n",
      "June_30_2022\n",
      "1 : shape : (961, 50)\n"
     ]
    },
    {
     "name": "stderr",
     "output_type": "stream",
     "text": [
      "/var/folders/mf/yrkcqqr56t955_zz9p9f4swc0000gn/T/ipykernel_19124/1322545620.py:48: UserWarning: This pattern is interpreted as a regular expression, and has match groups. To actually get the groups, use str.extract.\n",
      "  lambda row: row.str.contains(pattern, flags=re.IGNORECASE, regex=True).any(), axis=1)\n"
     ]
    },
    {
     "name": "stdout",
     "output_type": "stream",
     "text": [
      "2 : shape : (961, 50)\n",
      "3 : shape : (929, 50)\n",
      "4 : shape : (592, 50)\n",
      "5 : shape : (592, 50)\n",
      "6 : shape : (592, 50)\n",
      "7 : shape : (592, 50)\n",
      "8 : shape : (577, 9)\n",
      "9 : shape : (549, 9)\n",
      "March_31_2022\n",
      "1 : shape : (915, 50)\n"
     ]
    },
    {
     "name": "stderr",
     "output_type": "stream",
     "text": [
      "/var/folders/mf/yrkcqqr56t955_zz9p9f4swc0000gn/T/ipykernel_19124/1322545620.py:48: UserWarning: This pattern is interpreted as a regular expression, and has match groups. To actually get the groups, use str.extract.\n",
      "  lambda row: row.str.contains(pattern, flags=re.IGNORECASE, regex=True).any(), axis=1)\n"
     ]
    },
    {
     "name": "stdout",
     "output_type": "stream",
     "text": [
      "2 : shape : (915, 50)\n",
      "3 : shape : (915, 50)\n",
      "4 : shape : (587, 50)\n",
      "5 : shape : (587, 50)\n",
      "6 : shape : (587, 50)\n",
      "7 : shape : (587, 50)\n",
      "8 : shape : (572, 9)\n",
      "9 : shape : (545, 9)\n"
     ]
    },
    {
     "name": "stderr",
     "output_type": "stream",
     "text": [
      "/var/folders/mf/yrkcqqr56t955_zz9p9f4swc0000gn/T/ipykernel_19124/1322545620.py:48: UserWarning: This pattern is interpreted as a regular expression, and has match groups. To actually get the groups, use str.extract.\n",
      "  lambda row: row.str.contains(pattern, flags=re.IGNORECASE, regex=True).any(), axis=1)\n"
     ]
    },
    {
     "name": "stdout",
     "output_type": "stream",
     "text": [
      "December_31_2021\n",
      "1 : shape : (935, 50)\n",
      "2 : shape : (935, 50)\n",
      "3 : shape : (935, 50)\n",
      "4 : shape : (591, 50)\n",
      "5 : shape : (591, 50)\n",
      "6 : shape : (591, 50)\n",
      "7 : shape : (591, 50)\n",
      "8 : shape : (576, 9)\n",
      "9 : shape : (549, 9)\n"
     ]
    },
    {
     "name": "stderr",
     "output_type": "stream",
     "text": [
      "/var/folders/mf/yrkcqqr56t955_zz9p9f4swc0000gn/T/ipykernel_19124/1322545620.py:48: UserWarning: This pattern is interpreted as a regular expression, and has match groups. To actually get the groups, use str.extract.\n",
      "  lambda row: row.str.contains(pattern, flags=re.IGNORECASE, regex=True).any(), axis=1)\n"
     ]
    },
    {
     "name": "stdout",
     "output_type": "stream",
     "text": [
      "September_30_2021\n",
      "1 : shape : (982, 50)\n",
      "2 : shape : (982, 50)\n",
      "3 : shape : (982, 50)\n",
      "4 : shape : (639, 50)\n",
      "5 : shape : (639, 50)\n",
      "6 : shape : (639, 50)\n",
      "7 : shape : (639, 50)\n",
      "8 : shape : (623, 9)\n",
      "9 : shape : (596, 9)\n"
     ]
    },
    {
     "name": "stderr",
     "output_type": "stream",
     "text": [
      "/var/folders/mf/yrkcqqr56t955_zz9p9f4swc0000gn/T/ipykernel_19124/1322545620.py:48: UserWarning: This pattern is interpreted as a regular expression, and has match groups. To actually get the groups, use str.extract.\n",
      "  lambda row: row.str.contains(pattern, flags=re.IGNORECASE, regex=True).any(), axis=1)\n"
     ]
    },
    {
     "name": "stdout",
     "output_type": "stream",
     "text": [
      "June_30_2021\n",
      "1 : shape : (1050, 50)\n",
      "2 : shape : (1050, 50)\n",
      "3 : shape : (1018, 50)\n",
      "4 : shape : (692, 50)\n",
      "5 : shape : (692, 50)\n",
      "6 : shape : (692, 50)\n",
      "7 : shape : (692, 50)\n",
      "8 : shape : (673, 9)\n",
      "9 : shape : (647, 9)\n"
     ]
    },
    {
     "name": "stderr",
     "output_type": "stream",
     "text": [
      "/var/folders/mf/yrkcqqr56t955_zz9p9f4swc0000gn/T/ipykernel_19124/1322545620.py:48: UserWarning: This pattern is interpreted as a regular expression, and has match groups. To actually get the groups, use str.extract.\n",
      "  lambda row: row.str.contains(pattern, flags=re.IGNORECASE, regex=True).any(), axis=1)\n"
     ]
    },
    {
     "name": "stdout",
     "output_type": "stream",
     "text": [
      "March_31_2021\n",
      "1 : shape : (1006, 50)\n",
      "2 : shape : (1006, 50)\n",
      "3 : shape : (1006, 50)\n",
      "4 : shape : (678, 50)\n",
      "5 : shape : (678, 50)\n",
      "6 : shape : (678, 50)\n",
      "7 : shape : (678, 50)\n",
      "8 : shape : (649, 9)\n",
      "9 : shape : (623, 9)\n"
     ]
    },
    {
     "name": "stderr",
     "output_type": "stream",
     "text": [
      "/var/folders/mf/yrkcqqr56t955_zz9p9f4swc0000gn/T/ipykernel_19124/1322545620.py:48: UserWarning: This pattern is interpreted as a regular expression, and has match groups. To actually get the groups, use str.extract.\n",
      "  lambda row: row.str.contains(pattern, flags=re.IGNORECASE, regex=True).any(), axis=1)\n"
     ]
    },
    {
     "name": "stdout",
     "output_type": "stream",
     "text": [
      "December_31_2020\n",
      "1 : shape : (1023, 50)\n",
      "2 : shape : (1023, 50)\n",
      "3 : shape : (1023, 50)\n",
      "4 : shape : (690, 50)\n",
      "5 : shape : (690, 50)\n",
      "6 : shape : (690, 50)\n",
      "7 : shape : (690, 50)\n",
      "8 : shape : (667, 9)\n",
      "9 : shape : (640, 9)\n"
     ]
    },
    {
     "name": "stderr",
     "output_type": "stream",
     "text": [
      "/var/folders/mf/yrkcqqr56t955_zz9p9f4swc0000gn/T/ipykernel_19124/1322545620.py:48: UserWarning: This pattern is interpreted as a regular expression, and has match groups. To actually get the groups, use str.extract.\n",
      "  lambda row: row.str.contains(pattern, flags=re.IGNORECASE, regex=True).any(), axis=1)\n"
     ]
    },
    {
     "name": "stdout",
     "output_type": "stream",
     "text": [
      "September_30_2020\n",
      "1 : shape : (1059, 50)\n",
      "2 : shape : (1059, 50)\n",
      "3 : shape : (1059, 50)\n",
      "4 : shape : (724, 50)\n",
      "5 : shape : (724, 50)\n",
      "6 : shape : (724, 50)\n",
      "7 : shape : (724, 50)\n",
      "8 : shape : (698, 9)\n",
      "9 : shape : (668, 9)\n"
     ]
    },
    {
     "name": "stderr",
     "output_type": "stream",
     "text": [
      "/var/folders/mf/yrkcqqr56t955_zz9p9f4swc0000gn/T/ipykernel_19124/1322545620.py:48: UserWarning: This pattern is interpreted as a regular expression, and has match groups. To actually get the groups, use str.extract.\n",
      "  lambda row: row.str.contains(pattern, flags=re.IGNORECASE, regex=True).any(), axis=1)\n"
     ]
    },
    {
     "name": "stdout",
     "output_type": "stream",
     "text": [
      "June_30_2020\n",
      "1 : shape : (1109, 50)\n",
      "2 : shape : (1109, 50)\n",
      "3 : shape : (1077, 50)\n",
      "4 : shape : (745, 50)\n",
      "5 : shape : (745, 50)\n",
      "6 : shape : (745, 50)\n",
      "7 : shape : (745, 50)\n",
      "8 : shape : (714, 9)\n",
      "9 : shape : (684, 9)\n"
     ]
    },
    {
     "name": "stderr",
     "output_type": "stream",
     "text": [
      "/var/folders/mf/yrkcqqr56t955_zz9p9f4swc0000gn/T/ipykernel_19124/1322545620.py:48: UserWarning: This pattern is interpreted as a regular expression, and has match groups. To actually get the groups, use str.extract.\n",
      "  lambda row: row.str.contains(pattern, flags=re.IGNORECASE, regex=True).any(), axis=1)\n"
     ]
    },
    {
     "name": "stdout",
     "output_type": "stream",
     "text": [
      "March_31_2020\n",
      "1 : shape : (1114, 50)\n",
      "2 : shape : (1114, 50)\n",
      "3 : shape : (1114, 50)\n",
      "4 : shape : (802, 50)\n",
      "5 : shape : (802, 50)\n",
      "6 : shape : (802, 50)\n",
      "7 : shape : (802, 50)\n",
      "8 : shape : (774, 9)\n",
      "9 : shape : (744, 9)\n"
     ]
    },
    {
     "name": "stderr",
     "output_type": "stream",
     "text": [
      "/var/folders/mf/yrkcqqr56t955_zz9p9f4swc0000gn/T/ipykernel_19124/1322545620.py:48: UserWarning: This pattern is interpreted as a regular expression, and has match groups. To actually get the groups, use str.extract.\n",
      "  lambda row: row.str.contains(pattern, flags=re.IGNORECASE, regex=True).any(), axis=1)\n"
     ]
    },
    {
     "name": "stdout",
     "output_type": "stream",
     "text": [
      "December_31_2019\n",
      "1 : shape : (872, 27)\n",
      "2 : shape : (872, 27)\n",
      "3 : shape : (839, 27)\n",
      "4 : shape : (740, 27)\n",
      "5 : shape : (740, 27)\n",
      "6 : shape : (740, 27)\n",
      "7 : shape : (740, 27)\n",
      "8 : shape : (688, 9)\n",
      "9 : shape : (658, 9)\n"
     ]
    },
    {
     "name": "stderr",
     "output_type": "stream",
     "text": [
      "/var/folders/mf/yrkcqqr56t955_zz9p9f4swc0000gn/T/ipykernel_19124/1322545620.py:48: UserWarning: This pattern is interpreted as a regular expression, and has match groups. To actually get the groups, use str.extract.\n",
      "  lambda row: row.str.contains(pattern, flags=re.IGNORECASE, regex=True).any(), axis=1)\n"
     ]
    },
    {
     "name": "stdout",
     "output_type": "stream",
     "text": [
      "September_30_2019\n",
      "1 : shape : (639, 21)\n",
      "2 : shape : (639, 21)\n",
      "3 : shape : (606, 21)\n",
      "4 : shape : (528, 21)\n",
      "5 : shape : (528, 21)\n",
      "6 : shape : (528, 21)\n",
      "7 : shape : (528, 21)\n",
      "8 : shape : (503, 9)\n"
     ]
    },
    {
     "name": "stderr",
     "output_type": "stream",
     "text": [
      "/var/folders/mf/yrkcqqr56t955_zz9p9f4swc0000gn/T/ipykernel_19124/1322545620.py:48: UserWarning: This pattern is interpreted as a regular expression, and has match groups. To actually get the groups, use str.extract.\n",
      "  lambda row: row.str.contains(pattern, flags=re.IGNORECASE, regex=True).any(), axis=1)\n"
     ]
    },
    {
     "name": "stdout",
     "output_type": "stream",
     "text": [
      "9 : shape : (475, 9)\n",
      "June_30_2019\n",
      "1 : shape : (582, 21)\n",
      "2 : shape : (582, 21)\n",
      "3 : shape : (549, 21)\n",
      "4 : shape : (478, 21)\n",
      "5 : shape : (478, 21)\n",
      "6 : shape : (478, 21)\n",
      "7 : shape : (478, 21)\n",
      "8 : shape : (449, 9)\n"
     ]
    },
    {
     "name": "stderr",
     "output_type": "stream",
     "text": [
      "/var/folders/mf/yrkcqqr56t955_zz9p9f4swc0000gn/T/ipykernel_19124/1322545620.py:48: UserWarning: This pattern is interpreted as a regular expression, and has match groups. To actually get the groups, use str.extract.\n",
      "  lambda row: row.str.contains(pattern, flags=re.IGNORECASE, regex=True).any(), axis=1)\n"
     ]
    },
    {
     "name": "stdout",
     "output_type": "stream",
     "text": [
      "9 : shape : (422, 9)\n",
      "March_31_2019\n",
      "1 : shape : (492, 21)\n",
      "2 : shape : (492, 21)\n",
      "3 : shape : (458, 21)\n",
      "4 : shape : (403, 21)\n",
      "5 : shape : (403, 21)\n",
      "6 : shape : (403, 21)\n",
      "7 : shape : (403, 21)\n",
      "8 : shape : (379, 9)\n"
     ]
    },
    {
     "name": "stderr",
     "output_type": "stream",
     "text": [
      "/var/folders/mf/yrkcqqr56t955_zz9p9f4swc0000gn/T/ipykernel_19124/1322545620.py:48: UserWarning: This pattern is interpreted as a regular expression, and has match groups. To actually get the groups, use str.extract.\n",
      "  lambda row: row.str.contains(pattern, flags=re.IGNORECASE, regex=True).any(), axis=1)\n"
     ]
    },
    {
     "name": "stdout",
     "output_type": "stream",
     "text": [
      "9 : shape : (353, 9)\n",
      "December_31_2018\n",
      "1 : shape : (422, 21)\n",
      "2 : shape : (422, 21)\n",
      "3 : shape : (385, 21)\n",
      "4 : shape : (349, 21)\n",
      "5 : shape : (349, 21)\n",
      "6 : shape : (349, 21)\n",
      "7 : shape : (349, 21)\n",
      "8 : shape : (334, 9)\n"
     ]
    },
    {
     "name": "stderr",
     "output_type": "stream",
     "text": [
      "/var/folders/mf/yrkcqqr56t955_zz9p9f4swc0000gn/T/ipykernel_19124/1322545620.py:48: UserWarning: This pattern is interpreted as a regular expression, and has match groups. To actually get the groups, use str.extract.\n",
      "  lambda row: row.str.contains(pattern, flags=re.IGNORECASE, regex=True).any(), axis=1)\n"
     ]
    },
    {
     "name": "stdout",
     "output_type": "stream",
     "text": [
      "9 : shape : (309, 9)\n",
      "September_30_2018\n",
      "1 : shape : (403, 26)\n",
      "2 : shape : (403, 26)\n",
      "3 : shape : (365, 26)\n",
      "4 : shape : (314, 26)\n",
      "5 : shape : (314, 26)\n",
      "6 : shape : (314, 26)\n",
      "7 : shape : (314, 26)\n",
      "8 : shape : (299, 9)\n"
     ]
    },
    {
     "name": "stderr",
     "output_type": "stream",
     "text": [
      "/var/folders/mf/yrkcqqr56t955_zz9p9f4swc0000gn/T/ipykernel_19124/1322545620.py:48: UserWarning: This pattern is interpreted as a regular expression, and has match groups. To actually get the groups, use str.extract.\n",
      "  lambda row: row.str.contains(pattern, flags=re.IGNORECASE, regex=True).any(), axis=1)\n"
     ]
    },
    {
     "name": "stdout",
     "output_type": "stream",
     "text": [
      "9 : shape : (273, 9)\n",
      "June_30_2018\n",
      "1 : shape : (369, 21)\n",
      "2 : shape : (369, 21)\n",
      "3 : shape : (331, 21)\n",
      "4 : shape : (294, 21)\n",
      "5 : shape : (294, 21)\n",
      "6 : shape : (294, 21)\n",
      "7 : shape : (294, 21)\n",
      "8 : shape : (277, 9)\n",
      "9 : shape : (251, 9)\n"
     ]
    },
    {
     "name": "stderr",
     "output_type": "stream",
     "text": [
      "/var/folders/mf/yrkcqqr56t955_zz9p9f4swc0000gn/T/ipykernel_19124/1322545620.py:48: UserWarning: This pattern is interpreted as a regular expression, and has match groups. To actually get the groups, use str.extract.\n",
      "  lambda row: row.str.contains(pattern, flags=re.IGNORECASE, regex=True).any(), axis=1)\n"
     ]
    },
    {
     "name": "stdout",
     "output_type": "stream",
     "text": [
      "March_31_2018\n",
      "1 : shape : (367, 21)\n",
      "2 : shape : (367, 21)\n",
      "3 : shape : (331, 21)\n",
      "4 : shape : (295, 21)\n",
      "5 : shape : (295, 21)\n",
      "6 : shape : (295, 21)\n",
      "7 : shape : (295, 21)\n",
      "8 : shape : (282, 9)\n",
      "9 : shape : (257, 9)\n"
     ]
    },
    {
     "name": "stderr",
     "output_type": "stream",
     "text": [
      "/var/folders/mf/yrkcqqr56t955_zz9p9f4swc0000gn/T/ipykernel_19124/1322545620.py:48: UserWarning: This pattern is interpreted as a regular expression, and has match groups. To actually get the groups, use str.extract.\n",
      "  lambda row: row.str.contains(pattern, flags=re.IGNORECASE, regex=True).any(), axis=1)\n"
     ]
    },
    {
     "name": "stdout",
     "output_type": "stream",
     "text": [
      "December_31_2017\n",
      "1 : shape : (337, 21)\n",
      "2 : shape : (337, 21)\n",
      "3 : shape : (300, 21)\n",
      "4 : shape : (264, 21)\n",
      "5 : shape : (264, 21)\n",
      "6 : shape : (264, 21)\n",
      "7 : shape : (264, 21)\n",
      "8 : shape : (254, 9)\n",
      "9 : shape : (229, 9)\n"
     ]
    },
    {
     "name": "stderr",
     "output_type": "stream",
     "text": [
      "/var/folders/mf/yrkcqqr56t955_zz9p9f4swc0000gn/T/ipykernel_19124/1322545620.py:48: UserWarning: This pattern is interpreted as a regular expression, and has match groups. To actually get the groups, use str.extract.\n",
      "  lambda row: row.str.contains(pattern, flags=re.IGNORECASE, regex=True).any(), axis=1)\n"
     ]
    },
    {
     "name": "stdout",
     "output_type": "stream",
     "text": [
      "September_30_2017\n",
      "1 : shape : (367, 21)\n",
      "2 : shape : (367, 21)\n",
      "3 : shape : (329, 21)\n",
      "4 : shape : (296, 21)\n",
      "5 : shape : (296, 21)\n",
      "6 : shape : (296, 21)\n",
      "7 : shape : (296, 21)\n",
      "8 : shape : (286, 9)\n",
      "9 : shape : (190, 9)\n"
     ]
    },
    {
     "name": "stderr",
     "output_type": "stream",
     "text": [
      "/var/folders/mf/yrkcqqr56t955_zz9p9f4swc0000gn/T/ipykernel_19124/1322545620.py:48: UserWarning: This pattern is interpreted as a regular expression, and has match groups. To actually get the groups, use str.extract.\n",
      "  lambda row: row.str.contains(pattern, flags=re.IGNORECASE, regex=True).any(), axis=1)\n"
     ]
    },
    {
     "name": "stdout",
     "output_type": "stream",
     "text": [
      "June_30_2017\n",
      "1 : shape : (307, 22)\n",
      "2 : shape : (307, 22)\n",
      "3 : shape : (271, 22)\n",
      "4 : shape : (241, 22)\n",
      "5 : shape : (241, 22)\n",
      "6 : shape : (241, 22)\n",
      "7 : shape : (241, 22)\n",
      "8 : shape : (232, 8)\n",
      "9 : shape : (199, 8)\n"
     ]
    },
    {
     "name": "stderr",
     "output_type": "stream",
     "text": [
      "/var/folders/mf/yrkcqqr56t955_zz9p9f4swc0000gn/T/ipykernel_19124/1322545620.py:48: UserWarning: This pattern is interpreted as a regular expression, and has match groups. To actually get the groups, use str.extract.\n",
      "  lambda row: row.str.contains(pattern, flags=re.IGNORECASE, regex=True).any(), axis=1)\n"
     ]
    },
    {
     "name": "stdout",
     "output_type": "stream",
     "text": [
      "March_31_2017\n",
      "1 : shape : (250, 22)\n",
      "2 : shape : (250, 22)\n",
      "3 : shape : (250, 22)\n",
      "4 : shape : (188, 22)\n",
      "5 : shape : (188, 22)\n",
      "6 : shape : (188, 22)\n",
      "7 : shape : (188, 22)\n",
      "8 : shape : (180, 8)\n",
      "9 : shape : (156, 8)\n"
     ]
    },
    {
     "name": "stderr",
     "output_type": "stream",
     "text": [
      "/var/folders/mf/yrkcqqr56t955_zz9p9f4swc0000gn/T/ipykernel_19124/1322545620.py:48: UserWarning: This pattern is interpreted as a regular expression, and has match groups. To actually get the groups, use str.extract.\n",
      "  lambda row: row.str.contains(pattern, flags=re.IGNORECASE, regex=True).any(), axis=1)\n"
     ]
    },
    {
     "name": "stdout",
     "output_type": "stream",
     "text": [
      "December_31_2016\n",
      "1 : shape : (311, 21)\n",
      "2 : shape : (311, 21)\n",
      "3 : shape : (272, 21)\n",
      "4 : shape : (222, 21)\n",
      "5 : shape : (222, 21)\n",
      "6 : shape : (222, 21)\n",
      "7 : shape : (222, 21)\n",
      "8 : shape : (214, 8)\n",
      "9 : shape : (181, 8)\n"
     ]
    },
    {
     "name": "stderr",
     "output_type": "stream",
     "text": [
      "/var/folders/mf/yrkcqqr56t955_zz9p9f4swc0000gn/T/ipykernel_19124/1322545620.py:48: UserWarning: This pattern is interpreted as a regular expression, and has match groups. To actually get the groups, use str.extract.\n",
      "  lambda row: row.str.contains(pattern, flags=re.IGNORECASE, regex=True).any(), axis=1)\n"
     ]
    },
    {
     "name": "stdout",
     "output_type": "stream",
     "text": [
      "September_30_2016\n",
      "1 : shape : (301, 19)\n",
      "2 : shape : (301, 19)\n",
      "3 : shape : (265, 19)\n",
      "4 : shape : (219, 19)\n",
      "5 : shape : (219, 19)\n",
      "6 : shape : (219, 19)\n",
      "7 : shape : (219, 19)\n",
      "8 : shape : (212, 8)\n",
      "9 : shape : (179, 8)\n"
     ]
    },
    {
     "name": "stderr",
     "output_type": "stream",
     "text": [
      "/var/folders/mf/yrkcqqr56t955_zz9p9f4swc0000gn/T/ipykernel_19124/1322545620.py:48: UserWarning: This pattern is interpreted as a regular expression, and has match groups. To actually get the groups, use str.extract.\n",
      "  lambda row: row.str.contains(pattern, flags=re.IGNORECASE, regex=True).any(), axis=1)\n"
     ]
    },
    {
     "name": "stdout",
     "output_type": "stream",
     "text": [
      "June_30_2016\n",
      "1 : shape : (255, 19)\n",
      "2 : shape : (255, 19)\n",
      "3 : shape : (219, 19)\n",
      "4 : shape : (211, 19)\n",
      "5 : shape : (211, 19)\n",
      "6 : shape : (211, 19)\n",
      "7 : shape : (211, 19)\n",
      "8 : shape : (204, 8)\n",
      "9 : shape : (173, 8)\n"
     ]
    },
    {
     "name": "stderr",
     "output_type": "stream",
     "text": [
      "/var/folders/mf/yrkcqqr56t955_zz9p9f4swc0000gn/T/ipykernel_19124/1322545620.py:48: UserWarning: This pattern is interpreted as a regular expression, and has match groups. To actually get the groups, use str.extract.\n",
      "  lambda row: row.str.contains(pattern, flags=re.IGNORECASE, regex=True).any(), axis=1)\n"
     ]
    },
    {
     "name": "stdout",
     "output_type": "stream",
     "text": [
      "March_31_2016\n",
      "1 : shape : (263, 19)\n",
      "2 : shape : (263, 19)\n",
      "3 : shape : (227, 19)\n",
      "4 : shape : (219, 19)\n",
      "5 : shape : (219, 19)\n",
      "6 : shape : (219, 19)\n",
      "7 : shape : (219, 19)\n",
      "8 : shape : (211, 8)\n",
      "9 : shape : (180, 8)\n"
     ]
    },
    {
     "name": "stderr",
     "output_type": "stream",
     "text": [
      "/var/folders/mf/yrkcqqr56t955_zz9p9f4swc0000gn/T/ipykernel_19124/1322545620.py:48: UserWarning: This pattern is interpreted as a regular expression, and has match groups. To actually get the groups, use str.extract.\n",
      "  lambda row: row.str.contains(pattern, flags=re.IGNORECASE, regex=True).any(), axis=1)\n"
     ]
    },
    {
     "name": "stdout",
     "output_type": "stream",
     "text": [
      "December_31_2015\n",
      "1 : shape : (276, 19)\n",
      "2 : shape : (276, 19)\n",
      "3 : shape : (241, 19)\n",
      "4 : shape : (206, 19)\n",
      "5 : shape : (206, 19)\n",
      "6 : shape : (206, 19)\n",
      "7 : shape : (206, 19)\n",
      "8 : shape : (198, 8)\n",
      "9 : shape : (169, 8)\n"
     ]
    },
    {
     "name": "stderr",
     "output_type": "stream",
     "text": [
      "/var/folders/mf/yrkcqqr56t955_zz9p9f4swc0000gn/T/ipykernel_19124/1322545620.py:48: UserWarning: This pattern is interpreted as a regular expression, and has match groups. To actually get the groups, use str.extract.\n",
      "  lambda row: row.str.contains(pattern, flags=re.IGNORECASE, regex=True).any(), axis=1)\n"
     ]
    },
    {
     "name": "stdout",
     "output_type": "stream",
     "text": [
      "September_30_2015\n",
      "1 : shape : (246, 19)\n",
      "2 : shape : (246, 19)\n",
      "3 : shape : (245, 19)\n",
      "4 : shape : (146, 19)\n",
      "5 : shape : (146, 19)\n",
      "6 : shape : (146, 19)\n",
      "7 : shape : (146, 19)\n",
      "8 : shape : (139, 8)\n",
      "9 : shape : (125, 8)\n"
     ]
    },
    {
     "name": "stderr",
     "output_type": "stream",
     "text": [
      "/var/folders/mf/yrkcqqr56t955_zz9p9f4swc0000gn/T/ipykernel_19124/1322545620.py:48: UserWarning: This pattern is interpreted as a regular expression, and has match groups. To actually get the groups, use str.extract.\n",
      "  lambda row: row.str.contains(pattern, flags=re.IGNORECASE, regex=True).any(), axis=1)\n"
     ]
    },
    {
     "name": "stdout",
     "output_type": "stream",
     "text": [
      "June_30_2015\n",
      "1 : shape : (246, 19)\n",
      "2 : shape : (246, 19)\n",
      "3 : shape : (245, 19)\n",
      "4 : shape : (149, 19)\n",
      "5 : shape : (149, 19)\n",
      "6 : shape : (149, 19)\n",
      "7 : shape : (149, 19)\n",
      "8 : shape : (142, 8)\n",
      "9 : shape : (128, 8)\n"
     ]
    },
    {
     "name": "stderr",
     "output_type": "stream",
     "text": [
      "/var/folders/mf/yrkcqqr56t955_zz9p9f4swc0000gn/T/ipykernel_19124/1322545620.py:48: UserWarning: This pattern is interpreted as a regular expression, and has match groups. To actually get the groups, use str.extract.\n",
      "  lambda row: row.str.contains(pattern, flags=re.IGNORECASE, regex=True).any(), axis=1)\n"
     ]
    },
    {
     "name": "stdout",
     "output_type": "stream",
     "text": [
      "March_31_2015\n",
      "1 : shape : (256, 19)\n",
      "2 : shape : (256, 19)\n",
      "3 : shape : (255, 19)\n",
      "4 : shape : (212, 19)\n",
      "5 : shape : (212, 19)\n",
      "6 : shape : (212, 19)\n",
      "7 : shape : (212, 19)\n",
      "8 : shape : (206, 8)\n",
      "9 : shape : (172, 8)\n"
     ]
    },
    {
     "name": "stderr",
     "output_type": "stream",
     "text": [
      "/var/folders/mf/yrkcqqr56t955_zz9p9f4swc0000gn/T/ipykernel_19124/1322545620.py:48: UserWarning: This pattern is interpreted as a regular expression, and has match groups. To actually get the groups, use str.extract.\n",
      "  lambda row: row.str.contains(pattern, flags=re.IGNORECASE, regex=True).any(), axis=1)\n"
     ]
    },
    {
     "name": "stdout",
     "output_type": "stream",
     "text": [
      "December_31_2014\n",
      "1 : shape : (257, 19)\n",
      "2 : shape : (257, 19)\n",
      "3 : shape : (256, 19)\n",
      "4 : shape : (150, 19)\n",
      "5 : shape : (150, 19)\n",
      "6 : shape : (150, 19)\n",
      "7 : shape : (150, 19)\n",
      "8 : shape : (144, 8)\n",
      "9 : shape : (131, 8)\n"
     ]
    },
    {
     "name": "stderr",
     "output_type": "stream",
     "text": [
      "/var/folders/mf/yrkcqqr56t955_zz9p9f4swc0000gn/T/ipykernel_19124/1322545620.py:48: UserWarning: This pattern is interpreted as a regular expression, and has match groups. To actually get the groups, use str.extract.\n",
      "  lambda row: row.str.contains(pattern, flags=re.IGNORECASE, regex=True).any(), axis=1)\n"
     ]
    },
    {
     "name": "stdout",
     "output_type": "stream",
     "text": [
      "September_30_2014\n",
      "1 : shape : (260, 19)\n",
      "2 : shape : (260, 19)\n",
      "3 : shape : (259, 19)\n",
      "4 : shape : (167, 19)\n",
      "5 : shape : (167, 19)\n",
      "6 : shape : (167, 19)\n",
      "7 : shape : (167, 19)\n",
      "8 : shape : (160, 8)\n",
      "9 : shape : (147, 8)\n"
     ]
    },
    {
     "name": "stderr",
     "output_type": "stream",
     "text": [
      "/var/folders/mf/yrkcqqr56t955_zz9p9f4swc0000gn/T/ipykernel_19124/1322545620.py:48: UserWarning: This pattern is interpreted as a regular expression, and has match groups. To actually get the groups, use str.extract.\n",
      "  lambda row: row.str.contains(pattern, flags=re.IGNORECASE, regex=True).any(), axis=1)\n"
     ]
    },
    {
     "name": "stdout",
     "output_type": "stream",
     "text": [
      "June_30_2014\n",
      "1 : shape : (280, 19)\n",
      "2 : shape : (280, 19)\n",
      "3 : shape : (279, 19)\n",
      "4 : shape : (169, 19)\n",
      "5 : shape : (169, 19)\n",
      "6 : shape : (169, 19)\n",
      "7 : shape : (169, 19)\n",
      "8 : shape : (163, 8)\n",
      "9 : shape : (150, 8)\n"
     ]
    },
    {
     "name": "stderr",
     "output_type": "stream",
     "text": [
      "/var/folders/mf/yrkcqqr56t955_zz9p9f4swc0000gn/T/ipykernel_19124/1322545620.py:48: UserWarning: This pattern is interpreted as a regular expression, and has match groups. To actually get the groups, use str.extract.\n",
      "  lambda row: row.str.contains(pattern, flags=re.IGNORECASE, regex=True).any(), axis=1)\n"
     ]
    },
    {
     "name": "stdout",
     "output_type": "stream",
     "text": [
      "March_31_2014\n",
      "1 : shape : (299, 15)\n",
      "2 : shape : (299, 15)\n",
      "3 : shape : (265, 15)\n",
      "4 : shape : (156, 15)\n",
      "5 : shape : (156, 15)\n",
      "6 : shape : (156, 15)\n",
      "7 : shape : (156, 15)\n",
      "8 : shape : (151, 6)\n",
      "9 : shape : (139, 6)\n"
     ]
    },
    {
     "name": "stderr",
     "output_type": "stream",
     "text": [
      "/var/folders/mf/yrkcqqr56t955_zz9p9f4swc0000gn/T/ipykernel_19124/1322545620.py:48: UserWarning: This pattern is interpreted as a regular expression, and has match groups. To actually get the groups, use str.extract.\n",
      "  lambda row: row.str.contains(pattern, flags=re.IGNORECASE, regex=True).any(), axis=1)\n"
     ]
    },
    {
     "name": "stdout",
     "output_type": "stream",
     "text": [
      "December_31_2013\n",
      "1 : shape : (265, 15)\n",
      "2 : shape : (265, 15)\n",
      "3 : shape : (265, 15)\n",
      "4 : shape : (166, 15)\n",
      "5 : shape : (166, 15)\n",
      "6 : shape : (166, 15)\n",
      "7 : shape : (166, 15)\n",
      "8 : shape : (161, 6)\n",
      "9 : shape : (149, 6)\n"
     ]
    },
    {
     "name": "stderr",
     "output_type": "stream",
     "text": [
      "/var/folders/mf/yrkcqqr56t955_zz9p9f4swc0000gn/T/ipykernel_19124/1322545620.py:48: UserWarning: This pattern is interpreted as a regular expression, and has match groups. To actually get the groups, use str.extract.\n",
      "  lambda row: row.str.contains(pattern, flags=re.IGNORECASE, regex=True).any(), axis=1)\n"
     ]
    },
    {
     "name": "stdout",
     "output_type": "stream",
     "text": [
      "September_30_2013\n",
      "1 : shape : (262, 15)\n",
      "2 : shape : (262, 15)\n",
      "3 : shape : (262, 15)\n",
      "4 : shape : (157, 15)\n",
      "5 : shape : (157, 15)\n",
      "6 : shape : (157, 15)\n",
      "7 : shape : (157, 15)\n",
      "8 : shape : (156, 6)\n",
      "9 : shape : (139, 6)\n"
     ]
    },
    {
     "name": "stderr",
     "output_type": "stream",
     "text": [
      "/var/folders/mf/yrkcqqr56t955_zz9p9f4swc0000gn/T/ipykernel_19124/1322545620.py:48: UserWarning: This pattern is interpreted as a regular expression, and has match groups. To actually get the groups, use str.extract.\n",
      "  lambda row: row.str.contains(pattern, flags=re.IGNORECASE, regex=True).any(), axis=1)\n"
     ]
    },
    {
     "name": "stdout",
     "output_type": "stream",
     "text": [
      "March_31_2013\n",
      "1 : shape : (185, 15)\n",
      "2 : shape : (185, 15)\n",
      "3 : shape : (185, 15)\n",
      "4 : shape : (140, 15)\n",
      "5 : shape : (140, 15)\n",
      "6 : shape : (140, 15)\n",
      "7 : shape : (140, 15)\n",
      "8 : shape : (135, 6)\n",
      "9 : shape : (122, 6)\n"
     ]
    },
    {
     "name": "stderr",
     "output_type": "stream",
     "text": [
      "/var/folders/mf/yrkcqqr56t955_zz9p9f4swc0000gn/T/ipykernel_19124/1322545620.py:48: UserWarning: This pattern is interpreted as a regular expression, and has match groups. To actually get the groups, use str.extract.\n",
      "  lambda row: row.str.contains(pattern, flags=re.IGNORECASE, regex=True).any(), axis=1)\n"
     ]
    },
    {
     "name": "stdout",
     "output_type": "stream",
     "text": [
      "June_30_2013\n",
      "1 : shape : (229, 23)\n",
      "2 : shape : (229, 23)\n",
      "3 : shape : (229, 23)\n",
      "4 : shape : (151, 23)\n",
      "5 : shape : (151, 23)\n",
      "6 : shape : (151, 23)\n",
      "7 : shape : (151, 23)\n",
      "8 : shape : (149, 6)\n",
      "9 : shape : (135, 6)\n"
     ]
    },
    {
     "name": "stderr",
     "output_type": "stream",
     "text": [
      "/var/folders/mf/yrkcqqr56t955_zz9p9f4swc0000gn/T/ipykernel_19124/1322545620.py:48: UserWarning: This pattern is interpreted as a regular expression, and has match groups. To actually get the groups, use str.extract.\n",
      "  lambda row: row.str.contains(pattern, flags=re.IGNORECASE, regex=True).any(), axis=1)\n"
     ]
    }
   ],
   "source": [
    "def process_table_function(soi_table_df):\n",
    "    count = 1\n",
    "    count = shape(count, soi_table_df)\n",
    "    soi_table_df = soi_table_df.replace(\n",
    "        r'^\\s*\\$\\s*$', '', regex=True).replace(r'\\n', '', regex=True)\n",
    "    soi_table_df = soi_table_df.replace('-', '0')\n",
    "    soi_table_df = dropna_col_row(soi_table_df)\n",
    "    soi_table_df = soi_table_df.apply(\n",
    "        lambda x: x.strip() if isinstance(x, str) else x)\n",
    "    count = shape(count, soi_table_df)\n",
    "\n",
    "    # drops all the extra top row\n",
    "    pattern = r'Industry'\n",
    "    matching_rows = soi_table_df.apply(\n",
    "        lambda row: row.str.contains(pattern, flags=re.IGNORECASE, regex=True).any(), axis=1)\n",
    "    # Check if the pattern exists in the DataFrame\n",
    "    if matching_rows.any():\n",
    "        # Extract rows from the first occurrence onwards\n",
    "        soi_table_df = soi_table_df.iloc[matching_rows.idxmax():].reset_index(\n",
    "            drop=True)\n",
    "    count = shape(count, soi_table_df)\n",
    "\n",
    "    # drops all the extra bottom row\n",
    "    pattern = r'Total\\s+Investments'\n",
    "    # Use the apply function to check if the pattern is in any column for each row\n",
    "    matching_rows = soi_table_df.apply(\n",
    "        lambda row: row.str.contains(pattern, flags=re.IGNORECASE, regex=True).any(), axis=1)\n",
    "    # Find the index of the first row that matches the pattern\n",
    "    # Slice the DataFrame to keep only the rows up to and including the first matching row\n",
    "    if soi_table_df[matching_rows].index[0] < 20:\n",
    "        soi_table_df = soi_table_df.loc[:soi_table_df[matching_rows].index[1]].reset_index(\n",
    "            drop=True)\n",
    "    else:\n",
    "        soi_table_df = soi_table_df.loc[:soi_table_df[matching_rows].index[0]].reset_index(\n",
    "            drop=True)\n",
    "    count = shape(count, soi_table_df)\n",
    "\n",
    "    # drop nan col row\n",
    "    soi_table_df = dropna_col_row(soi_table_df)\n",
    "    count = shape(count, soi_table_df)\n",
    "\n",
    "    # drops the sub total\n",
    "    soi_table_df = soi_table_df.dropna(subset=[soi_table_df.columns[0]])\n",
    "    count = shape(count, soi_table_df)\n",
    "\n",
    "    soi_table_df = soi_table_df.replace('', np.nan)\n",
    "    col_indices = [0, 1]\n",
    "    soi_table_df.iloc[:, col_indices] = soi_table_df.iloc[:, col_indices].fillna(\n",
    "        method='ffill')\n",
    "    count = shape(count, soi_table_df)\n",
    "\n",
    "    for index, row in soi_table_df.iterrows():\n",
    "        cleanedList = [x for x in list(row) if str(x) != 'nan']\n",
    "        row = pd.Series(cleanedList)\n",
    "        soi_table_df.loc[index] = row\n",
    "\n",
    "    # Separate header and data\n",
    "    soi_table_df = soi_table_df.rename(\n",
    "        columns=soi_table_df.iloc[0]).drop(soi_table_df.index[0])\n",
    "    # drops all the rows that contains header\n",
    "    soi_table_df = soi_table_df[soi_table_df[soi_table_df.columns[0]]\n",
    "                                != soi_table_df.columns[0]]\n",
    "\n",
    "    soi_table_df = dropna_col_row(soi_table_df)\n",
    "    count = shape(count, soi_table_df)\n",
    "\n",
    "    pattern = r'(?:Spread\\s*Above|cost|Percentage|Above)'\n",
    "    soi_table_df = drop_if_contain(pattern, soi_table_df)\n",
    "    pattern = r'^([Tt]otal)'\n",
    "    soi_table_df = drop_if_contain(pattern, soi_table_df)\n",
    "    count = shape(count, soi_table_df)\n",
    "\n",
    "    soi_table_df.insert(0, 'Industy', '')\n",
    "\n",
    "    for index, row in soi_table_df.iterrows():\n",
    "        if row.nunique() == 2:\n",
    "            soi_table_df.at[index, 'Industy'] = row.loc[0]\n",
    "    soi_table_df['Industy'] = soi_table_df['Industy'].replace('', np.nan)\n",
    "\n",
    "    return soi_table_df\n",
    "\n",
    "\n",
    "run_process_function(dataframes=dataframes, process_tables=process_tables,\n",
    "                     process_tables_shape=process_tables_shape)"
   ]
  },
  {
   "cell_type": "code",
   "execution_count": null,
   "metadata": {},
   "outputs": [],
   "source": [
    "df = process_tables['September_30_2023']\n",
    "numeric_mask = pd.to_numeric(df['Maturity Date'], errors='coerce').notna()\n",
    "\n",
    "df = df[~numeric_mask]"
   ]
  },
  {
   "cell_type": "code",
   "execution_count": null,
   "metadata": {},
   "outputs": [
    {
     "data": {
      "text/plain": [
       "pandas.core.frame.DataFrame"
      ]
     },
     "execution_count": 157,
     "metadata": {},
     "output_type": "execute_result"
    }
   ],
   "source": [
    "type(df)"
   ]
  },
  {
   "cell_type": "code",
   "execution_count": null,
   "metadata": {},
   "outputs": [],
   "source": []
  }
 ],
 "metadata": {
  "kernelspec": {
   "display_name": "base",
   "language": "python",
   "name": "python3"
  },
  "language_info": {
   "codemirror_mode": {
    "name": "ipython",
    "version": 3
   },
   "file_extension": ".py",
   "mimetype": "text/x-python",
   "name": "python",
   "nbconvert_exporter": "python",
   "pygments_lexer": "ipython3",
   "version": "3.10.13"
  }
 },
 "nbformat": 4,
 "nbformat_minor": 2
}
