{
 "cells": [
  {
   "cell_type": "code",
   "execution_count": 245,
   "metadata": {},
   "outputs": [],
   "source": [
    "import pandas as pd\n",
    "import numpy as np\n",
    "import requests\n",
    "import html5lib\n",
    "from bs4 import BeautifulSoup\n",
    "from datetime import datetime\n",
    "from openpyxl import workbook\n",
    "import re\n",
    "import os\n",
    "import webbrowser\n",
    "import unicodedata\n",
    "import Helper"
   ]
  },
  {
   "cell_type": "code",
   "execution_count": 246,
   "metadata": {},
   "outputs": [
    {
     "name": "stdout",
     "output_type": "stream",
     "text": [
      "Data written to ../GSBC_sec_filing_links.xlsx\n",
      "Filing link recived\n"
     ]
    }
   ],
   "source": [
    "headers = {\n",
    "    'User-Agent': 'Goldman Sachs BDC, Inc. GSBD on NYSE'\n",
    "}\n",
    "CIK = '0001572694'\n",
    "\n",
    "filing_data = Helper.fetch_filing_data(cik=CIK, headers=headers)\n",
    "if filing_data is not None:\n",
    "    # Write DataFrame to Excel file with auto-adjusting column widths\n",
    "    file_name = \"../GSBC_sec_filing_links.xlsx\"\n",
    "    with pd.ExcelWriter(file_name, engine='xlsxwriter') as writer:\n",
    "        filing_data.to_excel(writer, index=False)\n",
    "        worksheet = writer.sheets['Sheet1']\n",
    "        for i, col in enumerate(filing_data.columns):\n",
    "            column_len = max(filing_data[col].astype(\n",
    "                str).str.len().max(), len(col)) + 2\n",
    "            worksheet.set_column(i, i, column_len)\n",
    "\n",
    "    print(f\"Data written to {file_name}\")\n",
    "\n",
    "filing_links = Helper.get_filing_links('../GSBC_sec_filing_links.xlsx')\n",
    "print(\"Filing link recived\")"
   ]
  },
  {
   "cell_type": "code",
   "execution_count": 247,
   "metadata": {},
   "outputs": [
    {
     "name": "stdout",
     "output_type": "stream",
     "text": [
      "<class 'pandas.core.frame.DataFrame'>\n",
      "RangeIndex: 36 entries, 0 to 35\n",
      "Data columns (total 15 columns):\n",
      " #   Column                 Non-Null Count  Dtype  \n",
      "---  ------                 --------------  -----  \n",
      " 0   accessionNumber        36 non-null     object \n",
      " 1   filingDate             36 non-null     object \n",
      " 2   reportDate             36 non-null     object \n",
      " 3   acceptanceDateTime     36 non-null     object \n",
      " 4   act                    36 non-null     int64  \n",
      " 5   form                   36 non-null     object \n",
      " 6   fileNumber             36 non-null     object \n",
      " 7   filmNumber             36 non-null     int64  \n",
      " 8   items                  0 non-null      float64\n",
      " 9   size                   36 non-null     int64  \n",
      " 10  isXBRL                 36 non-null     int64  \n",
      " 11  isInlineXBRL           36 non-null     int64  \n",
      " 12  primaryDocument        36 non-null     object \n",
      " 13  primaryDocDescription  36 non-null     object \n",
      " 14  fileLink               36 non-null     object \n",
      "dtypes: float64(1), int64(5), object(9)\n",
      "memory usage: 4.3+ KB\n"
     ]
    }
   ],
   "source": [
    "filing_links.info()"
   ]
  },
  {
   "cell_type": "code",
   "execution_count": 248,
   "metadata": {},
   "outputs": [
    {
     "name": "stdout",
     "output_type": "stream",
     "text": [
      "Date was converted to '%B %d, %Y' format \n",
      "<class 'pandas.core.series.Series'>\n",
      "RangeIndex: 36 entries, 0 to 35\n",
      "Series name: reportDate\n",
      "Non-Null Count  Dtype \n",
      "--------------  ----- \n",
      "36 non-null     object\n",
      "dtypes: object(1)\n",
      "memory usage: 416.0+ bytes\n"
     ]
    }
   ],
   "source": [
    "filing_links['reportDate'] = pd.to_datetime(\n",
    "    filing_links['reportDate']).dt.strftime(\"%B %d, %Y\")\n",
    "print(\"Date was converted to '%B %d, %Y' format and back to\")\n",
    "filing_links['reportDate'].info()"
   ]
  },
  {
   "cell_type": "code",
   "execution_count": 249,
   "metadata": {},
   "outputs": [],
   "source": [
    "# Rewriting the extraction function again"
   ]
  },
  {
   "cell_type": "markdown",
   "metadata": {},
   "source": [
    "testing 1 response"
   ]
  },
  {
   "cell_type": "code",
   "execution_count": null,
   "metadata": {},
   "outputs": [],
   "source": [
    "# consolidated_schedule_regex = re.compile(\n",
    "#     r'(?i)^\\s*.*\\s*SCHEDULE(S|)\\s+OF\\s+INVESTMENTS\\s*.*\\s*$')\n",
    "# for tag in content.find_all(text=consolidated_schedule_regex):\n",
    "#     print(\"Tag:\", tag)\n",
    "#     print(\"Find_next:\", tag.find_next())\n",
    "#     date_regex_pattern1 = r'([A-Za-z]+\\s+\\d{1,2},\\s+\\d{4})'\n",
    "#     print(\"Next_date:\", re.search(date_regex_pattern1, tag.find_next().text))\n",
    "#     print(\"next:\", tag.next)\n",
    "#     print(\"Next next: \", tag.find_next().next.next.next.text)\n",
    "#     print(\"next sib: \", tag.find_next_sibling())\n",
    "#     print(\"\\n\")"
   ]
  },
  {
   "cell_type": "code",
   "execution_count": null,
   "metadata": {},
   "outputs": [],
   "source": [
    "# consolidated_schedule_regex = re.compile(\n",
    "#     r'(?i)^\\s*.*\\s*SCHEDULE(S|)\\s+OF\\s+INVESTMENTS\\s*.*\\s*$')\n",
    "# date_regex_pattern1 = r'([A-Za-z]+\\s+\\d{1,2},\\s+\\d{4})'\n",
    "\n",
    "# for index, (url, reporting_date) in enumerate(zip(filing_links['url'], filing_links['Reporting date'])):\n",
    "#     response = helper.get_response(url=url, headers=headers)\n",
    "#     content = helper.get_content(response)\n",
    "#     for tag in content.find_all(text=consolidated_schedule_regex):\n",
    "\n",
    "#         print(reporting_date, \"Tag:\", tag)\n",
    "#         # print(\"Find_next:\", tag.find_next())\n",
    "#         print(reporting_date, \"Next_date:\", re.search(\n",
    "#             date_regex_pattern1, tag.text))\n",
    "#         # print(\"next:\", tag.next)\n",
    "#         # print(\"Next next: \", tag.find_next().next.next.next.text)\n",
    "#         # print(\"next sib: \", tag.find_next_sibling())\n",
    "#         # print(\"\\n\")"
   ]
  },
  {
   "cell_type": "code",
   "execution_count": null,
   "metadata": {},
   "outputs": [],
   "source": [
    "# filing_links = filing_links.drop(\n",
    "#     filing_links[filing_links['Reporting date'] == 'December 31, 2017'].index)"
   ]
  },
  {
   "cell_type": "code",
   "execution_count": null,
   "metadata": {},
   "outputs": [],
   "source": [
    "def clean_cell_value(x):\n",
    "    \"\"\"\n",
    "    Clean the cell value by normalizing Unicode, stripping leading/trailing spaces, and replacing specific characters.\n",
    "    \"\"\"\n",
    "    if isinstance(x, str):\n",
    "        replacement_dict = {'—': '0', '%': ' ', '  ': '', '': ''}\n",
    "        for old_char, new_char in replacement_dict.items():\n",
    "            x = x.replace(old_char, new_char)\n",
    "        x = unicodedata.normalize('NFKD', x.strip().strip('\\u200b'))\n",
    "    return x\n",
    "\n",
    "\n",
    "def extract_tables(content, qtr_date) -> pd.DataFrame:\n",
    "    master_table = None\n",
    "    # print(\"Now doing : \", qtr_date)\n",
    "    print(\"Currect file \" + qtr_date)\n",
    "\n",
    "    consolidated_schedule_regex = re.compile(\n",
    "        r'(?i)^\\s*.*\\s*SCHEDULE(S|)\\s+OF\\s+INVESTMENTS\\s*.*\\s*$')\n",
    "    date_regex_pattern = r'([A-Za-z]+\\s+\\d{1,2},\\s+\\d{4})'\n",
    "    for tag in content.find_all(text=re.compile(consolidated_schedule_regex)):\n",
    "        try:\n",
    "            date_str = re.search(date_regex_pattern, tag.text)\n",
    "        except Exception as e:\n",
    "            print(f'Could not find date on extract_tables() : {e}')\n",
    "        if date_str is not None:\n",
    "            date_str = str(date_str.group(1))\n",
    "            date_str = unicodedata.normalize('NFKD', date_str)\n",
    "            qtr_date = unicodedata.normalize('NFKD', qtr_date)\n",
    "            # print(f'{qtr_date} : {date_str} : {qtr_date==date_str}')\n",
    "\n",
    "            if qtr_date == date_str:\n",
    "                html_table = tag.find_next('table')\n",
    "                new_table = pd.read_html(\n",
    "                    html_table.prettify(), keep_default_na=False, skiprows=0, flavor='bs4')[0]\n",
    "                # new_table = new_table.applymap(lambda x: unicodedata.normalize(\n",
    "                #     'NFKD', x.strip().strip(u'\\u200b').replace('—', '0').replace('%', '').replace('(', '').replace(')', '')) if type(x) == str else x)\n",
    "\n",
    "                new_table = new_table.applymap(clean_cell_value)\n",
    "\n",
    "                new_table = new_table.replace(\n",
    "                    r'^\\s*$', np.nan, regex=True).replace(r'^\\s*\\$\\s*$', np.nan, regex=True)\n",
    "                new_table = new_table.dropna(how='all', axis=0)\n",
    "\n",
    "                if master_table is None:\n",
    "                    master_table = new_table\n",
    "                else:\n",
    "                    master_table = pd.concat(\n",
    "                        [master_table, new_table], ignore_index=True)\n",
    "    try:\n",
    "        master_table = master_table.applymap(\n",
    "            lambda x: x.strip().strip(u'\\u200b') if type(x) == str else x)\n",
    "        master_table = master_table.replace(r'^\\s*$', np.nan, regex=True).replace(\n",
    "            r'^\\s*\\$\\s*$', np.nan, regex=True).replace(r'^\\s*\\)\\s*$', np.nan, regex=True)\n",
    "    except Exception as e:\n",
    "        print(f'{e}')\n",
    "    return master_table"
   ]
  },
  {
   "cell_type": "code",
   "execution_count": null,
   "metadata": {},
   "outputs": [],
   "source": [
    "path = '/Users/fuadhassan/Desktop/BDC_RA/GSBD/Master_tables_GSBD_Investment.xlsx'\n",
    "writer = pd.ExcelWriter(path, engine='openpyxl')\n",
    "for index, (url, reporting_date) in enumerate(zip(filing_links['url'], filing_links['Reporting date'])):\n",
    "    try:\n",
    "        content = Helper.get_content(\n",
    "            Helper.get_response(url=url, headers=headers))\n",
    "    except Exception as e:\n",
    "        print(f'failed to get the content: {e}')\n",
    "\n",
    "    master_table = extract_tables(content, reporting_date)\n",
    "    master_table.to_csv(\n",
    "        '../MT_csv_files/'+reporting_date.replace(',', '')+'.csv')\n",
    "    master_table.to_excel(\n",
    "        writer, sheet_name=reporting_date.replace(',', ''), index=False)\n",
    "    writer.book .save(path)\n",
    "writer.close()"
   ]
  },
  {
   "cell_type": "code",
   "execution_count": null,
   "metadata": {},
   "outputs": [],
   "source": [
    "# December 31, 2017"
   ]
  },
  {
   "cell_type": "code",
   "execution_count": 151,
   "metadata": {},
   "outputs": [],
   "source": [
    "url = Helper.get_file_url('December 31, 2020', filing_links)\n",
    "content = Helper.get_content(Helper.get_response(url=url, headers=headers))"
   ]
  },
  {
   "cell_type": "code",
   "execution_count": 160,
   "metadata": {},
   "outputs": [
    {
     "name": "stdout",
     "output_type": "stream",
     "text": [
      "Tag: Consolidated Schedules of Investments as of December 31, 2020 and 2019\n",
      "Next_date: <re.Match object; span=(44, 61), match='December\\xa031, 2020'>\n",
      "Next next:  \n",
      "next sib:  None\n",
      "Tag: We have audited the accompanying consolidated statements of assets and liabilities, including the consolidated schedules of investments of Goldman Sachs BDC, Inc. and its subsidiaries (the “Company”) as of December 31, 2020 and 2019, and the related consolidated statements of operations, of changes in net assets and of cash flows for each of the three years in the period ended December 31, 2020, including the related notes (collectively referred to as the “consolidated financial statements”). We also have audited the Company's internal control over financial reporting as of December 31, 2020, based on criteria established in \n",
      "Next_date: <re.Match object; span=(206, 223), match='December 31, 2020'>\n",
      "Next next:  Internal Control - Integrated Framework\n",
      "next sib:  <font>Internal Control - Integrated Framework</font>\n",
      "Tag: We have also previously audited, in accordance with the standards of the Public Company Accounting Oversight Board (United States), the consolidated statements of assets and liabilities, including the consolidated schedules of investments, of the Company as of December 31, 2018, 2017, 2016, 2015 and 2014, and the related consolidated statements of operations, of changes in net assets and of cash flows for the years ended December 31, 2017, 2016, 2015 and 2014 (none of which are presented herein), and we expressed unqualified opinions on those consolidated financial statements. In our opinion, the information set forth in the Senior Securities table of the Company as of December 31, 2020, 2019, 2018, 2017, 2016, 2015 and 2014, appearing on page 55, is fairly stated, in all material respects, in relation to the consolidated financial statements from which it has been derived.\n",
      "Next_date: <re.Match object; span=(261, 278), match='December 31, 2018'>\n",
      "Next next:  Basis for Opinions\n",
      "next sib:  None\n",
      "Tag: Consolidated Schedule of Investments as of December 31, 2020 \n",
      "Next_date: <re.Match object; span=(43, 60), match='December 31, 2020'>\n",
      "Next next:  (in thousands, except share and per share amounts) \n",
      "next sib:  None\n",
      "Tag: Consolidated Schedule of Investments as of \n",
      "Next_date: None\n",
      "Next next:  December 31\n",
      "next sib:  <font>December 31</font>\n",
      "Tag: Consolidated Schedule of Investments as of \n",
      "Next_date: None\n",
      "Next next:  December 31\n",
      "next sib:  <font>December 31</font>\n",
      "Tag: Consolidated Schedule of Investments as of \n",
      "Next_date: None\n",
      "Next next:  December 31\n",
      "next sib:  <font>December 31</font>\n",
      "Tag: Consolidated Schedule of Investments as of \n",
      "Next_date: None\n",
      "Next next:  December 31\n",
      "next sib:  <font>December 31</font>\n",
      "Tag: Consolidated Schedule of Investments as of \n",
      "Next_date: None\n",
      "Next next:  December 31\n",
      "next sib:  <font>December 31</font>\n",
      "Tag: Consolidated Schedule of Investments as of \n",
      "Next_date: None\n",
      "Next next:  December 31\n",
      "next sib:  <font>December 31</font>\n",
      "Tag: Consolidated Schedule of Investments as of \n",
      "Next_date: None\n",
      "Next next:  December 31\n",
      "next sib:  <font>December 31</font>\n",
      "Tag: Consolidated Schedule of Investments as of December 31, 2019 \n",
      "Next_date: <re.Match object; span=(43, 60), match='December\\xa031, 2019'>\n",
      "Next next:  (in thousands, except share and per share amounts) \n",
      "next sib:  None\n",
      "Tag: Consolidated Schedule of Investments as of December 31, 2019 (continued) \n",
      "Next_date: <re.Match object; span=(43, 60), match='December 31, 2019'>\n",
      "Next next:  (in thousands, except share and per share amounts) \n",
      "next sib:  None\n",
      "Tag: Consolidated Schedule of Investments as of December 31, 2019 (continued) \n",
      "Next_date: <re.Match object; span=(43, 60), match='December 31, 2019'>\n",
      "Next next:  (in thousands, except share and per share amounts) \n",
      "next sib:  None\n",
      "Tag: Consolidated Schedule of Investments as of December 31, 2019 (continued) \n",
      "Next_date: <re.Match object; span=(43, 60), match='December 31, 2019'>\n",
      "Next next:  (in thousands, except share and per share amounts) \n",
      "next sib:  None\n",
      "Tag: Consolidated Schedule of Investments as of December 31, 2019 (continued) \n",
      "Next_date: <re.Match object; span=(43, 60), match='December 31, 2019'>\n",
      "Next next:  (in thousands, except share and per share amounts) \n",
      "next sib:  None\n",
      "Tag: Consolidated Schedule of Investments as of December 31, 2019 (continued) \n",
      "Next_date: <re.Match object; span=(43, 60), match='December 31, 2019'>\n",
      "Next next:  (in thousands, except share and per share amounts) \n",
      "next sib:  None\n",
      "Tag: Consolidated Schedule of Investments as of December 31, 2019 (continued) \n",
      "Next_date: <re.Match object; span=(43, 60), match='December 31, 2019'>\n",
      "Next next:  (in thousands, except share and per share amounts) \n",
      "next sib:  None\n",
      "Tag: The Company may enter into foreign currency forward contracts to reduce the Company’s exposure to foreign currency exchange rate fluctuations in the value of foreign currencies. In a foreign currency forward contract, the Company agrees to receive or deliver a fixed quantity of one currency for another, at a pre-determined price at a future date. Forward foreign currency contracts are marked-to-market at the applicable forward rate. Unrealized appreciation (depreciation) on foreign currency forward contracts are recorded on the Consolidated Statements of Assets and Liabilities by counterparty on a net basis, not taking into account collateral posted which is recorded separately, if applicable. Notional amounts of foreign currency forward contract assets and liabilities are presented separately on the Consolidated Schedules of Investments. Purchases and settlements of foreign currency forward contracts having the same settlement date and counterparty are generally settled net and any realized gains or losses are recognized on the settlement date. \n",
      "Next_date: None\n",
      "Next next:  The Company does not utilize hedge accounting and as such, the Company recognizes its derivatives at fair value with changes in the net unrealized appreciation (depreciation) on foreign currency forward contracts recorded on the Consolidated Statements of Operations. \n",
      "next sib:  None\n"
     ]
    },
    {
     "name": "stderr",
     "output_type": "stream",
     "text": [
      "/var/folders/mf/yrkcqqr56t955_zz9p9f4swc0000gn/T/ipykernel_4547/2348674701.py:4: DeprecationWarning: The 'text' argument to find()-type methods is deprecated. Use 'string' instead.\n",
      "  for tag in content.find_all(text=consolidated_schedule_regex):\n"
     ]
    }
   ],
   "source": [
    "consolidated_schedule_regex = re.compile(\n",
    "    r'(?i)^\\s*.*\\s*SCHEDULE(S|)\\s+OF\\s+INVESTMENTS\\s*.*\\s*$')\n",
    "date_regex_pattern = r'([A-Za-z]+\\s+\\d{1,2},\\s+\\d{4})'\n",
    "for tag in content.find_all(text=consolidated_schedule_regex):\n",
    "    print(\"Tag:\", tag.text)\n",
    "    # print(\"Find_next:\", tag.find_next())\n",
    "    print(\"Next_date:\", re.search(date_regex_pattern, tag.text))\n",
    "    # print(\"next:\", tag.next)\n",
    "    print(\"Next next: \", tag.find_next().text)\n",
    "    print(\"next sib: \", tag.find_next_sibling())\n",
    "    # print(\"\\n\")"
   ]
  }
 ],
 "metadata": {
  "kernelspec": {
   "display_name": "base",
   "language": "python",
   "name": "python3"
  },
  "language_info": {
   "codemirror_mode": {
    "name": "ipython",
    "version": 3
   },
   "file_extension": ".py",
   "mimetype": "text/x-python",
   "name": "python",
   "nbconvert_exporter": "python",
   "pygments_lexer": "ipython3",
   "version": "3.10.13"
  }
 },
 "nbformat": 4,
 "nbformat_minor": 2
}
